{
  "nbformat": 4,
  "nbformat_minor": 0,
  "metadata": {
    "colab": {
      "name": "table_try_on.ipynb",
      "provenance": [],
      "collapsed_sections": []
    },
    "kernelspec": {
      "display_name": "Python 3",
      "name": "python3"
    },
    "language_info": {
      "name": "python"
    }
  },
  "cells": [
    {
      "cell_type": "code",
      "metadata": {
        "colab": {
          "base_uri": "https://localhost:8080/"
        },
        "id": "03uTZLA-_fZR",
        "outputId": "10103fdd-f598-4efb-9edf-618cb2ed449e"
      },
      "source": [
        "cd drive/MyDrive/table_try_on/"
      ],
      "execution_count": 1,
      "outputs": [
        {
          "output_type": "stream",
          "text": [
            "/content/drive/MyDrive/table_try_on\n"
          ],
          "name": "stdout"
        }
      ]
    },
    {
      "cell_type": "code",
      "metadata": {
        "id": "fwTq7OGZ_fWP"
      },
      "source": [
        "import pandas as pd\n",
        "import numpy as np\n",
        "import matplotlib.pyplot as plt\n",
        "import seaborn as sbn\n",
        "from sklearn.model_selection import train_test_split\n",
        "from catboost import CatBoostClassifier\n",
        "from sklearn.feature_extraction.text import TfidfVectorizer"
      ],
      "execution_count": 2,
      "outputs": []
    },
    {
      "cell_type": "code",
      "metadata": {
        "colab": {
          "base_uri": "https://localhost:8080/",
          "height": 198
        },
        "id": "BEKQWq1xAHIO",
        "outputId": "bc597802-aa2b-48a7-d5e5-c986277b42a3"
      },
      "source": [
        "df = pd.read_json('modcloth_final_data.json', lines=True)\n",
        "df.head()"
      ],
      "execution_count": 3,
      "outputs": [
        {
          "output_type": "execute_result",
          "data": {
            "text/html": [
              "<div>\n",
              "<style scoped>\n",
              "    .dataframe tbody tr th:only-of-type {\n",
              "        vertical-align: middle;\n",
              "    }\n",
              "\n",
              "    .dataframe tbody tr th {\n",
              "        vertical-align: top;\n",
              "    }\n",
              "\n",
              "    .dataframe thead th {\n",
              "        text-align: right;\n",
              "    }\n",
              "</style>\n",
              "<table border=\"1\" class=\"dataframe\">\n",
              "  <thead>\n",
              "    <tr style=\"text-align: right;\">\n",
              "      <th></th>\n",
              "      <th>item_id</th>\n",
              "      <th>waist</th>\n",
              "      <th>size</th>\n",
              "      <th>quality</th>\n",
              "      <th>cup size</th>\n",
              "      <th>hips</th>\n",
              "      <th>bra size</th>\n",
              "      <th>category</th>\n",
              "      <th>bust</th>\n",
              "      <th>height</th>\n",
              "      <th>user_name</th>\n",
              "      <th>length</th>\n",
              "      <th>fit</th>\n",
              "      <th>user_id</th>\n",
              "      <th>shoe size</th>\n",
              "      <th>shoe width</th>\n",
              "      <th>review_summary</th>\n",
              "      <th>review_text</th>\n",
              "    </tr>\n",
              "  </thead>\n",
              "  <tbody>\n",
              "    <tr>\n",
              "      <th>0</th>\n",
              "      <td>123373</td>\n",
              "      <td>29.0</td>\n",
              "      <td>7</td>\n",
              "      <td>5.0</td>\n",
              "      <td>d</td>\n",
              "      <td>38.0</td>\n",
              "      <td>34.0</td>\n",
              "      <td>new</td>\n",
              "      <td>36</td>\n",
              "      <td>5ft 6in</td>\n",
              "      <td>Emily</td>\n",
              "      <td>just right</td>\n",
              "      <td>small</td>\n",
              "      <td>991571</td>\n",
              "      <td>NaN</td>\n",
              "      <td>NaN</td>\n",
              "      <td>NaN</td>\n",
              "      <td>NaN</td>\n",
              "    </tr>\n",
              "    <tr>\n",
              "      <th>1</th>\n",
              "      <td>123373</td>\n",
              "      <td>31.0</td>\n",
              "      <td>13</td>\n",
              "      <td>3.0</td>\n",
              "      <td>b</td>\n",
              "      <td>30.0</td>\n",
              "      <td>36.0</td>\n",
              "      <td>new</td>\n",
              "      <td>NaN</td>\n",
              "      <td>5ft 2in</td>\n",
              "      <td>sydneybraden2001</td>\n",
              "      <td>just right</td>\n",
              "      <td>small</td>\n",
              "      <td>587883</td>\n",
              "      <td>NaN</td>\n",
              "      <td>NaN</td>\n",
              "      <td>NaN</td>\n",
              "      <td>NaN</td>\n",
              "    </tr>\n",
              "    <tr>\n",
              "      <th>2</th>\n",
              "      <td>123373</td>\n",
              "      <td>30.0</td>\n",
              "      <td>7</td>\n",
              "      <td>2.0</td>\n",
              "      <td>b</td>\n",
              "      <td>NaN</td>\n",
              "      <td>32.0</td>\n",
              "      <td>new</td>\n",
              "      <td>NaN</td>\n",
              "      <td>5ft 7in</td>\n",
              "      <td>Ugggh</td>\n",
              "      <td>slightly long</td>\n",
              "      <td>small</td>\n",
              "      <td>395665</td>\n",
              "      <td>9.0</td>\n",
              "      <td>NaN</td>\n",
              "      <td>NaN</td>\n",
              "      <td>NaN</td>\n",
              "    </tr>\n",
              "    <tr>\n",
              "      <th>3</th>\n",
              "      <td>123373</td>\n",
              "      <td>NaN</td>\n",
              "      <td>21</td>\n",
              "      <td>5.0</td>\n",
              "      <td>dd/e</td>\n",
              "      <td>NaN</td>\n",
              "      <td>NaN</td>\n",
              "      <td>new</td>\n",
              "      <td>NaN</td>\n",
              "      <td>NaN</td>\n",
              "      <td>alexmeyer626</td>\n",
              "      <td>just right</td>\n",
              "      <td>fit</td>\n",
              "      <td>875643</td>\n",
              "      <td>NaN</td>\n",
              "      <td>NaN</td>\n",
              "      <td>NaN</td>\n",
              "      <td>NaN</td>\n",
              "    </tr>\n",
              "    <tr>\n",
              "      <th>4</th>\n",
              "      <td>123373</td>\n",
              "      <td>NaN</td>\n",
              "      <td>18</td>\n",
              "      <td>5.0</td>\n",
              "      <td>b</td>\n",
              "      <td>NaN</td>\n",
              "      <td>36.0</td>\n",
              "      <td>new</td>\n",
              "      <td>NaN</td>\n",
              "      <td>5ft 2in</td>\n",
              "      <td>dberrones1</td>\n",
              "      <td>slightly long</td>\n",
              "      <td>small</td>\n",
              "      <td>944840</td>\n",
              "      <td>NaN</td>\n",
              "      <td>NaN</td>\n",
              "      <td>NaN</td>\n",
              "      <td>NaN</td>\n",
              "    </tr>\n",
              "  </tbody>\n",
              "</table>\n",
              "</div>"
            ],
            "text/plain": [
              "   item_id  waist  size  ...  shoe width review_summary  review_text\n",
              "0   123373   29.0     7  ...         NaN            NaN          NaN\n",
              "1   123373   31.0    13  ...         NaN            NaN          NaN\n",
              "2   123373   30.0     7  ...         NaN            NaN          NaN\n",
              "3   123373    NaN    21  ...         NaN            NaN          NaN\n",
              "4   123373    NaN    18  ...         NaN            NaN          NaN\n",
              "\n",
              "[5 rows x 18 columns]"
            ]
          },
          "metadata": {
            "tags": []
          },
          "execution_count": 3
        }
      ]
    },
    {
      "cell_type": "code",
      "metadata": {
        "id": "NLyWwM7dg_Ch"
      },
      "source": [
        "df['ID'] = df.index"
      ],
      "execution_count": 4,
      "outputs": []
    },
    {
      "cell_type": "markdown",
      "metadata": {
        "id": "XulbLMtUV-ol"
      },
      "source": [
        "Точной инфы по колонкам нет, но есть вот:"
      ]
    },
    {
      "cell_type": "code",
      "metadata": {
        "id": "rSW1XungV-Tg"
      },
      "source": [
        "# item_id- from item.\n",
        "# waist- from user input.\n",
        "# size - from item.\n",
        "# quality- from user input.\n",
        "# cup size- from user input.\n",
        "# hips- from user input.\n",
        "# bra size- from user input.\n",
        "# category- from item.\n",
        "# bust- from user input.\n",
        "# height- from user input\n",
        "# user_name- from user input\n",
        "# length - from user input\n",
        "# fit- from user input\n",
        "# user_id- from user."
      ],
      "execution_count": 5,
      "outputs": []
    },
    {
      "cell_type": "code",
      "metadata": {
        "colab": {
          "base_uri": "https://localhost:8080/"
        },
        "id": "4Ai2UeJXfIFS",
        "outputId": "a25b8f6e-4a6b-4ca4-ba54-4922fbbd4de3"
      },
      "source": [
        "df.info()"
      ],
      "execution_count": 6,
      "outputs": [
        {
          "output_type": "stream",
          "text": [
            "<class 'pandas.core.frame.DataFrame'>\n",
            "RangeIndex: 82790 entries, 0 to 82789\n",
            "Data columns (total 19 columns):\n",
            " #   Column          Non-Null Count  Dtype  \n",
            "---  ------          --------------  -----  \n",
            " 0   item_id         82790 non-null  int64  \n",
            " 1   waist           2882 non-null   float64\n",
            " 2   size            82790 non-null  int64  \n",
            " 3   quality         82722 non-null  float64\n",
            " 4   cup size        76535 non-null  object \n",
            " 5   hips            56064 non-null  float64\n",
            " 6   bra size        76772 non-null  float64\n",
            " 7   category        82790 non-null  object \n",
            " 8   bust            11854 non-null  object \n",
            " 9   height          81683 non-null  object \n",
            " 10  user_name       82790 non-null  object \n",
            " 11  length          82755 non-null  object \n",
            " 12  fit             82790 non-null  object \n",
            " 13  user_id         82790 non-null  int64  \n",
            " 14  shoe size       27915 non-null  float64\n",
            " 15  shoe width      18607 non-null  object \n",
            " 16  review_summary  76065 non-null  object \n",
            " 17  review_text     76065 non-null  object \n",
            " 18  ID              82790 non-null  int64  \n",
            "dtypes: float64(5), int64(4), object(10)\n",
            "memory usage: 12.0+ MB\n"
          ],
          "name": "stdout"
        }
      ]
    },
    {
      "cell_type": "code",
      "metadata": {
        "colab": {
          "base_uri": "https://localhost:8080/",
          "height": 288
        },
        "id": "3zjpG6gFfKEp",
        "outputId": "77f3ab41-83d9-4547-99d5-ac759ce3a01a"
      },
      "source": [
        "df.describe()"
      ],
      "execution_count": 7,
      "outputs": [
        {
          "output_type": "execute_result",
          "data": {
            "text/html": [
              "<div>\n",
              "<style scoped>\n",
              "    .dataframe tbody tr th:only-of-type {\n",
              "        vertical-align: middle;\n",
              "    }\n",
              "\n",
              "    .dataframe tbody tr th {\n",
              "        vertical-align: top;\n",
              "    }\n",
              "\n",
              "    .dataframe thead th {\n",
              "        text-align: right;\n",
              "    }\n",
              "</style>\n",
              "<table border=\"1\" class=\"dataframe\">\n",
              "  <thead>\n",
              "    <tr style=\"text-align: right;\">\n",
              "      <th></th>\n",
              "      <th>item_id</th>\n",
              "      <th>waist</th>\n",
              "      <th>size</th>\n",
              "      <th>quality</th>\n",
              "      <th>hips</th>\n",
              "      <th>bra size</th>\n",
              "      <th>user_id</th>\n",
              "      <th>shoe size</th>\n",
              "      <th>ID</th>\n",
              "    </tr>\n",
              "  </thead>\n",
              "  <tbody>\n",
              "    <tr>\n",
              "      <th>count</th>\n",
              "      <td>82790.000000</td>\n",
              "      <td>2882.000000</td>\n",
              "      <td>82790.000000</td>\n",
              "      <td>82722.000000</td>\n",
              "      <td>56064.000000</td>\n",
              "      <td>76772.000000</td>\n",
              "      <td>82790.000000</td>\n",
              "      <td>27915.000000</td>\n",
              "      <td>82790.00000</td>\n",
              "    </tr>\n",
              "    <tr>\n",
              "      <th>mean</th>\n",
              "      <td>469325.229170</td>\n",
              "      <td>31.319223</td>\n",
              "      <td>12.661602</td>\n",
              "      <td>3.949058</td>\n",
              "      <td>40.358501</td>\n",
              "      <td>35.972125</td>\n",
              "      <td>498849.564718</td>\n",
              "      <td>8.145818</td>\n",
              "      <td>41394.50000</td>\n",
              "    </tr>\n",
              "    <tr>\n",
              "      <th>std</th>\n",
              "      <td>213999.803314</td>\n",
              "      <td>5.302849</td>\n",
              "      <td>8.271952</td>\n",
              "      <td>0.992783</td>\n",
              "      <td>5.827166</td>\n",
              "      <td>3.224907</td>\n",
              "      <td>286356.969459</td>\n",
              "      <td>1.336109</td>\n",
              "      <td>23899.55873</td>\n",
              "    </tr>\n",
              "    <tr>\n",
              "      <th>min</th>\n",
              "      <td>123373.000000</td>\n",
              "      <td>20.000000</td>\n",
              "      <td>0.000000</td>\n",
              "      <td>1.000000</td>\n",
              "      <td>30.000000</td>\n",
              "      <td>28.000000</td>\n",
              "      <td>6.000000</td>\n",
              "      <td>5.000000</td>\n",
              "      <td>0.00000</td>\n",
              "    </tr>\n",
              "    <tr>\n",
              "      <th>25%</th>\n",
              "      <td>314980.000000</td>\n",
              "      <td>28.000000</td>\n",
              "      <td>8.000000</td>\n",
              "      <td>3.000000</td>\n",
              "      <td>36.000000</td>\n",
              "      <td>34.000000</td>\n",
              "      <td>252897.750000</td>\n",
              "      <td>7.000000</td>\n",
              "      <td>20697.25000</td>\n",
              "    </tr>\n",
              "    <tr>\n",
              "      <th>50%</th>\n",
              "      <td>454030.000000</td>\n",
              "      <td>30.000000</td>\n",
              "      <td>12.000000</td>\n",
              "      <td>4.000000</td>\n",
              "      <td>39.000000</td>\n",
              "      <td>36.000000</td>\n",
              "      <td>497913.500000</td>\n",
              "      <td>8.000000</td>\n",
              "      <td>41394.50000</td>\n",
              "    </tr>\n",
              "    <tr>\n",
              "      <th>75%</th>\n",
              "      <td>658440.000000</td>\n",
              "      <td>34.000000</td>\n",
              "      <td>15.000000</td>\n",
              "      <td>5.000000</td>\n",
              "      <td>43.000000</td>\n",
              "      <td>38.000000</td>\n",
              "      <td>744745.250000</td>\n",
              "      <td>9.000000</td>\n",
              "      <td>62091.75000</td>\n",
              "    </tr>\n",
              "    <tr>\n",
              "      <th>max</th>\n",
              "      <td>807722.000000</td>\n",
              "      <td>50.000000</td>\n",
              "      <td>38.000000</td>\n",
              "      <td>5.000000</td>\n",
              "      <td>60.000000</td>\n",
              "      <td>48.000000</td>\n",
              "      <td>999972.000000</td>\n",
              "      <td>38.000000</td>\n",
              "      <td>82789.00000</td>\n",
              "    </tr>\n",
              "  </tbody>\n",
              "</table>\n",
              "</div>"
            ],
            "text/plain": [
              "             item_id        waist  ...     shoe size           ID\n",
              "count   82790.000000  2882.000000  ...  27915.000000  82790.00000\n",
              "mean   469325.229170    31.319223  ...      8.145818  41394.50000\n",
              "std    213999.803314     5.302849  ...      1.336109  23899.55873\n",
              "min    123373.000000    20.000000  ...      5.000000      0.00000\n",
              "25%    314980.000000    28.000000  ...      7.000000  20697.25000\n",
              "50%    454030.000000    30.000000  ...      8.000000  41394.50000\n",
              "75%    658440.000000    34.000000  ...      9.000000  62091.75000\n",
              "max    807722.000000    50.000000  ...     38.000000  82789.00000\n",
              "\n",
              "[8 rows x 9 columns]"
            ]
          },
          "metadata": {
            "tags": []
          },
          "execution_count": 7
        }
      ]
    },
    {
      "cell_type": "markdown",
      "metadata": {
        "id": "7y2GGk2SA6k9"
      },
      "source": [
        "### waist"
      ]
    },
    {
      "cell_type": "code",
      "metadata": {
        "id": "-o1s1qd4Cmx0"
      },
      "source": [
        "col = \"waist\""
      ],
      "execution_count": 8,
      "outputs": []
    },
    {
      "cell_type": "code",
      "metadata": {
        "colab": {
          "base_uri": "https://localhost:8080/"
        },
        "id": "lLzZSbk3BZpm",
        "outputId": "a8c6e3f0-312d-49e8-adf1-8417ddaf1c7a"
      },
      "source": [
        "df[col].unique()"
      ],
      "execution_count": 9,
      "outputs": [
        {
          "output_type": "execute_result",
          "data": {
            "text/plain": [
              "array([29., 31., 30., nan, 27., 26., 28., 25., 32., 34., 44., 33., 23.,\n",
              "       49., 37., 42., 20., 35., 24., 36., 40., 38., 48., 22., 41., 21.,\n",
              "       39., 45., 43., 46., 47., 50.])"
            ]
          },
          "metadata": {
            "tags": []
          },
          "execution_count": 9
        }
      ]
    },
    {
      "cell_type": "code",
      "metadata": {
        "colab": {
          "base_uri": "https://localhost:8080/",
          "height": 281
        },
        "id": "QvmjUKHZA-8c",
        "outputId": "8fe26c1a-0010-4583-b89a-1f006c000aa8"
      },
      "source": [
        "df[col].hist()\n",
        "plt.title(f'{col} coulmn hist');"
      ],
      "execution_count": 10,
      "outputs": [
        {
          "output_type": "display_data",
          "data": {
            "image/png": "[encoded data removed]",
            "text/plain": [
              "<Figure size 432x288 with 1 Axes>"
            ]
          },
          "metadata": {
            "tags": [],
            "needs_background": "light"
          }
        }
      ]
    },
    {
      "cell_type": "code",
      "metadata": {
        "colab": {
          "base_uri": "https://localhost:8080/"
        },
        "id": "E_tLimNXBZDE",
        "outputId": "fbb9344d-e753-4914-bf59-be52f26a6341"
      },
      "source": [
        "print(f'NANs in the column {col} = {df[col].isna().sum()} out of {len(df)} or {df[col].isna().sum()/len(df)}%')"
      ],
      "execution_count": 11,
      "outputs": [
        {
          "output_type": "stream",
          "text": [
            "NANs in the column waist = 79908 out of 82790 or 0.9651890324918468%\n"
          ],
          "name": "stdout"
        }
      ]
    },
    {
      "cell_type": "markdown",
      "metadata": {
        "id": "4fdv30rYkjpJ"
      },
      "source": [
        "Слишком много значений пропущено, придется удалить колонку"
      ]
    },
    {
      "cell_type": "code",
      "metadata": {
        "id": "dqs0zXHvGUqB"
      },
      "source": [
        "df.drop(col, axis=1, inplace=True)"
      ],
      "execution_count": 12,
      "outputs": []
    },
    {
      "cell_type": "markdown",
      "metadata": {
        "id": "GkrhJpNWB_js"
      },
      "source": [
        "### size"
      ]
    },
    {
      "cell_type": "code",
      "metadata": {
        "id": "KvKXPz4GCxXM"
      },
      "source": [
        "col = \"size\""
      ],
      "execution_count": 13,
      "outputs": []
    },
    {
      "cell_type": "code",
      "metadata": {
        "colab": {
          "base_uri": "https://localhost:8080/"
        },
        "id": "DZVKZ4QiBZk0",
        "outputId": "f3128da0-4634-4e96-bf83-86287807779b"
      },
      "source": [
        "df[col].unique()"
      ],
      "execution_count": 14,
      "outputs": [
        {
          "output_type": "execute_result",
          "data": {
            "text/plain": [
              "array([ 7, 13, 21, 18, 11,  5, 30, 24, 33,  3, 27, 15,  9, 12, 26, 20,  4,\n",
              "        8, 32, 38,  1,  0,  6, 31, 10, 14, 17,  2, 25])"
            ]
          },
          "metadata": {
            "tags": []
          },
          "execution_count": 14
        }
      ]
    },
    {
      "cell_type": "code",
      "metadata": {
        "colab": {
          "base_uri": "https://localhost:8080/",
          "height": 281
        },
        "id": "TTu3OTOrCB08",
        "outputId": "4edade64-4ae9-4044-ccc3-abdc09e40841"
      },
      "source": [
        "df[col].hist()\n",
        "plt.title(f'{col} coulmn hist');"
      ],
      "execution_count": 15,
      "outputs": [
        {
          "output_type": "display_data",
          "data": {
            "image/png": "[encoded data removed]",
            "text/plain": [
              "<Figure size 432x288 with 1 Axes>"
            ]
          },
          "metadata": {
            "tags": [],
            "needs_background": "light"
          }
        }
      ]
    },
    {
      "cell_type": "code",
      "metadata": {
        "colab": {
          "base_uri": "https://localhost:8080/"
        },
        "id": "dcx1TK_xCIPU",
        "outputId": "ae8474c6-579c-4dd3-c15a-3cf441a88876"
      },
      "source": [
        "print(f'NANs in the column {col} = {df[col].isna().sum()} out of {len(df)} or {df[col].isna().sum()/len(df)}%')"
      ],
      "execution_count": 16,
      "outputs": [
        {
          "output_type": "stream",
          "text": [
            "NANs in the column size = 0 out of 82790 or 0.0%\n"
          ],
          "name": "stdout"
        }
      ]
    },
    {
      "cell_type": "markdown",
      "metadata": {
        "id": "dW1MMrlxkvgr"
      },
      "source": [
        "Тут все более менее норм, кроме распределения"
      ]
    },
    {
      "cell_type": "code",
      "metadata": {
        "colab": {
          "base_uri": "https://localhost:8080/"
        },
        "id": "oWs3jxJJGj_2",
        "outputId": "a593c333-e549-4c28-8d10-9d6ef9cc4bb3"
      },
      "source": [
        "df.groupby(col)['ID'].nunique()"
      ],
      "execution_count": 17,
      "outputs": [
        {
          "output_type": "execute_result",
          "data": {
            "text/plain": [
              "size\n",
              "0        31\n",
              "1      1784\n",
              "2        94\n",
              "3       142\n",
              "4     13883\n",
              "5       851\n",
              "6       775\n",
              "7       777\n",
              "8     17893\n",
              "9       737\n",
              "10     1164\n",
              "11      542\n",
              "12    17343\n",
              "13      486\n",
              "14      364\n",
              "15     6883\n",
              "17      235\n",
              "18      251\n",
              "20     7292\n",
              "21      201\n",
              "24      125\n",
              "25        1\n",
              "26     5656\n",
              "27       94\n",
              "30       65\n",
              "31        1\n",
              "32     3613\n",
              "33       46\n",
              "38     1461\n",
              "Name: ID, dtype: int64"
            ]
          },
          "metadata": {
            "tags": []
          },
          "execution_count": 17
        }
      ]
    },
    {
      "cell_type": "markdown",
      "metadata": {
        "id": "XgyN45oNCWrz"
      },
      "source": [
        "### category"
      ]
    },
    {
      "cell_type": "code",
      "metadata": {
        "id": "KMxKmuvkC-8s"
      },
      "source": [
        "col = 'category'"
      ],
      "execution_count": 18,
      "outputs": []
    },
    {
      "cell_type": "code",
      "metadata": {
        "colab": {
          "base_uri": "https://localhost:8080/"
        },
        "id": "aQv4zNjmcP-x",
        "outputId": "b73f21fa-8fbb-4f0b-b445-a53dfc0f2934"
      },
      "source": [
        "df[col].unique()"
      ],
      "execution_count": 19,
      "outputs": [
        {
          "output_type": "execute_result",
          "data": {
            "text/plain": [
              "array(['new', 'dresses', 'wedding', 'sale', 'tops', 'bottoms',\n",
              "       'outerwear'], dtype=object)"
            ]
          },
          "metadata": {
            "tags": []
          },
          "execution_count": 19
        }
      ]
    },
    {
      "cell_type": "code",
      "metadata": {
        "colab": {
          "base_uri": "https://localhost:8080/",
          "height": 281
        },
        "id": "RoimCT-8CcuE",
        "outputId": "37d17770-74eb-4429-a7f2-ef19a9ad98e6"
      },
      "source": [
        "df[col].hist()\n",
        "plt.title(f'{col} coulmn hist');"
      ],
      "execution_count": 20,
      "outputs": [
        {
          "output_type": "display_data",
          "data": {
            "image/png": "[encoded data removed]",
            "text/plain": [
              "<Figure size 432x288 with 1 Axes>"
            ]
          },
          "metadata": {
            "tags": [],
            "needs_background": "light"
          }
        }
      ]
    },
    {
      "cell_type": "code",
      "metadata": {
        "colab": {
          "base_uri": "https://localhost:8080/"
        },
        "id": "iQMdh5jECdis",
        "outputId": "4e372f0f-036d-480a-b0e9-fab0cc5befbd"
      },
      "source": [
        "print(f'NANs in the column {col} = {df[col].isna().sum()} out of {len(df)} or {df[col].isna().sum()/len(df)}%')"
      ],
      "execution_count": 21,
      "outputs": [
        {
          "output_type": "stream",
          "text": [
            "NANs in the column category = 0 out of 82790 or 0.0%\n"
          ],
          "name": "stdout"
        }
      ]
    },
    {
      "cell_type": "markdown",
      "metadata": {
        "id": "heNDx_frk3nw"
      },
      "source": [
        "Тоже все норм"
      ]
    },
    {
      "cell_type": "code",
      "metadata": {
        "id": "xqfBN1cfnCB7"
      },
      "source": [
        "df['category'] = df['category'].astype('category')"
      ],
      "execution_count": 22,
      "outputs": []
    },
    {
      "cell_type": "code",
      "metadata": {
        "colab": {
          "base_uri": "https://localhost:8080/"
        },
        "id": "jG3JINm8GoK0",
        "outputId": "60b5cfff-4657-4f4c-9bfb-5871853c0982"
      },
      "source": [
        "df.groupby(col)['ID'].nunique()"
      ],
      "execution_count": 23,
      "outputs": [
        {
          "output_type": "execute_result",
          "data": {
            "text/plain": [
              "category\n",
              "bottoms      15266\n",
              "dresses      18650\n",
              "new          21488\n",
              "outerwear     4223\n",
              "sale          2524\n",
              "tops         20364\n",
              "wedding        275\n",
              "Name: ID, dtype: int64"
            ]
          },
          "metadata": {
            "tags": []
          },
          "execution_count": 23
        }
      ]
    },
    {
      "cell_type": "markdown",
      "metadata": {
        "id": "ZJi_OLWZDDX7"
      },
      "source": [
        "### cup size"
      ]
    },
    {
      "cell_type": "code",
      "metadata": {
        "id": "NubjUx9wDGE0"
      },
      "source": [
        "col = 'cup size'"
      ],
      "execution_count": 24,
      "outputs": []
    },
    {
      "cell_type": "code",
      "metadata": {
        "colab": {
          "base_uri": "https://localhost:8080/"
        },
        "id": "g9YbMTELck9y",
        "outputId": "6a03fd6f-f250-4cb6-c997-bc80d8c43c11"
      },
      "source": [
        "df[col].unique()"
      ],
      "execution_count": 25,
      "outputs": [
        {
          "output_type": "execute_result",
          "data": {
            "text/plain": [
              "array(['d', 'b', 'dd/e', 'c', 'ddd/f', 'dddd/g', 'i', 'a', nan, 'h', 'aa',\n",
              "       'j', 'k'], dtype=object)"
            ]
          },
          "metadata": {
            "tags": []
          },
          "execution_count": 25
        }
      ]
    },
    {
      "cell_type": "code",
      "metadata": {
        "colab": {
          "base_uri": "https://localhost:8080/",
          "height": 281
        },
        "id": "hwvu19wkDJb8",
        "outputId": "192e4d7d-2aba-46a3-b811-b11ffd869aa4"
      },
      "source": [
        "df[col].hist()\n",
        "plt.title(f'{col} coulmn hist');"
      ],
      "execution_count": 26,
      "outputs": [
        {
          "output_type": "display_data",
          "data": {
            "image/png": "[encoded data removed]",
            "text/plain": [
              "<Figure size 432x288 with 1 Axes>"
            ]
          },
          "metadata": {
            "tags": [],
            "needs_background": "light"
          }
        }
      ]
    },
    {
      "cell_type": "code",
      "metadata": {
        "colab": {
          "base_uri": "https://localhost:8080/"
        },
        "id": "ZKybLbSQDQ-8",
        "outputId": "b13c365f-3e9d-46e8-a8cb-7a5df4478fb4"
      },
      "source": [
        "print(f'NANs in the column {col} = {df[col].isna().sum()} out of {len(df)} or {df[col].isna().sum()/len(df)}%')"
      ],
      "execution_count": 27,
      "outputs": [
        {
          "output_type": "stream",
          "text": [
            "NANs in the column cup size = 6255 out of 82790 or 0.07555260297137335%\n"
          ],
          "name": "stdout"
        }
      ]
    },
    {
      "cell_type": "markdown",
      "metadata": {
        "id": "fic42WGlk71Z"
      },
      "source": [
        "Пропущено не критично много, можно удалить эти строки"
      ]
    },
    {
      "cell_type": "code",
      "metadata": {
        "id": "r9yXToq7nZWZ"
      },
      "source": [
        "idxs2remove = df[df[col].isnull()].index\n",
        "df.drop(idxs2remove, axis=0, inplace=True)"
      ],
      "execution_count": 28,
      "outputs": []
    },
    {
      "cell_type": "code",
      "metadata": {
        "id": "G9CBX6_bp_ko"
      },
      "source": [
        "df[col] = df[col].astype('category').cat.as_ordered()"
      ],
      "execution_count": 29,
      "outputs": []
    },
    {
      "cell_type": "code",
      "metadata": {
        "colab": {
          "base_uri": "https://localhost:8080/"
        },
        "id": "B-tV_vJrGu3t",
        "outputId": "5b47f86d-2900-4a8a-fc77-d21131e79e13"
      },
      "source": [
        "df.groupby(col)['ID'].nunique()"
      ],
      "execution_count": 30,
      "outputs": [
        {
          "output_type": "execute_result",
          "data": {
            "text/plain": [
              "cup size\n",
              "a          4791\n",
              "aa          296\n",
              "b         14628\n",
              "c         18370\n",
              "d         16149\n",
              "dd/e      12557\n",
              "ddd/f      6117\n",
              "dddd/g     2008\n",
              "h          1042\n",
              "i           189\n",
              "j           200\n",
              "k           188\n",
              "Name: ID, dtype: int64"
            ]
          },
          "metadata": {
            "tags": []
          },
          "execution_count": 30
        }
      ]
    },
    {
      "cell_type": "markdown",
      "metadata": {
        "id": "VZj3WxieDU-M"
      },
      "source": [
        "### bra size"
      ]
    },
    {
      "cell_type": "code",
      "metadata": {
        "id": "EJ2b30Z_DXd8"
      },
      "source": [
        "col = \"bra size\""
      ],
      "execution_count": 31,
      "outputs": []
    },
    {
      "cell_type": "code",
      "metadata": {
        "colab": {
          "base_uri": "https://localhost:8080/"
        },
        "id": "hRHhAQ8xdVj6",
        "outputId": "a541e698-4475-49ef-932e-7397c66e9225"
      },
      "source": [
        "df[col].unique()"
      ],
      "execution_count": 32,
      "outputs": [
        {
          "output_type": "execute_result",
          "data": {
            "text/plain": [
              "array([34., 36., 32., nan, 38., 42., 40., 44., 46., 30., 48., 28.])"
            ]
          },
          "metadata": {
            "tags": []
          },
          "execution_count": 32
        }
      ]
    },
    {
      "cell_type": "code",
      "metadata": {
        "colab": {
          "base_uri": "https://localhost:8080/",
          "height": 281
        },
        "id": "fPqxM8kQDbA8",
        "outputId": "831db489-ded5-443e-b283-2a977d31446f"
      },
      "source": [
        "df[col].hist()\n",
        "plt.title(f'{col} coulmn hist');"
      ],
      "execution_count": 33,
      "outputs": [
        {
          "output_type": "display_data",
          "data": {
            "image/png": "[encoded data removed]",
            "text/plain": [
              "<Figure size 432x288 with 1 Axes>"
            ]
          },
          "metadata": {
            "tags": [],
            "needs_background": "light"
          }
        }
      ]
    },
    {
      "cell_type": "code",
      "metadata": {
        "colab": {
          "base_uri": "https://localhost:8080/"
        },
        "id": "rDYXLvRjDc1z",
        "outputId": "154acd6f-6a24-4f86-880f-8e8c84a55309"
      },
      "source": [
        "print(f'NANs in the column {col} = {df[col].isna().sum()} out of {len(df)} or {df[col].isna().sum()/len(df)}%')"
      ],
      "execution_count": 34,
      "outputs": [
        {
          "output_type": "stream",
          "text": [
            "NANs in the column bra size = 123 out of 76535 or 0.0016071078591494087%\n"
          ],
          "name": "stdout"
        }
      ]
    },
    {
      "cell_type": "markdown",
      "metadata": {
        "id": "jizBkhjOlDHh"
      },
      "source": [
        "Тут скорее всего ситуация похоже на cup size, просто удалим"
      ]
    },
    {
      "cell_type": "code",
      "metadata": {
        "id": "rH6-0iwTnzJA"
      },
      "source": [
        "idxs2remove = df[df[col].isnull()].index\n",
        "df.drop(idxs2remove, axis=0, inplace=True)"
      ],
      "execution_count": 35,
      "outputs": []
    },
    {
      "cell_type": "code",
      "metadata": {
        "id": "w_1SDSUFoAIA"
      },
      "source": [
        "df[col] = df[col].astype(int) # чтобы дробную часть из значений убрать\n",
        "df[col] = df[col].astype('category').cat.as_ordered()"
      ],
      "execution_count": 36,
      "outputs": []
    },
    {
      "cell_type": "code",
      "metadata": {
        "colab": {
          "base_uri": "https://localhost:8080/"
        },
        "id": "yNhXRwGoGxts",
        "outputId": "2ad1db29-140f-47e3-b7fb-e8a35c322484"
      },
      "source": [
        "df.groupby(col)['ID'].nunique()"
      ],
      "execution_count": 37,
      "outputs": [
        {
          "output_type": "execute_result",
          "data": {
            "text/plain": [
              "bra size\n",
              "28      255\n",
              "30     1050\n",
              "32     9974\n",
              "34    22279\n",
              "36    19535\n",
              "38    11880\n",
              "40     5098\n",
              "42     3364\n",
              "44     2005\n",
              "46      596\n",
              "48      376\n",
              "Name: ID, dtype: int64"
            ]
          },
          "metadata": {
            "tags": []
          },
          "execution_count": 37
        }
      ]
    },
    {
      "cell_type": "markdown",
      "metadata": {
        "id": "B4CIkASSDerN"
      },
      "source": [
        "### hips"
      ]
    },
    {
      "cell_type": "code",
      "metadata": {
        "id": "WwNbBc90DhRU"
      },
      "source": [
        "col = 'hips'"
      ],
      "execution_count": 38,
      "outputs": []
    },
    {
      "cell_type": "code",
      "metadata": {
        "colab": {
          "base_uri": "https://localhost:8080/"
        },
        "id": "iFCtCTmidjNC",
        "outputId": "bc72777b-859d-4023-f06d-82ad32acacc3"
      },
      "source": [
        "df[col].unique()"
      ],
      "execution_count": 39,
      "outputs": [
        {
          "output_type": "execute_result",
          "data": {
            "text/plain": [
              "array([38., 30., nan, 41., 42., 50., 49., 60., 36., 44., 39., 35., 34.,\n",
              "       32., 48., 52., 40., 46., 37., 45., 55., 51., 33., 53., 54., 47.,\n",
              "       59., 43., 57., 58., 31., 56.])"
            ]
          },
          "metadata": {
            "tags": []
          },
          "execution_count": 39
        }
      ]
    },
    {
      "cell_type": "code",
      "metadata": {
        "colab": {
          "base_uri": "https://localhost:8080/",
          "height": 281
        },
        "id": "g4H7Ky_7Dnp0",
        "outputId": "5f3d1e9d-fc9b-49c4-d391-92748db9fe78"
      },
      "source": [
        "df[col].hist()\n",
        "plt.title(f'{col} coulmn hist');"
      ],
      "execution_count": 40,
      "outputs": [
        {
          "output_type": "display_data",
          "data": {
            "image/png": "[encoded data removed]",
            "text/plain": [
              "<Figure size 432x288 with 1 Axes>"
            ]
          },
          "metadata": {
            "tags": [],
            "needs_background": "light"
          }
        }
      ]
    },
    {
      "cell_type": "code",
      "metadata": {
        "colab": {
          "base_uri": "https://localhost:8080/"
        },
        "id": "RqwSXu_TDmbP",
        "outputId": "2b3c3995-3a5d-4616-ad93-65a18cd31c00"
      },
      "source": [
        "print(f'NANs in the column {col} = {df[col].isna().sum()} out of {len(df)} or {df[col].isna().sum()/len(df)}%')"
      ],
      "execution_count": 41,
      "outputs": [
        {
          "output_type": "stream",
          "text": [
            "NANs in the column hips = 21939 out of 76412 or 0.2871145893315186%\n"
          ],
          "name": "stdout"
        }
      ]
    },
    {
      "cell_type": "markdown",
      "metadata": {
        "id": "uARychzdlXM0"
      },
      "source": [
        "Тут сложно, пока удалим"
      ]
    },
    {
      "cell_type": "code",
      "metadata": {
        "id": "DKdmPpCTqkii"
      },
      "source": [
        "df.drop(col, axis=1, inplace=True)"
      ],
      "execution_count": 42,
      "outputs": []
    },
    {
      "cell_type": "markdown",
      "metadata": {
        "id": "1IZFNn-cDqVc"
      },
      "source": [
        "### bust"
      ]
    },
    {
      "cell_type": "code",
      "metadata": {
        "id": "mHeXE7J_Du-0"
      },
      "source": [
        "col = 'bust'"
      ],
      "execution_count": 43,
      "outputs": []
    },
    {
      "cell_type": "code",
      "metadata": {
        "colab": {
          "base_uri": "https://localhost:8080/"
        },
        "id": "2F2MDHSafLTS",
        "outputId": "8a94788e-602a-4201-876a-3bca17111d12"
      },
      "source": [
        "df[col].unique()"
      ],
      "execution_count": 44,
      "outputs": [
        {
          "output_type": "execute_result",
          "data": {
            "text/plain": [
              "array(['36', nan, '39', '34', '43', '35', '38', '33', '40', '41', '44',\n",
              "       '45', '37', '30', '32', '42', '48', '46', '51', '25', '31', '26',\n",
              "       '52', '22', '50', '47', '56', '49', '54', '55', '53', '27', '28',\n",
              "       '29', '20', '57', '23', '37-39', '58', '24', '59'], dtype=object)"
            ]
          },
          "metadata": {
            "tags": []
          },
          "execution_count": 44
        }
      ]
    },
    {
      "cell_type": "code",
      "metadata": {
        "colab": {
          "base_uri": "https://localhost:8080/",
          "height": 281
        },
        "id": "oUxagZDXDsK_",
        "outputId": "7290b891-7f81-471e-e7d2-55b3f7bb19be"
      },
      "source": [
        "df[col].hist()\n",
        "plt.title(f'{col} coulmn hist');"
      ],
      "execution_count": 45,
      "outputs": [
        {
          "output_type": "display_data",
          "data": {
            "image/png": "[encoded data removed]",
            "text/plain": [
              "<Figure size 432x288 with 1 Axes>"
            ]
          },
          "metadata": {
            "tags": [],
            "needs_background": "light"
          }
        }
      ]
    },
    {
      "cell_type": "code",
      "metadata": {
        "colab": {
          "base_uri": "https://localhost:8080/"
        },
        "id": "cmE0EEtfD1qr",
        "outputId": "404c6b65-77a2-46b8-d94b-db0871760433"
      },
      "source": [
        "print(f'NANs in the column {col} = {df[col].isna().sum()} out of {len(df)} or {df[col].isna().sum()/len(df)}%')"
      ],
      "execution_count": 46,
      "outputs": [
        {
          "output_type": "stream",
          "text": [
            "NANs in the column bust = 64897 out of 76412 or 0.8493037742762917%\n"
          ],
          "name": "stdout"
        }
      ]
    },
    {
      "cell_type": "markdown",
      "metadata": {
        "id": "3vbULhg0ldSx"
      },
      "source": [
        "Тоже походу надо удалять"
      ]
    },
    {
      "cell_type": "code",
      "metadata": {
        "id": "ynPfkNYJG6xs"
      },
      "source": [
        "df.drop(col, axis=1, inplace=True)"
      ],
      "execution_count": 47,
      "outputs": []
    },
    {
      "cell_type": "markdown",
      "metadata": {
        "id": "NADyrBqwD7pW"
      },
      "source": [
        "### height"
      ]
    },
    {
      "cell_type": "code",
      "metadata": {
        "id": "zFUd8z9gD9Uc"
      },
      "source": [
        "col = 'height'"
      ],
      "execution_count": 48,
      "outputs": []
    },
    {
      "cell_type": "code",
      "metadata": {
        "colab": {
          "base_uri": "https://localhost:8080/"
        },
        "id": "T_-1eWsof4CJ",
        "outputId": "f83996ab-bbed-47a3-b5ec-35a5399f7288"
      },
      "source": [
        "df[col].unique()"
      ],
      "execution_count": 49,
      "outputs": [
        {
          "output_type": "execute_result",
          "data": {
            "text/plain": [
              "array(['5ft 6in', '5ft 2in', '5ft 7in', '5ft 4in', '5ft 3in', '5ft 5in',\n",
              "       '5ft 10in', nan, '5ft 8in', '5ft', '5ft 9in', '5ft 1in',\n",
              "       '5ft 11in', '4ft 11in', '4ft 10in', '6ft', '3ft 4in', '4ft 9in',\n",
              "       '6ft 1in', '6ft 2in', '3ft', '4ft 7in', '6ft 3in', '4ft 4in',\n",
              "       '7ft 11in', '4ft 8in', '3ft 11in', '6ft 5in', '3ft 3in', '6ft 4in',\n",
              "       '6ft 6in', '6ft 8in', '7ft 5in', '3ft 6in', '7ft 3in', '7ft 7in',\n",
              "       '4ft 5in', '3ft 2in', '4ft 2in'], dtype=object)"
            ]
          },
          "metadata": {
            "tags": []
          },
          "execution_count": 49
        }
      ]
    },
    {
      "cell_type": "code",
      "metadata": {
        "colab": {
          "base_uri": "https://localhost:8080/",
          "height": 281
        },
        "id": "8YaYER4AEGED",
        "outputId": "b5a3b8c8-2a42-43c7-fce1-2c0e064440ce"
      },
      "source": [
        "df[col].hist()\n",
        "plt.title(f'{col} coulmn hist');"
      ],
      "execution_count": 50,
      "outputs": [
        {
          "output_type": "display_data",
          "data": {
            "image/png": "[encoded data removed]",
            "text/plain": [
              "<Figure size 432x288 with 1 Axes>"
            ]
          },
          "metadata": {
            "tags": [],
            "needs_background": "light"
          }
        }
      ]
    },
    {
      "cell_type": "code",
      "metadata": {
        "colab": {
          "base_uri": "https://localhost:8080/"
        },
        "id": "vzQGVmOeEJDE",
        "outputId": "9e1f7499-abef-4372-b269-d11ba430b4ac"
      },
      "source": [
        "print(f'NANs in the column {col} = {df[col].isna().sum()} out of {len(df)} or {df[col].isna().sum()/len(df)}%')"
      ],
      "execution_count": 51,
      "outputs": [
        {
          "output_type": "stream",
          "text": [
            "NANs in the column height = 703 out of 76412 or 0.00920012563471706%\n"
          ],
          "name": "stdout"
        }
      ]
    },
    {
      "cell_type": "markdown",
      "metadata": {
        "id": "hnXMG9n-lgxI"
      },
      "source": [
        "Просто перевести в см и все ок, пропуски удалить"
      ]
    },
    {
      "cell_type": "code",
      "metadata": {
        "id": "mHVaJoTlo0jg"
      },
      "source": [
        "def get_cms(x):\n",
        "    if type(x) == type(1.0):\n",
        "        return\n",
        "    #print(x)\n",
        "    try: \n",
        "        return (int(x[0])*30.48) + (int(x[4:-2])*2.54)\n",
        "    except:\n",
        "        return (int(x[0])*30.48)\n",
        "df['height'] = df['height'].apply(get_cms)"
      ],
      "execution_count": 52,
      "outputs": []
    },
    {
      "cell_type": "code",
      "metadata": {
        "id": "_AR5Jw3ro6dI"
      },
      "source": [
        "idxs2remove = df[df[col].isnull()].index\n",
        "df.drop(idxs2remove, axis=0, inplace=True)"
      ],
      "execution_count": 53,
      "outputs": []
    },
    {
      "cell_type": "markdown",
      "metadata": {
        "id": "I0O-EkRdEK1D"
      },
      "source": [
        "length"
      ]
    },
    {
      "cell_type": "code",
      "metadata": {
        "id": "zg55at42ENQ3"
      },
      "source": [
        "col = 'length'"
      ],
      "execution_count": 54,
      "outputs": []
    },
    {
      "cell_type": "code",
      "metadata": {
        "colab": {
          "base_uri": "https://localhost:8080/"
        },
        "id": "TC5AdabQf91J",
        "outputId": "b8eb5ec6-f557-43e0-bc4f-04276a6048ef"
      },
      "source": [
        "df[col].unique()"
      ],
      "execution_count": 55,
      "outputs": [
        {
          "output_type": "execute_result",
          "data": {
            "text/plain": [
              "array(['just right', 'slightly long', 'very short', 'slightly short',\n",
              "       'very long', nan], dtype=object)"
            ]
          },
          "metadata": {
            "tags": []
          },
          "execution_count": 55
        }
      ]
    },
    {
      "cell_type": "code",
      "metadata": {
        "id": "tacGKBKlgW9z",
        "colab": {
          "base_uri": "https://localhost:8080/",
          "height": 281
        },
        "outputId": "d9186a5e-5388-45a2-d03b-470252a23097"
      },
      "source": [
        "df[col].hist()\n",
        "plt.title(f'{col} coulmn hist');"
      ],
      "execution_count": 56,
      "outputs": [
        {
          "output_type": "display_data",
          "data": {
            "image/png": "[encoded data removed]",
            "text/plain": [
              "<Figure size 432x288 with 1 Axes>"
            ]
          },
          "metadata": {
            "tags": [],
            "needs_background": "light"
          }
        }
      ]
    },
    {
      "cell_type": "code",
      "metadata": {
        "colab": {
          "base_uri": "https://localhost:8080/"
        },
        "id": "u98SE2oaEXpq",
        "outputId": "db2a0a3c-75b5-4278-e38d-8bcdd8977dcd"
      },
      "source": [
        "print(f'NANs in the column {col} = {df[col].isna().sum()} out of {len(df)} or {df[col].isna().sum()/len(df)}%')"
      ],
      "execution_count": 57,
      "outputs": [
        {
          "output_type": "stream",
          "text": [
            "NANs in the column length = 17 out of 75709 or 0.00022454397759843613%\n"
          ],
          "name": "stdout"
        }
      ]
    },
    {
      "cell_type": "markdown",
      "metadata": {
        "id": "F9DV1p9ilnYA"
      },
      "source": [
        "Тоже удаляем пропуски"
      ]
    },
    {
      "cell_type": "code",
      "metadata": {
        "id": "RQqStRAVpEv5"
      },
      "source": [
        "idxs2remove = df[df[col].isnull()].index\n",
        "df.drop(idxs2remove, axis=0, inplace=True)"
      ],
      "execution_count": 58,
      "outputs": []
    },
    {
      "cell_type": "code",
      "metadata": {
        "id": "cZHjsXr0pGft"
      },
      "source": [
        "df[col] = df[col].astype('category')"
      ],
      "execution_count": 59,
      "outputs": []
    },
    {
      "cell_type": "code",
      "metadata": {
        "colab": {
          "base_uri": "https://localhost:8080/"
        },
        "id": "-CC_qiVfHE8i",
        "outputId": "d85cbaad-5d30-4ed3-a7b1-0565b56c9333"
      },
      "source": [
        "df.groupby(col)['ID'].nunique()"
      ],
      "execution_count": 60,
      "outputs": [
        {
          "output_type": "execute_result",
          "data": {
            "text/plain": [
              "length\n",
              "just right        56737\n",
              "slightly long     10201\n",
              "slightly short     5826\n",
              "very long          2208\n",
              "very short          720\n",
              "Name: ID, dtype: int64"
            ]
          },
          "metadata": {
            "tags": []
          },
          "execution_count": 60
        }
      ]
    },
    {
      "cell_type": "markdown",
      "metadata": {
        "id": "WoJxzm9zEepU"
      },
      "source": [
        "### fit"
      ]
    },
    {
      "cell_type": "code",
      "metadata": {
        "id": "ovjZTZ2BEuKV"
      },
      "source": [
        "col = 'fit'"
      ],
      "execution_count": 61,
      "outputs": []
    },
    {
      "cell_type": "code",
      "metadata": {
        "colab": {
          "base_uri": "https://localhost:8080/"
        },
        "id": "uqFg9dh3EwRM",
        "outputId": "88e65f11-0855-42a6-d0d2-0fab11071fdb"
      },
      "source": [
        "df[col].unique()"
      ],
      "execution_count": 62,
      "outputs": [
        {
          "output_type": "execute_result",
          "data": {
            "text/plain": [
              "array(['small', 'large', 'fit'], dtype=object)"
            ]
          },
          "metadata": {
            "tags": []
          },
          "execution_count": 62
        }
      ]
    },
    {
      "cell_type": "code",
      "metadata": {
        "colab": {
          "base_uri": "https://localhost:8080/",
          "height": 281
        },
        "id": "bgdWQ-K7EyMU",
        "outputId": "7e0243fb-1ad6-47f8-c503-8604390670a0"
      },
      "source": [
        "df[col].hist()\n",
        "plt.title(f'{col} coulmn hist');"
      ],
      "execution_count": 63,
      "outputs": [
        {
          "output_type": "display_data",
          "data": {
            "image/png": "[encoded data removed]",
            "text/plain": [
              "<Figure size 432x288 with 1 Axes>"
            ]
          },
          "metadata": {
            "tags": [],
            "needs_background": "light"
          }
        }
      ]
    },
    {
      "cell_type": "code",
      "metadata": {
        "colab": {
          "base_uri": "https://localhost:8080/"
        },
        "id": "x2BzA4xeEz7t",
        "outputId": "dadff914-98fb-476a-d65b-0b46351d7a34"
      },
      "source": [
        "print(f'NANs in the column {col} = {df[col].isna().sum()} out of {len(df)} or {df[col].isna().sum()/len(df)}%')"
      ],
      "execution_count": 64,
      "outputs": [
        {
          "output_type": "stream",
          "text": [
            "NANs in the column fit = 0 out of 75692 or 0.0%\n"
          ],
          "name": "stdout"
        }
      ]
    },
    {
      "cell_type": "markdown",
      "metadata": {
        "id": "ZNYfIboElp6g"
      },
      "source": [
        "Это лейбл колонка, и распределение кншн не очень"
      ]
    },
    {
      "cell_type": "code",
      "metadata": {
        "colab": {
          "base_uri": "https://localhost:8080/"
        },
        "id": "Ky6owptCHJDi",
        "outputId": "77c25d61-0b7c-45f6-c836-ab5b6e93481f"
      },
      "source": [
        "df.groupby(col)['ID'].nunique()"
      ],
      "execution_count": 65,
      "outputs": [
        {
          "output_type": "execute_result",
          "data": {
            "text/plain": [
              "fit\n",
              "fit      51878\n",
              "large    11949\n",
              "small    11865\n",
              "Name: ID, dtype: int64"
            ]
          },
          "metadata": {
            "tags": []
          },
          "execution_count": 65
        }
      ]
    },
    {
      "cell_type": "markdown",
      "metadata": {
        "id": "DbkrhkoBFL48"
      },
      "source": [
        "### quality"
      ]
    },
    {
      "cell_type": "code",
      "metadata": {
        "id": "ATAluLWYFOcj"
      },
      "source": [
        "col = 'quality'"
      ],
      "execution_count": 66,
      "outputs": []
    },
    {
      "cell_type": "code",
      "metadata": {
        "colab": {
          "base_uri": "https://localhost:8080/"
        },
        "id": "Hy6vPw9aFQ-U",
        "outputId": "c9ac1334-7b11-47c1-df0b-8f24c9afc6e2"
      },
      "source": [
        "df[col].unique()"
      ],
      "execution_count": 67,
      "outputs": [
        {
          "output_type": "execute_result",
          "data": {
            "text/plain": [
              "array([ 5.,  3.,  2.,  1.,  4., nan])"
            ]
          },
          "metadata": {
            "tags": []
          },
          "execution_count": 67
        }
      ]
    },
    {
      "cell_type": "code",
      "metadata": {
        "colab": {
          "base_uri": "https://localhost:8080/",
          "height": 281
        },
        "id": "RKzHR0zcFShL",
        "outputId": "1e3eae4b-f8cf-40be-dd8c-d86bc0f4f4b4"
      },
      "source": [
        "df[col].hist()\n",
        "plt.title(f'{col} coulmn hist');"
      ],
      "execution_count": 68,
      "outputs": [
        {
          "output_type": "display_data",
          "data": {
            "image/png": "[encoded data removed]",
            "text/plain": [
              "<Figure size 432x288 with 1 Axes>"
            ]
          },
          "metadata": {
            "tags": [],
            "needs_background": "light"
          }
        }
      ]
    },
    {
      "cell_type": "code",
      "metadata": {
        "colab": {
          "base_uri": "https://localhost:8080/"
        },
        "id": "Zr0u6KD5FUs8",
        "outputId": "dcf56620-ced8-4668-b75e-22114948eede"
      },
      "source": [
        "print(f'NANs in the column {col} = {df[col].isna().sum()} out of {len(df)} or {df[col].isna().sum()/len(df)}%')"
      ],
      "execution_count": 69,
      "outputs": [
        {
          "output_type": "stream",
          "text": [
            "NANs in the column quality = 37 out of 75692 or 0.0004888231252972573%\n"
          ],
          "name": "stdout"
        }
      ]
    },
    {
      "cell_type": "markdown",
      "metadata": {
        "id": "HiMUxhwAlxgf"
      },
      "source": [
        "Тоже удаляем пропуски и ок"
      ]
    },
    {
      "cell_type": "code",
      "metadata": {
        "id": "mHMxZaUSq4v4"
      },
      "source": [
        "idxs2remove = df[df[col].isnull()].index\n",
        "df.drop(idxs2remove, axis=0, inplace=True)"
      ],
      "execution_count": 70,
      "outputs": []
    },
    {
      "cell_type": "code",
      "metadata": {
        "id": "UQeW7BVLzg92"
      },
      "source": [
        "df[col] = df[col].astype(int)"
      ],
      "execution_count": 71,
      "outputs": []
    },
    {
      "cell_type": "code",
      "metadata": {
        "colab": {
          "base_uri": "https://localhost:8080/"
        },
        "id": "LTuUpc4_HLVc",
        "outputId": "777531e7-a209-4eb6-e18f-182423cfd85c"
      },
      "source": [
        "df.groupby(col)['ID'].nunique()"
      ],
      "execution_count": 72,
      "outputs": [
        {
          "output_type": "execute_result",
          "data": {
            "text/plain": [
              "quality\n",
              "1     1197\n",
              "2     4678\n",
              "3    17869\n",
              "4    24905\n",
              "5    27006\n",
              "Name: ID, dtype: int64"
            ]
          },
          "metadata": {
            "tags": []
          },
          "execution_count": 72
        }
      ]
    },
    {
      "cell_type": "markdown",
      "metadata": {
        "id": "f7FslCdpFmcp"
      },
      "source": [
        "### shoe size"
      ]
    },
    {
      "cell_type": "code",
      "metadata": {
        "id": "Fb9zMfVhFofc"
      },
      "source": [
        "col = 'shoe size'"
      ],
      "execution_count": 73,
      "outputs": []
    },
    {
      "cell_type": "code",
      "metadata": {
        "colab": {
          "base_uri": "https://localhost:8080/"
        },
        "id": "BONSceD0Fqm8",
        "outputId": "183e057e-dc89-42c6-b13d-a21ecb2eb140"
      },
      "source": [
        "df[col].unique()"
      ],
      "execution_count": 74,
      "outputs": [
        {
          "output_type": "execute_result",
          "data": {
            "text/plain": [
              "array([ nan,  9. ,  8.5, 11. ,  7. ,  6. ,  8. ,  6.5, 10. ,  7.5,  5.5,\n",
              "        9.5, 10.5,  5. , 11.5, 38. ])"
            ]
          },
          "metadata": {
            "tags": []
          },
          "execution_count": 74
        }
      ]
    },
    {
      "cell_type": "code",
      "metadata": {
        "colab": {
          "base_uri": "https://localhost:8080/",
          "height": 281
        },
        "id": "OFatUXVqFr7g",
        "outputId": "b4d13581-563b-4fee-9c4c-0195df6478f4"
      },
      "source": [
        "df[col].hist(bins=len(df[col].unique()))\n",
        "plt.title(f'{col} coulmn hist');"
      ],
      "execution_count": 75,
      "outputs": [
        {
          "output_type": "display_data",
          "data": {
            "image/png": "[encoded data removed]",
            "text/plain": [
              "<Figure size 432x288 with 1 Axes>"
            ]
          },
          "metadata": {
            "tags": [],
            "needs_background": "light"
          }
        }
      ]
    },
    {
      "cell_type": "code",
      "metadata": {
        "colab": {
          "base_uri": "https://localhost:8080/"
        },
        "id": "OAGlOukNF09M",
        "outputId": "2788575c-3b71-4186-98ba-96c9b053ae2a"
      },
      "source": [
        "print(f'NANs in the column {col} = {df[col].isna().sum()} out of {len(df)} or {df[col].isna().sum()/len(df)}%')"
      ],
      "execution_count": 76,
      "outputs": [
        {
          "output_type": "stream",
          "text": [
            "NANs in the column shoe size = 48957 out of 75655 or 0.6471085850241226%\n"
          ],
          "name": "stdout"
        }
      ]
    },
    {
      "cell_type": "code",
      "metadata": {
        "colab": {
          "base_uri": "https://localhost:8080/"
        },
        "id": "QIGJP6rrHOc-",
        "outputId": "c8e3af99-1cf6-4887-c632-9034f119f707"
      },
      "source": [
        "df.groupby(col)['ID'].nunique()"
      ],
      "execution_count": 77,
      "outputs": [
        {
          "output_type": "execute_result",
          "data": {
            "text/plain": [
              "shoe size\n",
              "5.0      300\n",
              "5.5      566\n",
              "6.0     1281\n",
              "6.5     1768\n",
              "7.0     3035\n",
              "7.5     3566\n",
              "8.0     3679\n",
              "8.5     3822\n",
              "9.0     3412\n",
              "9.5     1707\n",
              "10.0    2323\n",
              "10.5     336\n",
              "11.0     813\n",
              "11.5      89\n",
              "38.0       1\n",
              "Name: ID, dtype: int64"
            ]
          },
          "metadata": {
            "tags": []
          },
          "execution_count": 77
        }
      ]
    },
    {
      "cell_type": "markdown",
      "metadata": {
        "id": "jBVxuLh_rRwI"
      },
      "source": [
        "Тут удаляем прикол с 38 размером, наны меняем на неизвестно и делаем фичу категориальной"
      ]
    },
    {
      "cell_type": "code",
      "metadata": {
        "id": "ocGEUEpCrTZY"
      },
      "source": [
        "df.drop(df[df[col]==38].index, axis=0, inplace=True)"
      ],
      "execution_count": 78,
      "outputs": []
    },
    {
      "cell_type": "code",
      "metadata": {
        "id": "w_O0A3PXsQOp"
      },
      "source": [
        "df[col].fillna('Unknown', inplace=True)"
      ],
      "execution_count": 79,
      "outputs": []
    },
    {
      "cell_type": "code",
      "metadata": {
        "id": "iG-ul_rxrp6h"
      },
      "source": [
        "df[col] = df[col].astype('str') # catboost не принимает в качве категориальной фичи float"
      ],
      "execution_count": 80,
      "outputs": []
    },
    {
      "cell_type": "markdown",
      "metadata": {
        "id": "N1VnXOdcF3c8"
      },
      "source": [
        "### shoe width"
      ]
    },
    {
      "cell_type": "code",
      "metadata": {
        "id": "-Mfxfid6F7UX"
      },
      "source": [
        "col = 'shoe width'"
      ],
      "execution_count": 81,
      "outputs": []
    },
    {
      "cell_type": "code",
      "metadata": {
        "colab": {
          "base_uri": "https://localhost:8080/"
        },
        "id": "JL4ZRBr2F8b0",
        "outputId": "7aafcb2e-ac87-4651-9ab5-352f8aa93899"
      },
      "source": [
        "df[col].unique()"
      ],
      "execution_count": 82,
      "outputs": [
        {
          "output_type": "execute_result",
          "data": {
            "text/plain": [
              "array([nan, 'wide', 'average', 'narrow'], dtype=object)"
            ]
          },
          "metadata": {
            "tags": []
          },
          "execution_count": 82
        }
      ]
    },
    {
      "cell_type": "code",
      "metadata": {
        "colab": {
          "base_uri": "https://localhost:8080/",
          "height": 281
        },
        "id": "CKVvpuTzF-hN",
        "outputId": "389ed776-8b2c-4f6a-b850-32bd6b49ad65"
      },
      "source": [
        "df[col].hist(bins=len(df[col].unique()))\n",
        "plt.title(f'{col} coulmn hist');"
      ],
      "execution_count": 83,
      "outputs": [
        {
          "output_type": "display_data",
          "data": {
            "image/png": "[encoded data removed]",
            "text/plain": [
              "<Figure size 432x288 with 1 Axes>"
            ]
          },
          "metadata": {
            "tags": [],
            "needs_background": "light"
          }
        }
      ]
    },
    {
      "cell_type": "code",
      "metadata": {
        "colab": {
          "base_uri": "https://localhost:8080/"
        },
        "id": "a81BXijyGB9F",
        "outputId": "ef7dc062-6b74-42b9-d7a3-955c0702eefb"
      },
      "source": [
        "print(f'NANs in the column {col} = {df[col].isna().sum()} out of {len(df)} or {df[col].isna().sum()/len(df)}%')"
      ],
      "execution_count": 84,
      "outputs": [
        {
          "output_type": "stream",
          "text": [
            "NANs in the column shoe width = 57709 out of 75654 or 0.7628017024876411%\n"
          ],
          "name": "stdout"
        }
      ]
    },
    {
      "cell_type": "code",
      "metadata": {
        "colab": {
          "base_uri": "https://localhost:8080/"
        },
        "id": "zYupMzHhHRwE",
        "outputId": "d9c72522-be9c-4e46-9f31-5beb6755beea"
      },
      "source": [
        "df.groupby(col)['ID'].nunique()"
      ],
      "execution_count": 85,
      "outputs": [
        {
          "output_type": "execute_result",
          "data": {
            "text/plain": [
              "shoe width\n",
              "average    12677\n",
              "narrow      1497\n",
              "wide        3771\n",
              "Name: ID, dtype: int64"
            ]
          },
          "metadata": {
            "tags": []
          },
          "execution_count": 85
        }
      ]
    },
    {
      "cell_type": "markdown",
      "metadata": {
        "id": "sZctqOi3mDe4"
      },
      "source": [
        "Сейм как и размер ноги"
      ]
    },
    {
      "cell_type": "code",
      "metadata": {
        "id": "BW1weKUZsihr"
      },
      "source": [
        "df[col].fillna('Unknown', inplace=True)"
      ],
      "execution_count": 86,
      "outputs": []
    },
    {
      "cell_type": "code",
      "metadata": {
        "id": "HYlk2an6skJH"
      },
      "source": [
        "df[col] = df[col].astype('category')"
      ],
      "execution_count": 87,
      "outputs": []
    },
    {
      "cell_type": "code",
      "metadata": {
        "colab": {
          "base_uri": "https://localhost:8080/"
        },
        "id": "03Cmw85MeAU4",
        "outputId": "701cf841-56a4-4d57-e65a-1bde0035815c"
      },
      "source": [
        "without_nans = []\n",
        "for col in [i for i in df.columns if i not in ['ID', 'review_summary', 'review_text']]:\n",
        "    # print(df.groupby(col)['ID'].nunique())\n",
        "    print(f'NANs in {col} = {df[col].isna().sum()} out of {len(df)}')\n",
        "    if df[col].isna().sum()==0:\n",
        "        without_nans.append(col)\n",
        "    # print()"
      ],
      "execution_count": 88,
      "outputs": [
        {
          "output_type": "stream",
          "text": [
            "NANs in item_id = 0 out of 75654\n",
            "NANs in size = 0 out of 75654\n",
            "NANs in quality = 0 out of 75654\n",
            "NANs in cup size = 0 out of 75654\n",
            "NANs in bra size = 0 out of 75654\n",
            "NANs in category = 0 out of 75654\n",
            "NANs in height = 0 out of 75654\n",
            "NANs in user_name = 0 out of 75654\n",
            "NANs in length = 0 out of 75654\n",
            "NANs in fit = 0 out of 75654\n",
            "NANs in user_id = 0 out of 75654\n",
            "NANs in shoe size = 0 out of 75654\n",
            "NANs in shoe width = 0 out of 75654\n"
          ],
          "name": "stdout"
        }
      ]
    },
    {
      "cell_type": "code",
      "metadata": {
        "colab": {
          "base_uri": "https://localhost:8080/"
        },
        "id": "WNRfNYQGszWR",
        "outputId": "4110924a-b035-41f3-8eda-1527913e1182"
      },
      "source": [
        "df.columns"
      ],
      "execution_count": 89,
      "outputs": [
        {
          "output_type": "execute_result",
          "data": {
            "text/plain": [
              "Index(['item_id', 'size', 'quality', 'cup size', 'bra size', 'category',\n",
              "       'height', 'user_name', 'length', 'fit', 'user_id', 'shoe size',\n",
              "       'shoe width', 'review_summary', 'review_text', 'ID'],\n",
              "      dtype='object')"
            ]
          },
          "metadata": {
            "tags": []
          },
          "execution_count": 89
        }
      ]
    },
    {
      "cell_type": "markdown",
      "metadata": {
        "id": "Z5p9Gh6EswkQ"
      },
      "source": [
        "review_summary, review_text"
      ]
    },
    {
      "cell_type": "code",
      "metadata": {
        "colab": {
          "base_uri": "https://localhost:8080/"
        },
        "id": "qMMngkjzs3jn",
        "outputId": "6ca7f972-3420-416b-8aa0-7233edcd195b"
      },
      "source": [
        "for i in df[df['review_summary'].notnull()][['review_summary', 'review_text']].sample(5).itertuples():\n",
        "    print('Text:', i.review_text)\n",
        "    print('Review:', i.review_summary)\n",
        "    print()\n",
        "    "
      ],
      "execution_count": 90,
      "outputs": [
        {
          "output_type": "stream",
          "text": [
            "Text: This has become my goto top. Any time it's clean and I'm throwing on jeans, I pull this out without even thinking. It's flattering and comfy\n",
            "Review: This has become my goto t\n",
            "\n",
            "Text: Received this dress as a gift from my Mom and cannot be more pleased! The fit is perfect for me and I love love love it. It's super cute and fun!\n",
            "Review: Received this dress as a\n",
            "\n",
            "Text: This dress is so cute I can overlook the fact that it smooshes my chest. I did however read that in other reviews and I bought it anyway. I wear a size 36 D, and though the dress fits great everywhere else, the bust is small. I would recommend wearing a petty coat underneath (I purchased a black one), because the skirt if the dress hangs much better with a petticoat. Super awesome dress, and the print is hilarious.\n",
            "Review: This dress is so cute I c\n",
            "\n",
            "Text: Super cute in the photos but not great in real life. They fit ok in the legs but I had that huge gap in the back. the material kind of felt weird too.\n",
            "Review: Super cute in the photos\n",
            "\n",
            "Text: This dress is adorable!  Unfortunately the one I received was definitely NOT true to size.  It's at least one size smaller than it's marked or it doesn't correspond to the measurements in the size guide.There's no stretch since it's 100% cotton, so I'd recommend going up one size if you're worried about fit or in between sizes.\n",
            "Review: This dress is adorable!\n",
            "\n"
          ],
          "name": "stdout"
        }
      ]
    },
    {
      "cell_type": "markdown",
      "metadata": {
        "id": "tza_JeTft7X_"
      },
      "source": [
        "Ревью повторяет исходный текст отзыва, поэтому дропнем ревью, а где нет отзыва вообще, заполним Unknown"
      ]
    },
    {
      "cell_type": "code",
      "metadata": {
        "id": "J9oyGqHquEbA"
      },
      "source": [
        "df.drop('review_summary', axis=1, inplace=True)"
      ],
      "execution_count": 91,
      "outputs": []
    },
    {
      "cell_type": "code",
      "metadata": {
        "id": "iEoZvDqxuJ7I"
      },
      "source": [
        "df['review_text'].fillna('Unlnown', inplace=True)"
      ],
      "execution_count": 92,
      "outputs": []
    },
    {
      "cell_type": "markdown",
      "metadata": {
        "id": "SbQNJMiFua8u"
      },
      "source": [
        "Others"
      ]
    },
    {
      "cell_type": "code",
      "metadata": {
        "colab": {
          "base_uri": "https://localhost:8080/",
          "height": 198
        },
        "id": "A6AcAfujub2K",
        "outputId": "f4a93814-c613-41b5-ebc0-278ac90536c5"
      },
      "source": [
        "df.head()"
      ],
      "execution_count": 93,
      "outputs": [
        {
          "output_type": "execute_result",
          "data": {
            "text/html": [
              "<div>\n",
              "<style scoped>\n",
              "    .dataframe tbody tr th:only-of-type {\n",
              "        vertical-align: middle;\n",
              "    }\n",
              "\n",
              "    .dataframe tbody tr th {\n",
              "        vertical-align: top;\n",
              "    }\n",
              "\n",
              "    .dataframe thead th {\n",
              "        text-align: right;\n",
              "    }\n",
              "</style>\n",
              "<table border=\"1\" class=\"dataframe\">\n",
              "  <thead>\n",
              "    <tr style=\"text-align: right;\">\n",
              "      <th></th>\n",
              "      <th>item_id</th>\n",
              "      <th>size</th>\n",
              "      <th>quality</th>\n",
              "      <th>cup size</th>\n",
              "      <th>bra size</th>\n",
              "      <th>category</th>\n",
              "      <th>height</th>\n",
              "      <th>user_name</th>\n",
              "      <th>length</th>\n",
              "      <th>fit</th>\n",
              "      <th>user_id</th>\n",
              "      <th>shoe size</th>\n",
              "      <th>shoe width</th>\n",
              "      <th>review_text</th>\n",
              "      <th>ID</th>\n",
              "    </tr>\n",
              "  </thead>\n",
              "  <tbody>\n",
              "    <tr>\n",
              "      <th>0</th>\n",
              "      <td>123373</td>\n",
              "      <td>7</td>\n",
              "      <td>5</td>\n",
              "      <td>d</td>\n",
              "      <td>34</td>\n",
              "      <td>new</td>\n",
              "      <td>167.64</td>\n",
              "      <td>Emily</td>\n",
              "      <td>just right</td>\n",
              "      <td>small</td>\n",
              "      <td>991571</td>\n",
              "      <td>Unknown</td>\n",
              "      <td>Unknown</td>\n",
              "      <td>Unlnown</td>\n",
              "      <td>0</td>\n",
              "    </tr>\n",
              "    <tr>\n",
              "      <th>1</th>\n",
              "      <td>123373</td>\n",
              "      <td>13</td>\n",
              "      <td>3</td>\n",
              "      <td>b</td>\n",
              "      <td>36</td>\n",
              "      <td>new</td>\n",
              "      <td>157.48</td>\n",
              "      <td>sydneybraden2001</td>\n",
              "      <td>just right</td>\n",
              "      <td>small</td>\n",
              "      <td>587883</td>\n",
              "      <td>Unknown</td>\n",
              "      <td>Unknown</td>\n",
              "      <td>Unlnown</td>\n",
              "      <td>1</td>\n",
              "    </tr>\n",
              "    <tr>\n",
              "      <th>2</th>\n",
              "      <td>123373</td>\n",
              "      <td>7</td>\n",
              "      <td>2</td>\n",
              "      <td>b</td>\n",
              "      <td>32</td>\n",
              "      <td>new</td>\n",
              "      <td>170.18</td>\n",
              "      <td>Ugggh</td>\n",
              "      <td>slightly long</td>\n",
              "      <td>small</td>\n",
              "      <td>395665</td>\n",
              "      <td>9.0</td>\n",
              "      <td>Unknown</td>\n",
              "      <td>Unlnown</td>\n",
              "      <td>2</td>\n",
              "    </tr>\n",
              "    <tr>\n",
              "      <th>4</th>\n",
              "      <td>123373</td>\n",
              "      <td>18</td>\n",
              "      <td>5</td>\n",
              "      <td>b</td>\n",
              "      <td>36</td>\n",
              "      <td>new</td>\n",
              "      <td>157.48</td>\n",
              "      <td>dberrones1</td>\n",
              "      <td>slightly long</td>\n",
              "      <td>small</td>\n",
              "      <td>944840</td>\n",
              "      <td>Unknown</td>\n",
              "      <td>Unknown</td>\n",
              "      <td>Unlnown</td>\n",
              "      <td>4</td>\n",
              "    </tr>\n",
              "    <tr>\n",
              "      <th>5</th>\n",
              "      <td>123373</td>\n",
              "      <td>11</td>\n",
              "      <td>5</td>\n",
              "      <td>c</td>\n",
              "      <td>36</td>\n",
              "      <td>new</td>\n",
              "      <td>162.56</td>\n",
              "      <td>Doreenajane</td>\n",
              "      <td>just right</td>\n",
              "      <td>small</td>\n",
              "      <td>162012</td>\n",
              "      <td>Unknown</td>\n",
              "      <td>Unknown</td>\n",
              "      <td>Unlnown</td>\n",
              "      <td>5</td>\n",
              "    </tr>\n",
              "  </tbody>\n",
              "</table>\n",
              "</div>"
            ],
            "text/plain": [
              "   item_id  size  quality cup size  ... shoe size shoe width  review_text ID\n",
              "0   123373     7        5        d  ...   Unknown    Unknown      Unlnown  0\n",
              "1   123373    13        3        b  ...   Unknown    Unknown      Unlnown  1\n",
              "2   123373     7        2        b  ...       9.0    Unknown      Unlnown  2\n",
              "4   123373    18        5        b  ...   Unknown    Unknown      Unlnown  4\n",
              "5   123373    11        5        c  ...   Unknown    Unknown      Unlnown  5\n",
              "\n",
              "[5 rows x 15 columns]"
            ]
          },
          "metadata": {
            "tags": []
          },
          "execution_count": 93
        }
      ]
    },
    {
      "cell_type": "code",
      "metadata": {
        "id": "qu9vRVnyudjQ"
      },
      "source": [
        "df.drop(['user_id', 'ID', 'user_name'], axis=1, inplace=True)"
      ],
      "execution_count": 94,
      "outputs": []
    },
    {
      "cell_type": "markdown",
      "metadata": {
        "id": "QyigYbpMHr3V"
      },
      "source": [
        "## Модели"
      ]
    },
    {
      "cell_type": "code",
      "metadata": {
        "colab": {
          "base_uri": "https://localhost:8080/"
        },
        "id": "Ue4iB3kLvTUX",
        "outputId": "7f4eaa2a-c3bc-4290-dfb9-66522eb633f9"
      },
      "source": [
        "df.info()"
      ],
      "execution_count": 95,
      "outputs": [
        {
          "output_type": "stream",
          "text": [
            "<class 'pandas.core.frame.DataFrame'>\n",
            "Int64Index: 75654 entries, 0 to 82789\n",
            "Data columns (total 12 columns):\n",
            " #   Column       Non-Null Count  Dtype   \n",
            "---  ------       --------------  -----   \n",
            " 0   item_id      75654 non-null  int64   \n",
            " 1   size         75654 non-null  int64   \n",
            " 2   quality      75654 non-null  int64   \n",
            " 3   cup size     75654 non-null  category\n",
            " 4   bra size     75654 non-null  category\n",
            " 5   category     75654 non-null  category\n",
            " 6   height       75654 non-null  float64 \n",
            " 7   length       75654 non-null  category\n",
            " 8   fit          75654 non-null  object  \n",
            " 9   shoe size    75654 non-null  object  \n",
            " 10  shoe width   75654 non-null  category\n",
            " 11  review_text  75654 non-null  object  \n",
            "dtypes: category(5), float64(1), int64(3), object(3)\n",
            "memory usage: 5.0+ MB\n"
          ],
          "name": "stdout"
        }
      ]
    },
    {
      "cell_type": "code",
      "metadata": {
        "colab": {
          "base_uri": "https://localhost:8080/"
        },
        "id": "aZbbP3vnwhCm",
        "outputId": "5998cff7-cef2-4a24-93c2-c81fa94372e6"
      },
      "source": [
        "cat_feats = df.select_dtypes('category').columns.tolist() + ['shoe size']\n",
        "cat_feats"
      ],
      "execution_count": 96,
      "outputs": [
        {
          "output_type": "execute_result",
          "data": {
            "text/plain": [
              "['cup size', 'bra size', 'category', 'length', 'shoe width', 'shoe size']"
            ]
          },
          "metadata": {
            "tags": []
          },
          "execution_count": 96
        }
      ]
    },
    {
      "cell_type": "code",
      "metadata": {
        "id": "MnmysQ98vj1m"
      },
      "source": [
        "text_feats = ['review_text']"
      ],
      "execution_count": 97,
      "outputs": []
    },
    {
      "cell_type": "code",
      "metadata": {
        "colab": {
          "base_uri": "https://localhost:8080/"
        },
        "id": "2s8B_q3UC10B",
        "outputId": "339f05ae-c941-4bfc-fe6e-f0246ad0488e"
      },
      "source": [
        "num_feats = [i for i in df.columns if i not in cat_feats+['review_text', 'fit']]\n",
        "num_feats"
      ],
      "execution_count": 133,
      "outputs": [
        {
          "output_type": "execute_result",
          "data": {
            "text/plain": [
              "['item_id', 'size', 'quality', 'height']"
            ]
          },
          "metadata": {
            "tags": []
          },
          "execution_count": 133
        }
      ]
    },
    {
      "cell_type": "code",
      "metadata": {
        "id": "So-XV71Hvgkw"
      },
      "source": [
        "X_train, X_test, y_train, y_test = train_test_split(df.drop('fit', axis=1), df['fit'], test_size=0.2, shuffle=True)"
      ],
      "execution_count": 98,
      "outputs": []
    },
    {
      "cell_type": "code",
      "metadata": {
        "colab": {
          "base_uri": "https://localhost:8080/",
          "height": 407
        },
        "id": "xI4B1bnYzbip",
        "outputId": "c3fd2fcc-acc2-40a0-f4ec-acd7182fd683"
      },
      "source": [
        "df"
      ],
      "execution_count": 99,
      "outputs": [
        {
          "output_type": "execute_result",
          "data": {
            "text/html": [
              "<div>\n",
              "<style scoped>\n",
              "    .dataframe tbody tr th:only-of-type {\n",
              "        vertical-align: middle;\n",
              "    }\n",
              "\n",
              "    .dataframe tbody tr th {\n",
              "        vertical-align: top;\n",
              "    }\n",
              "\n",
              "    .dataframe thead th {\n",
              "        text-align: right;\n",
              "    }\n",
              "</style>\n",
              "<table border=\"1\" class=\"dataframe\">\n",
              "  <thead>\n",
              "    <tr style=\"text-align: right;\">\n",
              "      <th></th>\n",
              "      <th>item_id</th>\n",
              "      <th>size</th>\n",
              "      <th>quality</th>\n",
              "      <th>cup size</th>\n",
              "      <th>bra size</th>\n",
              "      <th>category</th>\n",
              "      <th>height</th>\n",
              "      <th>length</th>\n",
              "      <th>fit</th>\n",
              "      <th>shoe size</th>\n",
              "      <th>shoe width</th>\n",
              "      <th>review_text</th>\n",
              "    </tr>\n",
              "  </thead>\n",
              "  <tbody>\n",
              "    <tr>\n",
              "      <th>0</th>\n",
              "      <td>123373</td>\n",
              "      <td>7</td>\n",
              "      <td>5</td>\n",
              "      <td>d</td>\n",
              "      <td>34</td>\n",
              "      <td>new</td>\n",
              "      <td>167.64</td>\n",
              "      <td>just right</td>\n",
              "      <td>small</td>\n",
              "      <td>Unknown</td>\n",
              "      <td>Unknown</td>\n",
              "      <td>Unlnown</td>\n",
              "    </tr>\n",
              "    <tr>\n",
              "      <th>1</th>\n",
              "      <td>123373</td>\n",
              "      <td>13</td>\n",
              "      <td>3</td>\n",
              "      <td>b</td>\n",
              "      <td>36</td>\n",
              "      <td>new</td>\n",
              "      <td>157.48</td>\n",
              "      <td>just right</td>\n",
              "      <td>small</td>\n",
              "      <td>Unknown</td>\n",
              "      <td>Unknown</td>\n",
              "      <td>Unlnown</td>\n",
              "    </tr>\n",
              "    <tr>\n",
              "      <th>2</th>\n",
              "      <td>123373</td>\n",
              "      <td>7</td>\n",
              "      <td>2</td>\n",
              "      <td>b</td>\n",
              "      <td>32</td>\n",
              "      <td>new</td>\n",
              "      <td>170.18</td>\n",
              "      <td>slightly long</td>\n",
              "      <td>small</td>\n",
              "      <td>9.0</td>\n",
              "      <td>Unknown</td>\n",
              "      <td>Unlnown</td>\n",
              "    </tr>\n",
              "    <tr>\n",
              "      <th>4</th>\n",
              "      <td>123373</td>\n",
              "      <td>18</td>\n",
              "      <td>5</td>\n",
              "      <td>b</td>\n",
              "      <td>36</td>\n",
              "      <td>new</td>\n",
              "      <td>157.48</td>\n",
              "      <td>slightly long</td>\n",
              "      <td>small</td>\n",
              "      <td>Unknown</td>\n",
              "      <td>Unknown</td>\n",
              "      <td>Unlnown</td>\n",
              "    </tr>\n",
              "    <tr>\n",
              "      <th>5</th>\n",
              "      <td>123373</td>\n",
              "      <td>11</td>\n",
              "      <td>5</td>\n",
              "      <td>c</td>\n",
              "      <td>36</td>\n",
              "      <td>new</td>\n",
              "      <td>162.56</td>\n",
              "      <td>just right</td>\n",
              "      <td>small</td>\n",
              "      <td>Unknown</td>\n",
              "      <td>Unknown</td>\n",
              "      <td>Unlnown</td>\n",
              "    </tr>\n",
              "    <tr>\n",
              "      <th>...</th>\n",
              "      <td>...</td>\n",
              "      <td>...</td>\n",
              "      <td>...</td>\n",
              "      <td>...</td>\n",
              "      <td>...</td>\n",
              "      <td>...</td>\n",
              "      <td>...</td>\n",
              "      <td>...</td>\n",
              "      <td>...</td>\n",
              "      <td>...</td>\n",
              "      <td>...</td>\n",
              "      <td>...</td>\n",
              "    </tr>\n",
              "    <tr>\n",
              "      <th>82784</th>\n",
              "      <td>807722</td>\n",
              "      <td>4</td>\n",
              "      <td>3</td>\n",
              "      <td>a</td>\n",
              "      <td>32</td>\n",
              "      <td>outerwear</td>\n",
              "      <td>154.94</td>\n",
              "      <td>just right</td>\n",
              "      <td>large</td>\n",
              "      <td>6.5</td>\n",
              "      <td>average</td>\n",
              "      <td>It ran a little big, and I'm not crazy about t...</td>\n",
              "    </tr>\n",
              "    <tr>\n",
              "      <th>82785</th>\n",
              "      <td>807722</td>\n",
              "      <td>8</td>\n",
              "      <td>4</td>\n",
              "      <td>b</td>\n",
              "      <td>36</td>\n",
              "      <td>outerwear</td>\n",
              "      <td>172.72</td>\n",
              "      <td>just right</td>\n",
              "      <td>fit</td>\n",
              "      <td>8.5</td>\n",
              "      <td>average</td>\n",
              "      <td>Cute jacket!</td>\n",
              "    </tr>\n",
              "    <tr>\n",
              "      <th>82786</th>\n",
              "      <td>807722</td>\n",
              "      <td>12</td>\n",
              "      <td>5</td>\n",
              "      <td>ddd/f</td>\n",
              "      <td>34</td>\n",
              "      <td>outerwear</td>\n",
              "      <td>165.10</td>\n",
              "      <td>slightly long</td>\n",
              "      <td>small</td>\n",
              "      <td>Unknown</td>\n",
              "      <td>Unknown</td>\n",
              "      <td>It's a beautiful jacket. I love how it's knit ...</td>\n",
              "    </tr>\n",
              "    <tr>\n",
              "      <th>82787</th>\n",
              "      <td>807722</td>\n",
              "      <td>12</td>\n",
              "      <td>5</td>\n",
              "      <td>dddd/g</td>\n",
              "      <td>32</td>\n",
              "      <td>outerwear</td>\n",
              "      <td>162.56</td>\n",
              "      <td>just right</td>\n",
              "      <td>fit</td>\n",
              "      <td>Unknown</td>\n",
              "      <td>Unknown</td>\n",
              "      <td>I love this blazer. It is a great office piece...</td>\n",
              "    </tr>\n",
              "    <tr>\n",
              "      <th>82789</th>\n",
              "      <td>807722</td>\n",
              "      <td>4</td>\n",
              "      <td>4</td>\n",
              "      <td>d</td>\n",
              "      <td>32</td>\n",
              "      <td>outerwear</td>\n",
              "      <td>182.88</td>\n",
              "      <td>just right</td>\n",
              "      <td>fit</td>\n",
              "      <td>Unknown</td>\n",
              "      <td>Unknown</td>\n",
              "      <td>I love this piece. I'm really happy with it!</td>\n",
              "    </tr>\n",
              "  </tbody>\n",
              "</table>\n",
              "<p>75654 rows × 12 columns</p>\n",
              "</div>"
            ],
            "text/plain": [
              "       item_id  ...                                        review_text\n",
              "0       123373  ...                                            Unlnown\n",
              "1       123373  ...                                            Unlnown\n",
              "2       123373  ...                                            Unlnown\n",
              "4       123373  ...                                            Unlnown\n",
              "5       123373  ...                                            Unlnown\n",
              "...        ...  ...                                                ...\n",
              "82784   807722  ...  It ran a little big, and I'm not crazy about t...\n",
              "82785   807722  ...                                       Cute jacket!\n",
              "82786   807722  ...  It's a beautiful jacket. I love how it's knit ...\n",
              "82787   807722  ...  I love this blazer. It is a great office piece...\n",
              "82789   807722  ...       I love this piece. I'm really happy with it!\n",
              "\n",
              "[75654 rows x 12 columns]"
            ]
          },
          "metadata": {
            "tags": []
          },
          "execution_count": 99
        }
      ]
    },
    {
      "cell_type": "markdown",
      "metadata": {
        "id": "HxswDd4mLgrh"
      },
      "source": [
        "Данные без текстовых отзывов"
      ]
    },
    {
      "cell_type": "code",
      "metadata": {
        "colab": {
          "base_uri": "https://localhost:8080/"
        },
        "id": "4qGO94KzLXBM",
        "outputId": "9b6be2e1-75e8-4b69-87ae-8c1679d871b8"
      },
      "source": [
        "model = CatBoostClassifier(eval_metric='AUC')\n",
        "\n",
        "model.fit(X_train.drop('review_text', axis=1), y_train, eval_set=(X_test.drop('review_text', axis=1), y_test), cat_features=cat_feats)"
      ],
      "execution_count": 139,
      "outputs": [
        {
          "output_type": "stream",
          "text": [
            "Learning rate set to 0.11721\n",
            "0:\ttest: 0.6906540\tbest: 0.6906540 (0)\ttotal: 385ms\tremaining: 6m 24s\n",
            "1:\ttest: 0.6882600\tbest: 0.6906540 (0)\ttotal: 588ms\tremaining: 4m 53s\n",
            "2:\ttest: 0.6972564\tbest: 0.6972564 (2)\ttotal: 912ms\tremaining: 5m 3s\n",
            "3:\ttest: 0.7006924\tbest: 0.7006924 (3)\ttotal: 1.2s\tremaining: 4m 58s\n",
            "4:\ttest: 0.7012558\tbest: 0.7012558 (4)\ttotal: 1.4s\tremaining: 4m 38s\n",
            "5:\ttest: 0.7022064\tbest: 0.7022064 (5)\ttotal: 1.64s\tremaining: 4m 31s\n",
            "6:\ttest: 0.7039407\tbest: 0.7039407 (6)\ttotal: 1.89s\tremaining: 4m 27s\n",
            "7:\ttest: 0.7063131\tbest: 0.7063131 (7)\ttotal: 2.17s\tremaining: 4m 28s\n",
            "8:\ttest: 0.7087607\tbest: 0.7087607 (8)\ttotal: 2.46s\tremaining: 4m 30s\n",
            "9:\ttest: 0.7102713\tbest: 0.7102713 (9)\ttotal: 2.72s\tremaining: 4m 28s\n",
            "10:\ttest: 0.7107071\tbest: 0.7107071 (10)\ttotal: 3.02s\tremaining: 4m 31s\n",
            "11:\ttest: 0.7117330\tbest: 0.7117330 (11)\ttotal: 3.23s\tremaining: 4m 26s\n",
            "12:\ttest: 0.7122419\tbest: 0.7122419 (12)\ttotal: 3.49s\tremaining: 4m 24s\n",
            "13:\ttest: 0.7137537\tbest: 0.7137537 (13)\ttotal: 3.78s\tremaining: 4m 26s\n",
            "14:\ttest: 0.7140919\tbest: 0.7140919 (14)\ttotal: 4.05s\tremaining: 4m 26s\n",
            "15:\ttest: 0.7151722\tbest: 0.7151722 (15)\ttotal: 4.33s\tremaining: 4m 26s\n",
            "16:\ttest: 0.7151452\tbest: 0.7151722 (15)\ttotal: 4.5s\tremaining: 4m 20s\n",
            "17:\ttest: 0.7158945\tbest: 0.7158945 (17)\ttotal: 4.8s\tremaining: 4m 21s\n",
            "18:\ttest: 0.7173126\tbest: 0.7173126 (18)\ttotal: 5.18s\tremaining: 4m 27s\n",
            "19:\ttest: 0.7184693\tbest: 0.7184693 (19)\ttotal: 5.47s\tremaining: 4m 27s\n",
            "20:\ttest: 0.7196568\tbest: 0.7196568 (20)\ttotal: 5.81s\tremaining: 4m 30s\n",
            "21:\ttest: 0.7207335\tbest: 0.7207335 (21)\ttotal: 6.09s\tremaining: 4m 30s\n",
            "22:\ttest: 0.7213553\tbest: 0.7213553 (22)\ttotal: 6.43s\tremaining: 4m 33s\n",
            "23:\ttest: 0.7227665\tbest: 0.7227665 (23)\ttotal: 6.72s\tremaining: 4m 33s\n",
            "24:\ttest: 0.7238574\tbest: 0.7238574 (24)\ttotal: 7.05s\tremaining: 4m 34s\n",
            "25:\ttest: 0.7255082\tbest: 0.7255082 (25)\ttotal: 7.36s\tremaining: 4m 35s\n",
            "26:\ttest: 0.7261311\tbest: 0.7261311 (26)\ttotal: 7.69s\tremaining: 4m 37s\n",
            "27:\ttest: 0.7264352\tbest: 0.7264352 (27)\ttotal: 7.98s\tremaining: 4m 36s\n",
            "28:\ttest: 0.7271139\tbest: 0.7271139 (28)\ttotal: 8.33s\tremaining: 4m 38s\n",
            "29:\ttest: 0.7278546\tbest: 0.7278546 (29)\ttotal: 8.67s\tremaining: 4m 40s\n",
            "30:\ttest: 0.7280585\tbest: 0.7280585 (30)\ttotal: 8.93s\tremaining: 4m 39s\n",
            "31:\ttest: 0.7285245\tbest: 0.7285245 (31)\ttotal: 9.24s\tremaining: 4m 39s\n",
            "32:\ttest: 0.7289641\tbest: 0.7289641 (32)\ttotal: 9.59s\tremaining: 4m 40s\n",
            "33:\ttest: 0.7299891\tbest: 0.7299891 (33)\ttotal: 9.94s\tremaining: 4m 42s\n",
            "34:\ttest: 0.7301594\tbest: 0.7301594 (34)\ttotal: 10.3s\tremaining: 4m 43s\n",
            "35:\ttest: 0.7301855\tbest: 0.7301855 (35)\ttotal: 10.6s\tremaining: 4m 44s\n",
            "36:\ttest: 0.7302928\tbest: 0.7302928 (36)\ttotal: 10.9s\tremaining: 4m 42s\n",
            "37:\ttest: 0.7304740\tbest: 0.7304740 (37)\ttotal: 11.2s\tremaining: 4m 42s\n",
            "38:\ttest: 0.7306176\tbest: 0.7306176 (38)\ttotal: 11.4s\tremaining: 4m 41s\n",
            "39:\ttest: 0.7315643\tbest: 0.7315643 (39)\ttotal: 11.7s\tremaining: 4m 41s\n",
            "40:\ttest: 0.7317359\tbest: 0.7317359 (40)\ttotal: 12s\tremaining: 4m 41s\n",
            "41:\ttest: 0.7332978\tbest: 0.7332978 (41)\ttotal: 12.4s\tremaining: 4m 41s\n",
            "42:\ttest: 0.7336180\tbest: 0.7336180 (42)\ttotal: 12.7s\tremaining: 4m 42s\n",
            "43:\ttest: 0.7339916\tbest: 0.7339916 (43)\ttotal: 13s\tremaining: 4m 41s\n",
            "44:\ttest: 0.7341082\tbest: 0.7341082 (44)\ttotal: 13.3s\tremaining: 4m 41s\n",
            "45:\ttest: 0.7349730\tbest: 0.7349730 (45)\ttotal: 13.6s\tremaining: 4m 42s\n",
            "46:\ttest: 0.7355783\tbest: 0.7355783 (46)\ttotal: 14s\tremaining: 4m 43s\n",
            "47:\ttest: 0.7357060\tbest: 0.7357060 (47)\ttotal: 14.3s\tremaining: 4m 43s\n",
            "48:\ttest: 0.7361625\tbest: 0.7361625 (48)\ttotal: 14.6s\tremaining: 4m 43s\n",
            "49:\ttest: 0.7366006\tbest: 0.7366006 (49)\ttotal: 14.8s\tremaining: 4m 41s\n",
            "50:\ttest: 0.7368794\tbest: 0.7368794 (50)\ttotal: 15.1s\tremaining: 4m 41s\n",
            "51:\ttest: 0.7371796\tbest: 0.7371796 (51)\ttotal: 15.5s\tremaining: 4m 43s\n",
            "52:\ttest: 0.7373780\tbest: 0.7373780 (52)\ttotal: 15.8s\tremaining: 4m 42s\n",
            "53:\ttest: 0.7374726\tbest: 0.7374726 (53)\ttotal: 16.2s\tremaining: 4m 43s\n",
            "54:\ttest: 0.7376821\tbest: 0.7376821 (54)\ttotal: 16.5s\tremaining: 4m 44s\n",
            "55:\ttest: 0.7382813\tbest: 0.7382813 (55)\ttotal: 16.8s\tremaining: 4m 43s\n",
            "56:\ttest: 0.7385731\tbest: 0.7385731 (56)\ttotal: 17.1s\tremaining: 4m 43s\n",
            "57:\ttest: 0.7386328\tbest: 0.7386328 (57)\ttotal: 17.5s\tremaining: 4m 43s\n",
            "58:\ttest: 0.7386428\tbest: 0.7386428 (58)\ttotal: 17.8s\tremaining: 4m 44s\n",
            "59:\ttest: 0.7387178\tbest: 0.7387178 (59)\ttotal: 18.1s\tremaining: 4m 43s\n",
            "60:\ttest: 0.7388123\tbest: 0.7388123 (60)\ttotal: 18.4s\tremaining: 4m 43s\n",
            "61:\ttest: 0.7390343\tbest: 0.7390343 (61)\ttotal: 18.6s\tremaining: 4m 41s\n",
            "62:\ttest: 0.7391374\tbest: 0.7391374 (62)\ttotal: 18.9s\tremaining: 4m 41s\n",
            "63:\ttest: 0.7391531\tbest: 0.7391531 (63)\ttotal: 19.2s\tremaining: 4m 40s\n",
            "64:\ttest: 0.7391343\tbest: 0.7391531 (63)\ttotal: 19.4s\tremaining: 4m 39s\n",
            "65:\ttest: 0.7395498\tbest: 0.7395498 (65)\ttotal: 19.7s\tremaining: 4m 39s\n",
            "66:\ttest: 0.7396373\tbest: 0.7396373 (66)\ttotal: 20s\tremaining: 4m 38s\n",
            "67:\ttest: 0.7396820\tbest: 0.7396820 (67)\ttotal: 20.2s\tremaining: 4m 37s\n",
            "68:\ttest: 0.7398006\tbest: 0.7398006 (68)\ttotal: 20.3s\tremaining: 4m 34s\n",
            "69:\ttest: 0.7398843\tbest: 0.7398843 (69)\ttotal: 20.6s\tremaining: 4m 34s\n",
            "70:\ttest: 0.7398410\tbest: 0.7398843 (69)\ttotal: 21s\tremaining: 4m 34s\n",
            "71:\ttest: 0.7399625\tbest: 0.7399625 (71)\ttotal: 21.2s\tremaining: 4m 33s\n",
            "72:\ttest: 0.7401531\tbest: 0.7401531 (72)\ttotal: 21.5s\tremaining: 4m 33s\n",
            "73:\ttest: 0.7401553\tbest: 0.7401553 (73)\ttotal: 21.8s\tremaining: 4m 33s\n",
            "74:\ttest: 0.7401437\tbest: 0.7401553 (73)\ttotal: 22.1s\tremaining: 4m 32s\n",
            "75:\ttest: 0.7404156\tbest: 0.7404156 (75)\ttotal: 22.4s\tremaining: 4m 32s\n",
            "76:\ttest: 0.7403402\tbest: 0.7404156 (75)\ttotal: 22.7s\tremaining: 4m 32s\n",
            "77:\ttest: 0.7403273\tbest: 0.7404156 (75)\ttotal: 23s\tremaining: 4m 32s\n",
            "78:\ttest: 0.7403624\tbest: 0.7404156 (75)\ttotal: 23.4s\tremaining: 4m 32s\n",
            "79:\ttest: 0.7405323\tbest: 0.7405323 (79)\ttotal: 23.7s\tremaining: 4m 32s\n",
            "80:\ttest: 0.7405632\tbest: 0.7405632 (80)\ttotal: 23.9s\tremaining: 4m 31s\n",
            "81:\ttest: 0.7406005\tbest: 0.7406005 (81)\ttotal: 24.2s\tremaining: 4m 30s\n",
            "82:\ttest: 0.7405926\tbest: 0.7406005 (81)\ttotal: 24.4s\tremaining: 4m 29s\n",
            "83:\ttest: 0.7406923\tbest: 0.7406923 (83)\ttotal: 24.8s\tremaining: 4m 30s\n",
            "84:\ttest: 0.7408323\tbest: 0.7408323 (84)\ttotal: 25s\tremaining: 4m 29s\n",
            "85:\ttest: 0.7409154\tbest: 0.7409154 (85)\ttotal: 25.3s\tremaining: 4m 29s\n",
            "86:\ttest: 0.7409701\tbest: 0.7409701 (86)\ttotal: 25.6s\tremaining: 4m 28s\n",
            "87:\ttest: 0.7410772\tbest: 0.7410772 (87)\ttotal: 25.8s\tremaining: 4m 27s\n",
            "88:\ttest: 0.7417811\tbest: 0.7417811 (88)\ttotal: 26.2s\tremaining: 4m 28s\n",
            "89:\ttest: 0.7418735\tbest: 0.7418735 (89)\ttotal: 26.4s\tremaining: 4m 27s\n",
            "90:\ttest: 0.7425108\tbest: 0.7425108 (90)\ttotal: 26.7s\tremaining: 4m 27s\n",
            "91:\ttest: 0.7432887\tbest: 0.7432887 (91)\ttotal: 27s\tremaining: 4m 26s\n",
            "92:\ttest: 0.7432945\tbest: 0.7432945 (92)\ttotal: 27.3s\tremaining: 4m 26s\n",
            "93:\ttest: 0.7432917\tbest: 0.7432945 (92)\ttotal: 27.7s\tremaining: 4m 26s\n",
            "94:\ttest: 0.7436344\tbest: 0.7436344 (94)\ttotal: 28.1s\tremaining: 4m 27s\n",
            "95:\ttest: 0.7436263\tbest: 0.7436344 (94)\ttotal: 28.4s\tremaining: 4m 27s\n",
            "96:\ttest: 0.7436419\tbest: 0.7436419 (96)\ttotal: 28.6s\tremaining: 4m 26s\n",
            "97:\ttest: 0.7441339\tbest: 0.7441339 (97)\ttotal: 28.9s\tremaining: 4m 26s\n",
            "98:\ttest: 0.7441441\tbest: 0.7441441 (98)\ttotal: 29.2s\tremaining: 4m 25s\n",
            "99:\ttest: 0.7443221\tbest: 0.7443221 (99)\ttotal: 29.5s\tremaining: 4m 25s\n",
            "100:\ttest: 0.7446614\tbest: 0.7446614 (100)\ttotal: 29.8s\tremaining: 4m 25s\n",
            "101:\ttest: 0.7453356\tbest: 0.7453356 (101)\ttotal: 30.1s\tremaining: 4m 25s\n",
            "102:\ttest: 0.7458062\tbest: 0.7458062 (102)\ttotal: 30.5s\tremaining: 4m 25s\n",
            "103:\ttest: 0.7460824\tbest: 0.7460824 (103)\ttotal: 30.8s\tremaining: 4m 25s\n",
            "104:\ttest: 0.7463473\tbest: 0.7463473 (104)\ttotal: 31.1s\tremaining: 4m 24s\n",
            "105:\ttest: 0.7464948\tbest: 0.7464948 (105)\ttotal: 31.4s\tremaining: 4m 25s\n",
            "106:\ttest: 0.7473461\tbest: 0.7473461 (106)\ttotal: 31.8s\tremaining: 4m 25s\n",
            "107:\ttest: 0.7477011\tbest: 0.7477011 (107)\ttotal: 32.2s\tremaining: 4m 25s\n",
            "108:\ttest: 0.7480069\tbest: 0.7480069 (108)\ttotal: 32.5s\tremaining: 4m 25s\n",
            "109:\ttest: 0.7480657\tbest: 0.7480657 (109)\ttotal: 32.8s\tremaining: 4m 25s\n",
            "110:\ttest: 0.7487790\tbest: 0.7487790 (110)\ttotal: 33.1s\tremaining: 4m 25s\n",
            "111:\ttest: 0.7497385\tbest: 0.7497385 (111)\ttotal: 33.5s\tremaining: 4m 25s\n",
            "112:\ttest: 0.7500571\tbest: 0.7500571 (112)\ttotal: 33.8s\tremaining: 4m 25s\n",
            "113:\ttest: 0.7500731\tbest: 0.7500731 (113)\ttotal: 34.1s\tremaining: 4m 24s\n",
            "114:\ttest: 0.7501464\tbest: 0.7501464 (114)\ttotal: 34.4s\tremaining: 4m 24s\n",
            "115:\ttest: 0.7502905\tbest: 0.7502905 (115)\ttotal: 34.7s\tremaining: 4m 24s\n",
            "116:\ttest: 0.7503857\tbest: 0.7503857 (116)\ttotal: 35s\tremaining: 4m 24s\n",
            "117:\ttest: 0.7505188\tbest: 0.7505188 (117)\ttotal: 35.3s\tremaining: 4m 23s\n",
            "118:\ttest: 0.7505045\tbest: 0.7505188 (117)\ttotal: 35.6s\tremaining: 4m 23s\n",
            "119:\ttest: 0.7505806\tbest: 0.7505806 (119)\ttotal: 35.9s\tremaining: 4m 23s\n",
            "120:\ttest: 0.7506393\tbest: 0.7506393 (120)\ttotal: 36.3s\tremaining: 4m 23s\n",
            "121:\ttest: 0.7510288\tbest: 0.7510288 (121)\ttotal: 36.6s\tremaining: 4m 23s\n",
            "122:\ttest: 0.7514246\tbest: 0.7514246 (122)\ttotal: 36.9s\tremaining: 4m 23s\n",
            "123:\ttest: 0.7513991\tbest: 0.7514246 (122)\ttotal: 37.2s\tremaining: 4m 22s\n",
            "124:\ttest: 0.7515022\tbest: 0.7515022 (124)\ttotal: 37.5s\tremaining: 4m 22s\n",
            "125:\ttest: 0.7521304\tbest: 0.7521304 (125)\ttotal: 37.9s\tremaining: 4m 22s\n",
            "126:\ttest: 0.7520837\tbest: 0.7521304 (125)\ttotal: 38.2s\tremaining: 4m 22s\n",
            "127:\ttest: 0.7520674\tbest: 0.7521304 (125)\ttotal: 38.6s\tremaining: 4m 22s\n",
            "128:\ttest: 0.7520358\tbest: 0.7521304 (125)\ttotal: 39s\tremaining: 4m 23s\n",
            "129:\ttest: 0.7520406\tbest: 0.7521304 (125)\ttotal: 39.3s\tremaining: 4m 22s\n",
            "130:\ttest: 0.7523535\tbest: 0.7523535 (130)\ttotal: 39.6s\tremaining: 4m 22s\n",
            "131:\ttest: 0.7523326\tbest: 0.7523535 (130)\ttotal: 39.9s\tremaining: 4m 22s\n",
            "132:\ttest: 0.7527374\tbest: 0.7527374 (132)\ttotal: 40.2s\tremaining: 4m 22s\n",
            "133:\ttest: 0.7529395\tbest: 0.7529395 (133)\ttotal: 40.6s\tremaining: 4m 22s\n",
            "134:\ttest: 0.7530022\tbest: 0.7530022 (134)\ttotal: 40.8s\tremaining: 4m 21s\n",
            "135:\ttest: 0.7533847\tbest: 0.7533847 (135)\ttotal: 41.1s\tremaining: 4m 21s\n",
            "136:\ttest: 0.7533843\tbest: 0.7533847 (135)\ttotal: 41.4s\tremaining: 4m 20s\n",
            "137:\ttest: 0.7534203\tbest: 0.7534203 (137)\ttotal: 41.7s\tremaining: 4m 20s\n",
            "138:\ttest: 0.7539942\tbest: 0.7539942 (138)\ttotal: 42s\tremaining: 4m 20s\n",
            "139:\ttest: 0.7541032\tbest: 0.7541032 (139)\ttotal: 42.4s\tremaining: 4m 20s\n",
            "140:\ttest: 0.7541375\tbest: 0.7541375 (140)\ttotal: 42.7s\tremaining: 4m 20s\n",
            "141:\ttest: 0.7543523\tbest: 0.7543523 (141)\ttotal: 43.1s\tremaining: 4m 20s\n",
            "142:\ttest: 0.7547238\tbest: 0.7547238 (142)\ttotal: 43.4s\tremaining: 4m 20s\n",
            "143:\ttest: 0.7547182\tbest: 0.7547238 (142)\ttotal: 43.7s\tremaining: 4m 19s\n",
            "144:\ttest: 0.7547608\tbest: 0.7547608 (144)\ttotal: 44s\tremaining: 4m 19s\n",
            "145:\ttest: 0.7548219\tbest: 0.7548219 (145)\ttotal: 44.3s\tremaining: 4m 19s\n",
            "146:\ttest: 0.7548519\tbest: 0.7548519 (146)\ttotal: 44.6s\tremaining: 4m 18s\n",
            "147:\ttest: 0.7549061\tbest: 0.7549061 (147)\ttotal: 44.9s\tremaining: 4m 18s\n",
            "148:\ttest: 0.7550255\tbest: 0.7550255 (148)\ttotal: 45.2s\tremaining: 4m 18s\n",
            "149:\ttest: 0.7550468\tbest: 0.7550468 (149)\ttotal: 45.6s\tremaining: 4m 18s\n",
            "150:\ttest: 0.7552345\tbest: 0.7552345 (150)\ttotal: 45.9s\tremaining: 4m 17s\n",
            "151:\ttest: 0.7551885\tbest: 0.7552345 (150)\ttotal: 46.2s\tremaining: 4m 17s\n",
            "152:\ttest: 0.7554161\tbest: 0.7554161 (152)\ttotal: 46.5s\tremaining: 4m 17s\n",
            "153:\ttest: 0.7560345\tbest: 0.7560345 (153)\ttotal: 46.8s\tremaining: 4m 17s\n",
            "154:\ttest: 0.7564992\tbest: 0.7564992 (154)\ttotal: 47.1s\tremaining: 4m 16s\n",
            "155:\ttest: 0.7568882\tbest: 0.7568882 (155)\ttotal: 47.5s\tremaining: 4m 16s\n",
            "156:\ttest: 0.7569778\tbest: 0.7569778 (156)\ttotal: 47.9s\tremaining: 4m 17s\n",
            "157:\ttest: 0.7569668\tbest: 0.7569778 (156)\ttotal: 48.2s\tremaining: 4m 17s\n",
            "158:\ttest: 0.7572026\tbest: 0.7572026 (158)\ttotal: 48.6s\tremaining: 4m 16s\n",
            "159:\ttest: 0.7577848\tbest: 0.7577848 (159)\ttotal: 48.9s\tremaining: 4m 16s\n",
            "160:\ttest: 0.7578028\tbest: 0.7578028 (160)\ttotal: 49.2s\tremaining: 4m 16s\n",
            "161:\ttest: 0.7578877\tbest: 0.7578877 (161)\ttotal: 49.5s\tremaining: 4m 16s\n",
            "162:\ttest: 0.7580042\tbest: 0.7580042 (162)\ttotal: 49.9s\tremaining: 4m 16s\n",
            "163:\ttest: 0.7583286\tbest: 0.7583286 (163)\ttotal: 50.3s\tremaining: 4m 16s\n",
            "164:\ttest: 0.7583501\tbest: 0.7583501 (164)\ttotal: 50.6s\tremaining: 4m 16s\n",
            "165:\ttest: 0.7583434\tbest: 0.7583501 (164)\ttotal: 50.9s\tremaining: 4m 15s\n",
            "166:\ttest: 0.7585493\tbest: 0.7585493 (166)\ttotal: 51.2s\tremaining: 4m 15s\n",
            "167:\ttest: 0.7585512\tbest: 0.7585512 (167)\ttotal: 51.5s\tremaining: 4m 15s\n",
            "168:\ttest: 0.7590309\tbest: 0.7590309 (168)\ttotal: 51.8s\tremaining: 4m 14s\n",
            "169:\ttest: 0.7590685\tbest: 0.7590685 (169)\ttotal: 52.2s\tremaining: 4m 14s\n",
            "170:\ttest: 0.7593743\tbest: 0.7593743 (170)\ttotal: 52.5s\tremaining: 4m 14s\n",
            "171:\ttest: 0.7595162\tbest: 0.7595162 (171)\ttotal: 52.8s\tremaining: 4m 14s\n",
            "172:\ttest: 0.7596161\tbest: 0.7596161 (172)\ttotal: 53.1s\tremaining: 4m 14s\n",
            "173:\ttest: 0.7596423\tbest: 0.7596423 (173)\ttotal: 53.4s\tremaining: 4m 13s\n",
            "174:\ttest: 0.7596818\tbest: 0.7596818 (174)\ttotal: 53.7s\tremaining: 4m 12s\n",
            "175:\ttest: 0.7601084\tbest: 0.7601084 (175)\ttotal: 54s\tremaining: 4m 12s\n",
            "176:\ttest: 0.7600584\tbest: 0.7601084 (175)\ttotal: 54.2s\tremaining: 4m 12s\n",
            "177:\ttest: 0.7600791\tbest: 0.7601084 (175)\ttotal: 54.5s\tremaining: 4m 11s\n",
            "178:\ttest: 0.7600607\tbest: 0.7601084 (175)\ttotal: 54.8s\tremaining: 4m 11s\n",
            "179:\ttest: 0.7600495\tbest: 0.7601084 (175)\ttotal: 55.1s\tremaining: 4m 11s\n",
            "180:\ttest: 0.7600656\tbest: 0.7601084 (175)\ttotal: 55.4s\tremaining: 4m 10s\n",
            "181:\ttest: 0.7601660\tbest: 0.7601660 (181)\ttotal: 55.7s\tremaining: 4m 10s\n",
            "182:\ttest: 0.7601752\tbest: 0.7601752 (182)\ttotal: 55.9s\tremaining: 4m 9s\n",
            "183:\ttest: 0.7602414\tbest: 0.7602414 (183)\ttotal: 56.2s\tremaining: 4m 9s\n",
            "184:\ttest: 0.7602512\tbest: 0.7602512 (184)\ttotal: 56.4s\tremaining: 4m 8s\n",
            "185:\ttest: 0.7602538\tbest: 0.7602538 (185)\ttotal: 56.7s\tremaining: 4m 8s\n",
            "186:\ttest: 0.7603163\tbest: 0.7603163 (186)\ttotal: 57s\tremaining: 4m 7s\n",
            "187:\ttest: 0.7606655\tbest: 0.7606655 (187)\ttotal: 57.3s\tremaining: 4m 7s\n",
            "188:\ttest: 0.7606721\tbest: 0.7606721 (188)\ttotal: 57.6s\tremaining: 4m 7s\n",
            "189:\ttest: 0.7606763\tbest: 0.7606763 (189)\ttotal: 57.9s\tremaining: 4m 6s\n",
            "190:\ttest: 0.7606359\tbest: 0.7606763 (189)\ttotal: 58.2s\tremaining: 4m 6s\n",
            "191:\ttest: 0.7607148\tbest: 0.7607148 (191)\ttotal: 58.5s\tremaining: 4m 6s\n",
            "192:\ttest: 0.7607271\tbest: 0.7607271 (192)\ttotal: 58.8s\tremaining: 4m 5s\n",
            "193:\ttest: 0.7610474\tbest: 0.7610474 (193)\ttotal: 59.1s\tremaining: 4m 5s\n",
            "194:\ttest: 0.7610771\tbest: 0.7610771 (194)\ttotal: 59.4s\tremaining: 4m 5s\n",
            "195:\ttest: 0.7611254\tbest: 0.7611254 (195)\ttotal: 59.7s\tremaining: 4m 4s\n",
            "196:\ttest: 0.7613530\tbest: 0.7613530 (196)\ttotal: 1m\tremaining: 4m 4s\n",
            "197:\ttest: 0.7614742\tbest: 0.7614742 (197)\ttotal: 1m\tremaining: 4m 4s\n",
            "198:\ttest: 0.7614657\tbest: 0.7614742 (197)\ttotal: 1m\tremaining: 4m 4s\n",
            "199:\ttest: 0.7615417\tbest: 0.7615417 (199)\ttotal: 1m\tremaining: 4m 3s\n",
            "200:\ttest: 0.7617970\tbest: 0.7617970 (200)\ttotal: 1m 1s\tremaining: 4m 3s\n",
            "201:\ttest: 0.7618535\tbest: 0.7618535 (201)\ttotal: 1m 1s\tremaining: 4m 3s\n",
            "202:\ttest: 0.7621769\tbest: 0.7621769 (202)\ttotal: 1m 1s\tremaining: 4m 3s\n",
            "203:\ttest: 0.7622696\tbest: 0.7622696 (203)\ttotal: 1m 2s\tremaining: 4m 3s\n",
            "204:\ttest: 0.7623106\tbest: 0.7623106 (204)\ttotal: 1m 2s\tremaining: 4m 2s\n",
            "205:\ttest: 0.7624062\tbest: 0.7624062 (205)\ttotal: 1m 2s\tremaining: 4m 2s\n",
            "206:\ttest: 0.7624280\tbest: 0.7624280 (206)\ttotal: 1m 3s\tremaining: 4m 2s\n",
            "207:\ttest: 0.7624092\tbest: 0.7624280 (206)\ttotal: 1m 3s\tremaining: 4m 1s\n",
            "208:\ttest: 0.7624067\tbest: 0.7624280 (206)\ttotal: 1m 3s\tremaining: 4m 1s\n",
            "209:\ttest: 0.7625730\tbest: 0.7625730 (209)\ttotal: 1m 4s\tremaining: 4m\n",
            "210:\ttest: 0.7626747\tbest: 0.7626747 (210)\ttotal: 1m 4s\tremaining: 4m\n",
            "211:\ttest: 0.7626719\tbest: 0.7626747 (210)\ttotal: 1m 4s\tremaining: 4m\n",
            "212:\ttest: 0.7628425\tbest: 0.7628425 (212)\ttotal: 1m 4s\tremaining: 4m\n",
            "213:\ttest: 0.7629606\tbest: 0.7629606 (213)\ttotal: 1m 5s\tremaining: 3m 59s\n",
            "214:\ttest: 0.7629495\tbest: 0.7629606 (213)\ttotal: 1m 5s\tremaining: 3m 59s\n",
            "215:\ttest: 0.7629838\tbest: 0.7629838 (215)\ttotal: 1m 5s\tremaining: 3m 58s\n",
            "216:\ttest: 0.7629909\tbest: 0.7629909 (216)\ttotal: 1m 6s\tremaining: 3m 58s\n",
            "217:\ttest: 0.7631283\tbest: 0.7631283 (217)\ttotal: 1m 6s\tremaining: 3m 58s\n",
            "218:\ttest: 0.7631695\tbest: 0.7631695 (218)\ttotal: 1m 6s\tremaining: 3m 58s\n",
            "219:\ttest: 0.7631613\tbest: 0.7631695 (218)\ttotal: 1m 7s\tremaining: 3m 57s\n",
            "220:\ttest: 0.7635165\tbest: 0.7635165 (220)\ttotal: 1m 7s\tremaining: 3m 57s\n",
            "221:\ttest: 0.7635583\tbest: 0.7635583 (221)\ttotal: 1m 7s\tremaining: 3m 57s\n",
            "222:\ttest: 0.7636495\tbest: 0.7636495 (222)\ttotal: 1m 7s\tremaining: 3m 56s\n",
            "223:\ttest: 0.7637788\tbest: 0.7637788 (223)\ttotal: 1m 8s\tremaining: 3m 56s\n",
            "224:\ttest: 0.7639473\tbest: 0.7639473 (224)\ttotal: 1m 8s\tremaining: 3m 56s\n",
            "225:\ttest: 0.7639326\tbest: 0.7639473 (224)\ttotal: 1m 8s\tremaining: 3m 55s\n",
            "226:\ttest: 0.7641359\tbest: 0.7641359 (226)\ttotal: 1m 9s\tremaining: 3m 55s\n",
            "227:\ttest: 0.7641265\tbest: 0.7641359 (226)\ttotal: 1m 9s\tremaining: 3m 55s\n",
            "228:\ttest: 0.7640877\tbest: 0.7641359 (226)\ttotal: 1m 9s\tremaining: 3m 54s\n",
            "229:\ttest: 0.7645019\tbest: 0.7645019 (229)\ttotal: 1m 10s\tremaining: 3m 54s\n",
            "230:\ttest: 0.7645738\tbest: 0.7645738 (230)\ttotal: 1m 10s\tremaining: 3m 54s\n",
            "231:\ttest: 0.7645795\tbest: 0.7645795 (231)\ttotal: 1m 10s\tremaining: 3m 54s\n",
            "232:\ttest: 0.7649128\tbest: 0.7649128 (232)\ttotal: 1m 11s\tremaining: 3m 54s\n",
            "233:\ttest: 0.7649288\tbest: 0.7649288 (233)\ttotal: 1m 11s\tremaining: 3m 53s\n",
            "234:\ttest: 0.7650116\tbest: 0.7650116 (234)\ttotal: 1m 11s\tremaining: 3m 53s\n",
            "235:\ttest: 0.7650301\tbest: 0.7650301 (235)\ttotal: 1m 12s\tremaining: 3m 53s\n",
            "236:\ttest: 0.7650245\tbest: 0.7650301 (235)\ttotal: 1m 12s\tremaining: 3m 52s\n",
            "237:\ttest: 0.7650366\tbest: 0.7650366 (237)\ttotal: 1m 12s\tremaining: 3m 52s\n",
            "238:\ttest: 0.7649993\tbest: 0.7650366 (237)\ttotal: 1m 12s\tremaining: 3m 52s\n",
            "239:\ttest: 0.7651204\tbest: 0.7651204 (239)\ttotal: 1m 13s\tremaining: 3m 51s\n",
            "240:\ttest: 0.7650831\tbest: 0.7651204 (239)\ttotal: 1m 13s\tremaining: 3m 51s\n",
            "241:\ttest: 0.7651225\tbest: 0.7651225 (241)\ttotal: 1m 13s\tremaining: 3m 51s\n",
            "242:\ttest: 0.7651444\tbest: 0.7651444 (242)\ttotal: 1m 14s\tremaining: 3m 50s\n",
            "243:\ttest: 0.7651439\tbest: 0.7651444 (242)\ttotal: 1m 14s\tremaining: 3m 50s\n",
            "244:\ttest: 0.7651791\tbest: 0.7651791 (244)\ttotal: 1m 14s\tremaining: 3m 50s\n",
            "245:\ttest: 0.7652161\tbest: 0.7652161 (245)\ttotal: 1m 15s\tremaining: 3m 49s\n",
            "246:\ttest: 0.7652583\tbest: 0.7652583 (246)\ttotal: 1m 15s\tremaining: 3m 49s\n",
            "247:\ttest: 0.7652589\tbest: 0.7652589 (247)\ttotal: 1m 15s\tremaining: 3m 49s\n",
            "248:\ttest: 0.7653022\tbest: 0.7653022 (248)\ttotal: 1m 15s\tremaining: 3m 49s\n",
            "249:\ttest: 0.7654082\tbest: 0.7654082 (249)\ttotal: 1m 16s\tremaining: 3m 48s\n",
            "250:\ttest: 0.7653631\tbest: 0.7654082 (249)\ttotal: 1m 16s\tremaining: 3m 48s\n",
            "251:\ttest: 0.7653706\tbest: 0.7654082 (249)\ttotal: 1m 16s\tremaining: 3m 48s\n",
            "252:\ttest: 0.7654181\tbest: 0.7654181 (252)\ttotal: 1m 17s\tremaining: 3m 47s\n",
            "253:\ttest: 0.7654138\tbest: 0.7654181 (252)\ttotal: 1m 17s\tremaining: 3m 47s\n",
            "254:\ttest: 0.7654622\tbest: 0.7654622 (254)\ttotal: 1m 17s\tremaining: 3m 47s\n",
            "255:\ttest: 0.7655255\tbest: 0.7655255 (255)\ttotal: 1m 18s\tremaining: 3m 46s\n",
            "256:\ttest: 0.7657612\tbest: 0.7657612 (256)\ttotal: 1m 18s\tremaining: 3m 46s\n",
            "257:\ttest: 0.7657421\tbest: 0.7657612 (256)\ttotal: 1m 18s\tremaining: 3m 46s\n",
            "258:\ttest: 0.7657557\tbest: 0.7657612 (256)\ttotal: 1m 19s\tremaining: 3m 46s\n",
            "259:\ttest: 0.7659486\tbest: 0.7659486 (259)\ttotal: 1m 19s\tremaining: 3m 45s\n",
            "260:\ttest: 0.7659973\tbest: 0.7659973 (260)\ttotal: 1m 19s\tremaining: 3m 45s\n",
            "261:\ttest: 0.7660165\tbest: 0.7660165 (261)\ttotal: 1m 19s\tremaining: 3m 45s\n",
            "262:\ttest: 0.7660183\tbest: 0.7660183 (262)\ttotal: 1m 20s\tremaining: 3m 44s\n",
            "263:\ttest: 0.7660439\tbest: 0.7660439 (263)\ttotal: 1m 20s\tremaining: 3m 44s\n",
            "264:\ttest: 0.7660206\tbest: 0.7660439 (263)\ttotal: 1m 20s\tremaining: 3m 44s\n",
            "265:\ttest: 0.7660091\tbest: 0.7660439 (263)\ttotal: 1m 21s\tremaining: 3m 43s\n",
            "266:\ttest: 0.7659793\tbest: 0.7660439 (263)\ttotal: 1m 21s\tremaining: 3m 43s\n",
            "267:\ttest: 0.7660168\tbest: 0.7660439 (263)\ttotal: 1m 21s\tremaining: 3m 42s\n",
            "268:\ttest: 0.7659309\tbest: 0.7660439 (263)\ttotal: 1m 21s\tremaining: 3m 42s\n",
            "269:\ttest: 0.7659580\tbest: 0.7660439 (263)\ttotal: 1m 22s\tremaining: 3m 41s\n",
            "270:\ttest: 0.7659688\tbest: 0.7660439 (263)\ttotal: 1m 22s\tremaining: 3m 41s\n",
            "271:\ttest: 0.7659717\tbest: 0.7660439 (263)\ttotal: 1m 22s\tremaining: 3m 41s\n",
            "272:\ttest: 0.7661794\tbest: 0.7661794 (272)\ttotal: 1m 22s\tremaining: 3m 40s\n",
            "273:\ttest: 0.7662257\tbest: 0.7662257 (273)\ttotal: 1m 23s\tremaining: 3m 40s\n",
            "274:\ttest: 0.7662727\tbest: 0.7662727 (274)\ttotal: 1m 23s\tremaining: 3m 40s\n",
            "275:\ttest: 0.7662915\tbest: 0.7662915 (275)\ttotal: 1m 23s\tremaining: 3m 40s\n",
            "276:\ttest: 0.7665885\tbest: 0.7665885 (276)\ttotal: 1m 24s\tremaining: 3m 39s\n",
            "277:\ttest: 0.7666031\tbest: 0.7666031 (277)\ttotal: 1m 24s\tremaining: 3m 39s\n",
            "278:\ttest: 0.7666266\tbest: 0.7666266 (278)\ttotal: 1m 24s\tremaining: 3m 39s\n",
            "279:\ttest: 0.7666122\tbest: 0.7666266 (278)\ttotal: 1m 25s\tremaining: 3m 39s\n",
            "280:\ttest: 0.7666037\tbest: 0.7666266 (278)\ttotal: 1m 25s\tremaining: 3m 38s\n",
            "281:\ttest: 0.7666281\tbest: 0.7666281 (281)\ttotal: 1m 25s\tremaining: 3m 38s\n",
            "282:\ttest: 0.7668587\tbest: 0.7668587 (282)\ttotal: 1m 26s\tremaining: 3m 38s\n",
            "283:\ttest: 0.7668558\tbest: 0.7668587 (282)\ttotal: 1m 26s\tremaining: 3m 38s\n",
            "284:\ttest: 0.7669677\tbest: 0.7669677 (284)\ttotal: 1m 26s\tremaining: 3m 37s\n",
            "285:\ttest: 0.7669942\tbest: 0.7669942 (285)\ttotal: 1m 27s\tremaining: 3m 37s\n",
            "286:\ttest: 0.7669962\tbest: 0.7669962 (286)\ttotal: 1m 27s\tremaining: 3m 37s\n",
            "287:\ttest: 0.7671283\tbest: 0.7671283 (287)\ttotal: 1m 27s\tremaining: 3m 36s\n",
            "288:\ttest: 0.7670527\tbest: 0.7671283 (287)\ttotal: 1m 28s\tremaining: 3m 36s\n",
            "289:\ttest: 0.7670420\tbest: 0.7671283 (287)\ttotal: 1m 28s\tremaining: 3m 36s\n",
            "290:\ttest: 0.7673121\tbest: 0.7673121 (290)\ttotal: 1m 28s\tremaining: 3m 36s\n",
            "291:\ttest: 0.7673084\tbest: 0.7673121 (290)\ttotal: 1m 28s\tremaining: 3m 35s\n",
            "292:\ttest: 0.7674734\tbest: 0.7674734 (292)\ttotal: 1m 29s\tremaining: 3m 35s\n",
            "293:\ttest: 0.7674805\tbest: 0.7674805 (293)\ttotal: 1m 29s\tremaining: 3m 34s\n",
            "294:\ttest: 0.7675275\tbest: 0.7675275 (294)\ttotal: 1m 29s\tremaining: 3m 34s\n",
            "295:\ttest: 0.7676086\tbest: 0.7676086 (295)\ttotal: 1m 30s\tremaining: 3m 34s\n",
            "296:\ttest: 0.7676550\tbest: 0.7676550 (296)\ttotal: 1m 30s\tremaining: 3m 34s\n",
            "297:\ttest: 0.7676620\tbest: 0.7676620 (297)\ttotal: 1m 30s\tremaining: 3m 33s\n",
            "298:\ttest: 0.7677841\tbest: 0.7677841 (298)\ttotal: 1m 31s\tremaining: 3m 33s\n",
            "299:\ttest: 0.7677840\tbest: 0.7677841 (298)\ttotal: 1m 31s\tremaining: 3m 33s\n",
            "300:\ttest: 0.7678239\tbest: 0.7678239 (300)\ttotal: 1m 31s\tremaining: 3m 32s\n",
            "301:\ttest: 0.7678237\tbest: 0.7678239 (300)\ttotal: 1m 31s\tremaining: 3m 32s\n",
            "302:\ttest: 0.7678232\tbest: 0.7678239 (300)\ttotal: 1m 32s\tremaining: 3m 32s\n",
            "303:\ttest: 0.7678157\tbest: 0.7678239 (300)\ttotal: 1m 32s\tremaining: 3m 31s\n",
            "304:\ttest: 0.7678206\tbest: 0.7678239 (300)\ttotal: 1m 32s\tremaining: 3m 31s\n",
            "305:\ttest: 0.7679579\tbest: 0.7679579 (305)\ttotal: 1m 33s\tremaining: 3m 31s\n",
            "306:\ttest: 0.7679742\tbest: 0.7679742 (306)\ttotal: 1m 33s\tremaining: 3m 30s\n",
            "307:\ttest: 0.7680867\tbest: 0.7680867 (307)\ttotal: 1m 33s\tremaining: 3m 30s\n",
            "308:\ttest: 0.7681053\tbest: 0.7681053 (308)\ttotal: 1m 33s\tremaining: 3m 30s\n",
            "309:\ttest: 0.7681789\tbest: 0.7681789 (309)\ttotal: 1m 34s\tremaining: 3m 29s\n",
            "310:\ttest: 0.7684286\tbest: 0.7684286 (310)\ttotal: 1m 34s\tremaining: 3m 29s\n",
            "311:\ttest: 0.7684343\tbest: 0.7684343 (311)\ttotal: 1m 34s\tremaining: 3m 29s\n",
            "312:\ttest: 0.7684801\tbest: 0.7684801 (312)\ttotal: 1m 35s\tremaining: 3m 28s\n",
            "313:\ttest: 0.7684653\tbest: 0.7684801 (312)\ttotal: 1m 35s\tremaining: 3m 28s\n",
            "314:\ttest: 0.7686965\tbest: 0.7686965 (314)\ttotal: 1m 35s\tremaining: 3m 28s\n",
            "315:\ttest: 0.7687217\tbest: 0.7687217 (315)\ttotal: 1m 36s\tremaining: 3m 28s\n",
            "316:\ttest: 0.7687347\tbest: 0.7687347 (316)\ttotal: 1m 36s\tremaining: 3m 27s\n",
            "317:\ttest: 0.7687203\tbest: 0.7687347 (316)\ttotal: 1m 36s\tremaining: 3m 27s\n",
            "318:\ttest: 0.7687429\tbest: 0.7687429 (318)\ttotal: 1m 37s\tremaining: 3m 27s\n",
            "319:\ttest: 0.7687724\tbest: 0.7687724 (319)\ttotal: 1m 37s\tremaining: 3m 27s\n",
            "320:\ttest: 0.7687671\tbest: 0.7687724 (319)\ttotal: 1m 37s\tremaining: 3m 26s\n",
            "321:\ttest: 0.7687042\tbest: 0.7687724 (319)\ttotal: 1m 38s\tremaining: 3m 26s\n",
            "322:\ttest: 0.7686925\tbest: 0.7687724 (319)\ttotal: 1m 38s\tremaining: 3m 26s\n",
            "323:\ttest: 0.7687337\tbest: 0.7687724 (319)\ttotal: 1m 38s\tremaining: 3m 25s\n",
            "324:\ttest: 0.7687430\tbest: 0.7687724 (319)\ttotal: 1m 39s\tremaining: 3m 25s\n",
            "325:\ttest: 0.7687713\tbest: 0.7687724 (319)\ttotal: 1m 39s\tremaining: 3m 25s\n",
            "326:\ttest: 0.7687617\tbest: 0.7687724 (319)\ttotal: 1m 39s\tremaining: 3m 25s\n",
            "327:\ttest: 0.7688033\tbest: 0.7688033 (327)\ttotal: 1m 39s\tremaining: 3m 24s\n",
            "328:\ttest: 0.7688496\tbest: 0.7688496 (328)\ttotal: 1m 40s\tremaining: 3m 24s\n",
            "329:\ttest: 0.7688150\tbest: 0.7688496 (328)\ttotal: 1m 40s\tremaining: 3m 24s\n",
            "330:\ttest: 0.7689765\tbest: 0.7689765 (330)\ttotal: 1m 41s\tremaining: 3m 24s\n",
            "331:\ttest: 0.7689814\tbest: 0.7689814 (331)\ttotal: 1m 41s\tremaining: 3m 23s\n",
            "332:\ttest: 0.7689943\tbest: 0.7689943 (332)\ttotal: 1m 41s\tremaining: 3m 23s\n",
            "333:\ttest: 0.7690097\tbest: 0.7690097 (333)\ttotal: 1m 41s\tremaining: 3m 23s\n",
            "334:\ttest: 0.7690123\tbest: 0.7690123 (334)\ttotal: 1m 42s\tremaining: 3m 23s\n",
            "335:\ttest: 0.7690549\tbest: 0.7690549 (335)\ttotal: 1m 42s\tremaining: 3m 22s\n",
            "336:\ttest: 0.7690629\tbest: 0.7690629 (336)\ttotal: 1m 42s\tremaining: 3m 22s\n",
            "337:\ttest: 0.7690461\tbest: 0.7690629 (336)\ttotal: 1m 43s\tremaining: 3m 22s\n",
            "338:\ttest: 0.7690645\tbest: 0.7690645 (338)\ttotal: 1m 43s\tremaining: 3m 21s\n",
            "339:\ttest: 0.7690414\tbest: 0.7690645 (338)\ttotal: 1m 43s\tremaining: 3m 21s\n",
            "340:\ttest: 0.7690293\tbest: 0.7690645 (338)\ttotal: 1m 44s\tremaining: 3m 21s\n",
            "341:\ttest: 0.7692269\tbest: 0.7692269 (341)\ttotal: 1m 44s\tremaining: 3m 20s\n",
            "342:\ttest: 0.7695210\tbest: 0.7695210 (342)\ttotal: 1m 44s\tremaining: 3m 20s\n",
            "343:\ttest: 0.7695040\tbest: 0.7695210 (342)\ttotal: 1m 45s\tremaining: 3m 20s\n",
            "344:\ttest: 0.7695838\tbest: 0.7695838 (344)\ttotal: 1m 45s\tremaining: 3m 20s\n",
            "345:\ttest: 0.7695954\tbest: 0.7695954 (345)\ttotal: 1m 45s\tremaining: 3m 19s\n",
            "346:\ttest: 0.7696071\tbest: 0.7696071 (346)\ttotal: 1m 46s\tremaining: 3m 19s\n",
            "347:\ttest: 0.7696118\tbest: 0.7696118 (347)\ttotal: 1m 46s\tremaining: 3m 19s\n",
            "348:\ttest: 0.7697141\tbest: 0.7697141 (348)\ttotal: 1m 46s\tremaining: 3m 19s\n",
            "349:\ttest: 0.7696967\tbest: 0.7697141 (348)\ttotal: 1m 47s\tremaining: 3m 18s\n",
            "350:\ttest: 0.7697262\tbest: 0.7697262 (350)\ttotal: 1m 47s\tremaining: 3m 18s\n",
            "351:\ttest: 0.7697416\tbest: 0.7697416 (351)\ttotal: 1m 47s\tremaining: 3m 18s\n",
            "352:\ttest: 0.7697208\tbest: 0.7697416 (351)\ttotal: 1m 47s\tremaining: 3m 17s\n",
            "353:\ttest: 0.7697388\tbest: 0.7697416 (351)\ttotal: 1m 48s\tremaining: 3m 17s\n",
            "354:\ttest: 0.7697532\tbest: 0.7697532 (354)\ttotal: 1m 48s\tremaining: 3m 17s\n",
            "355:\ttest: 0.7697994\tbest: 0.7697994 (355)\ttotal: 1m 48s\tremaining: 3m 17s\n",
            "356:\ttest: 0.7699974\tbest: 0.7699974 (356)\ttotal: 1m 49s\tremaining: 3m 16s\n",
            "357:\ttest: 0.7699985\tbest: 0.7699985 (357)\ttotal: 1m 49s\tremaining: 3m 16s\n",
            "358:\ttest: 0.7700882\tbest: 0.7700882 (358)\ttotal: 1m 49s\tremaining: 3m 16s\n",
            "359:\ttest: 0.7700873\tbest: 0.7700882 (358)\ttotal: 1m 50s\tremaining: 3m 15s\n",
            "360:\ttest: 0.7701094\tbest: 0.7701094 (360)\ttotal: 1m 50s\tremaining: 3m 15s\n",
            "361:\ttest: 0.7701114\tbest: 0.7701114 (361)\ttotal: 1m 50s\tremaining: 3m 15s\n",
            "362:\ttest: 0.7700892\tbest: 0.7701114 (361)\ttotal: 1m 50s\tremaining: 3m 14s\n",
            "363:\ttest: 0.7701016\tbest: 0.7701114 (361)\ttotal: 1m 51s\tremaining: 3m 14s\n",
            "364:\ttest: 0.7700789\tbest: 0.7701114 (361)\ttotal: 1m 51s\tremaining: 3m 13s\n",
            "365:\ttest: 0.7701187\tbest: 0.7701187 (365)\ttotal: 1m 51s\tremaining: 3m 13s\n",
            "366:\ttest: 0.7701402\tbest: 0.7701402 (366)\ttotal: 1m 52s\tremaining: 3m 13s\n",
            "367:\ttest: 0.7701511\tbest: 0.7701511 (367)\ttotal: 1m 52s\tremaining: 3m 13s\n",
            "368:\ttest: 0.7702415\tbest: 0.7702415 (368)\ttotal: 1m 52s\tremaining: 3m 12s\n",
            "369:\ttest: 0.7702530\tbest: 0.7702530 (369)\ttotal: 1m 52s\tremaining: 3m 12s\n",
            "370:\ttest: 0.7703248\tbest: 0.7703248 (370)\ttotal: 1m 53s\tremaining: 3m 11s\n",
            "371:\ttest: 0.7703756\tbest: 0.7703756 (371)\ttotal: 1m 53s\tremaining: 3m 11s\n",
            "372:\ttest: 0.7704043\tbest: 0.7704043 (372)\ttotal: 1m 53s\tremaining: 3m 11s\n",
            "373:\ttest: 0.7704418\tbest: 0.7704418 (373)\ttotal: 1m 54s\tremaining: 3m 11s\n",
            "374:\ttest: 0.7704481\tbest: 0.7704481 (374)\ttotal: 1m 54s\tremaining: 3m 10s\n",
            "375:\ttest: 0.7705033\tbest: 0.7705033 (375)\ttotal: 1m 54s\tremaining: 3m 10s\n",
            "376:\ttest: 0.7706635\tbest: 0.7706635 (376)\ttotal: 1m 55s\tremaining: 3m 10s\n",
            "377:\ttest: 0.7706489\tbest: 0.7706635 (376)\ttotal: 1m 55s\tremaining: 3m 9s\n",
            "378:\ttest: 0.7706702\tbest: 0.7706702 (378)\ttotal: 1m 55s\tremaining: 3m 9s\n",
            "379:\ttest: 0.7707192\tbest: 0.7707192 (379)\ttotal: 1m 55s\tremaining: 3m 9s\n",
            "380:\ttest: 0.7707035\tbest: 0.7707192 (379)\ttotal: 1m 56s\tremaining: 3m 8s\n",
            "381:\ttest: 0.7707187\tbest: 0.7707192 (379)\ttotal: 1m 56s\tremaining: 3m 8s\n",
            "382:\ttest: 0.7708191\tbest: 0.7708191 (382)\ttotal: 1m 56s\tremaining: 3m 7s\n",
            "383:\ttest: 0.7708211\tbest: 0.7708211 (383)\ttotal: 1m 56s\tremaining: 3m 7s\n",
            "384:\ttest: 0.7708068\tbest: 0.7708211 (383)\ttotal: 1m 57s\tremaining: 3m 7s\n",
            "385:\ttest: 0.7709604\tbest: 0.7709604 (385)\ttotal: 1m 57s\tremaining: 3m 6s\n",
            "386:\ttest: 0.7709357\tbest: 0.7709604 (385)\ttotal: 1m 57s\tremaining: 3m 6s\n",
            "387:\ttest: 0.7711476\tbest: 0.7711476 (387)\ttotal: 1m 57s\tremaining: 3m 6s\n",
            "388:\ttest: 0.7711978\tbest: 0.7711978 (388)\ttotal: 1m 58s\tremaining: 3m 5s\n",
            "389:\ttest: 0.7713309\tbest: 0.7713309 (389)\ttotal: 1m 58s\tremaining: 3m 5s\n",
            "390:\ttest: 0.7713355\tbest: 0.7713355 (390)\ttotal: 1m 58s\tremaining: 3m 5s\n",
            "391:\ttest: 0.7713546\tbest: 0.7713546 (391)\ttotal: 1m 59s\tremaining: 3m 4s\n",
            "392:\ttest: 0.7713370\tbest: 0.7713546 (391)\ttotal: 1m 59s\tremaining: 3m 4s\n",
            "393:\ttest: 0.7713032\tbest: 0.7713546 (391)\ttotal: 1m 59s\tremaining: 3m 4s\n",
            "394:\ttest: 0.7716160\tbest: 0.7716160 (394)\ttotal: 2m\tremaining: 3m 3s\n",
            "395:\ttest: 0.7716400\tbest: 0.7716400 (395)\ttotal: 2m\tremaining: 3m 3s\n",
            "396:\ttest: 0.7716956\tbest: 0.7716956 (396)\ttotal: 2m\tremaining: 3m 3s\n",
            "397:\ttest: 0.7716978\tbest: 0.7716978 (397)\ttotal: 2m 1s\tremaining: 3m 3s\n",
            "398:\ttest: 0.7717621\tbest: 0.7717621 (398)\ttotal: 2m 1s\tremaining: 3m 2s\n",
            "399:\ttest: 0.7717228\tbest: 0.7717621 (398)\ttotal: 2m 1s\tremaining: 3m 2s\n",
            "400:\ttest: 0.7717319\tbest: 0.7717621 (398)\ttotal: 2m 2s\tremaining: 3m 2s\n",
            "401:\ttest: 0.7717447\tbest: 0.7717621 (398)\ttotal: 2m 2s\tremaining: 3m 1s\n",
            "402:\ttest: 0.7717326\tbest: 0.7717621 (398)\ttotal: 2m 2s\tremaining: 3m 1s\n",
            "403:\ttest: 0.7717369\tbest: 0.7717621 (398)\ttotal: 2m 2s\tremaining: 3m 1s\n",
            "404:\ttest: 0.7716311\tbest: 0.7717621 (398)\ttotal: 2m 3s\tremaining: 3m\n",
            "405:\ttest: 0.7717194\tbest: 0.7717621 (398)\ttotal: 2m 3s\tremaining: 3m\n",
            "406:\ttest: 0.7717584\tbest: 0.7717621 (398)\ttotal: 2m 3s\tremaining: 3m\n",
            "407:\ttest: 0.7717560\tbest: 0.7717621 (398)\ttotal: 2m 4s\tremaining: 3m\n",
            "408:\ttest: 0.7717203\tbest: 0.7717621 (398)\ttotal: 2m 4s\tremaining: 2m 59s\n",
            "409:\ttest: 0.7716756\tbest: 0.7717621 (398)\ttotal: 2m 4s\tremaining: 2m 59s\n",
            "410:\ttest: 0.7716570\tbest: 0.7717621 (398)\ttotal: 2m 5s\tremaining: 2m 59s\n",
            "411:\ttest: 0.7716967\tbest: 0.7717621 (398)\ttotal: 2m 5s\tremaining: 2m 58s\n",
            "412:\ttest: 0.7722440\tbest: 0.7722440 (412)\ttotal: 2m 5s\tremaining: 2m 58s\n",
            "413:\ttest: 0.7724948\tbest: 0.7724948 (413)\ttotal: 2m 5s\tremaining: 2m 58s\n",
            "414:\ttest: 0.7724506\tbest: 0.7724948 (413)\ttotal: 2m 6s\tremaining: 2m 58s\n",
            "415:\ttest: 0.7724303\tbest: 0.7724948 (413)\ttotal: 2m 6s\tremaining: 2m 57s\n",
            "416:\ttest: 0.7724298\tbest: 0.7724948 (413)\ttotal: 2m 6s\tremaining: 2m 57s\n",
            "417:\ttest: 0.7724734\tbest: 0.7724948 (413)\ttotal: 2m 7s\tremaining: 2m 57s\n",
            "418:\ttest: 0.7724655\tbest: 0.7724948 (413)\ttotal: 2m 7s\tremaining: 2m 56s\n",
            "419:\ttest: 0.7724818\tbest: 0.7724948 (413)\ttotal: 2m 7s\tremaining: 2m 56s\n",
            "420:\ttest: 0.7724480\tbest: 0.7724948 (413)\ttotal: 2m 7s\tremaining: 2m 55s\n",
            "421:\ttest: 0.7724378\tbest: 0.7724948 (413)\ttotal: 2m 8s\tremaining: 2m 55s\n",
            "422:\ttest: 0.7726419\tbest: 0.7726419 (422)\ttotal: 2m 8s\tremaining: 2m 55s\n",
            "423:\ttest: 0.7726297\tbest: 0.7726419 (422)\ttotal: 2m 8s\tremaining: 2m 55s\n",
            "424:\ttest: 0.7726398\tbest: 0.7726419 (422)\ttotal: 2m 9s\tremaining: 2m 54s\n",
            "425:\ttest: 0.7726630\tbest: 0.7726630 (425)\ttotal: 2m 9s\tremaining: 2m 54s\n",
            "426:\ttest: 0.7727532\tbest: 0.7727532 (426)\ttotal: 2m 9s\tremaining: 2m 54s\n",
            "427:\ttest: 0.7726909\tbest: 0.7727532 (426)\ttotal: 2m 10s\tremaining: 2m 54s\n",
            "428:\ttest: 0.7727136\tbest: 0.7727532 (426)\ttotal: 2m 10s\tremaining: 2m 53s\n",
            "429:\ttest: 0.7727107\tbest: 0.7727532 (426)\ttotal: 2m 10s\tremaining: 2m 53s\n",
            "430:\ttest: 0.7727515\tbest: 0.7727532 (426)\ttotal: 2m 11s\tremaining: 2m 53s\n",
            "431:\ttest: 0.7728652\tbest: 0.7728652 (431)\ttotal: 2m 11s\tremaining: 2m 52s\n",
            "432:\ttest: 0.7728592\tbest: 0.7728652 (431)\ttotal: 2m 11s\tremaining: 2m 52s\n",
            "433:\ttest: 0.7728963\tbest: 0.7728963 (433)\ttotal: 2m 12s\tremaining: 2m 52s\n",
            "434:\ttest: 0.7729020\tbest: 0.7729020 (434)\ttotal: 2m 12s\tremaining: 2m 52s\n",
            "435:\ttest: 0.7729750\tbest: 0.7729750 (435)\ttotal: 2m 12s\tremaining: 2m 51s\n",
            "436:\ttest: 0.7730001\tbest: 0.7730001 (436)\ttotal: 2m 13s\tremaining: 2m 51s\n",
            "437:\ttest: 0.7730047\tbest: 0.7730047 (437)\ttotal: 2m 13s\tremaining: 2m 51s\n",
            "438:\ttest: 0.7730676\tbest: 0.7730676 (438)\ttotal: 2m 13s\tremaining: 2m 50s\n",
            "439:\ttest: 0.7730765\tbest: 0.7730765 (439)\ttotal: 2m 13s\tremaining: 2m 50s\n",
            "440:\ttest: 0.7730919\tbest: 0.7730919 (440)\ttotal: 2m 14s\tremaining: 2m 50s\n",
            "441:\ttest: 0.7731275\tbest: 0.7731275 (441)\ttotal: 2m 14s\tremaining: 2m 49s\n",
            "442:\ttest: 0.7731809\tbest: 0.7731809 (442)\ttotal: 2m 14s\tremaining: 2m 49s\n",
            "443:\ttest: 0.7731762\tbest: 0.7731809 (442)\ttotal: 2m 15s\tremaining: 2m 49s\n",
            "444:\ttest: 0.7731806\tbest: 0.7731809 (442)\ttotal: 2m 15s\tremaining: 2m 48s\n",
            "445:\ttest: 0.7731963\tbest: 0.7731963 (445)\ttotal: 2m 15s\tremaining: 2m 48s\n",
            "446:\ttest: 0.7732734\tbest: 0.7732734 (446)\ttotal: 2m 15s\tremaining: 2m 48s\n",
            "447:\ttest: 0.7732638\tbest: 0.7732734 (446)\ttotal: 2m 16s\tremaining: 2m 47s\n",
            "448:\ttest: 0.7733104\tbest: 0.7733104 (448)\ttotal: 2m 16s\tremaining: 2m 47s\n",
            "449:\ttest: 0.7733480\tbest: 0.7733480 (449)\ttotal: 2m 16s\tremaining: 2m 47s\n",
            "450:\ttest: 0.7733385\tbest: 0.7733480 (449)\ttotal: 2m 17s\tremaining: 2m 46s\n",
            "451:\ttest: 0.7733477\tbest: 0.7733480 (449)\ttotal: 2m 17s\tremaining: 2m 46s\n",
            "452:\ttest: 0.7733427\tbest: 0.7733480 (449)\ttotal: 2m 17s\tremaining: 2m 46s\n",
            "453:\ttest: 0.7733405\tbest: 0.7733480 (449)\ttotal: 2m 17s\tremaining: 2m 45s\n",
            "454:\ttest: 0.7733112\tbest: 0.7733480 (449)\ttotal: 2m 18s\tremaining: 2m 45s\n",
            "455:\ttest: 0.7732882\tbest: 0.7733480 (449)\ttotal: 2m 18s\tremaining: 2m 44s\n",
            "456:\ttest: 0.7732710\tbest: 0.7733480 (449)\ttotal: 2m 18s\tremaining: 2m 44s\n",
            "457:\ttest: 0.7736864\tbest: 0.7736864 (457)\ttotal: 2m 18s\tremaining: 2m 44s\n",
            "458:\ttest: 0.7737049\tbest: 0.7737049 (458)\ttotal: 2m 19s\tremaining: 2m 44s\n",
            "459:\ttest: 0.7737062\tbest: 0.7737062 (459)\ttotal: 2m 19s\tremaining: 2m 43s\n",
            "460:\ttest: 0.7737997\tbest: 0.7737997 (460)\ttotal: 2m 19s\tremaining: 2m 43s\n",
            "461:\ttest: 0.7737904\tbest: 0.7737997 (460)\ttotal: 2m 20s\tremaining: 2m 43s\n",
            "462:\ttest: 0.7737841\tbest: 0.7737997 (460)\ttotal: 2m 20s\tremaining: 2m 42s\n",
            "463:\ttest: 0.7739823\tbest: 0.7739823 (463)\ttotal: 2m 20s\tremaining: 2m 42s\n",
            "464:\ttest: 0.7740138\tbest: 0.7740138 (464)\ttotal: 2m 21s\tremaining: 2m 42s\n",
            "465:\ttest: 0.7740000\tbest: 0.7740138 (464)\ttotal: 2m 21s\tremaining: 2m 42s\n",
            "466:\ttest: 0.7740369\tbest: 0.7740369 (466)\ttotal: 2m 21s\tremaining: 2m 41s\n",
            "467:\ttest: 0.7740182\tbest: 0.7740369 (466)\ttotal: 2m 22s\tremaining: 2m 41s\n",
            "468:\ttest: 0.7740360\tbest: 0.7740369 (466)\ttotal: 2m 22s\tremaining: 2m 41s\n",
            "469:\ttest: 0.7742450\tbest: 0.7742450 (469)\ttotal: 2m 22s\tremaining: 2m 41s\n",
            "470:\ttest: 0.7742189\tbest: 0.7742450 (469)\ttotal: 2m 23s\tremaining: 2m 40s\n",
            "471:\ttest: 0.7743173\tbest: 0.7743173 (471)\ttotal: 2m 23s\tremaining: 2m 40s\n",
            "472:\ttest: 0.7743181\tbest: 0.7743181 (472)\ttotal: 2m 23s\tremaining: 2m 40s\n",
            "473:\ttest: 0.7743218\tbest: 0.7743218 (473)\ttotal: 2m 23s\tremaining: 2m 39s\n",
            "474:\ttest: 0.7743630\tbest: 0.7743630 (474)\ttotal: 2m 24s\tremaining: 2m 39s\n",
            "475:\ttest: 0.7744485\tbest: 0.7744485 (475)\ttotal: 2m 24s\tremaining: 2m 39s\n",
            "476:\ttest: 0.7744529\tbest: 0.7744529 (476)\ttotal: 2m 25s\tremaining: 2m 38s\n",
            "477:\ttest: 0.7744580\tbest: 0.7744580 (477)\ttotal: 2m 25s\tremaining: 2m 38s\n",
            "478:\ttest: 0.7745169\tbest: 0.7745169 (478)\ttotal: 2m 25s\tremaining: 2m 38s\n",
            "479:\ttest: 0.7745336\tbest: 0.7745336 (479)\ttotal: 2m 25s\tremaining: 2m 38s\n",
            "480:\ttest: 0.7745892\tbest: 0.7745892 (480)\ttotal: 2m 26s\tremaining: 2m 37s\n",
            "481:\ttest: 0.7747392\tbest: 0.7747392 (481)\ttotal: 2m 26s\tremaining: 2m 37s\n",
            "482:\ttest: 0.7747131\tbest: 0.7747392 (481)\ttotal: 2m 26s\tremaining: 2m 37s\n",
            "483:\ttest: 0.7747285\tbest: 0.7747392 (481)\ttotal: 2m 27s\tremaining: 2m 36s\n",
            "484:\ttest: 0.7747688\tbest: 0.7747688 (484)\ttotal: 2m 27s\tremaining: 2m 36s\n",
            "485:\ttest: 0.7747669\tbest: 0.7747688 (484)\ttotal: 2m 27s\tremaining: 2m 36s\n",
            "486:\ttest: 0.7747732\tbest: 0.7747732 (486)\ttotal: 2m 28s\tremaining: 2m 35s\n",
            "487:\ttest: 0.7747730\tbest: 0.7747732 (486)\ttotal: 2m 28s\tremaining: 2m 35s\n",
            "488:\ttest: 0.7747744\tbest: 0.7747744 (488)\ttotal: 2m 28s\tremaining: 2m 35s\n",
            "489:\ttest: 0.7747793\tbest: 0.7747793 (489)\ttotal: 2m 28s\tremaining: 2m 35s\n",
            "490:\ttest: 0.7749442\tbest: 0.7749442 (490)\ttotal: 2m 29s\tremaining: 2m 34s\n",
            "491:\ttest: 0.7749529\tbest: 0.7749529 (491)\ttotal: 2m 29s\tremaining: 2m 34s\n",
            "492:\ttest: 0.7749519\tbest: 0.7749529 (491)\ttotal: 2m 29s\tremaining: 2m 34s\n",
            "493:\ttest: 0.7749154\tbest: 0.7749529 (491)\ttotal: 2m 30s\tremaining: 2m 33s\n",
            "494:\ttest: 0.7749021\tbest: 0.7749529 (491)\ttotal: 2m 30s\tremaining: 2m 33s\n",
            "495:\ttest: 0.7749807\tbest: 0.7749807 (495)\ttotal: 2m 30s\tremaining: 2m 33s\n",
            "496:\ttest: 0.7749964\tbest: 0.7749964 (496)\ttotal: 2m 31s\tremaining: 2m 32s\n",
            "497:\ttest: 0.7749788\tbest: 0.7749964 (496)\ttotal: 2m 31s\tremaining: 2m 32s\n",
            "498:\ttest: 0.7749659\tbest: 0.7749964 (496)\ttotal: 2m 31s\tremaining: 2m 32s\n",
            "499:\ttest: 0.7749502\tbest: 0.7749964 (496)\ttotal: 2m 31s\tremaining: 2m 31s\n",
            "500:\ttest: 0.7749875\tbest: 0.7749964 (496)\ttotal: 2m 32s\tremaining: 2m 31s\n",
            "501:\ttest: 0.7751673\tbest: 0.7751673 (501)\ttotal: 2m 32s\tremaining: 2m 31s\n",
            "502:\ttest: 0.7751547\tbest: 0.7751673 (501)\ttotal: 2m 32s\tremaining: 2m 31s\n",
            "503:\ttest: 0.7751842\tbest: 0.7751842 (503)\ttotal: 2m 33s\tremaining: 2m 30s\n",
            "504:\ttest: 0.7751807\tbest: 0.7751842 (503)\ttotal: 2m 33s\tremaining: 2m 30s\n",
            "505:\ttest: 0.7751381\tbest: 0.7751842 (503)\ttotal: 2m 33s\tremaining: 2m 30s\n",
            "506:\ttest: 0.7753627\tbest: 0.7753627 (506)\ttotal: 2m 34s\tremaining: 2m 29s\n",
            "507:\ttest: 0.7753018\tbest: 0.7753627 (506)\ttotal: 2m 34s\tremaining: 2m 29s\n",
            "508:\ttest: 0.7753371\tbest: 0.7753627 (506)\ttotal: 2m 34s\tremaining: 2m 29s\n",
            "509:\ttest: 0.7753366\tbest: 0.7753627 (506)\ttotal: 2m 34s\tremaining: 2m 28s\n",
            "510:\ttest: 0.7755300\tbest: 0.7755300 (510)\ttotal: 2m 35s\tremaining: 2m 28s\n",
            "511:\ttest: 0.7755663\tbest: 0.7755663 (511)\ttotal: 2m 35s\tremaining: 2m 28s\n",
            "512:\ttest: 0.7755722\tbest: 0.7755722 (512)\ttotal: 2m 35s\tremaining: 2m 28s\n",
            "513:\ttest: 0.7757962\tbest: 0.7757962 (513)\ttotal: 2m 36s\tremaining: 2m 27s\n",
            "514:\ttest: 0.7758333\tbest: 0.7758333 (514)\ttotal: 2m 36s\tremaining: 2m 27s\n",
            "515:\ttest: 0.7758604\tbest: 0.7758604 (515)\ttotal: 2m 36s\tremaining: 2m 27s\n",
            "516:\ttest: 0.7758784\tbest: 0.7758784 (516)\ttotal: 2m 37s\tremaining: 2m 26s\n",
            "517:\ttest: 0.7758633\tbest: 0.7758784 (516)\ttotal: 2m 37s\tremaining: 2m 26s\n",
            "518:\ttest: 0.7758768\tbest: 0.7758784 (516)\ttotal: 2m 37s\tremaining: 2m 26s\n",
            "519:\ttest: 0.7758991\tbest: 0.7758991 (519)\ttotal: 2m 38s\tremaining: 2m 25s\n",
            "520:\ttest: 0.7758963\tbest: 0.7758991 (519)\ttotal: 2m 38s\tremaining: 2m 25s\n",
            "521:\ttest: 0.7758967\tbest: 0.7758991 (519)\ttotal: 2m 38s\tremaining: 2m 25s\n",
            "522:\ttest: 0.7758808\tbest: 0.7758991 (519)\ttotal: 2m 39s\tremaining: 2m 25s\n",
            "523:\ttest: 0.7758807\tbest: 0.7758991 (519)\ttotal: 2m 39s\tremaining: 2m 24s\n",
            "524:\ttest: 0.7758648\tbest: 0.7758991 (519)\ttotal: 2m 39s\tremaining: 2m 24s\n",
            "525:\ttest: 0.7758705\tbest: 0.7758991 (519)\ttotal: 2m 40s\tremaining: 2m 24s\n",
            "526:\ttest: 0.7759101\tbest: 0.7759101 (526)\ttotal: 2m 40s\tremaining: 2m 23s\n",
            "527:\ttest: 0.7759107\tbest: 0.7759107 (527)\ttotal: 2m 40s\tremaining: 2m 23s\n",
            "528:\ttest: 0.7758921\tbest: 0.7759107 (527)\ttotal: 2m 41s\tremaining: 2m 23s\n",
            "529:\ttest: 0.7759974\tbest: 0.7759974 (529)\ttotal: 2m 41s\tremaining: 2m 23s\n",
            "530:\ttest: 0.7761032\tbest: 0.7761032 (530)\ttotal: 2m 41s\tremaining: 2m 22s\n",
            "531:\ttest: 0.7759972\tbest: 0.7761032 (530)\ttotal: 2m 42s\tremaining: 2m 22s\n",
            "532:\ttest: 0.7759975\tbest: 0.7761032 (530)\ttotal: 2m 42s\tremaining: 2m 22s\n",
            "533:\ttest: 0.7759991\tbest: 0.7761032 (530)\ttotal: 2m 42s\tremaining: 2m 21s\n",
            "534:\ttest: 0.7760259\tbest: 0.7761032 (530)\ttotal: 2m 42s\tremaining: 2m 21s\n",
            "535:\ttest: 0.7760201\tbest: 0.7761032 (530)\ttotal: 2m 43s\tremaining: 2m 21s\n",
            "536:\ttest: 0.7760685\tbest: 0.7761032 (530)\ttotal: 2m 43s\tremaining: 2m 20s\n",
            "537:\ttest: 0.7761275\tbest: 0.7761275 (537)\ttotal: 2m 43s\tremaining: 2m 20s\n",
            "538:\ttest: 0.7761433\tbest: 0.7761433 (538)\ttotal: 2m 44s\tremaining: 2m 20s\n",
            "539:\ttest: 0.7761430\tbest: 0.7761433 (538)\ttotal: 2m 44s\tremaining: 2m 20s\n",
            "540:\ttest: 0.7761119\tbest: 0.7761433 (538)\ttotal: 2m 44s\tremaining: 2m 19s\n",
            "541:\ttest: 0.7761044\tbest: 0.7761433 (538)\ttotal: 2m 44s\tremaining: 2m 19s\n",
            "542:\ttest: 0.7760747\tbest: 0.7761433 (538)\ttotal: 2m 45s\tremaining: 2m 19s\n",
            "543:\ttest: 0.7760823\tbest: 0.7761433 (538)\ttotal: 2m 45s\tremaining: 2m 18s\n",
            "544:\ttest: 0.7760676\tbest: 0.7761433 (538)\ttotal: 2m 45s\tremaining: 2m 18s\n",
            "545:\ttest: 0.7760571\tbest: 0.7761433 (538)\ttotal: 2m 46s\tremaining: 2m 18s\n",
            "546:\ttest: 0.7760635\tbest: 0.7761433 (538)\ttotal: 2m 46s\tremaining: 2m 17s\n",
            "547:\ttest: 0.7760608\tbest: 0.7761433 (538)\ttotal: 2m 46s\tremaining: 2m 17s\n",
            "548:\ttest: 0.7761318\tbest: 0.7761433 (538)\ttotal: 2m 47s\tremaining: 2m 17s\n",
            "549:\ttest: 0.7762550\tbest: 0.7762550 (549)\ttotal: 2m 47s\tremaining: 2m 16s\n",
            "550:\ttest: 0.7762770\tbest: 0.7762770 (550)\ttotal: 2m 47s\tremaining: 2m 16s\n",
            "551:\ttest: 0.7764682\tbest: 0.7764682 (551)\ttotal: 2m 48s\tremaining: 2m 16s\n",
            "552:\ttest: 0.7764886\tbest: 0.7764886 (552)\ttotal: 2m 48s\tremaining: 2m 16s\n",
            "553:\ttest: 0.7765298\tbest: 0.7765298 (553)\ttotal: 2m 48s\tremaining: 2m 15s\n",
            "554:\ttest: 0.7765391\tbest: 0.7765391 (554)\ttotal: 2m 48s\tremaining: 2m 15s\n",
            "555:\ttest: 0.7765440\tbest: 0.7765440 (555)\ttotal: 2m 49s\tremaining: 2m 15s\n",
            "556:\ttest: 0.7765460\tbest: 0.7765460 (556)\ttotal: 2m 49s\tremaining: 2m 14s\n",
            "557:\ttest: 0.7765926\tbest: 0.7765926 (557)\ttotal: 2m 49s\tremaining: 2m 14s\n",
            "558:\ttest: 0.7765848\tbest: 0.7765926 (557)\ttotal: 2m 50s\tremaining: 2m 14s\n",
            "559:\ttest: 0.7766845\tbest: 0.7766845 (559)\ttotal: 2m 50s\tremaining: 2m 14s\n",
            "560:\ttest: 0.7766892\tbest: 0.7766892 (560)\ttotal: 2m 50s\tremaining: 2m 13s\n",
            "561:\ttest: 0.7767075\tbest: 0.7767075 (561)\ttotal: 2m 51s\tremaining: 2m 13s\n",
            "562:\ttest: 0.7766963\tbest: 0.7767075 (561)\ttotal: 2m 51s\tremaining: 2m 13s\n",
            "563:\ttest: 0.7766818\tbest: 0.7767075 (561)\ttotal: 2m 51s\tremaining: 2m 12s\n",
            "564:\ttest: 0.7766155\tbest: 0.7767075 (561)\ttotal: 2m 52s\tremaining: 2m 12s\n",
            "565:\ttest: 0.7765989\tbest: 0.7767075 (561)\ttotal: 2m 52s\tremaining: 2m 12s\n",
            "566:\ttest: 0.7767218\tbest: 0.7767218 (566)\ttotal: 2m 52s\tremaining: 2m 11s\n",
            "567:\ttest: 0.7767374\tbest: 0.7767374 (567)\ttotal: 2m 52s\tremaining: 2m 11s\n",
            "568:\ttest: 0.7767462\tbest: 0.7767462 (568)\ttotal: 2m 53s\tremaining: 2m 11s\n",
            "569:\ttest: 0.7768506\tbest: 0.7768506 (569)\ttotal: 2m 53s\tremaining: 2m 10s\n",
            "570:\ttest: 0.7768398\tbest: 0.7768506 (569)\ttotal: 2m 53s\tremaining: 2m 10s\n",
            "571:\ttest: 0.7768377\tbest: 0.7768506 (569)\ttotal: 2m 54s\tremaining: 2m 10s\n",
            "572:\ttest: 0.7768358\tbest: 0.7768506 (569)\ttotal: 2m 54s\tremaining: 2m 9s\n",
            "573:\ttest: 0.7768617\tbest: 0.7768617 (573)\ttotal: 2m 54s\tremaining: 2m 9s\n",
            "574:\ttest: 0.7769018\tbest: 0.7769018 (574)\ttotal: 2m 55s\tremaining: 2m 9s\n",
            "575:\ttest: 0.7769102\tbest: 0.7769102 (575)\ttotal: 2m 55s\tremaining: 2m 9s\n",
            "576:\ttest: 0.7769305\tbest: 0.7769305 (576)\ttotal: 2m 55s\tremaining: 2m 8s\n",
            "577:\ttest: 0.7769412\tbest: 0.7769412 (577)\ttotal: 2m 55s\tremaining: 2m 8s\n",
            "578:\ttest: 0.7770267\tbest: 0.7770267 (578)\ttotal: 2m 56s\tremaining: 2m 8s\n",
            "579:\ttest: 0.7770239\tbest: 0.7770267 (578)\ttotal: 2m 56s\tremaining: 2m 7s\n",
            "580:\ttest: 0.7770230\tbest: 0.7770267 (578)\ttotal: 2m 56s\tremaining: 2m 7s\n",
            "581:\ttest: 0.7770128\tbest: 0.7770267 (578)\ttotal: 2m 57s\tremaining: 2m 7s\n",
            "582:\ttest: 0.7770421\tbest: 0.7770421 (582)\ttotal: 2m 57s\tremaining: 2m 7s\n",
            "583:\ttest: 0.7770856\tbest: 0.7770856 (583)\ttotal: 2m 57s\tremaining: 2m 6s\n",
            "584:\ttest: 0.7770936\tbest: 0.7770936 (584)\ttotal: 2m 58s\tremaining: 2m 6s\n",
            "585:\ttest: 0.7770816\tbest: 0.7770936 (584)\ttotal: 2m 58s\tremaining: 2m 6s\n",
            "586:\ttest: 0.7771464\tbest: 0.7771464 (586)\ttotal: 2m 58s\tremaining: 2m 5s\n",
            "587:\ttest: 0.7771517\tbest: 0.7771517 (587)\ttotal: 2m 59s\tremaining: 2m 5s\n",
            "588:\ttest: 0.7771115\tbest: 0.7771517 (587)\ttotal: 2m 59s\tremaining: 2m 5s\n",
            "589:\ttest: 0.7770803\tbest: 0.7771517 (587)\ttotal: 2m 59s\tremaining: 2m 4s\n",
            "590:\ttest: 0.7770995\tbest: 0.7771517 (587)\ttotal: 3m\tremaining: 2m 4s\n",
            "591:\ttest: 0.7771610\tbest: 0.7771610 (591)\ttotal: 3m\tremaining: 2m 4s\n",
            "592:\ttest: 0.7772807\tbest: 0.7772807 (592)\ttotal: 3m\tremaining: 2m 4s\n",
            "593:\ttest: 0.7773604\tbest: 0.7773604 (593)\ttotal: 3m 1s\tremaining: 2m 3s\n",
            "594:\ttest: 0.7773763\tbest: 0.7773763 (594)\ttotal: 3m 1s\tremaining: 2m 3s\n",
            "595:\ttest: 0.7774001\tbest: 0.7774001 (595)\ttotal: 3m 1s\tremaining: 2m 3s\n",
            "596:\ttest: 0.7774109\tbest: 0.7774109 (596)\ttotal: 3m 1s\tremaining: 2m 2s\n",
            "597:\ttest: 0.7774158\tbest: 0.7774158 (597)\ttotal: 3m 2s\tremaining: 2m 2s\n",
            "598:\ttest: 0.7774332\tbest: 0.7774332 (598)\ttotal: 3m 2s\tremaining: 2m 2s\n",
            "599:\ttest: 0.7774364\tbest: 0.7774364 (599)\ttotal: 3m 2s\tremaining: 2m 1s\n",
            "600:\ttest: 0.7774116\tbest: 0.7774364 (599)\ttotal: 3m 3s\tremaining: 2m 1s\n",
            "601:\ttest: 0.7774196\tbest: 0.7774364 (599)\ttotal: 3m 3s\tremaining: 2m 1s\n",
            "602:\ttest: 0.7774312\tbest: 0.7774364 (599)\ttotal: 3m 3s\tremaining: 2m\n",
            "603:\ttest: 0.7774898\tbest: 0.7774898 (603)\ttotal: 3m 3s\tremaining: 2m\n",
            "604:\ttest: 0.7774832\tbest: 0.7774898 (603)\ttotal: 3m 4s\tremaining: 2m\n",
            "605:\ttest: 0.7775088\tbest: 0.7775088 (605)\ttotal: 3m 4s\tremaining: 1m 59s\n",
            "606:\ttest: 0.7775184\tbest: 0.7775184 (606)\ttotal: 3m 4s\tremaining: 1m 59s\n",
            "607:\ttest: 0.7776469\tbest: 0.7776469 (607)\ttotal: 3m 5s\tremaining: 1m 59s\n",
            "608:\ttest: 0.7776513\tbest: 0.7776513 (608)\ttotal: 3m 5s\tremaining: 1m 59s\n",
            "609:\ttest: 0.7776677\tbest: 0.7776677 (609)\ttotal: 3m 5s\tremaining: 1m 58s\n",
            "610:\ttest: 0.7776983\tbest: 0.7776983 (610)\ttotal: 3m 6s\tremaining: 1m 58s\n",
            "611:\ttest: 0.7777249\tbest: 0.7777249 (611)\ttotal: 3m 6s\tremaining: 1m 58s\n",
            "612:\ttest: 0.7777586\tbest: 0.7777586 (612)\ttotal: 3m 6s\tremaining: 1m 57s\n",
            "613:\ttest: 0.7777898\tbest: 0.7777898 (613)\ttotal: 3m 7s\tremaining: 1m 57s\n",
            "614:\ttest: 0.7777492\tbest: 0.7777898 (613)\ttotal: 3m 7s\tremaining: 1m 57s\n",
            "615:\ttest: 0.7777785\tbest: 0.7777898 (613)\ttotal: 3m 7s\tremaining: 1m 56s\n",
            "616:\ttest: 0.7777966\tbest: 0.7777966 (616)\ttotal: 3m 7s\tremaining: 1m 56s\n",
            "617:\ttest: 0.7777941\tbest: 0.7777966 (616)\ttotal: 3m 8s\tremaining: 1m 56s\n",
            "618:\ttest: 0.7778102\tbest: 0.7778102 (618)\ttotal: 3m 8s\tremaining: 1m 56s\n",
            "619:\ttest: 0.7778650\tbest: 0.7778650 (619)\ttotal: 3m 8s\tremaining: 1m 55s\n",
            "620:\ttest: 0.7778603\tbest: 0.7778650 (619)\ttotal: 3m 9s\tremaining: 1m 55s\n",
            "621:\ttest: 0.7778660\tbest: 0.7778660 (621)\ttotal: 3m 9s\tremaining: 1m 55s\n",
            "622:\ttest: 0.7778775\tbest: 0.7778775 (622)\ttotal: 3m 9s\tremaining: 1m 54s\n",
            "623:\ttest: 0.7779450\tbest: 0.7779450 (623)\ttotal: 3m 10s\tremaining: 1m 54s\n",
            "624:\ttest: 0.7779695\tbest: 0.7779695 (624)\ttotal: 3m 10s\tremaining: 1m 54s\n",
            "625:\ttest: 0.7779781\tbest: 0.7779781 (625)\ttotal: 3m 10s\tremaining: 1m 53s\n",
            "626:\ttest: 0.7781462\tbest: 0.7781462 (626)\ttotal: 3m 10s\tremaining: 1m 53s\n",
            "627:\ttest: 0.7781452\tbest: 0.7781462 (626)\ttotal: 3m 11s\tremaining: 1m 53s\n",
            "628:\ttest: 0.7781404\tbest: 0.7781462 (626)\ttotal: 3m 11s\tremaining: 1m 52s\n",
            "629:\ttest: 0.7781422\tbest: 0.7781462 (626)\ttotal: 3m 11s\tremaining: 1m 52s\n",
            "630:\ttest: 0.7781598\tbest: 0.7781598 (630)\ttotal: 3m 12s\tremaining: 1m 52s\n",
            "631:\ttest: 0.7781582\tbest: 0.7781598 (630)\ttotal: 3m 12s\tremaining: 1m 52s\n",
            "632:\ttest: 0.7781403\tbest: 0.7781598 (630)\ttotal: 3m 12s\tremaining: 1m 51s\n",
            "633:\ttest: 0.7780743\tbest: 0.7781598 (630)\ttotal: 3m 13s\tremaining: 1m 51s\n",
            "634:\ttest: 0.7782395\tbest: 0.7782395 (634)\ttotal: 3m 13s\tremaining: 1m 51s\n",
            "635:\ttest: 0.7782527\tbest: 0.7782527 (635)\ttotal: 3m 13s\tremaining: 1m 50s\n",
            "636:\ttest: 0.7782858\tbest: 0.7782858 (636)\ttotal: 3m 13s\tremaining: 1m 50s\n",
            "637:\ttest: 0.7783206\tbest: 0.7783206 (637)\ttotal: 3m 14s\tremaining: 1m 50s\n",
            "638:\ttest: 0.7783139\tbest: 0.7783206 (637)\ttotal: 3m 14s\tremaining: 1m 49s\n",
            "639:\ttest: 0.7783425\tbest: 0.7783425 (639)\ttotal: 3m 14s\tremaining: 1m 49s\n",
            "640:\ttest: 0.7783623\tbest: 0.7783623 (640)\ttotal: 3m 15s\tremaining: 1m 49s\n",
            "641:\ttest: 0.7783493\tbest: 0.7783623 (640)\ttotal: 3m 15s\tremaining: 1m 49s\n",
            "642:\ttest: 0.7783680\tbest: 0.7783680 (642)\ttotal: 3m 15s\tremaining: 1m 48s\n",
            "643:\ttest: 0.7783472\tbest: 0.7783680 (642)\ttotal: 3m 16s\tremaining: 1m 48s\n",
            "644:\ttest: 0.7783468\tbest: 0.7783680 (642)\ttotal: 3m 16s\tremaining: 1m 48s\n",
            "645:\ttest: 0.7783582\tbest: 0.7783680 (642)\ttotal: 3m 16s\tremaining: 1m 47s\n",
            "646:\ttest: 0.7783586\tbest: 0.7783680 (642)\ttotal: 3m 16s\tremaining: 1m 47s\n",
            "647:\ttest: 0.7783952\tbest: 0.7783952 (647)\ttotal: 3m 17s\tremaining: 1m 47s\n",
            "648:\ttest: 0.7784148\tbest: 0.7784148 (648)\ttotal: 3m 17s\tremaining: 1m 46s\n",
            "649:\ttest: 0.7784797\tbest: 0.7784797 (649)\ttotal: 3m 17s\tremaining: 1m 46s\n",
            "650:\ttest: 0.7784790\tbest: 0.7784797 (649)\ttotal: 3m 17s\tremaining: 1m 46s\n",
            "651:\ttest: 0.7784803\tbest: 0.7784803 (651)\ttotal: 3m 18s\tremaining: 1m 45s\n",
            "652:\ttest: 0.7784668\tbest: 0.7784803 (651)\ttotal: 3m 18s\tremaining: 1m 45s\n",
            "653:\ttest: 0.7784894\tbest: 0.7784894 (653)\ttotal: 3m 18s\tremaining: 1m 45s\n",
            "654:\ttest: 0.7784820\tbest: 0.7784894 (653)\ttotal: 3m 19s\tremaining: 1m 44s\n",
            "655:\ttest: 0.7784859\tbest: 0.7784894 (653)\ttotal: 3m 19s\tremaining: 1m 44s\n",
            "656:\ttest: 0.7784812\tbest: 0.7784894 (653)\ttotal: 3m 19s\tremaining: 1m 44s\n",
            "657:\ttest: 0.7785023\tbest: 0.7785023 (657)\ttotal: 3m 20s\tremaining: 1m 43s\n",
            "658:\ttest: 0.7785901\tbest: 0.7785901 (658)\ttotal: 3m 20s\tremaining: 1m 43s\n",
            "659:\ttest: 0.7785901\tbest: 0.7785901 (659)\ttotal: 3m 20s\tremaining: 1m 43s\n",
            "660:\ttest: 0.7785775\tbest: 0.7785901 (659)\ttotal: 3m 20s\tremaining: 1m 43s\n",
            "661:\ttest: 0.7785775\tbest: 0.7785901 (659)\ttotal: 3m 21s\tremaining: 1m 42s\n",
            "662:\ttest: 0.7785828\tbest: 0.7785901 (659)\ttotal: 3m 21s\tremaining: 1m 42s\n",
            "663:\ttest: 0.7785802\tbest: 0.7785901 (659)\ttotal: 3m 21s\tremaining: 1m 42s\n",
            "664:\ttest: 0.7785796\tbest: 0.7785901 (659)\ttotal: 3m 22s\tremaining: 1m 41s\n",
            "665:\ttest: 0.7785778\tbest: 0.7785901 (659)\ttotal: 3m 22s\tremaining: 1m 41s\n",
            "666:\ttest: 0.7786005\tbest: 0.7786005 (666)\ttotal: 3m 22s\tremaining: 1m 41s\n",
            "667:\ttest: 0.7785989\tbest: 0.7786005 (666)\ttotal: 3m 23s\tremaining: 1m 40s\n",
            "668:\ttest: 0.7786073\tbest: 0.7786073 (668)\ttotal: 3m 23s\tremaining: 1m 40s\n",
            "669:\ttest: 0.7785906\tbest: 0.7786073 (668)\ttotal: 3m 23s\tremaining: 1m 40s\n",
            "670:\ttest: 0.7785960\tbest: 0.7786073 (668)\ttotal: 3m 24s\tremaining: 1m 40s\n",
            "671:\ttest: 0.7785498\tbest: 0.7786073 (668)\ttotal: 3m 24s\tremaining: 1m 39s\n",
            "672:\ttest: 0.7785151\tbest: 0.7786073 (668)\ttotal: 3m 24s\tremaining: 1m 39s\n",
            "673:\ttest: 0.7785257\tbest: 0.7786073 (668)\ttotal: 3m 25s\tremaining: 1m 39s\n",
            "674:\ttest: 0.7784743\tbest: 0.7786073 (668)\ttotal: 3m 25s\tremaining: 1m 38s\n",
            "675:\ttest: 0.7784635\tbest: 0.7786073 (668)\ttotal: 3m 25s\tremaining: 1m 38s\n",
            "676:\ttest: 0.7785047\tbest: 0.7786073 (668)\ttotal: 3m 26s\tremaining: 1m 38s\n",
            "677:\ttest: 0.7785007\tbest: 0.7786073 (668)\ttotal: 3m 26s\tremaining: 1m 38s\n",
            "678:\ttest: 0.7784975\tbest: 0.7786073 (668)\ttotal: 3m 26s\tremaining: 1m 37s\n",
            "679:\ttest: 0.7785058\tbest: 0.7786073 (668)\ttotal: 3m 27s\tremaining: 1m 37s\n",
            "680:\ttest: 0.7785042\tbest: 0.7786073 (668)\ttotal: 3m 27s\tremaining: 1m 37s\n",
            "681:\ttest: 0.7784970\tbest: 0.7786073 (668)\ttotal: 3m 27s\tremaining: 1m 36s\n",
            "682:\ttest: 0.7785187\tbest: 0.7786073 (668)\ttotal: 3m 27s\tremaining: 1m 36s\n",
            "683:\ttest: 0.7786853\tbest: 0.7786853 (683)\ttotal: 3m 28s\tremaining: 1m 36s\n",
            "684:\ttest: 0.7786818\tbest: 0.7786853 (683)\ttotal: 3m 28s\tremaining: 1m 35s\n",
            "685:\ttest: 0.7787051\tbest: 0.7787051 (685)\ttotal: 3m 28s\tremaining: 1m 35s\n",
            "686:\ttest: 0.7786825\tbest: 0.7787051 (685)\ttotal: 3m 29s\tremaining: 1m 35s\n",
            "687:\ttest: 0.7786797\tbest: 0.7787051 (685)\ttotal: 3m 29s\tremaining: 1m 35s\n",
            "688:\ttest: 0.7787067\tbest: 0.7787067 (688)\ttotal: 3m 29s\tremaining: 1m 34s\n",
            "689:\ttest: 0.7787796\tbest: 0.7787796 (689)\ttotal: 3m 30s\tremaining: 1m 34s\n",
            "690:\ttest: 0.7787903\tbest: 0.7787903 (690)\ttotal: 3m 30s\tremaining: 1m 34s\n",
            "691:\ttest: 0.7787887\tbest: 0.7787903 (690)\ttotal: 3m 30s\tremaining: 1m 33s\n",
            "692:\ttest: 0.7787992\tbest: 0.7787992 (692)\ttotal: 3m 31s\tremaining: 1m 33s\n",
            "693:\ttest: 0.7787752\tbest: 0.7787992 (692)\ttotal: 3m 31s\tremaining: 1m 33s\n",
            "694:\ttest: 0.7788608\tbest: 0.7788608 (694)\ttotal: 3m 31s\tremaining: 1m 33s\n",
            "695:\ttest: 0.7789022\tbest: 0.7789022 (695)\ttotal: 3m 32s\tremaining: 1m 32s\n",
            "696:\ttest: 0.7789754\tbest: 0.7789754 (696)\ttotal: 3m 32s\tremaining: 1m 32s\n",
            "697:\ttest: 0.7789775\tbest: 0.7789775 (697)\ttotal: 3m 32s\tremaining: 1m 32s\n",
            "698:\ttest: 0.7790035\tbest: 0.7790035 (698)\ttotal: 3m 33s\tremaining: 1m 31s\n",
            "699:\ttest: 0.7790110\tbest: 0.7790110 (699)\ttotal: 3m 33s\tremaining: 1m 31s\n",
            "700:\ttest: 0.7789809\tbest: 0.7790110 (699)\ttotal: 3m 33s\tremaining: 1m 31s\n",
            "701:\ttest: 0.7789766\tbest: 0.7790110 (699)\ttotal: 3m 33s\tremaining: 1m 30s\n",
            "702:\ttest: 0.7789958\tbest: 0.7790110 (699)\ttotal: 3m 34s\tremaining: 1m 30s\n",
            "703:\ttest: 0.7789728\tbest: 0.7790110 (699)\ttotal: 3m 34s\tremaining: 1m 30s\n",
            "704:\ttest: 0.7790014\tbest: 0.7790110 (699)\ttotal: 3m 34s\tremaining: 1m 29s\n",
            "705:\ttest: 0.7790245\tbest: 0.7790245 (705)\ttotal: 3m 35s\tremaining: 1m 29s\n",
            "706:\ttest: 0.7789730\tbest: 0.7790245 (705)\ttotal: 3m 35s\tremaining: 1m 29s\n",
            "707:\ttest: 0.7789218\tbest: 0.7790245 (705)\ttotal: 3m 35s\tremaining: 1m 29s\n",
            "708:\ttest: 0.7789242\tbest: 0.7790245 (705)\ttotal: 3m 36s\tremaining: 1m 28s\n",
            "709:\ttest: 0.7789348\tbest: 0.7790245 (705)\ttotal: 3m 36s\tremaining: 1m 28s\n",
            "710:\ttest: 0.7789398\tbest: 0.7790245 (705)\ttotal: 3m 36s\tremaining: 1m 28s\n",
            "711:\ttest: 0.7789267\tbest: 0.7790245 (705)\ttotal: 3m 36s\tremaining: 1m 27s\n",
            "712:\ttest: 0.7788935\tbest: 0.7790245 (705)\ttotal: 3m 37s\tremaining: 1m 27s\n",
            "713:\ttest: 0.7788909\tbest: 0.7790245 (705)\ttotal: 3m 37s\tremaining: 1m 27s\n",
            "714:\ttest: 0.7789066\tbest: 0.7790245 (705)\ttotal: 3m 37s\tremaining: 1m 26s\n",
            "715:\ttest: 0.7789727\tbest: 0.7790245 (705)\ttotal: 3m 38s\tremaining: 1m 26s\n",
            "716:\ttest: 0.7790696\tbest: 0.7790696 (716)\ttotal: 3m 38s\tremaining: 1m 26s\n",
            "717:\ttest: 0.7790699\tbest: 0.7790699 (717)\ttotal: 3m 38s\tremaining: 1m 25s\n",
            "718:\ttest: 0.7790108\tbest: 0.7790699 (717)\ttotal: 3m 39s\tremaining: 1m 25s\n",
            "719:\ttest: 0.7790224\tbest: 0.7790699 (717)\ttotal: 3m 39s\tremaining: 1m 25s\n",
            "720:\ttest: 0.7790720\tbest: 0.7790720 (720)\ttotal: 3m 39s\tremaining: 1m 25s\n",
            "721:\ttest: 0.7791152\tbest: 0.7791152 (721)\ttotal: 3m 40s\tremaining: 1m 24s\n",
            "722:\ttest: 0.7790779\tbest: 0.7791152 (721)\ttotal: 3m 40s\tremaining: 1m 24s\n",
            "723:\ttest: 0.7790650\tbest: 0.7791152 (721)\ttotal: 3m 40s\tremaining: 1m 24s\n",
            "724:\ttest: 0.7791265\tbest: 0.7791265 (724)\ttotal: 3m 40s\tremaining: 1m 23s\n",
            "725:\ttest: 0.7793080\tbest: 0.7793080 (725)\ttotal: 3m 41s\tremaining: 1m 23s\n",
            "726:\ttest: 0.7793631\tbest: 0.7793631 (726)\ttotal: 3m 41s\tremaining: 1m 23s\n",
            "727:\ttest: 0.7793703\tbest: 0.7793703 (727)\ttotal: 3m 41s\tremaining: 1m 22s\n",
            "728:\ttest: 0.7794247\tbest: 0.7794247 (728)\ttotal: 3m 42s\tremaining: 1m 22s\n",
            "729:\ttest: 0.7794593\tbest: 0.7794593 (729)\ttotal: 3m 42s\tremaining: 1m 22s\n",
            "730:\ttest: 0.7794930\tbest: 0.7794930 (730)\ttotal: 3m 42s\tremaining: 1m 21s\n",
            "731:\ttest: 0.7794720\tbest: 0.7794930 (730)\ttotal: 3m 43s\tremaining: 1m 21s\n",
            "732:\ttest: 0.7795173\tbest: 0.7795173 (732)\ttotal: 3m 43s\tremaining: 1m 21s\n",
            "733:\ttest: 0.7795217\tbest: 0.7795217 (733)\ttotal: 3m 43s\tremaining: 1m 21s\n",
            "734:\ttest: 0.7795212\tbest: 0.7795217 (733)\ttotal: 3m 43s\tremaining: 1m 20s\n",
            "735:\ttest: 0.7794546\tbest: 0.7795217 (733)\ttotal: 3m 44s\tremaining: 1m 20s\n",
            "736:\ttest: 0.7794617\tbest: 0.7795217 (733)\ttotal: 3m 44s\tremaining: 1m 20s\n",
            "737:\ttest: 0.7794448\tbest: 0.7795217 (733)\ttotal: 3m 44s\tremaining: 1m 19s\n",
            "738:\ttest: 0.7794516\tbest: 0.7795217 (733)\ttotal: 3m 45s\tremaining: 1m 19s\n",
            "739:\ttest: 0.7795031\tbest: 0.7795217 (733)\ttotal: 3m 45s\tremaining: 1m 19s\n",
            "740:\ttest: 0.7795487\tbest: 0.7795487 (740)\ttotal: 3m 45s\tremaining: 1m 18s\n",
            "741:\ttest: 0.7795643\tbest: 0.7795643 (741)\ttotal: 3m 46s\tremaining: 1m 18s\n",
            "742:\ttest: 0.7795770\tbest: 0.7795770 (742)\ttotal: 3m 46s\tremaining: 1m 18s\n",
            "743:\ttest: 0.7795859\tbest: 0.7795859 (743)\ttotal: 3m 46s\tremaining: 1m 18s\n",
            "744:\ttest: 0.7796193\tbest: 0.7796193 (744)\ttotal: 3m 47s\tremaining: 1m 17s\n",
            "745:\ttest: 0.7796155\tbest: 0.7796193 (744)\ttotal: 3m 47s\tremaining: 1m 17s\n",
            "746:\ttest: 0.7796287\tbest: 0.7796287 (746)\ttotal: 3m 47s\tremaining: 1m 17s\n",
            "747:\ttest: 0.7796181\tbest: 0.7796287 (746)\ttotal: 3m 48s\tremaining: 1m 16s\n",
            "748:\ttest: 0.7796831\tbest: 0.7796831 (748)\ttotal: 3m 48s\tremaining: 1m 16s\n",
            "749:\ttest: 0.7797041\tbest: 0.7797041 (749)\ttotal: 3m 48s\tremaining: 1m 16s\n",
            "750:\ttest: 0.7796498\tbest: 0.7797041 (749)\ttotal: 3m 48s\tremaining: 1m 15s\n",
            "751:\ttest: 0.7796355\tbest: 0.7797041 (749)\ttotal: 3m 49s\tremaining: 1m 15s\n",
            "752:\ttest: 0.7796320\tbest: 0.7797041 (749)\ttotal: 3m 49s\tremaining: 1m 15s\n",
            "753:\ttest: 0.7796485\tbest: 0.7797041 (749)\ttotal: 3m 49s\tremaining: 1m 14s\n",
            "754:\ttest: 0.7796310\tbest: 0.7797041 (749)\ttotal: 3m 50s\tremaining: 1m 14s\n",
            "755:\ttest: 0.7796465\tbest: 0.7797041 (749)\ttotal: 3m 50s\tremaining: 1m 14s\n",
            "756:\ttest: 0.7796342\tbest: 0.7797041 (749)\ttotal: 3m 50s\tremaining: 1m 14s\n",
            "757:\ttest: 0.7795966\tbest: 0.7797041 (749)\ttotal: 3m 50s\tremaining: 1m 13s\n",
            "758:\ttest: 0.7796015\tbest: 0.7797041 (749)\ttotal: 3m 51s\tremaining: 1m 13s\n",
            "759:\ttest: 0.7795736\tbest: 0.7797041 (749)\ttotal: 3m 51s\tremaining: 1m 13s\n",
            "760:\ttest: 0.7795760\tbest: 0.7797041 (749)\ttotal: 3m 51s\tremaining: 1m 12s\n",
            "761:\ttest: 0.7795935\tbest: 0.7797041 (749)\ttotal: 3m 51s\tremaining: 1m 12s\n",
            "762:\ttest: 0.7795786\tbest: 0.7797041 (749)\ttotal: 3m 52s\tremaining: 1m 12s\n",
            "763:\ttest: 0.7795450\tbest: 0.7797041 (749)\ttotal: 3m 52s\tremaining: 1m 11s\n",
            "764:\ttest: 0.7795562\tbest: 0.7797041 (749)\ttotal: 3m 52s\tremaining: 1m 11s\n",
            "765:\ttest: 0.7795330\tbest: 0.7797041 (749)\ttotal: 3m 53s\tremaining: 1m 11s\n",
            "766:\ttest: 0.7795290\tbest: 0.7797041 (749)\ttotal: 3m 53s\tremaining: 1m 10s\n",
            "767:\ttest: 0.7795747\tbest: 0.7797041 (749)\ttotal: 3m 53s\tremaining: 1m 10s\n",
            "768:\ttest: 0.7796331\tbest: 0.7797041 (749)\ttotal: 3m 54s\tremaining: 1m 10s\n",
            "769:\ttest: 0.7796350\tbest: 0.7797041 (749)\ttotal: 3m 54s\tremaining: 1m 10s\n",
            "770:\ttest: 0.7796055\tbest: 0.7797041 (749)\ttotal: 3m 54s\tremaining: 1m 9s\n",
            "771:\ttest: 0.7796139\tbest: 0.7797041 (749)\ttotal: 3m 55s\tremaining: 1m 9s\n",
            "772:\ttest: 0.7796310\tbest: 0.7797041 (749)\ttotal: 3m 55s\tremaining: 1m 9s\n",
            "773:\ttest: 0.7796611\tbest: 0.7797041 (749)\ttotal: 3m 55s\tremaining: 1m 8s\n",
            "774:\ttest: 0.7796795\tbest: 0.7797041 (749)\ttotal: 3m 55s\tremaining: 1m 8s\n",
            "775:\ttest: 0.7796711\tbest: 0.7797041 (749)\ttotal: 3m 56s\tremaining: 1m 8s\n",
            "776:\ttest: 0.7797421\tbest: 0.7797421 (776)\ttotal: 3m 56s\tremaining: 1m 7s\n",
            "777:\ttest: 0.7797488\tbest: 0.7797488 (777)\ttotal: 3m 56s\tremaining: 1m 7s\n",
            "778:\ttest: 0.7797713\tbest: 0.7797713 (778)\ttotal: 3m 57s\tremaining: 1m 7s\n",
            "779:\ttest: 0.7797565\tbest: 0.7797713 (778)\ttotal: 3m 57s\tremaining: 1m 7s\n",
            "780:\ttest: 0.7797522\tbest: 0.7797713 (778)\ttotal: 3m 57s\tremaining: 1m 6s\n",
            "781:\ttest: 0.7797474\tbest: 0.7797713 (778)\ttotal: 3m 58s\tremaining: 1m 6s\n",
            "782:\ttest: 0.7797450\tbest: 0.7797713 (778)\ttotal: 3m 58s\tremaining: 1m 6s\n",
            "783:\ttest: 0.7797550\tbest: 0.7797713 (778)\ttotal: 3m 58s\tremaining: 1m 5s\n",
            "784:\ttest: 0.7798044\tbest: 0.7798044 (784)\ttotal: 3m 59s\tremaining: 1m 5s\n",
            "785:\ttest: 0.7798007\tbest: 0.7798044 (784)\ttotal: 3m 59s\tremaining: 1m 5s\n",
            "786:\ttest: 0.7798231\tbest: 0.7798231 (786)\ttotal: 3m 59s\tremaining: 1m 4s\n",
            "787:\ttest: 0.7798482\tbest: 0.7798482 (787)\ttotal: 4m\tremaining: 1m 4s\n",
            "788:\ttest: 0.7798771\tbest: 0.7798771 (788)\ttotal: 4m\tremaining: 1m 4s\n",
            "789:\ttest: 0.7798742\tbest: 0.7798771 (788)\ttotal: 4m\tremaining: 1m 3s\n",
            "790:\ttest: 0.7798925\tbest: 0.7798925 (790)\ttotal: 4m 1s\tremaining: 1m 3s\n",
            "791:\ttest: 0.7798956\tbest: 0.7798956 (791)\ttotal: 4m 1s\tremaining: 1m 3s\n",
            "792:\ttest: 0.7798993\tbest: 0.7798993 (792)\ttotal: 4m 1s\tremaining: 1m 3s\n",
            "793:\ttest: 0.7799751\tbest: 0.7799751 (793)\ttotal: 4m 1s\tremaining: 1m 2s\n",
            "794:\ttest: 0.7800600\tbest: 0.7800600 (794)\ttotal: 4m 2s\tremaining: 1m 2s\n",
            "795:\ttest: 0.7800414\tbest: 0.7800600 (794)\ttotal: 4m 2s\tremaining: 1m 2s\n",
            "796:\ttest: 0.7800228\tbest: 0.7800600 (794)\ttotal: 4m 2s\tremaining: 1m 1s\n",
            "797:\ttest: 0.7799994\tbest: 0.7800600 (794)\ttotal: 4m 3s\tremaining: 1m 1s\n",
            "798:\ttest: 0.7799835\tbest: 0.7800600 (794)\ttotal: 4m 3s\tremaining: 1m 1s\n",
            "799:\ttest: 0.7799641\tbest: 0.7800600 (794)\ttotal: 4m 3s\tremaining: 1m\n",
            "800:\ttest: 0.7799893\tbest: 0.7800600 (794)\ttotal: 4m 4s\tremaining: 1m\n",
            "801:\ttest: 0.7800173\tbest: 0.7800600 (794)\ttotal: 4m 4s\tremaining: 1m\n",
            "802:\ttest: 0.7799929\tbest: 0.7800600 (794)\ttotal: 4m 4s\tremaining: 1m\n",
            "803:\ttest: 0.7800261\tbest: 0.7800600 (794)\ttotal: 4m 5s\tremaining: 59.8s\n",
            "804:\ttest: 0.7800619\tbest: 0.7800619 (804)\ttotal: 4m 5s\tremaining: 59.4s\n",
            "805:\ttest: 0.7800817\tbest: 0.7800817 (805)\ttotal: 4m 5s\tremaining: 59.1s\n",
            "806:\ttest: 0.7800809\tbest: 0.7800817 (805)\ttotal: 4m 5s\tremaining: 58.8s\n",
            "807:\ttest: 0.7800656\tbest: 0.7800817 (805)\ttotal: 4m 6s\tremaining: 58.5s\n",
            "808:\ttest: 0.7800672\tbest: 0.7800817 (805)\ttotal: 4m 6s\tremaining: 58.2s\n",
            "809:\ttest: 0.7801293\tbest: 0.7801293 (809)\ttotal: 4m 6s\tremaining: 57.9s\n",
            "810:\ttest: 0.7802414\tbest: 0.7802414 (810)\ttotal: 4m 7s\tremaining: 57.6s\n",
            "811:\ttest: 0.7802300\tbest: 0.7802414 (810)\ttotal: 4m 7s\tremaining: 57.3s\n",
            "812:\ttest: 0.7802070\tbest: 0.7802414 (810)\ttotal: 4m 7s\tremaining: 57s\n",
            "813:\ttest: 0.7801921\tbest: 0.7802414 (810)\ttotal: 4m 7s\tremaining: 56.7s\n",
            "814:\ttest: 0.7801924\tbest: 0.7802414 (810)\ttotal: 4m 8s\tremaining: 56.4s\n",
            "815:\ttest: 0.7802349\tbest: 0.7802414 (810)\ttotal: 4m 8s\tremaining: 56.1s\n",
            "816:\ttest: 0.7802320\tbest: 0.7802414 (810)\ttotal: 4m 8s\tremaining: 55.8s\n",
            "817:\ttest: 0.7802444\tbest: 0.7802444 (817)\ttotal: 4m 9s\tremaining: 55.5s\n",
            "818:\ttest: 0.7802492\tbest: 0.7802492 (818)\ttotal: 4m 9s\tremaining: 55.1s\n",
            "819:\ttest: 0.7802856\tbest: 0.7802856 (819)\ttotal: 4m 9s\tremaining: 54.8s\n",
            "820:\ttest: 0.7802684\tbest: 0.7802856 (819)\ttotal: 4m 10s\tremaining: 54.5s\n",
            "821:\ttest: 0.7802831\tbest: 0.7802856 (819)\ttotal: 4m 10s\tremaining: 54.2s\n",
            "822:\ttest: 0.7802667\tbest: 0.7802856 (819)\ttotal: 4m 10s\tremaining: 53.9s\n",
            "823:\ttest: 0.7802758\tbest: 0.7802856 (819)\ttotal: 4m 11s\tremaining: 53.6s\n",
            "824:\ttest: 0.7802695\tbest: 0.7802856 (819)\ttotal: 4m 11s\tremaining: 53.3s\n",
            "825:\ttest: 0.7802762\tbest: 0.7802856 (819)\ttotal: 4m 11s\tremaining: 53s\n",
            "826:\ttest: 0.7802319\tbest: 0.7802856 (819)\ttotal: 4m 12s\tremaining: 52.7s\n",
            "827:\ttest: 0.7802308\tbest: 0.7802856 (819)\ttotal: 4m 12s\tremaining: 52.4s\n",
            "828:\ttest: 0.7802628\tbest: 0.7802856 (819)\ttotal: 4m 12s\tremaining: 52.1s\n",
            "829:\ttest: 0.7802745\tbest: 0.7802856 (819)\ttotal: 4m 13s\tremaining: 51.8s\n",
            "830:\ttest: 0.7802611\tbest: 0.7802856 (819)\ttotal: 4m 13s\tremaining: 51.5s\n",
            "831:\ttest: 0.7803060\tbest: 0.7803060 (831)\ttotal: 4m 13s\tremaining: 51.2s\n",
            "832:\ttest: 0.7803164\tbest: 0.7803164 (832)\ttotal: 4m 14s\tremaining: 50.9s\n",
            "833:\ttest: 0.7803007\tbest: 0.7803164 (832)\ttotal: 4m 14s\tremaining: 50.6s\n",
            "834:\ttest: 0.7802779\tbest: 0.7803164 (832)\ttotal: 4m 14s\tremaining: 50.3s\n",
            "835:\ttest: 0.7802736\tbest: 0.7803164 (832)\ttotal: 4m 14s\tremaining: 50s\n",
            "836:\ttest: 0.7802656\tbest: 0.7803164 (832)\ttotal: 4m 15s\tremaining: 49.7s\n",
            "837:\ttest: 0.7802806\tbest: 0.7803164 (832)\ttotal: 4m 15s\tremaining: 49.4s\n",
            "838:\ttest: 0.7802623\tbest: 0.7803164 (832)\ttotal: 4m 15s\tremaining: 49.1s\n",
            "839:\ttest: 0.7802967\tbest: 0.7803164 (832)\ttotal: 4m 15s\tremaining: 48.8s\n",
            "840:\ttest: 0.7803111\tbest: 0.7803164 (832)\ttotal: 4m 16s\tremaining: 48.5s\n",
            "841:\ttest: 0.7803109\tbest: 0.7803164 (832)\ttotal: 4m 16s\tremaining: 48.2s\n",
            "842:\ttest: 0.7803024\tbest: 0.7803164 (832)\ttotal: 4m 16s\tremaining: 47.8s\n",
            "843:\ttest: 0.7803001\tbest: 0.7803164 (832)\ttotal: 4m 17s\tremaining: 47.5s\n",
            "844:\ttest: 0.7802465\tbest: 0.7803164 (832)\ttotal: 4m 17s\tremaining: 47.2s\n",
            "845:\ttest: 0.7802956\tbest: 0.7803164 (832)\ttotal: 4m 17s\tremaining: 46.9s\n",
            "846:\ttest: 0.7802999\tbest: 0.7803164 (832)\ttotal: 4m 18s\tremaining: 46.6s\n",
            "847:\ttest: 0.7803230\tbest: 0.7803230 (847)\ttotal: 4m 18s\tremaining: 46.3s\n",
            "848:\ttest: 0.7802825\tbest: 0.7803230 (847)\ttotal: 4m 18s\tremaining: 46s\n",
            "849:\ttest: 0.7802338\tbest: 0.7803230 (847)\ttotal: 4m 19s\tremaining: 45.7s\n",
            "850:\ttest: 0.7802143\tbest: 0.7803230 (847)\ttotal: 4m 19s\tremaining: 45.4s\n",
            "851:\ttest: 0.7802719\tbest: 0.7803230 (847)\ttotal: 4m 19s\tremaining: 45.1s\n",
            "852:\ttest: 0.7802843\tbest: 0.7803230 (847)\ttotal: 4m 20s\tremaining: 44.8s\n",
            "853:\ttest: 0.7802893\tbest: 0.7803230 (847)\ttotal: 4m 20s\tremaining: 44.5s\n",
            "854:\ttest: 0.7802907\tbest: 0.7803230 (847)\ttotal: 4m 20s\tremaining: 44.2s\n",
            "855:\ttest: 0.7802946\tbest: 0.7803230 (847)\ttotal: 4m 21s\tremaining: 43.9s\n",
            "856:\ttest: 0.7802347\tbest: 0.7803230 (847)\ttotal: 4m 21s\tremaining: 43.6s\n",
            "857:\ttest: 0.7802413\tbest: 0.7803230 (847)\ttotal: 4m 21s\tremaining: 43.3s\n",
            "858:\ttest: 0.7803727\tbest: 0.7803727 (858)\ttotal: 4m 22s\tremaining: 43s\n",
            "859:\ttest: 0.7803847\tbest: 0.7803847 (859)\ttotal: 4m 22s\tremaining: 42.7s\n",
            "860:\ttest: 0.7803724\tbest: 0.7803847 (859)\ttotal: 4m 22s\tremaining: 42.4s\n",
            "861:\ttest: 0.7803567\tbest: 0.7803847 (859)\ttotal: 4m 23s\tremaining: 42.1s\n",
            "862:\ttest: 0.7803239\tbest: 0.7803847 (859)\ttotal: 4m 23s\tremaining: 41.8s\n",
            "863:\ttest: 0.7803456\tbest: 0.7803847 (859)\ttotal: 4m 23s\tremaining: 41.5s\n",
            "864:\ttest: 0.7803357\tbest: 0.7803847 (859)\ttotal: 4m 23s\tremaining: 41.2s\n",
            "865:\ttest: 0.7803287\tbest: 0.7803847 (859)\ttotal: 4m 24s\tremaining: 40.9s\n",
            "866:\ttest: 0.7803429\tbest: 0.7803847 (859)\ttotal: 4m 24s\tremaining: 40.6s\n",
            "867:\ttest: 0.7803569\tbest: 0.7803847 (859)\ttotal: 4m 24s\tremaining: 40.3s\n",
            "868:\ttest: 0.7803699\tbest: 0.7803847 (859)\ttotal: 4m 25s\tremaining: 40s\n",
            "869:\ttest: 0.7803708\tbest: 0.7803847 (859)\ttotal: 4m 25s\tremaining: 39.7s\n",
            "870:\ttest: 0.7803719\tbest: 0.7803847 (859)\ttotal: 4m 25s\tremaining: 39.4s\n",
            "871:\ttest: 0.7803672\tbest: 0.7803847 (859)\ttotal: 4m 26s\tremaining: 39.1s\n",
            "872:\ttest: 0.7803381\tbest: 0.7803847 (859)\ttotal: 4m 26s\tremaining: 38.8s\n",
            "873:\ttest: 0.7803347\tbest: 0.7803847 (859)\ttotal: 4m 26s\tremaining: 38.4s\n",
            "874:\ttest: 0.7803402\tbest: 0.7803847 (859)\ttotal: 4m 26s\tremaining: 38.1s\n",
            "875:\ttest: 0.7803415\tbest: 0.7803847 (859)\ttotal: 4m 27s\tremaining: 37.8s\n",
            "876:\ttest: 0.7803473\tbest: 0.7803847 (859)\ttotal: 4m 27s\tremaining: 37.5s\n",
            "877:\ttest: 0.7803616\tbest: 0.7803847 (859)\ttotal: 4m 27s\tremaining: 37.2s\n",
            "878:\ttest: 0.7803827\tbest: 0.7803847 (859)\ttotal: 4m 28s\tremaining: 36.9s\n",
            "879:\ttest: 0.7804795\tbest: 0.7804795 (879)\ttotal: 4m 28s\tremaining: 36.6s\n",
            "880:\ttest: 0.7804636\tbest: 0.7804795 (879)\ttotal: 4m 28s\tremaining: 36.3s\n",
            "881:\ttest: 0.7805185\tbest: 0.7805185 (881)\ttotal: 4m 29s\tremaining: 36s\n",
            "882:\ttest: 0.7805133\tbest: 0.7805185 (881)\ttotal: 4m 29s\tremaining: 35.7s\n",
            "883:\ttest: 0.7805237\tbest: 0.7805237 (883)\ttotal: 4m 29s\tremaining: 35.4s\n",
            "884:\ttest: 0.7805303\tbest: 0.7805303 (884)\ttotal: 4m 29s\tremaining: 35.1s\n",
            "885:\ttest: 0.7805551\tbest: 0.7805551 (885)\ttotal: 4m 30s\tremaining: 34.8s\n",
            "886:\ttest: 0.7805260\tbest: 0.7805551 (885)\ttotal: 4m 30s\tremaining: 34.5s\n",
            "887:\ttest: 0.7805313\tbest: 0.7805551 (885)\ttotal: 4m 30s\tremaining: 34.2s\n",
            "888:\ttest: 0.7805519\tbest: 0.7805551 (885)\ttotal: 4m 31s\tremaining: 33.9s\n",
            "889:\ttest: 0.7805521\tbest: 0.7805551 (885)\ttotal: 4m 31s\tremaining: 33.6s\n",
            "890:\ttest: 0.7805680\tbest: 0.7805680 (890)\ttotal: 4m 31s\tremaining: 33.3s\n",
            "891:\ttest: 0.7806385\tbest: 0.7806385 (891)\ttotal: 4m 32s\tremaining: 33s\n",
            "892:\ttest: 0.7806265\tbest: 0.7806385 (891)\ttotal: 4m 32s\tremaining: 32.7s\n",
            "893:\ttest: 0.7806561\tbest: 0.7806561 (893)\ttotal: 4m 32s\tremaining: 32.4s\n",
            "894:\ttest: 0.7806718\tbest: 0.7806718 (894)\ttotal: 4m 33s\tremaining: 32.1s\n",
            "895:\ttest: 0.7806412\tbest: 0.7806718 (894)\ttotal: 4m 33s\tremaining: 31.8s\n",
            "896:\ttest: 0.7807050\tbest: 0.7807050 (896)\ttotal: 4m 33s\tremaining: 31.5s\n",
            "897:\ttest: 0.7807650\tbest: 0.7807650 (897)\ttotal: 4m 34s\tremaining: 31.1s\n",
            "898:\ttest: 0.7807810\tbest: 0.7807810 (898)\ttotal: 4m 34s\tremaining: 30.8s\n",
            "899:\ttest: 0.7807949\tbest: 0.7807949 (899)\ttotal: 4m 34s\tremaining: 30.5s\n",
            "900:\ttest: 0.7807822\tbest: 0.7807949 (899)\ttotal: 4m 35s\tremaining: 30.2s\n",
            "901:\ttest: 0.7807489\tbest: 0.7807949 (899)\ttotal: 4m 35s\tremaining: 29.9s\n",
            "902:\ttest: 0.7807968\tbest: 0.7807968 (902)\ttotal: 4m 35s\tremaining: 29.6s\n",
            "903:\ttest: 0.7808159\tbest: 0.7808159 (903)\ttotal: 4m 36s\tremaining: 29.3s\n",
            "904:\ttest: 0.7808808\tbest: 0.7808808 (904)\ttotal: 4m 36s\tremaining: 29s\n",
            "905:\ttest: 0.7808430\tbest: 0.7808808 (904)\ttotal: 4m 36s\tremaining: 28.7s\n",
            "906:\ttest: 0.7808510\tbest: 0.7808808 (904)\ttotal: 4m 37s\tremaining: 28.4s\n",
            "907:\ttest: 0.7808829\tbest: 0.7808829 (907)\ttotal: 4m 37s\tremaining: 28.1s\n",
            "908:\ttest: 0.7809541\tbest: 0.7809541 (908)\ttotal: 4m 37s\tremaining: 27.8s\n",
            "909:\ttest: 0.7809595\tbest: 0.7809595 (909)\ttotal: 4m 38s\tremaining: 27.5s\n",
            "910:\ttest: 0.7809550\tbest: 0.7809595 (909)\ttotal: 4m 38s\tremaining: 27.2s\n",
            "911:\ttest: 0.7809566\tbest: 0.7809595 (909)\ttotal: 4m 38s\tremaining: 26.9s\n",
            "912:\ttest: 0.7809510\tbest: 0.7809595 (909)\ttotal: 4m 38s\tremaining: 26.6s\n",
            "913:\ttest: 0.7809893\tbest: 0.7809893 (913)\ttotal: 4m 39s\tremaining: 26.3s\n",
            "914:\ttest: 0.7810350\tbest: 0.7810350 (914)\ttotal: 4m 39s\tremaining: 26s\n",
            "915:\ttest: 0.7810668\tbest: 0.7810668 (915)\ttotal: 4m 39s\tremaining: 25.7s\n",
            "916:\ttest: 0.7810712\tbest: 0.7810712 (916)\ttotal: 4m 40s\tremaining: 25.4s\n",
            "917:\ttest: 0.7810524\tbest: 0.7810712 (916)\ttotal: 4m 40s\tremaining: 25.1s\n",
            "918:\ttest: 0.7810593\tbest: 0.7810712 (916)\ttotal: 4m 40s\tremaining: 24.8s\n",
            "919:\ttest: 0.7810438\tbest: 0.7810712 (916)\ttotal: 4m 41s\tremaining: 24.5s\n",
            "920:\ttest: 0.7810492\tbest: 0.7810712 (916)\ttotal: 4m 41s\tremaining: 24.1s\n",
            "921:\ttest: 0.7810419\tbest: 0.7810712 (916)\ttotal: 4m 41s\tremaining: 23.8s\n",
            "922:\ttest: 0.7810359\tbest: 0.7810712 (916)\ttotal: 4m 42s\tremaining: 23.5s\n",
            "923:\ttest: 0.7810275\tbest: 0.7810712 (916)\ttotal: 4m 42s\tremaining: 23.2s\n",
            "924:\ttest: 0.7810800\tbest: 0.7810800 (924)\ttotal: 4m 42s\tremaining: 22.9s\n",
            "925:\ttest: 0.7810753\tbest: 0.7810800 (924)\ttotal: 4m 42s\tremaining: 22.6s\n",
            "926:\ttest: 0.7810691\tbest: 0.7810800 (924)\ttotal: 4m 43s\tremaining: 22.3s\n",
            "927:\ttest: 0.7811130\tbest: 0.7811130 (927)\ttotal: 4m 43s\tremaining: 22s\n",
            "928:\ttest: 0.7811224\tbest: 0.7811224 (928)\ttotal: 4m 43s\tremaining: 21.7s\n",
            "929:\ttest: 0.7811294\tbest: 0.7811294 (929)\ttotal: 4m 44s\tremaining: 21.4s\n",
            "930:\ttest: 0.7811260\tbest: 0.7811294 (929)\ttotal: 4m 44s\tremaining: 21.1s\n",
            "931:\ttest: 0.7811260\tbest: 0.7811294 (929)\ttotal: 4m 44s\tremaining: 20.8s\n",
            "932:\ttest: 0.7811641\tbest: 0.7811641 (932)\ttotal: 4m 45s\tremaining: 20.5s\n",
            "933:\ttest: 0.7811461\tbest: 0.7811641 (932)\ttotal: 4m 45s\tremaining: 20.2s\n",
            "934:\ttest: 0.7811461\tbest: 0.7811641 (932)\ttotal: 4m 45s\tremaining: 19.9s\n",
            "935:\ttest: 0.7811327\tbest: 0.7811641 (932)\ttotal: 4m 45s\tremaining: 19.6s\n",
            "936:\ttest: 0.7811334\tbest: 0.7811641 (932)\ttotal: 4m 46s\tremaining: 19.3s\n",
            "937:\ttest: 0.7811256\tbest: 0.7811641 (932)\ttotal: 4m 46s\tremaining: 18.9s\n",
            "938:\ttest: 0.7811627\tbest: 0.7811641 (932)\ttotal: 4m 46s\tremaining: 18.6s\n",
            "939:\ttest: 0.7812033\tbest: 0.7812033 (939)\ttotal: 4m 47s\tremaining: 18.3s\n",
            "940:\ttest: 0.7811985\tbest: 0.7812033 (939)\ttotal: 4m 47s\tremaining: 18s\n",
            "941:\ttest: 0.7811948\tbest: 0.7812033 (939)\ttotal: 4m 47s\tremaining: 17.7s\n",
            "942:\ttest: 0.7811554\tbest: 0.7812033 (939)\ttotal: 4m 48s\tremaining: 17.4s\n",
            "943:\ttest: 0.7811474\tbest: 0.7812033 (939)\ttotal: 4m 48s\tremaining: 17.1s\n",
            "944:\ttest: 0.7811434\tbest: 0.7812033 (939)\ttotal: 4m 48s\tremaining: 16.8s\n",
            "945:\ttest: 0.7811090\tbest: 0.7812033 (939)\ttotal: 4m 49s\tremaining: 16.5s\n",
            "946:\ttest: 0.7811090\tbest: 0.7812033 (939)\ttotal: 4m 49s\tremaining: 16.2s\n",
            "947:\ttest: 0.7811562\tbest: 0.7812033 (939)\ttotal: 4m 49s\tremaining: 15.9s\n",
            "948:\ttest: 0.7811592\tbest: 0.7812033 (939)\ttotal: 4m 50s\tremaining: 15.6s\n",
            "949:\ttest: 0.7811595\tbest: 0.7812033 (939)\ttotal: 4m 50s\tremaining: 15.3s\n",
            "950:\ttest: 0.7811593\tbest: 0.7812033 (939)\ttotal: 4m 50s\tremaining: 15s\n",
            "951:\ttest: 0.7811520\tbest: 0.7812033 (939)\ttotal: 4m 50s\tremaining: 14.7s\n",
            "952:\ttest: 0.7811020\tbest: 0.7812033 (939)\ttotal: 4m 51s\tremaining: 14.4s\n",
            "953:\ttest: 0.7811263\tbest: 0.7812033 (939)\ttotal: 4m 51s\tremaining: 14.1s\n",
            "954:\ttest: 0.7811480\tbest: 0.7812033 (939)\ttotal: 4m 51s\tremaining: 13.7s\n",
            "955:\ttest: 0.7811343\tbest: 0.7812033 (939)\ttotal: 4m 51s\tremaining: 13.4s\n",
            "956:\ttest: 0.7811596\tbest: 0.7812033 (939)\ttotal: 4m 52s\tremaining: 13.1s\n",
            "957:\ttest: 0.7811141\tbest: 0.7812033 (939)\ttotal: 4m 52s\tremaining: 12.8s\n",
            "958:\ttest: 0.7811190\tbest: 0.7812033 (939)\ttotal: 4m 52s\tremaining: 12.5s\n",
            "959:\ttest: 0.7811061\tbest: 0.7812033 (939)\ttotal: 4m 53s\tremaining: 12.2s\n",
            "960:\ttest: 0.7811269\tbest: 0.7812033 (939)\ttotal: 4m 53s\tremaining: 11.9s\n",
            "961:\ttest: 0.7811308\tbest: 0.7812033 (939)\ttotal: 4m 53s\tremaining: 11.6s\n",
            "962:\ttest: 0.7811316\tbest: 0.7812033 (939)\ttotal: 4m 54s\tremaining: 11.3s\n",
            "963:\ttest: 0.7811007\tbest: 0.7812033 (939)\ttotal: 4m 54s\tremaining: 11s\n",
            "964:\ttest: 0.7810809\tbest: 0.7812033 (939)\ttotal: 4m 54s\tremaining: 10.7s\n",
            "965:\ttest: 0.7810469\tbest: 0.7812033 (939)\ttotal: 4m 54s\tremaining: 10.4s\n",
            "966:\ttest: 0.7810606\tbest: 0.7812033 (939)\ttotal: 4m 55s\tremaining: 10.1s\n",
            "967:\ttest: 0.7811007\tbest: 0.7812033 (939)\ttotal: 4m 55s\tremaining: 9.77s\n",
            "968:\ttest: 0.7811187\tbest: 0.7812033 (939)\ttotal: 4m 55s\tremaining: 9.47s\n",
            "969:\ttest: 0.7811313\tbest: 0.7812033 (939)\ttotal: 4m 56s\tremaining: 9.16s\n",
            "970:\ttest: 0.7811244\tbest: 0.7812033 (939)\ttotal: 4m 56s\tremaining: 8.86s\n",
            "971:\ttest: 0.7811484\tbest: 0.7812033 (939)\ttotal: 4m 56s\tremaining: 8.55s\n",
            "972:\ttest: 0.7811436\tbest: 0.7812033 (939)\ttotal: 4m 57s\tremaining: 8.24s\n",
            "973:\ttest: 0.7811697\tbest: 0.7812033 (939)\ttotal: 4m 57s\tremaining: 7.94s\n",
            "974:\ttest: 0.7811520\tbest: 0.7812033 (939)\ttotal: 4m 57s\tremaining: 7.63s\n",
            "975:\ttest: 0.7811581\tbest: 0.7812033 (939)\ttotal: 4m 58s\tremaining: 7.33s\n",
            "976:\ttest: 0.7811497\tbest: 0.7812033 (939)\ttotal: 4m 58s\tremaining: 7.02s\n",
            "977:\ttest: 0.7811351\tbest: 0.7812033 (939)\ttotal: 4m 58s\tremaining: 6.72s\n",
            "978:\ttest: 0.7811540\tbest: 0.7812033 (939)\ttotal: 4m 58s\tremaining: 6.41s\n",
            "979:\ttest: 0.7811379\tbest: 0.7812033 (939)\ttotal: 4m 59s\tremaining: 6.11s\n",
            "980:\ttest: 0.7811572\tbest: 0.7812033 (939)\ttotal: 4m 59s\tremaining: 5.8s\n",
            "981:\ttest: 0.7812047\tbest: 0.7812047 (981)\ttotal: 4m 59s\tremaining: 5.5s\n",
            "982:\ttest: 0.7812007\tbest: 0.7812047 (981)\ttotal: 5m\tremaining: 5.19s\n",
            "983:\ttest: 0.7812246\tbest: 0.7812246 (983)\ttotal: 5m\tremaining: 4.89s\n",
            "984:\ttest: 0.7811949\tbest: 0.7812246 (983)\ttotal: 5m\tremaining: 4.58s\n",
            "985:\ttest: 0.7812001\tbest: 0.7812246 (983)\ttotal: 5m 1s\tremaining: 4.28s\n",
            "986:\ttest: 0.7811590\tbest: 0.7812246 (983)\ttotal: 5m 1s\tremaining: 3.97s\n",
            "987:\ttest: 0.7812688\tbest: 0.7812688 (987)\ttotal: 5m 1s\tremaining: 3.67s\n",
            "988:\ttest: 0.7812449\tbest: 0.7812688 (987)\ttotal: 5m 2s\tremaining: 3.36s\n",
            "989:\ttest: 0.7812340\tbest: 0.7812688 (987)\ttotal: 5m 2s\tremaining: 3.06s\n",
            "990:\ttest: 0.7812058\tbest: 0.7812688 (987)\ttotal: 5m 2s\tremaining: 2.75s\n",
            "991:\ttest: 0.7812602\tbest: 0.7812688 (987)\ttotal: 5m 3s\tremaining: 2.44s\n",
            "992:\ttest: 0.7812594\tbest: 0.7812688 (987)\ttotal: 5m 3s\tremaining: 2.14s\n",
            "993:\ttest: 0.7812718\tbest: 0.7812718 (993)\ttotal: 5m 3s\tremaining: 1.83s\n",
            "994:\ttest: 0.7812827\tbest: 0.7812827 (994)\ttotal: 5m 4s\tremaining: 1.53s\n",
            "995:\ttest: 0.7813941\tbest: 0.7813941 (995)\ttotal: 5m 4s\tremaining: 1.22s\n",
            "996:\ttest: 0.7813712\tbest: 0.7813941 (995)\ttotal: 5m 4s\tremaining: 917ms\n",
            "997:\ttest: 0.7813341\tbest: 0.7813941 (995)\ttotal: 5m 5s\tremaining: 612ms\n",
            "998:\ttest: 0.7813489\tbest: 0.7813941 (995)\ttotal: 5m 5s\tremaining: 306ms\n",
            "999:\ttest: 0.7815077\tbest: 0.7815077 (999)\ttotal: 5m 5s\tremaining: 0us\n",
            "\n",
            "bestTest = 0.7815076502\n",
            "bestIteration = 999\n",
            "\n"
          ],
          "name": "stdout"
        },
        {
          "output_type": "execute_result",
          "data": {
            "text/plain": [
              "<catboost.core.CatBoostClassifier at 0x7fa49ab0f5d0>"
            ]
          },
          "metadata": {
            "tags": []
          },
          "execution_count": 139
        }
      ]
    },
    {
      "cell_type": "markdown",
      "metadata": {
        "id": "Fv8BiAOTLmSc"
      },
      "source": [
        "Данные с отзывами (обработка текстов самим CatBoost)"
      ]
    },
    {
      "cell_type": "code",
      "metadata": {
        "id": "WJysnRCOn6PB",
        "colab": {
          "base_uri": "https://localhost:8080/"
        },
        "outputId": "42f31326-f704-4587-8f31-f4639b30f34e"
      },
      "source": [
        "model = CatBoostClassifier(eval_metric='AUC')\n",
        "\n",
        "model.fit(X_train, y_train, eval_set=(X_test, y_test), cat_features=cat_feats, text_features=text_feats)"
      ],
      "execution_count": 100,
      "outputs": [
        {
          "output_type": "stream",
          "text": [
            "Learning rate set to 0.11721\n",
            "0:\ttest: 0.6903752\tbest: 0.6903752 (0)\ttotal: 1.24s\tremaining: 20m 37s\n",
            "1:\ttest: 0.6948444\tbest: 0.6948444 (1)\ttotal: 2.22s\tremaining: 18m 28s\n",
            "2:\ttest: 0.6938597\tbest: 0.6948444 (1)\ttotal: 3.3s\tremaining: 18m 17s\n",
            "3:\ttest: 0.7039689\tbest: 0.7039689 (3)\ttotal: 4.32s\tremaining: 17m 54s\n",
            "4:\ttest: 0.7175478\tbest: 0.7175478 (4)\ttotal: 5.33s\tremaining: 17m 41s\n",
            "5:\ttest: 0.7270719\tbest: 0.7270719 (5)\ttotal: 6.34s\tremaining: 17m 31s\n",
            "6:\ttest: 0.7651227\tbest: 0.7651227 (6)\ttotal: 7.57s\tremaining: 17m 53s\n",
            "7:\ttest: 0.7801959\tbest: 0.7801959 (7)\ttotal: 8.72s\tremaining: 18m 1s\n",
            "8:\ttest: 0.7852412\tbest: 0.7852412 (8)\ttotal: 9.8s\tremaining: 17m 58s\n",
            "9:\ttest: 0.7869176\tbest: 0.7869176 (9)\ttotal: 10.8s\tremaining: 17m 50s\n",
            "10:\ttest: 0.7877095\tbest: 0.7877095 (10)\ttotal: 11.9s\tremaining: 17m 49s\n",
            "11:\ttest: 0.7881257\tbest: 0.7881257 (11)\ttotal: 13s\tremaining: 17m 50s\n",
            "12:\ttest: 0.7889777\tbest: 0.7889777 (12)\ttotal: 14.1s\tremaining: 17m 47s\n",
            "13:\ttest: 0.7912002\tbest: 0.7912002 (13)\ttotal: 15.2s\tremaining: 17m 50s\n",
            "14:\ttest: 0.7944676\tbest: 0.7944676 (14)\ttotal: 16.3s\tremaining: 17m 47s\n",
            "15:\ttest: 0.7945412\tbest: 0.7945412 (15)\ttotal: 17.3s\tremaining: 17m 43s\n",
            "16:\ttest: 0.7948595\tbest: 0.7948595 (16)\ttotal: 18.4s\tremaining: 17m 42s\n",
            "17:\ttest: 0.7974242\tbest: 0.7974242 (17)\ttotal: 19.4s\tremaining: 17m 39s\n",
            "18:\ttest: 0.7991794\tbest: 0.7991794 (18)\ttotal: 20.4s\tremaining: 17m 34s\n",
            "19:\ttest: 0.7985510\tbest: 0.7991794 (18)\ttotal: 21.5s\tremaining: 17m 35s\n",
            "20:\ttest: 0.7990750\tbest: 0.7991794 (18)\ttotal: 22.6s\tremaining: 17m 32s\n",
            "21:\ttest: 0.8002342\tbest: 0.8002342 (21)\ttotal: 23.7s\tremaining: 17m 34s\n",
            "22:\ttest: 0.8030600\tbest: 0.8030600 (22)\ttotal: 24.8s\tremaining: 17m 32s\n",
            "23:\ttest: 0.8026269\tbest: 0.8030600 (22)\ttotal: 25.8s\tremaining: 17m 27s\n",
            "24:\ttest: 0.8042589\tbest: 0.8042589 (24)\ttotal: 26.8s\tremaining: 17m 23s\n",
            "25:\ttest: 0.8052796\tbest: 0.8052796 (25)\ttotal: 27.8s\tremaining: 17m 20s\n",
            "26:\ttest: 0.8075990\tbest: 0.8075990 (26)\ttotal: 28.9s\tremaining: 17m 20s\n",
            "27:\ttest: 0.8098668\tbest: 0.8098668 (27)\ttotal: 29.9s\tremaining: 17m 19s\n",
            "28:\ttest: 0.8111277\tbest: 0.8111277 (28)\ttotal: 31.1s\tremaining: 17m 19s\n",
            "29:\ttest: 0.8121091\tbest: 0.8121091 (29)\ttotal: 32s\tremaining: 17m 16s\n",
            "30:\ttest: 0.8139022\tbest: 0.8139022 (30)\ttotal: 33.1s\tremaining: 17m 14s\n",
            "31:\ttest: 0.8140745\tbest: 0.8140745 (31)\ttotal: 34.2s\tremaining: 17m 14s\n",
            "32:\ttest: 0.8153491\tbest: 0.8153491 (32)\ttotal: 35.1s\tremaining: 17m 9s\n",
            "33:\ttest: 0.8167481\tbest: 0.8167481 (33)\ttotal: 36.1s\tremaining: 17m 4s\n",
            "34:\ttest: 0.8173643\tbest: 0.8173643 (34)\ttotal: 37.1s\tremaining: 17m 4s\n",
            "35:\ttest: 0.8198214\tbest: 0.8198214 (35)\ttotal: 38.1s\tremaining: 16m 59s\n",
            "36:\ttest: 0.8200778\tbest: 0.8200778 (36)\ttotal: 39.1s\tremaining: 16m 58s\n",
            "37:\ttest: 0.8216096\tbest: 0.8216096 (37)\ttotal: 40.1s\tremaining: 16m 56s\n",
            "38:\ttest: 0.8222913\tbest: 0.8222913 (38)\ttotal: 41.1s\tremaining: 16m 52s\n",
            "39:\ttest: 0.8226795\tbest: 0.8226795 (39)\ttotal: 42.1s\tremaining: 16m 49s\n",
            "40:\ttest: 0.8239527\tbest: 0.8239527 (40)\ttotal: 43s\tremaining: 16m 45s\n",
            "41:\ttest: 0.8260190\tbest: 0.8260190 (41)\ttotal: 44s\tremaining: 16m 44s\n",
            "42:\ttest: 0.8275291\tbest: 0.8275291 (42)\ttotal: 45s\tremaining: 16m 40s\n",
            "43:\ttest: 0.8282566\tbest: 0.8282566 (43)\ttotal: 46s\tremaining: 16m 39s\n",
            "44:\ttest: 0.8291406\tbest: 0.8291406 (44)\ttotal: 47s\tremaining: 16m 36s\n",
            "45:\ttest: 0.8291370\tbest: 0.8291406 (44)\ttotal: 48s\tremaining: 16m 34s\n",
            "46:\ttest: 0.8294891\tbest: 0.8294891 (46)\ttotal: 49s\tremaining: 16m 32s\n",
            "47:\ttest: 0.8305636\tbest: 0.8305636 (47)\ttotal: 49.9s\tremaining: 16m 29s\n",
            "48:\ttest: 0.8315883\tbest: 0.8315883 (48)\ttotal: 50.8s\tremaining: 16m 26s\n",
            "49:\ttest: 0.8323286\tbest: 0.8323286 (49)\ttotal: 51.7s\tremaining: 16m 22s\n",
            "50:\ttest: 0.8326480\tbest: 0.8326480 (50)\ttotal: 52.7s\tremaining: 16m 20s\n",
            "51:\ttest: 0.8334644\tbest: 0.8334644 (51)\ttotal: 53.7s\tremaining: 16m 18s\n",
            "52:\ttest: 0.8345403\tbest: 0.8345403 (52)\ttotal: 54.7s\tremaining: 16m 16s\n",
            "53:\ttest: 0.8350976\tbest: 0.8350976 (53)\ttotal: 55.7s\tremaining: 16m 16s\n",
            "54:\ttest: 0.8352427\tbest: 0.8352427 (54)\ttotal: 56.7s\tremaining: 16m 14s\n",
            "55:\ttest: 0.8364257\tbest: 0.8364257 (55)\ttotal: 57.6s\tremaining: 16m 11s\n",
            "56:\ttest: 0.8373941\tbest: 0.8373941 (56)\ttotal: 58.6s\tremaining: 16m 9s\n",
            "57:\ttest: 0.8380259\tbest: 0.8380259 (57)\ttotal: 59.5s\tremaining: 16m 7s\n",
            "58:\ttest: 0.8386021\tbest: 0.8386021 (58)\ttotal: 1m\tremaining: 16m 3s\n",
            "59:\ttest: 0.8392294\tbest: 0.8392294 (59)\ttotal: 1m 1s\tremaining: 16m\n",
            "60:\ttest: 0.8396756\tbest: 0.8396756 (60)\ttotal: 1m 2s\tremaining: 15m 57s\n",
            "61:\ttest: 0.8401234\tbest: 0.8401234 (61)\ttotal: 1m 3s\tremaining: 15m 54s\n",
            "62:\ttest: 0.8408263\tbest: 0.8408263 (62)\ttotal: 1m 4s\tremaining: 15m 52s\n",
            "63:\ttest: 0.8413753\tbest: 0.8413753 (63)\ttotal: 1m 4s\tremaining: 15m 49s\n",
            "64:\ttest: 0.8418922\tbest: 0.8418922 (64)\ttotal: 1m 5s\tremaining: 15m 47s\n",
            "65:\ttest: 0.8419839\tbest: 0.8419839 (65)\ttotal: 1m 6s\tremaining: 15m 46s\n",
            "66:\ttest: 0.8427242\tbest: 0.8427242 (66)\ttotal: 1m 7s\tremaining: 15m 44s\n",
            "67:\ttest: 0.8434510\tbest: 0.8434510 (67)\ttotal: 1m 8s\tremaining: 15m 41s\n",
            "68:\ttest: 0.8437948\tbest: 0.8437948 (68)\ttotal: 1m 9s\tremaining: 15m 40s\n",
            "69:\ttest: 0.8439964\tbest: 0.8439964 (69)\ttotal: 1m 10s\tremaining: 15m 38s\n",
            "70:\ttest: 0.8443001\tbest: 0.8443001 (70)\ttotal: 1m 11s\tremaining: 15m 35s\n",
            "71:\ttest: 0.8448053\tbest: 0.8448053 (71)\ttotal: 1m 12s\tremaining: 15m 33s\n",
            "72:\ttest: 0.8449946\tbest: 0.8449946 (72)\ttotal: 1m 13s\tremaining: 15m 31s\n",
            "73:\ttest: 0.8453631\tbest: 0.8453631 (73)\ttotal: 1m 14s\tremaining: 15m 29s\n",
            "74:\ttest: 0.8458156\tbest: 0.8458156 (74)\ttotal: 1m 15s\tremaining: 15m 26s\n",
            "75:\ttest: 0.8462518\tbest: 0.8462518 (75)\ttotal: 1m 15s\tremaining: 15m 23s\n",
            "76:\ttest: 0.8465569\tbest: 0.8465569 (76)\ttotal: 1m 16s\tremaining: 15m 21s\n",
            "77:\ttest: 0.8466681\tbest: 0.8466681 (77)\ttotal: 1m 17s\tremaining: 15m 19s\n",
            "78:\ttest: 0.8470092\tbest: 0.8470092 (78)\ttotal: 1m 18s\tremaining: 15m 17s\n",
            "79:\ttest: 0.8472388\tbest: 0.8472388 (79)\ttotal: 1m 19s\tremaining: 15m 15s\n",
            "80:\ttest: 0.8477708\tbest: 0.8477708 (80)\ttotal: 1m 20s\tremaining: 15m 13s\n",
            "81:\ttest: 0.8479599\tbest: 0.8479599 (81)\ttotal: 1m 21s\tremaining: 15m 10s\n",
            "82:\ttest: 0.8483823\tbest: 0.8483823 (82)\ttotal: 1m 22s\tremaining: 15m 9s\n",
            "83:\ttest: 0.8488873\tbest: 0.8488873 (83)\ttotal: 1m 23s\tremaining: 15m 7s\n",
            "84:\ttest: 0.8492912\tbest: 0.8492912 (84)\ttotal: 1m 24s\tremaining: 15m 6s\n",
            "85:\ttest: 0.8494808\tbest: 0.8494808 (85)\ttotal: 1m 25s\tremaining: 15m 4s\n",
            "86:\ttest: 0.8497139\tbest: 0.8497139 (86)\ttotal: 1m 25s\tremaining: 15m 1s\n",
            "87:\ttest: 0.8498569\tbest: 0.8498569 (87)\ttotal: 1m 26s\tremaining: 14m 59s\n",
            "88:\ttest: 0.8500944\tbest: 0.8500944 (88)\ttotal: 1m 27s\tremaining: 14m 58s\n",
            "89:\ttest: 0.8504360\tbest: 0.8504360 (89)\ttotal: 1m 28s\tremaining: 14m 56s\n",
            "90:\ttest: 0.8508661\tbest: 0.8508661 (90)\ttotal: 1m 29s\tremaining: 14m 54s\n",
            "91:\ttest: 0.8511237\tbest: 0.8511237 (91)\ttotal: 1m 30s\tremaining: 14m 53s\n",
            "92:\ttest: 0.8514131\tbest: 0.8514131 (92)\ttotal: 1m 31s\tremaining: 14m 52s\n",
            "93:\ttest: 0.8515112\tbest: 0.8515112 (93)\ttotal: 1m 32s\tremaining: 14m 51s\n",
            "94:\ttest: 0.8519242\tbest: 0.8519242 (94)\ttotal: 1m 33s\tremaining: 14m 49s\n",
            "95:\ttest: 0.8522393\tbest: 0.8522393 (95)\ttotal: 1m 34s\tremaining: 14m 48s\n",
            "96:\ttest: 0.8523986\tbest: 0.8523986 (96)\ttotal: 1m 35s\tremaining: 14m 47s\n",
            "97:\ttest: 0.8526571\tbest: 0.8526571 (97)\ttotal: 1m 36s\tremaining: 14m 46s\n",
            "98:\ttest: 0.8529897\tbest: 0.8529897 (98)\ttotal: 1m 37s\tremaining: 14m 45s\n",
            "99:\ttest: 0.8532089\tbest: 0.8532089 (99)\ttotal: 1m 38s\tremaining: 14m 46s\n",
            "100:\ttest: 0.8534395\tbest: 0.8534395 (100)\ttotal: 1m 39s\tremaining: 14m 45s\n",
            "101:\ttest: 0.8536642\tbest: 0.8536642 (101)\ttotal: 1m 40s\tremaining: 14m 44s\n",
            "102:\ttest: 0.8539398\tbest: 0.8539398 (102)\ttotal: 1m 41s\tremaining: 14m 42s\n",
            "103:\ttest: 0.8543524\tbest: 0.8543524 (103)\ttotal: 1m 42s\tremaining: 14m 42s\n",
            "104:\ttest: 0.8545250\tbest: 0.8545250 (104)\ttotal: 1m 43s\tremaining: 14m 42s\n",
            "105:\ttest: 0.8546215\tbest: 0.8546215 (105)\ttotal: 1m 44s\tremaining: 14m 40s\n",
            "106:\ttest: 0.8546953\tbest: 0.8546953 (106)\ttotal: 1m 45s\tremaining: 14m 39s\n",
            "107:\ttest: 0.8548969\tbest: 0.8548969 (107)\ttotal: 1m 46s\tremaining: 14m 37s\n",
            "108:\ttest: 0.8547762\tbest: 0.8548969 (107)\ttotal: 1m 47s\tremaining: 14m 36s\n",
            "109:\ttest: 0.8550910\tbest: 0.8550910 (109)\ttotal: 1m 48s\tremaining: 14m 35s\n",
            "110:\ttest: 0.8552957\tbest: 0.8552957 (110)\ttotal: 1m 49s\tremaining: 14m 34s\n",
            "111:\ttest: 0.8554925\tbest: 0.8554925 (111)\ttotal: 1m 50s\tremaining: 14m 32s\n",
            "112:\ttest: 0.8555392\tbest: 0.8555392 (112)\ttotal: 1m 51s\tremaining: 14m 32s\n",
            "113:\ttest: 0.8556414\tbest: 0.8556414 (113)\ttotal: 1m 52s\tremaining: 14m 32s\n",
            "114:\ttest: 0.8558276\tbest: 0.8558276 (114)\ttotal: 1m 53s\tremaining: 14m 30s\n",
            "115:\ttest: 0.8562160\tbest: 0.8562160 (115)\ttotal: 1m 54s\tremaining: 14m 28s\n",
            "116:\ttest: 0.8565870\tbest: 0.8565870 (116)\ttotal: 1m 54s\tremaining: 14m 26s\n",
            "117:\ttest: 0.8566018\tbest: 0.8566018 (117)\ttotal: 1m 55s\tremaining: 14m 25s\n",
            "118:\ttest: 0.8567889\tbest: 0.8567889 (118)\ttotal: 1m 56s\tremaining: 14m 23s\n",
            "119:\ttest: 0.8573210\tbest: 0.8573210 (119)\ttotal: 1m 57s\tremaining: 14m 24s\n",
            "120:\ttest: 0.8577655\tbest: 0.8577655 (120)\ttotal: 1m 59s\tremaining: 14m 24s\n",
            "121:\ttest: 0.8579957\tbest: 0.8579957 (121)\ttotal: 1m 59s\tremaining: 14m 23s\n",
            "122:\ttest: 0.8581529\tbest: 0.8581529 (122)\ttotal: 2m\tremaining: 14m 21s\n",
            "123:\ttest: 0.8583268\tbest: 0.8583268 (123)\ttotal: 2m 1s\tremaining: 14m 21s\n",
            "124:\ttest: 0.8584447\tbest: 0.8584447 (124)\ttotal: 2m 2s\tremaining: 14m 19s\n",
            "125:\ttest: 0.8585920\tbest: 0.8585920 (125)\ttotal: 2m 3s\tremaining: 14m 18s\n",
            "126:\ttest: 0.8587535\tbest: 0.8587535 (126)\ttotal: 2m 4s\tremaining: 14m 16s\n",
            "127:\ttest: 0.8589369\tbest: 0.8589369 (127)\ttotal: 2m 5s\tremaining: 14m 15s\n",
            "128:\ttest: 0.8590730\tbest: 0.8590730 (128)\ttotal: 2m 6s\tremaining: 14m 14s\n",
            "129:\ttest: 0.8592963\tbest: 0.8592963 (129)\ttotal: 2m 7s\tremaining: 14m 13s\n",
            "130:\ttest: 0.8594686\tbest: 0.8594686 (130)\ttotal: 2m 8s\tremaining: 14m 13s\n",
            "131:\ttest: 0.8594305\tbest: 0.8594686 (130)\ttotal: 2m 9s\tremaining: 14m 12s\n",
            "132:\ttest: 0.8595198\tbest: 0.8595198 (132)\ttotal: 2m 10s\tremaining: 14m 11s\n",
            "133:\ttest: 0.8596387\tbest: 0.8596387 (133)\ttotal: 2m 11s\tremaining: 14m 10s\n",
            "134:\ttest: 0.8600124\tbest: 0.8600124 (134)\ttotal: 2m 12s\tremaining: 14m 8s\n",
            "135:\ttest: 0.8601453\tbest: 0.8601453 (135)\ttotal: 2m 13s\tremaining: 14m 8s\n",
            "136:\ttest: 0.8602311\tbest: 0.8602311 (136)\ttotal: 2m 14s\tremaining: 14m 6s\n",
            "137:\ttest: 0.8603976\tbest: 0.8603976 (137)\ttotal: 2m 15s\tremaining: 14m 5s\n",
            "138:\ttest: 0.8605128\tbest: 0.8605128 (138)\ttotal: 2m 16s\tremaining: 14m 4s\n",
            "139:\ttest: 0.8608028\tbest: 0.8608028 (139)\ttotal: 2m 17s\tremaining: 14m 2s\n",
            "140:\ttest: 0.8609506\tbest: 0.8609506 (140)\ttotal: 2m 18s\tremaining: 14m 1s\n",
            "141:\ttest: 0.8612560\tbest: 0.8612560 (141)\ttotal: 2m 18s\tremaining: 13m 59s\n",
            "142:\ttest: 0.8611945\tbest: 0.8612560 (141)\ttotal: 2m 19s\tremaining: 13m 58s\n",
            "143:\ttest: 0.8612694\tbest: 0.8612694 (143)\ttotal: 2m 20s\tremaining: 13m 57s\n",
            "144:\ttest: 0.8613545\tbest: 0.8613545 (144)\ttotal: 2m 21s\tremaining: 13m 55s\n",
            "145:\ttest: 0.8615667\tbest: 0.8615667 (145)\ttotal: 2m 22s\tremaining: 13m 54s\n",
            "146:\ttest: 0.8616192\tbest: 0.8616192 (146)\ttotal: 2m 23s\tremaining: 13m 52s\n",
            "147:\ttest: 0.8617586\tbest: 0.8617586 (147)\ttotal: 2m 24s\tremaining: 13m 51s\n",
            "148:\ttest: 0.8619458\tbest: 0.8619458 (148)\ttotal: 2m 25s\tremaining: 13m 49s\n",
            "149:\ttest: 0.8619959\tbest: 0.8619959 (149)\ttotal: 2m 26s\tremaining: 13m 48s\n",
            "150:\ttest: 0.8621434\tbest: 0.8621434 (150)\ttotal: 2m 27s\tremaining: 13m 47s\n",
            "151:\ttest: 0.8623379\tbest: 0.8623379 (151)\ttotal: 2m 28s\tremaining: 13m 46s\n",
            "152:\ttest: 0.8625601\tbest: 0.8625601 (152)\ttotal: 2m 29s\tremaining: 13m 45s\n",
            "153:\ttest: 0.8625857\tbest: 0.8625857 (153)\ttotal: 2m 30s\tremaining: 13m 44s\n",
            "154:\ttest: 0.8629134\tbest: 0.8629134 (154)\ttotal: 2m 30s\tremaining: 13m 42s\n",
            "155:\ttest: 0.8630648\tbest: 0.8630648 (155)\ttotal: 2m 31s\tremaining: 13m 42s\n",
            "156:\ttest: 0.8631775\tbest: 0.8631775 (156)\ttotal: 2m 32s\tremaining: 13m 40s\n",
            "157:\ttest: 0.8633176\tbest: 0.8633176 (157)\ttotal: 2m 33s\tremaining: 13m 39s\n",
            "158:\ttest: 0.8634459\tbest: 0.8634459 (158)\ttotal: 2m 34s\tremaining: 13m 38s\n",
            "159:\ttest: 0.8636044\tbest: 0.8636044 (159)\ttotal: 2m 35s\tremaining: 13m 36s\n",
            "160:\ttest: 0.8636589\tbest: 0.8636589 (160)\ttotal: 2m 36s\tremaining: 13m 35s\n",
            "161:\ttest: 0.8638860\tbest: 0.8638860 (161)\ttotal: 2m 37s\tremaining: 13m 34s\n",
            "162:\ttest: 0.8640125\tbest: 0.8640125 (162)\ttotal: 2m 38s\tremaining: 13m 32s\n",
            "163:\ttest: 0.8640738\tbest: 0.8640738 (163)\ttotal: 2m 39s\tremaining: 13m 31s\n",
            "164:\ttest: 0.8641464\tbest: 0.8641464 (164)\ttotal: 2m 40s\tremaining: 13m 30s\n",
            "165:\ttest: 0.8643793\tbest: 0.8643793 (165)\ttotal: 2m 41s\tremaining: 13m 29s\n",
            "166:\ttest: 0.8644852\tbest: 0.8644852 (166)\ttotal: 2m 42s\tremaining: 13m 28s\n",
            "167:\ttest: 0.8645622\tbest: 0.8645622 (167)\ttotal: 2m 42s\tremaining: 13m 26s\n",
            "168:\ttest: 0.8646818\tbest: 0.8646818 (168)\ttotal: 2m 43s\tremaining: 13m 25s\n",
            "169:\ttest: 0.8647943\tbest: 0.8647943 (169)\ttotal: 2m 44s\tremaining: 13m 24s\n",
            "170:\ttest: 0.8648583\tbest: 0.8648583 (170)\ttotal: 2m 45s\tremaining: 13m 23s\n",
            "171:\ttest: 0.8649646\tbest: 0.8649646 (171)\ttotal: 2m 46s\tremaining: 13m 22s\n",
            "172:\ttest: 0.8650540\tbest: 0.8650540 (172)\ttotal: 2m 47s\tremaining: 13m 21s\n",
            "173:\ttest: 0.8651283\tbest: 0.8651283 (173)\ttotal: 2m 48s\tremaining: 13m 19s\n",
            "174:\ttest: 0.8652621\tbest: 0.8652621 (174)\ttotal: 2m 49s\tremaining: 13m 18s\n",
            "175:\ttest: 0.8654786\tbest: 0.8654786 (175)\ttotal: 2m 50s\tremaining: 13m 17s\n",
            "176:\ttest: 0.8655236\tbest: 0.8655236 (176)\ttotal: 2m 51s\tremaining: 13m 17s\n",
            "177:\ttest: 0.8656699\tbest: 0.8656699 (177)\ttotal: 2m 52s\tremaining: 13m 16s\n",
            "178:\ttest: 0.8656982\tbest: 0.8656982 (178)\ttotal: 2m 53s\tremaining: 13m 15s\n",
            "179:\ttest: 0.8658335\tbest: 0.8658335 (179)\ttotal: 2m 54s\tremaining: 13m 15s\n",
            "180:\ttest: 0.8658375\tbest: 0.8658375 (180)\ttotal: 2m 55s\tremaining: 13m 13s\n",
            "181:\ttest: 0.8660064\tbest: 0.8660064 (181)\ttotal: 2m 56s\tremaining: 13m 12s\n",
            "182:\ttest: 0.8661532\tbest: 0.8661532 (182)\ttotal: 2m 57s\tremaining: 13m 11s\n",
            "183:\ttest: 0.8662462\tbest: 0.8662462 (183)\ttotal: 2m 58s\tremaining: 13m 10s\n",
            "184:\ttest: 0.8662758\tbest: 0.8662758 (184)\ttotal: 2m 59s\tremaining: 13m 9s\n",
            "185:\ttest: 0.8664337\tbest: 0.8664337 (185)\ttotal: 3m\tremaining: 13m 8s\n",
            "186:\ttest: 0.8664906\tbest: 0.8664906 (186)\ttotal: 3m 1s\tremaining: 13m 7s\n",
            "187:\ttest: 0.8665981\tbest: 0.8665981 (187)\ttotal: 3m 2s\tremaining: 13m 7s\n",
            "188:\ttest: 0.8667032\tbest: 0.8667032 (188)\ttotal: 3m 3s\tremaining: 13m 6s\n",
            "189:\ttest: 0.8667876\tbest: 0.8667876 (189)\ttotal: 3m 4s\tremaining: 13m 5s\n",
            "190:\ttest: 0.8669823\tbest: 0.8669823 (190)\ttotal: 3m 5s\tremaining: 13m 3s\n",
            "191:\ttest: 0.8672611\tbest: 0.8672611 (191)\ttotal: 3m 6s\tremaining: 13m 3s\n",
            "192:\ttest: 0.8675241\tbest: 0.8675241 (192)\ttotal: 3m 7s\tremaining: 13m 2s\n",
            "193:\ttest: 0.8675834\tbest: 0.8675834 (193)\ttotal: 3m 8s\tremaining: 13m 1s\n",
            "194:\ttest: 0.8675794\tbest: 0.8675834 (193)\ttotal: 3m 9s\tremaining: 13m\n",
            "195:\ttest: 0.8676617\tbest: 0.8676617 (195)\ttotal: 3m 9s\tremaining: 12m 59s\n",
            "196:\ttest: 0.8677414\tbest: 0.8677414 (196)\ttotal: 3m 10s\tremaining: 12m 58s\n",
            "197:\ttest: 0.8678384\tbest: 0.8678384 (197)\ttotal: 3m 11s\tremaining: 12m 57s\n",
            "198:\ttest: 0.8679186\tbest: 0.8679186 (198)\ttotal: 3m 12s\tremaining: 12m 56s\n",
            "199:\ttest: 0.8682543\tbest: 0.8682543 (199)\ttotal: 3m 13s\tremaining: 12m 55s\n",
            "200:\ttest: 0.8683239\tbest: 0.8683239 (200)\ttotal: 3m 14s\tremaining: 12m 54s\n",
            "201:\ttest: 0.8683728\tbest: 0.8683728 (201)\ttotal: 3m 15s\tremaining: 12m 53s\n",
            "202:\ttest: 0.8687990\tbest: 0.8687990 (202)\ttotal: 3m 16s\tremaining: 12m 53s\n",
            "203:\ttest: 0.8687997\tbest: 0.8687997 (203)\ttotal: 3m 17s\tremaining: 12m 52s\n",
            "204:\ttest: 0.8689705\tbest: 0.8689705 (204)\ttotal: 3m 18s\tremaining: 12m 50s\n",
            "205:\ttest: 0.8690196\tbest: 0.8690196 (205)\ttotal: 3m 19s\tremaining: 12m 49s\n",
            "206:\ttest: 0.8691208\tbest: 0.8691208 (206)\ttotal: 3m 20s\tremaining: 12m 48s\n",
            "207:\ttest: 0.8693204\tbest: 0.8693204 (207)\ttotal: 3m 21s\tremaining: 12m 47s\n",
            "208:\ttest: 0.8694306\tbest: 0.8694306 (208)\ttotal: 3m 22s\tremaining: 12m 46s\n",
            "209:\ttest: 0.8694733\tbest: 0.8694733 (209)\ttotal: 3m 23s\tremaining: 12m 45s\n",
            "210:\ttest: 0.8695995\tbest: 0.8695995 (210)\ttotal: 3m 24s\tremaining: 12m 44s\n",
            "211:\ttest: 0.8696859\tbest: 0.8696859 (211)\ttotal: 3m 25s\tremaining: 12m 43s\n",
            "212:\ttest: 0.8698116\tbest: 0.8698116 (212)\ttotal: 3m 26s\tremaining: 12m 42s\n",
            "213:\ttest: 0.8698250\tbest: 0.8698250 (213)\ttotal: 3m 27s\tremaining: 12m 40s\n",
            "214:\ttest: 0.8699058\tbest: 0.8699058 (214)\ttotal: 3m 28s\tremaining: 12m 39s\n",
            "215:\ttest: 0.8699706\tbest: 0.8699706 (215)\ttotal: 3m 29s\tremaining: 12m 38s\n",
            "216:\ttest: 0.8699006\tbest: 0.8699706 (215)\ttotal: 3m 30s\tremaining: 12m 38s\n",
            "217:\ttest: 0.8700261\tbest: 0.8700261 (217)\ttotal: 3m 31s\tremaining: 12m 37s\n",
            "218:\ttest: 0.8700056\tbest: 0.8700261 (217)\ttotal: 3m 32s\tremaining: 12m 36s\n",
            "219:\ttest: 0.8701026\tbest: 0.8701026 (219)\ttotal: 3m 33s\tremaining: 12m 35s\n",
            "220:\ttest: 0.8701750\tbest: 0.8701750 (220)\ttotal: 3m 34s\tremaining: 12m 34s\n",
            "221:\ttest: 0.8701546\tbest: 0.8701750 (220)\ttotal: 3m 35s\tremaining: 12m 33s\n",
            "222:\ttest: 0.8701284\tbest: 0.8701750 (220)\ttotal: 3m 35s\tremaining: 12m 32s\n",
            "223:\ttest: 0.8701680\tbest: 0.8701750 (220)\ttotal: 3m 37s\tremaining: 12m 31s\n",
            "224:\ttest: 0.8702841\tbest: 0.8702841 (224)\ttotal: 3m 37s\tremaining: 12m 30s\n",
            "225:\ttest: 0.8703499\tbest: 0.8703499 (225)\ttotal: 3m 38s\tremaining: 12m 29s\n",
            "226:\ttest: 0.8703810\tbest: 0.8703810 (226)\ttotal: 3m 39s\tremaining: 12m 28s\n",
            "227:\ttest: 0.8704025\tbest: 0.8704025 (227)\ttotal: 3m 40s\tremaining: 12m 27s\n",
            "228:\ttest: 0.8705090\tbest: 0.8705090 (228)\ttotal: 3m 41s\tremaining: 12m 27s\n",
            "229:\ttest: 0.8706226\tbest: 0.8706226 (229)\ttotal: 3m 42s\tremaining: 12m 26s\n",
            "230:\ttest: 0.8706556\tbest: 0.8706556 (230)\ttotal: 3m 43s\tremaining: 12m 25s\n",
            "231:\ttest: 0.8707372\tbest: 0.8707372 (231)\ttotal: 3m 44s\tremaining: 12m 24s\n",
            "232:\ttest: 0.8712116\tbest: 0.8712116 (232)\ttotal: 3m 45s\tremaining: 12m 23s\n",
            "233:\ttest: 0.8712969\tbest: 0.8712969 (233)\ttotal: 3m 46s\tremaining: 12m 22s\n",
            "234:\ttest: 0.8713491\tbest: 0.8713491 (234)\ttotal: 3m 47s\tremaining: 12m 21s\n",
            "235:\ttest: 0.8714043\tbest: 0.8714043 (235)\ttotal: 3m 48s\tremaining: 12m 20s\n",
            "236:\ttest: 0.8715433\tbest: 0.8715433 (236)\ttotal: 3m 49s\tremaining: 12m 18s\n",
            "237:\ttest: 0.8715607\tbest: 0.8715607 (237)\ttotal: 3m 50s\tremaining: 12m 17s\n",
            "238:\ttest: 0.8716630\tbest: 0.8716630 (238)\ttotal: 3m 51s\tremaining: 12m 16s\n",
            "239:\ttest: 0.8717165\tbest: 0.8717165 (239)\ttotal: 3m 52s\tremaining: 12m 15s\n",
            "240:\ttest: 0.8717813\tbest: 0.8717813 (240)\ttotal: 3m 53s\tremaining: 12m 14s\n",
            "241:\ttest: 0.8718775\tbest: 0.8718775 (241)\ttotal: 3m 54s\tremaining: 12m 12s\n",
            "242:\ttest: 0.8719418\tbest: 0.8719418 (242)\ttotal: 3m 54s\tremaining: 12m 11s\n",
            "243:\ttest: 0.8719609\tbest: 0.8719609 (243)\ttotal: 3m 55s\tremaining: 12m 10s\n",
            "244:\ttest: 0.8720304\tbest: 0.8720304 (244)\ttotal: 3m 56s\tremaining: 12m 9s\n",
            "245:\ttest: 0.8720870\tbest: 0.8720870 (245)\ttotal: 3m 57s\tremaining: 12m 8s\n",
            "246:\ttest: 0.8720736\tbest: 0.8720870 (245)\ttotal: 3m 58s\tremaining: 12m 8s\n",
            "247:\ttest: 0.8720895\tbest: 0.8720895 (247)\ttotal: 3m 59s\tremaining: 12m 6s\n",
            "248:\ttest: 0.8720903\tbest: 0.8720903 (248)\ttotal: 4m\tremaining: 12m 6s\n",
            "249:\ttest: 0.8720795\tbest: 0.8720903 (248)\ttotal: 4m 1s\tremaining: 12m 4s\n",
            "250:\ttest: 0.8720906\tbest: 0.8720906 (250)\ttotal: 4m 2s\tremaining: 12m 3s\n",
            "251:\ttest: 0.8721174\tbest: 0.8721174 (251)\ttotal: 4m 3s\tremaining: 12m 2s\n",
            "252:\ttest: 0.8722302\tbest: 0.8722302 (252)\ttotal: 4m 4s\tremaining: 12m 1s\n",
            "253:\ttest: 0.8722594\tbest: 0.8722594 (253)\ttotal: 4m 5s\tremaining: 12m\n",
            "254:\ttest: 0.8723370\tbest: 0.8723370 (254)\ttotal: 4m 6s\tremaining: 11m 59s\n",
            "255:\ttest: 0.8725065\tbest: 0.8725065 (255)\ttotal: 4m 7s\tremaining: 11m 58s\n",
            "256:\ttest: 0.8724897\tbest: 0.8725065 (255)\ttotal: 4m 8s\tremaining: 11m 57s\n",
            "257:\ttest: 0.8725454\tbest: 0.8725454 (257)\ttotal: 4m 9s\tremaining: 11m 56s\n",
            "258:\ttest: 0.8725696\tbest: 0.8725696 (258)\ttotal: 4m 9s\tremaining: 11m 55s\n",
            "259:\ttest: 0.8725831\tbest: 0.8725831 (259)\ttotal: 4m 10s\tremaining: 11m 53s\n",
            "260:\ttest: 0.8727114\tbest: 0.8727114 (260)\ttotal: 4m 11s\tremaining: 11m 52s\n",
            "261:\ttest: 0.8727288\tbest: 0.8727288 (261)\ttotal: 4m 12s\tremaining: 11m 51s\n",
            "262:\ttest: 0.8727045\tbest: 0.8727288 (261)\ttotal: 4m 13s\tremaining: 11m 50s\n",
            "263:\ttest: 0.8727469\tbest: 0.8727469 (263)\ttotal: 4m 14s\tremaining: 11m 49s\n",
            "264:\ttest: 0.8728312\tbest: 0.8728312 (264)\ttotal: 4m 15s\tremaining: 11m 48s\n",
            "265:\ttest: 0.8728960\tbest: 0.8728960 (265)\ttotal: 4m 16s\tremaining: 11m 47s\n",
            "266:\ttest: 0.8729893\tbest: 0.8729893 (266)\ttotal: 4m 17s\tremaining: 11m 46s\n",
            "267:\ttest: 0.8730268\tbest: 0.8730268 (267)\ttotal: 4m 18s\tremaining: 11m 45s\n",
            "268:\ttest: 0.8730063\tbest: 0.8730268 (267)\ttotal: 4m 19s\tremaining: 11m 44s\n",
            "269:\ttest: 0.8730171\tbest: 0.8730268 (267)\ttotal: 4m 20s\tremaining: 11m 43s\n",
            "270:\ttest: 0.8730192\tbest: 0.8730268 (267)\ttotal: 4m 21s\tremaining: 11m 42s\n",
            "271:\ttest: 0.8730717\tbest: 0.8730717 (271)\ttotal: 4m 22s\tremaining: 11m 41s\n",
            "272:\ttest: 0.8731319\tbest: 0.8731319 (272)\ttotal: 4m 22s\tremaining: 11m 40s\n",
            "273:\ttest: 0.8732064\tbest: 0.8732064 (273)\ttotal: 4m 23s\tremaining: 11m 39s\n",
            "274:\ttest: 0.8733148\tbest: 0.8733148 (274)\ttotal: 4m 24s\tremaining: 11m 38s\n",
            "275:\ttest: 0.8733504\tbest: 0.8733504 (275)\ttotal: 4m 25s\tremaining: 11m 37s\n",
            "276:\ttest: 0.8734121\tbest: 0.8734121 (276)\ttotal: 4m 26s\tremaining: 11m 36s\n",
            "277:\ttest: 0.8734687\tbest: 0.8734687 (277)\ttotal: 4m 27s\tremaining: 11m 35s\n",
            "278:\ttest: 0.8735226\tbest: 0.8735226 (278)\ttotal: 4m 28s\tremaining: 11m 33s\n",
            "279:\ttest: 0.8736190\tbest: 0.8736190 (279)\ttotal: 4m 29s\tremaining: 11m 32s\n",
            "280:\ttest: 0.8736519\tbest: 0.8736519 (280)\ttotal: 4m 30s\tremaining: 11m 31s\n",
            "281:\ttest: 0.8737421\tbest: 0.8737421 (281)\ttotal: 4m 31s\tremaining: 11m 30s\n",
            "282:\ttest: 0.8737574\tbest: 0.8737574 (282)\ttotal: 4m 32s\tremaining: 11m 29s\n",
            "283:\ttest: 0.8738081\tbest: 0.8738081 (283)\ttotal: 4m 33s\tremaining: 11m 28s\n",
            "284:\ttest: 0.8738956\tbest: 0.8738956 (284)\ttotal: 4m 34s\tremaining: 11m 27s\n",
            "285:\ttest: 0.8739023\tbest: 0.8739023 (285)\ttotal: 4m 35s\tremaining: 11m 26s\n",
            "286:\ttest: 0.8739488\tbest: 0.8739488 (286)\ttotal: 4m 35s\tremaining: 11m 25s\n",
            "287:\ttest: 0.8740409\tbest: 0.8740409 (287)\ttotal: 4m 36s\tremaining: 11m 24s\n",
            "288:\ttest: 0.8740930\tbest: 0.8740930 (288)\ttotal: 4m 37s\tremaining: 11m 23s\n",
            "289:\ttest: 0.8741944\tbest: 0.8741944 (289)\ttotal: 4m 38s\tremaining: 11m 22s\n",
            "290:\ttest: 0.8743321\tbest: 0.8743321 (290)\ttotal: 4m 39s\tremaining: 11m 21s\n",
            "291:\ttest: 0.8744438\tbest: 0.8744438 (291)\ttotal: 4m 40s\tremaining: 11m 20s\n",
            "292:\ttest: 0.8745730\tbest: 0.8745730 (292)\ttotal: 4m 41s\tremaining: 11m 20s\n",
            "293:\ttest: 0.8747334\tbest: 0.8747334 (293)\ttotal: 4m 43s\tremaining: 11m 19s\n",
            "294:\ttest: 0.8747935\tbest: 0.8747935 (294)\ttotal: 4m 43s\tremaining: 11m 18s\n",
            "295:\ttest: 0.8748304\tbest: 0.8748304 (295)\ttotal: 4m 44s\tremaining: 11m 17s\n",
            "296:\ttest: 0.8749867\tbest: 0.8749867 (296)\ttotal: 4m 45s\tremaining: 11m 16s\n",
            "297:\ttest: 0.8750733\tbest: 0.8750733 (297)\ttotal: 4m 46s\tremaining: 11m 15s\n",
            "298:\ttest: 0.8750723\tbest: 0.8750733 (297)\ttotal: 4m 47s\tremaining: 11m 14s\n",
            "299:\ttest: 0.8751958\tbest: 0.8751958 (299)\ttotal: 4m 48s\tremaining: 11m 13s\n",
            "300:\ttest: 0.8752601\tbest: 0.8752601 (300)\ttotal: 4m 49s\tremaining: 11m 12s\n",
            "301:\ttest: 0.8753824\tbest: 0.8753824 (301)\ttotal: 4m 50s\tremaining: 11m 11s\n",
            "302:\ttest: 0.8753987\tbest: 0.8753987 (302)\ttotal: 4m 51s\tremaining: 11m 10s\n",
            "303:\ttest: 0.8755010\tbest: 0.8755010 (303)\ttotal: 4m 52s\tremaining: 11m 9s\n",
            "304:\ttest: 0.8756178\tbest: 0.8756178 (304)\ttotal: 4m 53s\tremaining: 11m 8s\n",
            "305:\ttest: 0.8756509\tbest: 0.8756509 (305)\ttotal: 4m 54s\tremaining: 11m 7s\n",
            "306:\ttest: 0.8756959\tbest: 0.8756959 (306)\ttotal: 4m 55s\tremaining: 11m 6s\n",
            "307:\ttest: 0.8757886\tbest: 0.8757886 (307)\ttotal: 4m 56s\tremaining: 11m 5s\n",
            "308:\ttest: 0.8758570\tbest: 0.8758570 (308)\ttotal: 4m 57s\tremaining: 11m 4s\n",
            "309:\ttest: 0.8758595\tbest: 0.8758595 (309)\ttotal: 4m 58s\tremaining: 11m 3s\n",
            "310:\ttest: 0.8758790\tbest: 0.8758790 (310)\ttotal: 4m 59s\tremaining: 11m 2s\n",
            "311:\ttest: 0.8759220\tbest: 0.8759220 (311)\ttotal: 4m 59s\tremaining: 11m 1s\n",
            "312:\ttest: 0.8759535\tbest: 0.8759535 (312)\ttotal: 5m\tremaining: 11m\n",
            "313:\ttest: 0.8760016\tbest: 0.8760016 (313)\ttotal: 5m 1s\tremaining: 10m 59s\n",
            "314:\ttest: 0.8760350\tbest: 0.8760350 (314)\ttotal: 5m 2s\tremaining: 10m 58s\n",
            "315:\ttest: 0.8760642\tbest: 0.8760642 (315)\ttotal: 5m 3s\tremaining: 10m 57s\n",
            "316:\ttest: 0.8760606\tbest: 0.8760642 (315)\ttotal: 5m 4s\tremaining: 10m 56s\n",
            "317:\ttest: 0.8760763\tbest: 0.8760763 (317)\ttotal: 5m 5s\tremaining: 10m 55s\n",
            "318:\ttest: 0.8761636\tbest: 0.8761636 (318)\ttotal: 5m 6s\tremaining: 10m 54s\n",
            "319:\ttest: 0.8762017\tbest: 0.8762017 (319)\ttotal: 5m 7s\tremaining: 10m 53s\n",
            "320:\ttest: 0.8764591\tbest: 0.8764591 (320)\ttotal: 5m 8s\tremaining: 10m 52s\n",
            "321:\ttest: 0.8764621\tbest: 0.8764621 (321)\ttotal: 5m 9s\tremaining: 10m 51s\n",
            "322:\ttest: 0.8765024\tbest: 0.8765024 (322)\ttotal: 5m 10s\tremaining: 10m 50s\n",
            "323:\ttest: 0.8765162\tbest: 0.8765162 (323)\ttotal: 5m 11s\tremaining: 10m 49s\n",
            "324:\ttest: 0.8765134\tbest: 0.8765162 (323)\ttotal: 5m 12s\tremaining: 10m 48s\n",
            "325:\ttest: 0.8765435\tbest: 0.8765435 (325)\ttotal: 5m 13s\tremaining: 10m 47s\n",
            "326:\ttest: 0.8766085\tbest: 0.8766085 (326)\ttotal: 5m 14s\tremaining: 10m 46s\n",
            "327:\ttest: 0.8766054\tbest: 0.8766085 (326)\ttotal: 5m 15s\tremaining: 10m 45s\n",
            "328:\ttest: 0.8767685\tbest: 0.8767685 (328)\ttotal: 5m 16s\tremaining: 10m 44s\n",
            "329:\ttest: 0.8768266\tbest: 0.8768266 (329)\ttotal: 5m 17s\tremaining: 10m 43s\n",
            "330:\ttest: 0.8769138\tbest: 0.8769138 (330)\ttotal: 5m 18s\tremaining: 10m 42s\n",
            "331:\ttest: 0.8768976\tbest: 0.8769138 (330)\ttotal: 5m 18s\tremaining: 10m 41s\n",
            "332:\ttest: 0.8769324\tbest: 0.8769324 (332)\ttotal: 5m 19s\tremaining: 10m 40s\n",
            "333:\ttest: 0.8769458\tbest: 0.8769458 (333)\ttotal: 5m 20s\tremaining: 10m 39s\n",
            "334:\ttest: 0.8770243\tbest: 0.8770243 (334)\ttotal: 5m 21s\tremaining: 10m 38s\n",
            "335:\ttest: 0.8770866\tbest: 0.8770866 (335)\ttotal: 5m 22s\tremaining: 10m 37s\n",
            "336:\ttest: 0.8771331\tbest: 0.8771331 (336)\ttotal: 5m 23s\tremaining: 10m 36s\n",
            "337:\ttest: 0.8772562\tbest: 0.8772562 (337)\ttotal: 5m 24s\tremaining: 10m 35s\n",
            "338:\ttest: 0.8774644\tbest: 0.8774644 (338)\ttotal: 5m 25s\tremaining: 10m 34s\n",
            "339:\ttest: 0.8775169\tbest: 0.8775169 (339)\ttotal: 5m 26s\tremaining: 10m 33s\n",
            "340:\ttest: 0.8775442\tbest: 0.8775442 (340)\ttotal: 5m 27s\tremaining: 10m 32s\n",
            "341:\ttest: 0.8775965\tbest: 0.8775965 (341)\ttotal: 5m 28s\tremaining: 10m 31s\n",
            "342:\ttest: 0.8776812\tbest: 0.8776812 (342)\ttotal: 5m 28s\tremaining: 10m 30s\n",
            "343:\ttest: 0.8777542\tbest: 0.8777542 (343)\ttotal: 5m 29s\tremaining: 10m 29s\n",
            "344:\ttest: 0.8778034\tbest: 0.8778034 (344)\ttotal: 5m 30s\tremaining: 10m 28s\n",
            "345:\ttest: 0.8779038\tbest: 0.8779038 (345)\ttotal: 5m 31s\tremaining: 10m 27s\n",
            "346:\ttest: 0.8779215\tbest: 0.8779215 (346)\ttotal: 5m 32s\tremaining: 10m 26s\n",
            "347:\ttest: 0.8779691\tbest: 0.8779691 (347)\ttotal: 5m 33s\tremaining: 10m 25s\n",
            "348:\ttest: 0.8780192\tbest: 0.8780192 (348)\ttotal: 5m 34s\tremaining: 10m 24s\n",
            "349:\ttest: 0.8779987\tbest: 0.8780192 (348)\ttotal: 5m 35s\tremaining: 10m 23s\n",
            "350:\ttest: 0.8780171\tbest: 0.8780192 (348)\ttotal: 5m 36s\tremaining: 10m 22s\n",
            "351:\ttest: 0.8780694\tbest: 0.8780694 (351)\ttotal: 5m 37s\tremaining: 10m 21s\n",
            "352:\ttest: 0.8780757\tbest: 0.8780757 (352)\ttotal: 5m 38s\tremaining: 10m 20s\n",
            "353:\ttest: 0.8780826\tbest: 0.8780826 (353)\ttotal: 5m 39s\tremaining: 10m 19s\n",
            "354:\ttest: 0.8781266\tbest: 0.8781266 (354)\ttotal: 5m 40s\tremaining: 10m 18s\n",
            "355:\ttest: 0.8781201\tbest: 0.8781266 (354)\ttotal: 5m 41s\tremaining: 10m 17s\n",
            "356:\ttest: 0.8780869\tbest: 0.8781266 (354)\ttotal: 5m 42s\tremaining: 10m 16s\n",
            "357:\ttest: 0.8782236\tbest: 0.8782236 (357)\ttotal: 5m 43s\tremaining: 10m 16s\n",
            "358:\ttest: 0.8782427\tbest: 0.8782427 (358)\ttotal: 5m 44s\tremaining: 10m 15s\n",
            "359:\ttest: 0.8783060\tbest: 0.8783060 (359)\ttotal: 5m 45s\tremaining: 10m 14s\n",
            "360:\ttest: 0.8783776\tbest: 0.8783776 (360)\ttotal: 5m 46s\tremaining: 10m 13s\n",
            "361:\ttest: 0.8784302\tbest: 0.8784302 (361)\ttotal: 5m 47s\tremaining: 10m 12s\n",
            "362:\ttest: 0.8785094\tbest: 0.8785094 (362)\ttotal: 5m 48s\tremaining: 10m 11s\n",
            "363:\ttest: 0.8785446\tbest: 0.8785446 (363)\ttotal: 5m 49s\tremaining: 10m 10s\n",
            "364:\ttest: 0.8785750\tbest: 0.8785750 (364)\ttotal: 5m 50s\tremaining: 10m 8s\n",
            "365:\ttest: 0.8785652\tbest: 0.8785750 (364)\ttotal: 5m 50s\tremaining: 10m 7s\n",
            "366:\ttest: 0.8786007\tbest: 0.8786007 (366)\ttotal: 5m 51s\tremaining: 10m 6s\n",
            "367:\ttest: 0.8786366\tbest: 0.8786366 (367)\ttotal: 5m 52s\tremaining: 10m 6s\n",
            "368:\ttest: 0.8786785\tbest: 0.8786785 (368)\ttotal: 5m 53s\tremaining: 10m 4s\n",
            "369:\ttest: 0.8787158\tbest: 0.8787158 (369)\ttotal: 5m 54s\tremaining: 10m 3s\n",
            "370:\ttest: 0.8787305\tbest: 0.8787305 (370)\ttotal: 5m 55s\tremaining: 10m 2s\n",
            "371:\ttest: 0.8787708\tbest: 0.8787708 (371)\ttotal: 5m 56s\tremaining: 10m 1s\n",
            "372:\ttest: 0.8788057\tbest: 0.8788057 (372)\ttotal: 5m 57s\tremaining: 10m\n",
            "373:\ttest: 0.8789147\tbest: 0.8789147 (373)\ttotal: 5m 58s\tremaining: 9m 59s\n",
            "374:\ttest: 0.8789351\tbest: 0.8789351 (374)\ttotal: 5m 59s\tremaining: 9m 58s\n",
            "375:\ttest: 0.8789293\tbest: 0.8789351 (374)\ttotal: 6m\tremaining: 9m 57s\n",
            "376:\ttest: 0.8791436\tbest: 0.8791436 (376)\ttotal: 6m 1s\tremaining: 9m 56s\n",
            "377:\ttest: 0.8791603\tbest: 0.8791603 (377)\ttotal: 6m 2s\tremaining: 9m 55s\n",
            "378:\ttest: 0.8791805\tbest: 0.8791805 (378)\ttotal: 6m 3s\tremaining: 9m 54s\n",
            "379:\ttest: 0.8792511\tbest: 0.8792511 (379)\ttotal: 6m 3s\tremaining: 9m 53s\n",
            "380:\ttest: 0.8793305\tbest: 0.8793305 (380)\ttotal: 6m 4s\tremaining: 9m 52s\n",
            "381:\ttest: 0.8793694\tbest: 0.8793694 (381)\ttotal: 6m 5s\tremaining: 9m 51s\n",
            "382:\ttest: 0.8793847\tbest: 0.8793847 (382)\ttotal: 6m 6s\tremaining: 9m 50s\n",
            "383:\ttest: 0.8793886\tbest: 0.8793886 (383)\ttotal: 6m 7s\tremaining: 9m 49s\n",
            "384:\ttest: 0.8794075\tbest: 0.8794075 (384)\ttotal: 6m 8s\tremaining: 9m 48s\n",
            "385:\ttest: 0.8794411\tbest: 0.8794411 (385)\ttotal: 6m 9s\tremaining: 9m 47s\n",
            "386:\ttest: 0.8794520\tbest: 0.8794520 (386)\ttotal: 6m 10s\tremaining: 9m 46s\n",
            "387:\ttest: 0.8794907\tbest: 0.8794907 (387)\ttotal: 6m 11s\tremaining: 9m 45s\n",
            "388:\ttest: 0.8794841\tbest: 0.8794907 (387)\ttotal: 6m 12s\tremaining: 9m 44s\n",
            "389:\ttest: 0.8794588\tbest: 0.8794907 (387)\ttotal: 6m 13s\tremaining: 9m 44s\n",
            "390:\ttest: 0.8795114\tbest: 0.8795114 (390)\ttotal: 6m 14s\tremaining: 9m 43s\n",
            "391:\ttest: 0.8795793\tbest: 0.8795793 (391)\ttotal: 6m 15s\tremaining: 9m 42s\n",
            "392:\ttest: 0.8796061\tbest: 0.8796061 (392)\ttotal: 6m 16s\tremaining: 9m 41s\n",
            "393:\ttest: 0.8796813\tbest: 0.8796813 (393)\ttotal: 6m 17s\tremaining: 9m 40s\n",
            "394:\ttest: 0.8796996\tbest: 0.8796996 (394)\ttotal: 6m 18s\tremaining: 9m 39s\n",
            "395:\ttest: 0.8797409\tbest: 0.8797409 (395)\ttotal: 6m 19s\tremaining: 9m 38s\n",
            "396:\ttest: 0.8797793\tbest: 0.8797793 (396)\ttotal: 6m 19s\tremaining: 9m 37s\n",
            "397:\ttest: 0.8797676\tbest: 0.8797793 (396)\ttotal: 6m 20s\tremaining: 9m 36s\n",
            "398:\ttest: 0.8797814\tbest: 0.8797814 (398)\ttotal: 6m 21s\tremaining: 9m 35s\n",
            "399:\ttest: 0.8798218\tbest: 0.8798218 (399)\ttotal: 6m 22s\tremaining: 9m 34s\n",
            "400:\ttest: 0.8798135\tbest: 0.8798218 (399)\ttotal: 6m 23s\tremaining: 9m 33s\n",
            "401:\ttest: 0.8798233\tbest: 0.8798233 (401)\ttotal: 6m 24s\tremaining: 9m 31s\n",
            "402:\ttest: 0.8798307\tbest: 0.8798307 (402)\ttotal: 6m 25s\tremaining: 9m 30s\n",
            "403:\ttest: 0.8798189\tbest: 0.8798307 (402)\ttotal: 6m 26s\tremaining: 9m 30s\n",
            "404:\ttest: 0.8798437\tbest: 0.8798437 (404)\ttotal: 6m 27s\tremaining: 9m 29s\n",
            "405:\ttest: 0.8798594\tbest: 0.8798594 (405)\ttotal: 6m 28s\tremaining: 9m 27s\n",
            "406:\ttest: 0.8798871\tbest: 0.8798871 (406)\ttotal: 6m 29s\tremaining: 9m 27s\n",
            "407:\ttest: 0.8799134\tbest: 0.8799134 (407)\ttotal: 6m 30s\tremaining: 9m 26s\n",
            "408:\ttest: 0.8799560\tbest: 0.8799560 (408)\ttotal: 6m 31s\tremaining: 9m 25s\n",
            "409:\ttest: 0.8800669\tbest: 0.8800669 (409)\ttotal: 6m 32s\tremaining: 9m 24s\n",
            "410:\ttest: 0.8800826\tbest: 0.8800826 (410)\ttotal: 6m 33s\tremaining: 9m 23s\n",
            "411:\ttest: 0.8801215\tbest: 0.8801215 (411)\ttotal: 6m 34s\tremaining: 9m 22s\n",
            "412:\ttest: 0.8801252\tbest: 0.8801252 (412)\ttotal: 6m 35s\tremaining: 9m 21s\n",
            "413:\ttest: 0.8801655\tbest: 0.8801655 (413)\ttotal: 6m 36s\tremaining: 9m 20s\n",
            "414:\ttest: 0.8802405\tbest: 0.8802405 (414)\ttotal: 6m 37s\tremaining: 9m 19s\n",
            "415:\ttest: 0.8802812\tbest: 0.8802812 (415)\ttotal: 6m 38s\tremaining: 9m 19s\n",
            "416:\ttest: 0.8803412\tbest: 0.8803412 (416)\ttotal: 6m 39s\tremaining: 9m 18s\n",
            "417:\ttest: 0.8803797\tbest: 0.8803797 (417)\ttotal: 6m 40s\tremaining: 9m 17s\n",
            "418:\ttest: 0.8804003\tbest: 0.8804003 (418)\ttotal: 6m 40s\tremaining: 9m 16s\n",
            "419:\ttest: 0.8804323\tbest: 0.8804323 (419)\ttotal: 6m 41s\tremaining: 9m 14s\n",
            "420:\ttest: 0.8804534\tbest: 0.8804534 (420)\ttotal: 6m 42s\tremaining: 9m 13s\n",
            "421:\ttest: 0.8804624\tbest: 0.8804624 (421)\ttotal: 6m 43s\tremaining: 9m 12s\n",
            "422:\ttest: 0.8805314\tbest: 0.8805314 (422)\ttotal: 6m 44s\tremaining: 9m 11s\n",
            "423:\ttest: 0.8805457\tbest: 0.8805457 (423)\ttotal: 6m 45s\tremaining: 9m 10s\n",
            "424:\ttest: 0.8806026\tbest: 0.8806026 (424)\ttotal: 6m 46s\tremaining: 9m 9s\n",
            "425:\ttest: 0.8805769\tbest: 0.8806026 (424)\ttotal: 6m 47s\tremaining: 9m 8s\n",
            "426:\ttest: 0.8806238\tbest: 0.8806238 (426)\ttotal: 6m 48s\tremaining: 9m 8s\n",
            "427:\ttest: 0.8806788\tbest: 0.8806788 (427)\ttotal: 6m 49s\tremaining: 9m 6s\n",
            "428:\ttest: 0.8806958\tbest: 0.8806958 (428)\ttotal: 6m 50s\tremaining: 9m 5s\n",
            "429:\ttest: 0.8806611\tbest: 0.8806958 (428)\ttotal: 6m 51s\tremaining: 9m 5s\n",
            "430:\ttest: 0.8807264\tbest: 0.8807264 (430)\ttotal: 6m 52s\tremaining: 9m 4s\n",
            "431:\ttest: 0.8807161\tbest: 0.8807264 (430)\ttotal: 6m 52s\tremaining: 9m 3s\n",
            "432:\ttest: 0.8807452\tbest: 0.8807452 (432)\ttotal: 6m 53s\tremaining: 9m 2s\n",
            "433:\ttest: 0.8808101\tbest: 0.8808101 (433)\ttotal: 6m 54s\tremaining: 9m 1s\n",
            "434:\ttest: 0.8808456\tbest: 0.8808456 (434)\ttotal: 6m 55s\tremaining: 8m 59s\n",
            "435:\ttest: 0.8808955\tbest: 0.8808955 (435)\ttotal: 6m 56s\tremaining: 8m 58s\n",
            "436:\ttest: 0.8809229\tbest: 0.8809229 (436)\ttotal: 6m 57s\tremaining: 8m 57s\n",
            "437:\ttest: 0.8809896\tbest: 0.8809896 (437)\ttotal: 6m 58s\tremaining: 8m 56s\n",
            "438:\ttest: 0.8810294\tbest: 0.8810294 (438)\ttotal: 6m 59s\tremaining: 8m 55s\n",
            "439:\ttest: 0.8810542\tbest: 0.8810542 (439)\ttotal: 7m\tremaining: 8m 54s\n",
            "440:\ttest: 0.8811443\tbest: 0.8811443 (440)\ttotal: 7m 1s\tremaining: 8m 53s\n",
            "441:\ttest: 0.8811533\tbest: 0.8811533 (441)\ttotal: 7m 1s\tremaining: 8m 52s\n",
            "442:\ttest: 0.8811703\tbest: 0.8811703 (442)\ttotal: 7m 2s\tremaining: 8m 51s\n",
            "443:\ttest: 0.8812212\tbest: 0.8812212 (443)\ttotal: 7m 3s\tremaining: 8m 50s\n",
            "444:\ttest: 0.8812502\tbest: 0.8812502 (444)\ttotal: 7m 4s\tremaining: 8m 49s\n",
            "445:\ttest: 0.8812423\tbest: 0.8812502 (444)\ttotal: 7m 5s\tremaining: 8m 48s\n",
            "446:\ttest: 0.8812688\tbest: 0.8812688 (446)\ttotal: 7m 6s\tremaining: 8m 47s\n",
            "447:\ttest: 0.8812945\tbest: 0.8812945 (447)\ttotal: 7m 7s\tremaining: 8m 46s\n",
            "448:\ttest: 0.8812897\tbest: 0.8812945 (447)\ttotal: 7m 8s\tremaining: 8m 45s\n",
            "449:\ttest: 0.8813207\tbest: 0.8813207 (449)\ttotal: 7m 9s\tremaining: 8m 45s\n",
            "450:\ttest: 0.8813709\tbest: 0.8813709 (450)\ttotal: 7m 10s\tremaining: 8m 44s\n",
            "451:\ttest: 0.8813556\tbest: 0.8813709 (450)\ttotal: 7m 11s\tremaining: 8m 43s\n",
            "452:\ttest: 0.8813567\tbest: 0.8813709 (450)\ttotal: 7m 12s\tremaining: 8m 42s\n",
            "453:\ttest: 0.8813773\tbest: 0.8813773 (453)\ttotal: 7m 13s\tremaining: 8m 41s\n",
            "454:\ttest: 0.8813856\tbest: 0.8813856 (454)\ttotal: 7m 14s\tremaining: 8m 40s\n",
            "455:\ttest: 0.8814568\tbest: 0.8814568 (455)\ttotal: 7m 15s\tremaining: 8m 38s\n",
            "456:\ttest: 0.8814738\tbest: 0.8814738 (456)\ttotal: 7m 15s\tremaining: 8m 37s\n",
            "457:\ttest: 0.8814846\tbest: 0.8814846 (457)\ttotal: 7m 16s\tremaining: 8m 36s\n",
            "458:\ttest: 0.8815732\tbest: 0.8815732 (458)\ttotal: 7m 17s\tremaining: 8m 36s\n",
            "459:\ttest: 0.8816046\tbest: 0.8816046 (459)\ttotal: 7m 18s\tremaining: 8m 35s\n",
            "460:\ttest: 0.8816314\tbest: 0.8816314 (460)\ttotal: 7m 19s\tremaining: 8m 34s\n",
            "461:\ttest: 0.8816383\tbest: 0.8816383 (461)\ttotal: 7m 20s\tremaining: 8m 33s\n",
            "462:\ttest: 0.8816298\tbest: 0.8816383 (461)\ttotal: 7m 21s\tremaining: 8m 32s\n",
            "463:\ttest: 0.8816425\tbest: 0.8816425 (463)\ttotal: 7m 22s\tremaining: 8m 31s\n",
            "464:\ttest: 0.8817148\tbest: 0.8817148 (464)\ttotal: 7m 23s\tremaining: 8m 30s\n",
            "465:\ttest: 0.8817221\tbest: 0.8817221 (465)\ttotal: 7m 24s\tremaining: 8m 29s\n",
            "466:\ttest: 0.8817395\tbest: 0.8817395 (466)\ttotal: 7m 25s\tremaining: 8m 28s\n",
            "467:\ttest: 0.8817560\tbest: 0.8817560 (467)\ttotal: 7m 26s\tremaining: 8m 27s\n",
            "468:\ttest: 0.8817618\tbest: 0.8817618 (468)\ttotal: 7m 27s\tremaining: 8m 26s\n",
            "469:\ttest: 0.8817342\tbest: 0.8817618 (468)\ttotal: 7m 27s\tremaining: 8m 25s\n",
            "470:\ttest: 0.8817539\tbest: 0.8817618 (468)\ttotal: 7m 29s\tremaining: 8m 24s\n",
            "471:\ttest: 0.8817618\tbest: 0.8817618 (471)\ttotal: 7m 29s\tremaining: 8m 23s\n",
            "472:\ttest: 0.8818299\tbest: 0.8818299 (472)\ttotal: 7m 30s\tremaining: 8m 22s\n",
            "473:\ttest: 0.8818521\tbest: 0.8818521 (473)\ttotal: 7m 31s\tremaining: 8m 21s\n",
            "474:\ttest: 0.8818568\tbest: 0.8818568 (474)\ttotal: 7m 32s\tremaining: 8m 20s\n",
            "475:\ttest: 0.8818750\tbest: 0.8818750 (475)\ttotal: 7m 33s\tremaining: 8m 19s\n",
            "476:\ttest: 0.8818990\tbest: 0.8818990 (476)\ttotal: 7m 34s\tremaining: 8m 18s\n",
            "477:\ttest: 0.8819614\tbest: 0.8819614 (477)\ttotal: 7m 35s\tremaining: 8m 17s\n",
            "478:\ttest: 0.8819688\tbest: 0.8819688 (478)\ttotal: 7m 36s\tremaining: 8m 16s\n",
            "479:\ttest: 0.8820073\tbest: 0.8820073 (479)\ttotal: 7m 37s\tremaining: 8m 15s\n",
            "480:\ttest: 0.8820378\tbest: 0.8820378 (480)\ttotal: 7m 38s\tremaining: 8m 14s\n",
            "481:\ttest: 0.8820447\tbest: 0.8820447 (481)\ttotal: 7m 38s\tremaining: 8m 13s\n",
            "482:\ttest: 0.8820583\tbest: 0.8820583 (482)\ttotal: 7m 39s\tremaining: 8m 12s\n",
            "483:\ttest: 0.8820463\tbest: 0.8820583 (482)\ttotal: 7m 40s\tremaining: 8m 11s\n",
            "484:\ttest: 0.8820567\tbest: 0.8820583 (482)\ttotal: 7m 41s\tremaining: 8m 10s\n",
            "485:\ttest: 0.8820698\tbest: 0.8820698 (485)\ttotal: 7m 42s\tremaining: 8m 9s\n",
            "486:\ttest: 0.8820657\tbest: 0.8820698 (485)\ttotal: 7m 43s\tremaining: 8m 8s\n",
            "487:\ttest: 0.8820903\tbest: 0.8820903 (487)\ttotal: 7m 44s\tremaining: 8m 7s\n",
            "488:\ttest: 0.8820986\tbest: 0.8820986 (488)\ttotal: 7m 45s\tremaining: 8m 6s\n",
            "489:\ttest: 0.8821061\tbest: 0.8821061 (489)\ttotal: 7m 46s\tremaining: 8m 5s\n",
            "490:\ttest: 0.8821328\tbest: 0.8821328 (490)\ttotal: 7m 47s\tremaining: 8m 4s\n",
            "491:\ttest: 0.8821325\tbest: 0.8821328 (490)\ttotal: 7m 47s\tremaining: 8m 3s\n",
            "492:\ttest: 0.8821800\tbest: 0.8821800 (492)\ttotal: 7m 48s\tremaining: 8m 2s\n",
            "493:\ttest: 0.8822244\tbest: 0.8822244 (493)\ttotal: 7m 49s\tremaining: 8m 1s\n",
            "494:\ttest: 0.8822825\tbest: 0.8822825 (494)\ttotal: 7m 50s\tremaining: 8m\n",
            "495:\ttest: 0.8823024\tbest: 0.8823024 (495)\ttotal: 7m 51s\tremaining: 7m 59s\n",
            "496:\ttest: 0.8823517\tbest: 0.8823517 (496)\ttotal: 7m 52s\tremaining: 7m 58s\n",
            "497:\ttest: 0.8823499\tbest: 0.8823517 (496)\ttotal: 7m 53s\tremaining: 7m 57s\n",
            "498:\ttest: 0.8823908\tbest: 0.8823908 (498)\ttotal: 7m 54s\tremaining: 7m 56s\n",
            "499:\ttest: 0.8824430\tbest: 0.8824430 (499)\ttotal: 7m 55s\tremaining: 7m 55s\n",
            "500:\ttest: 0.8824733\tbest: 0.8824733 (500)\ttotal: 7m 56s\tremaining: 7m 54s\n",
            "501:\ttest: 0.8825180\tbest: 0.8825180 (501)\ttotal: 7m 57s\tremaining: 7m 53s\n",
            "502:\ttest: 0.8825247\tbest: 0.8825247 (502)\ttotal: 7m 58s\tremaining: 7m 52s\n",
            "503:\ttest: 0.8825550\tbest: 0.8825550 (503)\ttotal: 7m 59s\tremaining: 7m 51s\n",
            "504:\ttest: 0.8825852\tbest: 0.8825852 (504)\ttotal: 8m\tremaining: 7m 50s\n",
            "505:\ttest: 0.8826458\tbest: 0.8826458 (505)\ttotal: 8m 1s\tremaining: 7m 49s\n",
            "506:\ttest: 0.8826688\tbest: 0.8826688 (506)\ttotal: 8m 2s\tremaining: 7m 48s\n",
            "507:\ttest: 0.8826654\tbest: 0.8826688 (506)\ttotal: 8m 2s\tremaining: 7m 47s\n",
            "508:\ttest: 0.8826841\tbest: 0.8826841 (508)\ttotal: 8m 3s\tremaining: 7m 46s\n",
            "509:\ttest: 0.8827146\tbest: 0.8827146 (509)\ttotal: 8m 4s\tremaining: 7m 45s\n",
            "510:\ttest: 0.8827539\tbest: 0.8827539 (510)\ttotal: 8m 5s\tremaining: 7m 44s\n",
            "511:\ttest: 0.8827218\tbest: 0.8827539 (510)\ttotal: 8m 6s\tremaining: 7m 43s\n",
            "512:\ttest: 0.8827595\tbest: 0.8827595 (512)\ttotal: 8m 7s\tremaining: 7m 42s\n",
            "513:\ttest: 0.8827398\tbest: 0.8827595 (512)\ttotal: 8m 8s\tremaining: 7m 41s\n",
            "514:\ttest: 0.8827958\tbest: 0.8827958 (514)\ttotal: 8m 9s\tremaining: 7m 40s\n",
            "515:\ttest: 0.8828270\tbest: 0.8828270 (515)\ttotal: 8m 10s\tremaining: 7m 39s\n",
            "516:\ttest: 0.8828673\tbest: 0.8828673 (516)\ttotal: 8m 11s\tremaining: 7m 38s\n",
            "517:\ttest: 0.8828914\tbest: 0.8828914 (517)\ttotal: 8m 11s\tremaining: 7m 37s\n",
            "518:\ttest: 0.8829036\tbest: 0.8829036 (518)\ttotal: 8m 12s\tremaining: 7m 36s\n",
            "519:\ttest: 0.8829000\tbest: 0.8829036 (518)\ttotal: 8m 13s\tremaining: 7m 35s\n",
            "520:\ttest: 0.8829520\tbest: 0.8829520 (520)\ttotal: 8m 14s\tremaining: 7m 34s\n",
            "521:\ttest: 0.8829901\tbest: 0.8829901 (521)\ttotal: 8m 15s\tremaining: 7m 33s\n",
            "522:\ttest: 0.8830070\tbest: 0.8830070 (522)\ttotal: 8m 16s\tremaining: 7m 32s\n",
            "523:\ttest: 0.8830163\tbest: 0.8830163 (523)\ttotal: 8m 17s\tremaining: 7m 31s\n",
            "524:\ttest: 0.8830138\tbest: 0.8830163 (523)\ttotal: 8m 17s\tremaining: 7m 30s\n",
            "525:\ttest: 0.8830329\tbest: 0.8830329 (525)\ttotal: 8m 18s\tremaining: 7m 29s\n",
            "526:\ttest: 0.8830357\tbest: 0.8830357 (526)\ttotal: 8m 19s\tremaining: 7m 28s\n",
            "527:\ttest: 0.8830454\tbest: 0.8830454 (527)\ttotal: 8m 20s\tremaining: 7m 27s\n",
            "528:\ttest: 0.8830927\tbest: 0.8830927 (528)\ttotal: 8m 21s\tremaining: 7m 26s\n",
            "529:\ttest: 0.8831462\tbest: 0.8831462 (529)\ttotal: 8m 22s\tremaining: 7m 25s\n",
            "530:\ttest: 0.8831238\tbest: 0.8831462 (529)\ttotal: 8m 23s\tremaining: 7m 24s\n",
            "531:\ttest: 0.8831449\tbest: 0.8831462 (529)\ttotal: 8m 24s\tremaining: 7m 23s\n",
            "532:\ttest: 0.8831792\tbest: 0.8831792 (532)\ttotal: 8m 25s\tremaining: 7m 22s\n",
            "533:\ttest: 0.8831967\tbest: 0.8831967 (533)\ttotal: 8m 26s\tremaining: 7m 21s\n",
            "534:\ttest: 0.8832101\tbest: 0.8832101 (534)\ttotal: 8m 27s\tremaining: 7m 20s\n",
            "535:\ttest: 0.8832079\tbest: 0.8832101 (534)\ttotal: 8m 27s\tremaining: 7m 19s\n",
            "536:\ttest: 0.8831906\tbest: 0.8832101 (534)\ttotal: 8m 28s\tremaining: 7m 18s\n",
            "537:\ttest: 0.8831848\tbest: 0.8832101 (534)\ttotal: 8m 29s\tremaining: 7m 17s\n",
            "538:\ttest: 0.8832016\tbest: 0.8832101 (534)\ttotal: 8m 30s\tremaining: 7m 16s\n",
            "539:\ttest: 0.8831869\tbest: 0.8832101 (534)\ttotal: 8m 31s\tremaining: 7m 15s\n",
            "540:\ttest: 0.8832210\tbest: 0.8832210 (540)\ttotal: 8m 32s\tremaining: 7m 14s\n",
            "541:\ttest: 0.8832585\tbest: 0.8832585 (541)\ttotal: 8m 33s\tremaining: 7m 13s\n",
            "542:\ttest: 0.8832498\tbest: 0.8832585 (541)\ttotal: 8m 34s\tremaining: 7m 12s\n",
            "543:\ttest: 0.8832644\tbest: 0.8832644 (543)\ttotal: 8m 35s\tremaining: 7m 11s\n",
            "544:\ttest: 0.8832735\tbest: 0.8832735 (544)\ttotal: 8m 36s\tremaining: 7m 10s\n",
            "545:\ttest: 0.8833384\tbest: 0.8833384 (545)\ttotal: 8m 37s\tremaining: 7m 9s\n",
            "546:\ttest: 0.8833568\tbest: 0.8833568 (546)\ttotal: 8m 37s\tremaining: 7m 8s\n",
            "547:\ttest: 0.8833792\tbest: 0.8833792 (547)\ttotal: 8m 38s\tremaining: 7m 7s\n",
            "548:\ttest: 0.8834018\tbest: 0.8834018 (548)\ttotal: 8m 39s\tremaining: 7m 6s\n",
            "549:\ttest: 0.8833969\tbest: 0.8834018 (548)\ttotal: 8m 40s\tremaining: 7m 5s\n",
            "550:\ttest: 0.8834352\tbest: 0.8834352 (550)\ttotal: 8m 41s\tremaining: 7m 4s\n",
            "551:\ttest: 0.8834381\tbest: 0.8834381 (551)\ttotal: 8m 42s\tremaining: 7m 3s\n",
            "552:\ttest: 0.8834330\tbest: 0.8834381 (551)\ttotal: 8m 43s\tremaining: 7m 2s\n",
            "553:\ttest: 0.8834764\tbest: 0.8834764 (553)\ttotal: 8m 44s\tremaining: 7m 1s\n",
            "554:\ttest: 0.8834571\tbest: 0.8834764 (553)\ttotal: 8m 44s\tremaining: 7m\n",
            "555:\ttest: 0.8834571\tbest: 0.8834764 (553)\ttotal: 8m 45s\tremaining: 6m 59s\n",
            "556:\ttest: 0.8834999\tbest: 0.8834999 (556)\ttotal: 8m 46s\tremaining: 6m 58s\n",
            "557:\ttest: 0.8835121\tbest: 0.8835121 (557)\ttotal: 8m 47s\tremaining: 6m 57s\n",
            "558:\ttest: 0.8835132\tbest: 0.8835132 (558)\ttotal: 8m 48s\tremaining: 6m 56s\n",
            "559:\ttest: 0.8834781\tbest: 0.8835132 (558)\ttotal: 8m 49s\tremaining: 6m 55s\n",
            "560:\ttest: 0.8835037\tbest: 0.8835132 (558)\ttotal: 8m 50s\tremaining: 6m 55s\n",
            "561:\ttest: 0.8834834\tbest: 0.8835132 (558)\ttotal: 8m 51s\tremaining: 6m 54s\n",
            "562:\ttest: 0.8835080\tbest: 0.8835132 (558)\ttotal: 8m 52s\tremaining: 6m 53s\n",
            "563:\ttest: 0.8835200\tbest: 0.8835200 (563)\ttotal: 8m 53s\tremaining: 6m 52s\n",
            "564:\ttest: 0.8835523\tbest: 0.8835523 (564)\ttotal: 8m 53s\tremaining: 6m 51s\n",
            "565:\ttest: 0.8835916\tbest: 0.8835916 (565)\ttotal: 8m 54s\tremaining: 6m 50s\n",
            "566:\ttest: 0.8836286\tbest: 0.8836286 (566)\ttotal: 8m 55s\tremaining: 6m 49s\n",
            "567:\ttest: 0.8836548\tbest: 0.8836548 (567)\ttotal: 8m 56s\tremaining: 6m 48s\n",
            "568:\ttest: 0.8836797\tbest: 0.8836797 (568)\ttotal: 8m 57s\tremaining: 6m 47s\n",
            "569:\ttest: 0.8836606\tbest: 0.8836797 (568)\ttotal: 8m 58s\tremaining: 6m 46s\n",
            "570:\ttest: 0.8836797\tbest: 0.8836797 (568)\ttotal: 8m 59s\tremaining: 6m 45s\n",
            "571:\ttest: 0.8836963\tbest: 0.8836963 (571)\ttotal: 9m\tremaining: 6m 44s\n",
            "572:\ttest: 0.8837610\tbest: 0.8837610 (572)\ttotal: 9m 1s\tremaining: 6m 43s\n",
            "573:\ttest: 0.8837973\tbest: 0.8837973 (573)\ttotal: 9m 2s\tremaining: 6m 42s\n",
            "574:\ttest: 0.8837893\tbest: 0.8837973 (573)\ttotal: 9m 2s\tremaining: 6m 41s\n",
            "575:\ttest: 0.8838165\tbest: 0.8838165 (575)\ttotal: 9m 3s\tremaining: 6m 40s\n",
            "576:\ttest: 0.8838237\tbest: 0.8838237 (576)\ttotal: 9m 4s\tremaining: 6m 39s\n",
            "577:\ttest: 0.8838304\tbest: 0.8838304 (577)\ttotal: 9m 5s\tremaining: 6m 38s\n",
            "578:\ttest: 0.8838162\tbest: 0.8838304 (577)\ttotal: 9m 6s\tremaining: 6m 37s\n",
            "579:\ttest: 0.8838345\tbest: 0.8838345 (579)\ttotal: 9m 7s\tremaining: 6m 36s\n",
            "580:\ttest: 0.8838285\tbest: 0.8838345 (579)\ttotal: 9m 8s\tremaining: 6m 35s\n",
            "581:\ttest: 0.8838525\tbest: 0.8838525 (581)\ttotal: 9m 9s\tremaining: 6m 34s\n",
            "582:\ttest: 0.8838484\tbest: 0.8838525 (581)\ttotal: 9m 9s\tremaining: 6m 33s\n",
            "583:\ttest: 0.8838491\tbest: 0.8838525 (581)\ttotal: 9m 10s\tremaining: 6m 32s\n",
            "584:\ttest: 0.8838703\tbest: 0.8838703 (584)\ttotal: 9m 11s\tremaining: 6m 31s\n",
            "585:\ttest: 0.8838696\tbest: 0.8838703 (584)\ttotal: 9m 12s\tremaining: 6m 30s\n",
            "586:\ttest: 0.8838477\tbest: 0.8838703 (584)\ttotal: 9m 13s\tremaining: 6m 29s\n",
            "587:\ttest: 0.8838400\tbest: 0.8838703 (584)\ttotal: 9m 14s\tremaining: 6m 28s\n",
            "588:\ttest: 0.8838590\tbest: 0.8838703 (584)\ttotal: 9m 15s\tremaining: 6m 27s\n",
            "589:\ttest: 0.8838722\tbest: 0.8838722 (589)\ttotal: 9m 16s\tremaining: 6m 26s\n",
            "590:\ttest: 0.8838605\tbest: 0.8838722 (589)\ttotal: 9m 16s\tremaining: 6m 25s\n",
            "591:\ttest: 0.8838792\tbest: 0.8838792 (591)\ttotal: 9m 17s\tremaining: 6m 24s\n",
            "592:\ttest: 0.8838737\tbest: 0.8838792 (591)\ttotal: 9m 18s\tremaining: 6m 23s\n",
            "593:\ttest: 0.8839043\tbest: 0.8839043 (593)\ttotal: 9m 19s\tremaining: 6m 22s\n",
            "594:\ttest: 0.8839493\tbest: 0.8839493 (594)\ttotal: 9m 20s\tremaining: 6m 21s\n",
            "595:\ttest: 0.8839634\tbest: 0.8839634 (595)\ttotal: 9m 21s\tremaining: 6m 20s\n",
            "596:\ttest: 0.8840031\tbest: 0.8840031 (596)\ttotal: 9m 22s\tremaining: 6m 19s\n",
            "597:\ttest: 0.8840233\tbest: 0.8840233 (597)\ttotal: 9m 23s\tremaining: 6m 18s\n",
            "598:\ttest: 0.8840404\tbest: 0.8840404 (598)\ttotal: 9m 24s\tremaining: 6m 17s\n",
            "599:\ttest: 0.8840749\tbest: 0.8840749 (599)\ttotal: 9m 25s\tremaining: 6m 16s\n",
            "600:\ttest: 0.8840711\tbest: 0.8840749 (599)\ttotal: 9m 25s\tremaining: 6m 15s\n",
            "601:\ttest: 0.8840726\tbest: 0.8840749 (599)\ttotal: 9m 26s\tremaining: 6m 14s\n",
            "602:\ttest: 0.8840792\tbest: 0.8840792 (602)\ttotal: 9m 27s\tremaining: 6m 13s\n",
            "603:\ttest: 0.8840791\tbest: 0.8840792 (602)\ttotal: 9m 28s\tremaining: 6m 12s\n",
            "604:\ttest: 0.8841031\tbest: 0.8841031 (604)\ttotal: 9m 29s\tremaining: 6m 11s\n",
            "605:\ttest: 0.8841477\tbest: 0.8841477 (605)\ttotal: 9m 30s\tremaining: 6m 10s\n",
            "606:\ttest: 0.8841423\tbest: 0.8841477 (605)\ttotal: 9m 31s\tremaining: 6m 10s\n",
            "607:\ttest: 0.8841900\tbest: 0.8841900 (607)\ttotal: 9m 32s\tremaining: 6m 9s\n",
            "608:\ttest: 0.8842176\tbest: 0.8842176 (608)\ttotal: 9m 33s\tremaining: 6m 8s\n",
            "609:\ttest: 0.8842667\tbest: 0.8842667 (609)\ttotal: 9m 34s\tremaining: 6m 7s\n",
            "610:\ttest: 0.8842924\tbest: 0.8842924 (610)\ttotal: 9m 35s\tremaining: 6m 6s\n",
            "611:\ttest: 0.8842980\tbest: 0.8842980 (611)\ttotal: 9m 35s\tremaining: 6m 5s\n",
            "612:\ttest: 0.8842881\tbest: 0.8842980 (611)\ttotal: 9m 36s\tremaining: 6m 4s\n",
            "613:\ttest: 0.8842964\tbest: 0.8842980 (611)\ttotal: 9m 37s\tremaining: 6m 3s\n",
            "614:\ttest: 0.8844000\tbest: 0.8844000 (614)\ttotal: 9m 38s\tremaining: 6m 2s\n",
            "615:\ttest: 0.8844153\tbest: 0.8844153 (615)\ttotal: 9m 39s\tremaining: 6m 1s\n",
            "616:\ttest: 0.8844538\tbest: 0.8844538 (616)\ttotal: 9m 40s\tremaining: 6m\n",
            "617:\ttest: 0.8844525\tbest: 0.8844538 (616)\ttotal: 9m 41s\tremaining: 5m 59s\n",
            "618:\ttest: 0.8844849\tbest: 0.8844849 (618)\ttotal: 9m 42s\tremaining: 5m 58s\n",
            "619:\ttest: 0.8844902\tbest: 0.8844902 (619)\ttotal: 9m 43s\tremaining: 5m 57s\n",
            "620:\ttest: 0.8845295\tbest: 0.8845295 (620)\ttotal: 9m 43s\tremaining: 5m 56s\n",
            "621:\ttest: 0.8845486\tbest: 0.8845486 (621)\ttotal: 9m 44s\tremaining: 5m 55s\n",
            "622:\ttest: 0.8845593\tbest: 0.8845593 (622)\ttotal: 9m 45s\tremaining: 5m 54s\n",
            "623:\ttest: 0.8846072\tbest: 0.8846072 (623)\ttotal: 9m 46s\tremaining: 5m 53s\n",
            "624:\ttest: 0.8846166\tbest: 0.8846166 (624)\ttotal: 9m 47s\tremaining: 5m 52s\n",
            "625:\ttest: 0.8846295\tbest: 0.8846295 (625)\ttotal: 9m 48s\tremaining: 5m 51s\n",
            "626:\ttest: 0.8846425\tbest: 0.8846425 (626)\ttotal: 9m 49s\tremaining: 5m 50s\n",
            "627:\ttest: 0.8846601\tbest: 0.8846601 (627)\ttotal: 9m 50s\tremaining: 5m 49s\n",
            "628:\ttest: 0.8846731\tbest: 0.8846731 (628)\ttotal: 9m 51s\tremaining: 5m 48s\n",
            "629:\ttest: 0.8846709\tbest: 0.8846731 (628)\ttotal: 9m 52s\tremaining: 5m 47s\n",
            "630:\ttest: 0.8846867\tbest: 0.8846867 (630)\ttotal: 9m 53s\tremaining: 5m 46s\n",
            "631:\ttest: 0.8846856\tbest: 0.8846867 (630)\ttotal: 9m 54s\tremaining: 5m 45s\n",
            "632:\ttest: 0.8847038\tbest: 0.8847038 (632)\ttotal: 9m 54s\tremaining: 5m 44s\n",
            "633:\ttest: 0.8847596\tbest: 0.8847596 (633)\ttotal: 9m 55s\tremaining: 5m 43s\n",
            "634:\ttest: 0.8847588\tbest: 0.8847596 (633)\ttotal: 9m 56s\tremaining: 5m 42s\n",
            "635:\ttest: 0.8847735\tbest: 0.8847735 (635)\ttotal: 9m 57s\tremaining: 5m 42s\n",
            "636:\ttest: 0.8848150\tbest: 0.8848150 (636)\ttotal: 9m 58s\tremaining: 5m 41s\n",
            "637:\ttest: 0.8848166\tbest: 0.8848166 (637)\ttotal: 9m 59s\tremaining: 5m 40s\n",
            "638:\ttest: 0.8848411\tbest: 0.8848411 (638)\ttotal: 10m\tremaining: 5m 39s\n",
            "639:\ttest: 0.8848361\tbest: 0.8848411 (638)\ttotal: 10m 1s\tremaining: 5m 38s\n",
            "640:\ttest: 0.8848477\tbest: 0.8848477 (640)\ttotal: 10m 2s\tremaining: 5m 37s\n",
            "641:\ttest: 0.8848439\tbest: 0.8848477 (640)\ttotal: 10m 3s\tremaining: 5m 36s\n",
            "642:\ttest: 0.8848602\tbest: 0.8848602 (642)\ttotal: 10m 3s\tremaining: 5m 35s\n",
            "643:\ttest: 0.8848759\tbest: 0.8848759 (643)\ttotal: 10m 4s\tremaining: 5m 34s\n",
            "644:\ttest: 0.8848966\tbest: 0.8848966 (644)\ttotal: 10m 5s\tremaining: 5m 33s\n",
            "645:\ttest: 0.8848806\tbest: 0.8848966 (644)\ttotal: 10m 6s\tremaining: 5m 32s\n",
            "646:\ttest: 0.8848965\tbest: 0.8848966 (644)\ttotal: 10m 7s\tremaining: 5m 31s\n",
            "647:\ttest: 0.8849029\tbest: 0.8849029 (647)\ttotal: 10m 8s\tremaining: 5m 30s\n",
            "648:\ttest: 0.8849449\tbest: 0.8849449 (648)\ttotal: 10m 9s\tremaining: 5m 29s\n",
            "649:\ttest: 0.8849324\tbest: 0.8849449 (648)\ttotal: 10m 10s\tremaining: 5m 28s\n",
            "650:\ttest: 0.8849706\tbest: 0.8849706 (650)\ttotal: 10m 10s\tremaining: 5m 27s\n",
            "651:\ttest: 0.8849977\tbest: 0.8849977 (651)\ttotal: 10m 11s\tremaining: 5m 26s\n",
            "652:\ttest: 0.8849869\tbest: 0.8849977 (651)\ttotal: 10m 12s\tremaining: 5m 25s\n",
            "653:\ttest: 0.8849862\tbest: 0.8849977 (651)\ttotal: 10m 13s\tremaining: 5m 24s\n",
            "654:\ttest: 0.8850070\tbest: 0.8850070 (654)\ttotal: 10m 14s\tremaining: 5m 23s\n",
            "655:\ttest: 0.8849987\tbest: 0.8850070 (654)\ttotal: 10m 15s\tremaining: 5m 22s\n",
            "656:\ttest: 0.8850169\tbest: 0.8850169 (656)\ttotal: 10m 16s\tremaining: 5m 21s\n",
            "657:\ttest: 0.8850223\tbest: 0.8850223 (657)\ttotal: 10m 17s\tremaining: 5m 20s\n",
            "658:\ttest: 0.8850447\tbest: 0.8850447 (658)\ttotal: 10m 18s\tremaining: 5m 19s\n",
            "659:\ttest: 0.8850605\tbest: 0.8850605 (659)\ttotal: 10m 19s\tremaining: 5m 18s\n",
            "660:\ttest: 0.8850604\tbest: 0.8850605 (659)\ttotal: 10m 19s\tremaining: 5m 17s\n",
            "661:\ttest: 0.8850584\tbest: 0.8850605 (659)\ttotal: 10m 20s\tremaining: 5m 16s\n",
            "662:\ttest: 0.8850737\tbest: 0.8850737 (662)\ttotal: 10m 21s\tremaining: 5m 15s\n",
            "663:\ttest: 0.8850668\tbest: 0.8850737 (662)\ttotal: 10m 22s\tremaining: 5m 15s\n",
            "664:\ttest: 0.8850563\tbest: 0.8850737 (662)\ttotal: 10m 23s\tremaining: 5m 14s\n",
            "665:\ttest: 0.8850370\tbest: 0.8850737 (662)\ttotal: 10m 24s\tremaining: 5m 13s\n",
            "666:\ttest: 0.8850392\tbest: 0.8850737 (662)\ttotal: 10m 25s\tremaining: 5m 12s\n",
            "667:\ttest: 0.8850806\tbest: 0.8850806 (667)\ttotal: 10m 26s\tremaining: 5m 11s\n",
            "668:\ttest: 0.8850892\tbest: 0.8850892 (668)\ttotal: 10m 26s\tremaining: 5m 10s\n",
            "669:\ttest: 0.8851102\tbest: 0.8851102 (669)\ttotal: 10m 27s\tremaining: 5m 9s\n",
            "670:\ttest: 0.8851162\tbest: 0.8851162 (670)\ttotal: 10m 28s\tremaining: 5m 8s\n",
            "671:\ttest: 0.8851472\tbest: 0.8851472 (671)\ttotal: 10m 29s\tremaining: 5m 7s\n",
            "672:\ttest: 0.8851638\tbest: 0.8851638 (672)\ttotal: 10m 30s\tremaining: 5m 6s\n",
            "673:\ttest: 0.8851576\tbest: 0.8851638 (672)\ttotal: 10m 31s\tremaining: 5m 5s\n",
            "674:\ttest: 0.8851632\tbest: 0.8851638 (672)\ttotal: 10m 32s\tremaining: 5m 4s\n",
            "675:\ttest: 0.8851899\tbest: 0.8851899 (675)\ttotal: 10m 33s\tremaining: 5m 3s\n",
            "676:\ttest: 0.8852398\tbest: 0.8852398 (676)\ttotal: 10m 34s\tremaining: 5m 2s\n",
            "677:\ttest: 0.8852826\tbest: 0.8852826 (677)\ttotal: 10m 35s\tremaining: 5m 1s\n",
            "678:\ttest: 0.8853197\tbest: 0.8853197 (678)\ttotal: 10m 35s\tremaining: 5m\n",
            "679:\ttest: 0.8853457\tbest: 0.8853457 (679)\ttotal: 10m 36s\tremaining: 4m 59s\n",
            "680:\ttest: 0.8853057\tbest: 0.8853457 (679)\ttotal: 10m 37s\tremaining: 4m 58s\n",
            "681:\ttest: 0.8852987\tbest: 0.8853457 (679)\ttotal: 10m 38s\tremaining: 4m 57s\n",
            "682:\ttest: 0.8853394\tbest: 0.8853457 (679)\ttotal: 10m 39s\tremaining: 4m 56s\n",
            "683:\ttest: 0.8853416\tbest: 0.8853457 (679)\ttotal: 10m 40s\tremaining: 4m 55s\n",
            "684:\ttest: 0.8853530\tbest: 0.8853530 (684)\ttotal: 10m 41s\tremaining: 4m 54s\n",
            "685:\ttest: 0.8853517\tbest: 0.8853530 (684)\ttotal: 10m 42s\tremaining: 4m 53s\n",
            "686:\ttest: 0.8853360\tbest: 0.8853530 (684)\ttotal: 10m 43s\tremaining: 4m 52s\n",
            "687:\ttest: 0.8854209\tbest: 0.8854209 (687)\ttotal: 10m 44s\tremaining: 4m 52s\n",
            "688:\ttest: 0.8853894\tbest: 0.8854209 (687)\ttotal: 10m 45s\tremaining: 4m 51s\n",
            "689:\ttest: 0.8853781\tbest: 0.8854209 (687)\ttotal: 10m 45s\tremaining: 4m 50s\n",
            "690:\ttest: 0.8854201\tbest: 0.8854209 (687)\ttotal: 10m 46s\tremaining: 4m 49s\n",
            "691:\ttest: 0.8854726\tbest: 0.8854726 (691)\ttotal: 10m 47s\tremaining: 4m 48s\n",
            "692:\ttest: 0.8854827\tbest: 0.8854827 (692)\ttotal: 10m 48s\tremaining: 4m 47s\n",
            "693:\ttest: 0.8855105\tbest: 0.8855105 (693)\ttotal: 10m 49s\tremaining: 4m 46s\n",
            "694:\ttest: 0.8855569\tbest: 0.8855569 (694)\ttotal: 10m 50s\tremaining: 4m 45s\n",
            "695:\ttest: 0.8856147\tbest: 0.8856147 (695)\ttotal: 10m 51s\tremaining: 4m 44s\n",
            "696:\ttest: 0.8856330\tbest: 0.8856330 (696)\ttotal: 10m 52s\tremaining: 4m 43s\n",
            "697:\ttest: 0.8856429\tbest: 0.8856429 (697)\ttotal: 10m 53s\tremaining: 4m 42s\n",
            "698:\ttest: 0.8856657\tbest: 0.8856657 (698)\ttotal: 10m 54s\tremaining: 4m 41s\n",
            "699:\ttest: 0.8856797\tbest: 0.8856797 (699)\ttotal: 10m 55s\tremaining: 4m 40s\n",
            "700:\ttest: 0.8856652\tbest: 0.8856797 (699)\ttotal: 10m 55s\tremaining: 4m 39s\n",
            "701:\ttest: 0.8856808\tbest: 0.8856808 (701)\ttotal: 10m 56s\tremaining: 4m 38s\n",
            "702:\ttest: 0.8856947\tbest: 0.8856947 (702)\ttotal: 10m 57s\tremaining: 4m 37s\n",
            "703:\ttest: 0.8856957\tbest: 0.8856957 (703)\ttotal: 10m 58s\tremaining: 4m 36s\n",
            "704:\ttest: 0.8857206\tbest: 0.8857206 (704)\ttotal: 10m 59s\tremaining: 4m 35s\n",
            "705:\ttest: 0.8857250\tbest: 0.8857250 (705)\ttotal: 11m\tremaining: 4m 34s\n",
            "706:\ttest: 0.8857422\tbest: 0.8857422 (706)\ttotal: 11m 1s\tremaining: 4m 34s\n",
            "707:\ttest: 0.8857540\tbest: 0.8857540 (707)\ttotal: 11m 2s\tremaining: 4m 33s\n",
            "708:\ttest: 0.8857620\tbest: 0.8857620 (708)\ttotal: 11m 2s\tremaining: 4m 32s\n",
            "709:\ttest: 0.8857566\tbest: 0.8857620 (708)\ttotal: 11m 3s\tremaining: 4m 31s\n",
            "710:\ttest: 0.8857773\tbest: 0.8857773 (710)\ttotal: 11m 4s\tremaining: 4m 30s\n",
            "711:\ttest: 0.8857883\tbest: 0.8857883 (711)\ttotal: 11m 5s\tremaining: 4m 29s\n",
            "712:\ttest: 0.8857895\tbest: 0.8857895 (712)\ttotal: 11m 6s\tremaining: 4m 28s\n",
            "713:\ttest: 0.8857846\tbest: 0.8857895 (712)\ttotal: 11m 7s\tremaining: 4m 27s\n",
            "714:\ttest: 0.8857789\tbest: 0.8857895 (712)\ttotal: 11m 8s\tremaining: 4m 26s\n",
            "715:\ttest: 0.8857855\tbest: 0.8857895 (712)\ttotal: 11m 8s\tremaining: 4m 25s\n",
            "716:\ttest: 0.8857955\tbest: 0.8857955 (716)\ttotal: 11m 9s\tremaining: 4m 24s\n",
            "717:\ttest: 0.8857968\tbest: 0.8857968 (717)\ttotal: 11m 10s\tremaining: 4m 23s\n",
            "718:\ttest: 0.8857964\tbest: 0.8857968 (717)\ttotal: 11m 11s\tremaining: 4m 22s\n",
            "719:\ttest: 0.8858226\tbest: 0.8858226 (719)\ttotal: 11m 12s\tremaining: 4m 21s\n",
            "720:\ttest: 0.8858187\tbest: 0.8858226 (719)\ttotal: 11m 13s\tremaining: 4m 20s\n",
            "721:\ttest: 0.8858385\tbest: 0.8858385 (721)\ttotal: 11m 14s\tremaining: 4m 19s\n",
            "722:\ttest: 0.8858362\tbest: 0.8858385 (721)\ttotal: 11m 15s\tremaining: 4m 18s\n",
            "723:\ttest: 0.8858641\tbest: 0.8858641 (723)\ttotal: 11m 15s\tremaining: 4m 17s\n",
            "724:\ttest: 0.8858427\tbest: 0.8858641 (723)\ttotal: 11m 16s\tremaining: 4m 16s\n",
            "725:\ttest: 0.8858816\tbest: 0.8858816 (725)\ttotal: 11m 17s\tremaining: 4m 15s\n",
            "726:\ttest: 0.8858973\tbest: 0.8858973 (726)\ttotal: 11m 18s\tremaining: 4m 14s\n",
            "727:\ttest: 0.8858700\tbest: 0.8858973 (726)\ttotal: 11m 19s\tremaining: 4m 13s\n",
            "728:\ttest: 0.8858833\tbest: 0.8858973 (726)\ttotal: 11m 20s\tremaining: 4m 12s\n",
            "729:\ttest: 0.8858770\tbest: 0.8858973 (726)\ttotal: 11m 21s\tremaining: 4m 11s\n",
            "730:\ttest: 0.8858496\tbest: 0.8858973 (726)\ttotal: 11m 22s\tremaining: 4m 10s\n",
            "731:\ttest: 0.8859053\tbest: 0.8859053 (731)\ttotal: 11m 22s\tremaining: 4m 10s\n",
            "732:\ttest: 0.8858976\tbest: 0.8859053 (731)\ttotal: 11m 23s\tremaining: 4m 9s\n",
            "733:\ttest: 0.8859127\tbest: 0.8859127 (733)\ttotal: 11m 24s\tremaining: 4m 8s\n",
            "734:\ttest: 0.8858913\tbest: 0.8859127 (733)\ttotal: 11m 25s\tremaining: 4m 7s\n",
            "735:\ttest: 0.8859221\tbest: 0.8859221 (735)\ttotal: 11m 26s\tremaining: 4m 6s\n",
            "736:\ttest: 0.8859146\tbest: 0.8859221 (735)\ttotal: 11m 27s\tremaining: 4m 5s\n",
            "737:\ttest: 0.8859090\tbest: 0.8859221 (735)\ttotal: 11m 28s\tremaining: 4m 4s\n",
            "738:\ttest: 0.8859162\tbest: 0.8859221 (735)\ttotal: 11m 29s\tremaining: 4m 3s\n",
            "739:\ttest: 0.8859159\tbest: 0.8859221 (735)\ttotal: 11m 30s\tremaining: 4m 2s\n",
            "740:\ttest: 0.8859043\tbest: 0.8859221 (735)\ttotal: 11m 31s\tremaining: 4m 1s\n",
            "741:\ttest: 0.8859142\tbest: 0.8859221 (735)\ttotal: 11m 31s\tremaining: 4m\n",
            "742:\ttest: 0.8859055\tbest: 0.8859221 (735)\ttotal: 11m 32s\tremaining: 3m 59s\n",
            "743:\ttest: 0.8858973\tbest: 0.8859221 (735)\ttotal: 11m 33s\tremaining: 3m 58s\n",
            "744:\ttest: 0.8859543\tbest: 0.8859543 (744)\ttotal: 11m 34s\tremaining: 3m 57s\n",
            "745:\ttest: 0.8859521\tbest: 0.8859543 (744)\ttotal: 11m 35s\tremaining: 3m 56s\n",
            "746:\ttest: 0.8859650\tbest: 0.8859650 (746)\ttotal: 11m 36s\tremaining: 3m 55s\n",
            "747:\ttest: 0.8859716\tbest: 0.8859716 (747)\ttotal: 11m 37s\tremaining: 3m 54s\n",
            "748:\ttest: 0.8859918\tbest: 0.8859918 (748)\ttotal: 11m 37s\tremaining: 3m 53s\n",
            "749:\ttest: 0.8859747\tbest: 0.8859918 (748)\ttotal: 11m 38s\tremaining: 3m 52s\n",
            "750:\ttest: 0.8860127\tbest: 0.8860127 (750)\ttotal: 11m 39s\tremaining: 3m 52s\n",
            "751:\ttest: 0.8859814\tbest: 0.8860127 (750)\ttotal: 11m 40s\tremaining: 3m 51s\n",
            "752:\ttest: 0.8859940\tbest: 0.8860127 (750)\ttotal: 11m 41s\tremaining: 3m 50s\n",
            "753:\ttest: 0.8860059\tbest: 0.8860127 (750)\ttotal: 11m 42s\tremaining: 3m 49s\n",
            "754:\ttest: 0.8860469\tbest: 0.8860469 (754)\ttotal: 11m 43s\tremaining: 3m 48s\n",
            "755:\ttest: 0.8860910\tbest: 0.8860910 (755)\ttotal: 11m 44s\tremaining: 3m 47s\n",
            "756:\ttest: 0.8860679\tbest: 0.8860910 (755)\ttotal: 11m 45s\tremaining: 3m 46s\n",
            "757:\ttest: 0.8860981\tbest: 0.8860981 (757)\ttotal: 11m 45s\tremaining: 3m 45s\n",
            "758:\ttest: 0.8861084\tbest: 0.8861084 (758)\ttotal: 11m 46s\tremaining: 3m 44s\n",
            "759:\ttest: 0.8860914\tbest: 0.8861084 (758)\ttotal: 11m 47s\tremaining: 3m 43s\n",
            "760:\ttest: 0.8860783\tbest: 0.8861084 (758)\ttotal: 11m 48s\tremaining: 3m 42s\n",
            "761:\ttest: 0.8860904\tbest: 0.8861084 (758)\ttotal: 11m 49s\tremaining: 3m 41s\n",
            "762:\ttest: 0.8860945\tbest: 0.8861084 (758)\ttotal: 11m 50s\tremaining: 3m 40s\n",
            "763:\ttest: 0.8861010\tbest: 0.8861084 (758)\ttotal: 11m 51s\tremaining: 3m 39s\n",
            "764:\ttest: 0.8861172\tbest: 0.8861172 (764)\ttotal: 11m 52s\tremaining: 3m 38s\n",
            "765:\ttest: 0.8861349\tbest: 0.8861349 (765)\ttotal: 11m 53s\tremaining: 3m 37s\n",
            "766:\ttest: 0.8861326\tbest: 0.8861349 (765)\ttotal: 11m 54s\tremaining: 3m 36s\n",
            "767:\ttest: 0.8861257\tbest: 0.8861349 (765)\ttotal: 11m 54s\tremaining: 3m 35s\n",
            "768:\ttest: 0.8861500\tbest: 0.8861500 (768)\ttotal: 11m 55s\tremaining: 3m 35s\n",
            "769:\ttest: 0.8861872\tbest: 0.8861872 (769)\ttotal: 11m 56s\tremaining: 3m 34s\n",
            "770:\ttest: 0.8861802\tbest: 0.8861872 (769)\ttotal: 11m 57s\tremaining: 3m 33s\n",
            "771:\ttest: 0.8861997\tbest: 0.8861997 (771)\ttotal: 11m 58s\tremaining: 3m 32s\n",
            "772:\ttest: 0.8862232\tbest: 0.8862232 (772)\ttotal: 11m 59s\tremaining: 3m 31s\n",
            "773:\ttest: 0.8862338\tbest: 0.8862338 (773)\ttotal: 12m\tremaining: 3m 30s\n",
            "774:\ttest: 0.8862419\tbest: 0.8862419 (774)\ttotal: 12m 1s\tremaining: 3m 29s\n",
            "775:\ttest: 0.8862927\tbest: 0.8862927 (775)\ttotal: 12m 2s\tremaining: 3m 28s\n",
            "776:\ttest: 0.8862861\tbest: 0.8862927 (775)\ttotal: 12m 2s\tremaining: 3m 27s\n",
            "777:\ttest: 0.8862941\tbest: 0.8862941 (777)\ttotal: 12m 3s\tremaining: 3m 26s\n",
            "778:\ttest: 0.8862977\tbest: 0.8862977 (778)\ttotal: 12m 4s\tremaining: 3m 25s\n",
            "779:\ttest: 0.8862934\tbest: 0.8862977 (778)\ttotal: 12m 5s\tremaining: 3m 24s\n",
            "780:\ttest: 0.8862751\tbest: 0.8862977 (778)\ttotal: 12m 6s\tremaining: 3m 23s\n",
            "781:\ttest: 0.8862993\tbest: 0.8862993 (781)\ttotal: 12m 7s\tremaining: 3m 22s\n",
            "782:\ttest: 0.8862897\tbest: 0.8862993 (781)\ttotal: 12m 8s\tremaining: 3m 21s\n",
            "783:\ttest: 0.8862968\tbest: 0.8862993 (781)\ttotal: 12m 9s\tremaining: 3m 20s\n",
            "784:\ttest: 0.8863208\tbest: 0.8863208 (784)\ttotal: 12m 9s\tremaining: 3m 19s\n",
            "785:\ttest: 0.8863221\tbest: 0.8863221 (785)\ttotal: 12m 10s\tremaining: 3m 18s\n",
            "786:\ttest: 0.8863448\tbest: 0.8863448 (786)\ttotal: 12m 11s\tremaining: 3m 18s\n",
            "787:\ttest: 0.8863238\tbest: 0.8863448 (786)\ttotal: 12m 12s\tremaining: 3m 17s\n",
            "788:\ttest: 0.8863380\tbest: 0.8863448 (786)\ttotal: 12m 13s\tremaining: 3m 16s\n",
            "789:\ttest: 0.8863250\tbest: 0.8863448 (786)\ttotal: 12m 14s\tremaining: 3m 15s\n",
            "790:\ttest: 0.8863201\tbest: 0.8863448 (786)\ttotal: 12m 15s\tremaining: 3m 14s\n",
            "791:\ttest: 0.8863367\tbest: 0.8863448 (786)\ttotal: 12m 16s\tremaining: 3m 13s\n",
            "792:\ttest: 0.8862694\tbest: 0.8863448 (786)\ttotal: 12m 17s\tremaining: 3m 12s\n",
            "793:\ttest: 0.8862701\tbest: 0.8863448 (786)\ttotal: 12m 18s\tremaining: 3m 11s\n",
            "794:\ttest: 0.8862786\tbest: 0.8863448 (786)\ttotal: 12m 19s\tremaining: 3m 10s\n",
            "795:\ttest: 0.8863256\tbest: 0.8863448 (786)\ttotal: 12m 20s\tremaining: 3m 9s\n",
            "796:\ttest: 0.8863421\tbest: 0.8863448 (786)\ttotal: 12m 21s\tremaining: 3m 8s\n",
            "797:\ttest: 0.8863565\tbest: 0.8863565 (797)\ttotal: 12m 21s\tremaining: 3m 7s\n",
            "798:\ttest: 0.8863841\tbest: 0.8863841 (798)\ttotal: 12m 22s\tremaining: 3m 6s\n",
            "799:\ttest: 0.8863983\tbest: 0.8863983 (799)\ttotal: 12m 23s\tremaining: 3m 5s\n",
            "800:\ttest: 0.8863869\tbest: 0.8863983 (799)\ttotal: 12m 24s\tremaining: 3m 4s\n",
            "801:\ttest: 0.8864238\tbest: 0.8864238 (801)\ttotal: 12m 25s\tremaining: 3m 4s\n",
            "802:\ttest: 0.8864309\tbest: 0.8864309 (802)\ttotal: 12m 26s\tremaining: 3m 3s\n",
            "803:\ttest: 0.8864508\tbest: 0.8864508 (803)\ttotal: 12m 27s\tremaining: 3m 2s\n",
            "804:\ttest: 0.8864603\tbest: 0.8864603 (804)\ttotal: 12m 28s\tremaining: 3m 1s\n",
            "805:\ttest: 0.8864606\tbest: 0.8864606 (805)\ttotal: 12m 29s\tremaining: 3m\n",
            "806:\ttest: 0.8864782\tbest: 0.8864782 (806)\ttotal: 12m 30s\tremaining: 2m 59s\n",
            "807:\ttest: 0.8864744\tbest: 0.8864782 (806)\ttotal: 12m 30s\tremaining: 2m 58s\n",
            "808:\ttest: 0.8864885\tbest: 0.8864885 (808)\ttotal: 12m 31s\tremaining: 2m 57s\n",
            "809:\ttest: 0.8865045\tbest: 0.8865045 (809)\ttotal: 12m 32s\tremaining: 2m 56s\n",
            "810:\ttest: 0.8865058\tbest: 0.8865058 (810)\ttotal: 12m 33s\tremaining: 2m 55s\n",
            "811:\ttest: 0.8865258\tbest: 0.8865258 (811)\ttotal: 12m 34s\tremaining: 2m 54s\n",
            "812:\ttest: 0.8865500\tbest: 0.8865500 (812)\ttotal: 12m 35s\tremaining: 2m 53s\n",
            "813:\ttest: 0.8865897\tbest: 0.8865897 (813)\ttotal: 12m 36s\tremaining: 2m 52s\n",
            "814:\ttest: 0.8866007\tbest: 0.8866007 (814)\ttotal: 12m 37s\tremaining: 2m 51s\n",
            "815:\ttest: 0.8866124\tbest: 0.8866124 (815)\ttotal: 12m 38s\tremaining: 2m 50s\n",
            "816:\ttest: 0.8866211\tbest: 0.8866211 (816)\ttotal: 12m 39s\tremaining: 2m 50s\n",
            "817:\ttest: 0.8865963\tbest: 0.8866211 (816)\ttotal: 12m 40s\tremaining: 2m 49s\n",
            "818:\ttest: 0.8865964\tbest: 0.8866211 (816)\ttotal: 12m 40s\tremaining: 2m 48s\n",
            "819:\ttest: 0.8866262\tbest: 0.8866262 (819)\ttotal: 12m 41s\tremaining: 2m 47s\n",
            "820:\ttest: 0.8866336\tbest: 0.8866336 (820)\ttotal: 12m 42s\tremaining: 2m 46s\n",
            "821:\ttest: 0.8866223\tbest: 0.8866336 (820)\ttotal: 12m 43s\tremaining: 2m 45s\n",
            "822:\ttest: 0.8866249\tbest: 0.8866336 (820)\ttotal: 12m 44s\tremaining: 2m 44s\n",
            "823:\ttest: 0.8866108\tbest: 0.8866336 (820)\ttotal: 12m 45s\tremaining: 2m 43s\n",
            "824:\ttest: 0.8865999\tbest: 0.8866336 (820)\ttotal: 12m 46s\tremaining: 2m 42s\n",
            "825:\ttest: 0.8865816\tbest: 0.8866336 (820)\ttotal: 12m 47s\tremaining: 2m 41s\n",
            "826:\ttest: 0.8865865\tbest: 0.8866336 (820)\ttotal: 12m 47s\tremaining: 2m 40s\n",
            "827:\ttest: 0.8865963\tbest: 0.8866336 (820)\ttotal: 12m 48s\tremaining: 2m 39s\n",
            "828:\ttest: 0.8866148\tbest: 0.8866336 (820)\ttotal: 12m 49s\tremaining: 2m 38s\n",
            "829:\ttest: 0.8866112\tbest: 0.8866336 (820)\ttotal: 12m 50s\tremaining: 2m 37s\n",
            "830:\ttest: 0.8866130\tbest: 0.8866336 (820)\ttotal: 12m 51s\tremaining: 2m 36s\n",
            "831:\ttest: 0.8866166\tbest: 0.8866336 (820)\ttotal: 12m 52s\tremaining: 2m 35s\n",
            "832:\ttest: 0.8866326\tbest: 0.8866336 (820)\ttotal: 12m 53s\tremaining: 2m 35s\n",
            "833:\ttest: 0.8866424\tbest: 0.8866424 (833)\ttotal: 12m 54s\tremaining: 2m 34s\n",
            "834:\ttest: 0.8866480\tbest: 0.8866480 (834)\ttotal: 12m 55s\tremaining: 2m 33s\n",
            "835:\ttest: 0.8866642\tbest: 0.8866642 (835)\ttotal: 12m 55s\tremaining: 2m 32s\n",
            "836:\ttest: 0.8866603\tbest: 0.8866642 (835)\ttotal: 12m 56s\tremaining: 2m 31s\n",
            "837:\ttest: 0.8866706\tbest: 0.8866706 (837)\ttotal: 12m 57s\tremaining: 2m 30s\n",
            "838:\ttest: 0.8866576\tbest: 0.8866706 (837)\ttotal: 12m 58s\tremaining: 2m 29s\n",
            "839:\ttest: 0.8866716\tbest: 0.8866716 (839)\ttotal: 12m 59s\tremaining: 2m 28s\n",
            "840:\ttest: 0.8867058\tbest: 0.8867058 (840)\ttotal: 13m\tremaining: 2m 27s\n",
            "841:\ttest: 0.8866990\tbest: 0.8867058 (840)\ttotal: 13m 1s\tremaining: 2m 26s\n",
            "842:\ttest: 0.8867118\tbest: 0.8867118 (842)\ttotal: 13m 2s\tremaining: 2m 25s\n",
            "843:\ttest: 0.8867650\tbest: 0.8867650 (843)\ttotal: 13m 3s\tremaining: 2m 24s\n",
            "844:\ttest: 0.8867589\tbest: 0.8867650 (843)\ttotal: 13m 4s\tremaining: 2m 23s\n",
            "845:\ttest: 0.8867863\tbest: 0.8867863 (845)\ttotal: 13m 5s\tremaining: 2m 22s\n",
            "846:\ttest: 0.8867905\tbest: 0.8867905 (846)\ttotal: 13m 5s\tremaining: 2m 21s\n",
            "847:\ttest: 0.8867731\tbest: 0.8867905 (846)\ttotal: 13m 6s\tremaining: 2m 21s\n",
            "848:\ttest: 0.8867462\tbest: 0.8867905 (846)\ttotal: 13m 7s\tremaining: 2m 20s\n",
            "849:\ttest: 0.8867483\tbest: 0.8867905 (846)\ttotal: 13m 8s\tremaining: 2m 19s\n",
            "850:\ttest: 0.8867644\tbest: 0.8867905 (846)\ttotal: 13m 9s\tremaining: 2m 18s\n",
            "851:\ttest: 0.8867805\tbest: 0.8867905 (846)\ttotal: 13m 10s\tremaining: 2m 17s\n",
            "852:\ttest: 0.8868043\tbest: 0.8868043 (852)\ttotal: 13m 11s\tremaining: 2m 16s\n",
            "853:\ttest: 0.8868100\tbest: 0.8868100 (853)\ttotal: 13m 12s\tremaining: 2m 15s\n",
            "854:\ttest: 0.8868296\tbest: 0.8868296 (854)\ttotal: 13m 13s\tremaining: 2m 14s\n",
            "855:\ttest: 0.8868432\tbest: 0.8868432 (855)\ttotal: 13m 13s\tremaining: 2m 13s\n",
            "856:\ttest: 0.8868578\tbest: 0.8868578 (856)\ttotal: 13m 14s\tremaining: 2m 12s\n",
            "857:\ttest: 0.8868981\tbest: 0.8868981 (857)\ttotal: 13m 15s\tremaining: 2m 11s\n",
            "858:\ttest: 0.8868851\tbest: 0.8868981 (857)\ttotal: 13m 16s\tremaining: 2m 10s\n",
            "859:\ttest: 0.8869025\tbest: 0.8869025 (859)\ttotal: 13m 17s\tremaining: 2m 9s\n",
            "860:\ttest: 0.8868967\tbest: 0.8869025 (859)\ttotal: 13m 18s\tremaining: 2m 8s\n",
            "861:\ttest: 0.8869563\tbest: 0.8869563 (861)\ttotal: 13m 19s\tremaining: 2m 8s\n",
            "862:\ttest: 0.8869730\tbest: 0.8869730 (862)\ttotal: 13m 20s\tremaining: 2m 7s\n",
            "863:\ttest: 0.8869580\tbest: 0.8869730 (862)\ttotal: 13m 21s\tremaining: 2m 6s\n",
            "864:\ttest: 0.8869370\tbest: 0.8869730 (862)\ttotal: 13m 22s\tremaining: 2m 5s\n",
            "865:\ttest: 0.8869471\tbest: 0.8869730 (862)\ttotal: 13m 23s\tremaining: 2m 4s\n",
            "866:\ttest: 0.8869484\tbest: 0.8869730 (862)\ttotal: 13m 24s\tremaining: 2m 3s\n",
            "867:\ttest: 0.8869596\tbest: 0.8869730 (862)\ttotal: 13m 24s\tremaining: 2m 2s\n",
            "868:\ttest: 0.8869894\tbest: 0.8869894 (868)\ttotal: 13m 26s\tremaining: 2m 1s\n",
            "869:\ttest: 0.8869953\tbest: 0.8869953 (869)\ttotal: 13m 26s\tremaining: 2m\n",
            "870:\ttest: 0.8869988\tbest: 0.8869988 (870)\ttotal: 13m 27s\tremaining: 1m 59s\n",
            "871:\ttest: 0.8870032\tbest: 0.8870032 (871)\ttotal: 13m 28s\tremaining: 1m 58s\n",
            "872:\ttest: 0.8869940\tbest: 0.8870032 (871)\ttotal: 13m 29s\tremaining: 1m 57s\n",
            "873:\ttest: 0.8869935\tbest: 0.8870032 (871)\ttotal: 13m 30s\tremaining: 1m 56s\n",
            "874:\ttest: 0.8870133\tbest: 0.8870133 (874)\ttotal: 13m 31s\tremaining: 1m 55s\n",
            "875:\ttest: 0.8870090\tbest: 0.8870133 (874)\ttotal: 13m 32s\tremaining: 1m 54s\n",
            "876:\ttest: 0.8870388\tbest: 0.8870388 (876)\ttotal: 13m 33s\tremaining: 1m 54s\n",
            "877:\ttest: 0.8870533\tbest: 0.8870533 (877)\ttotal: 13m 33s\tremaining: 1m 53s\n",
            "878:\ttest: 0.8870510\tbest: 0.8870533 (877)\ttotal: 13m 34s\tremaining: 1m 52s\n",
            "879:\ttest: 0.8870657\tbest: 0.8870657 (879)\ttotal: 13m 35s\tremaining: 1m 51s\n",
            "880:\ttest: 0.8870756\tbest: 0.8870756 (880)\ttotal: 13m 36s\tremaining: 1m 50s\n",
            "881:\ttest: 0.8870933\tbest: 0.8870933 (881)\ttotal: 13m 37s\tremaining: 1m 49s\n",
            "882:\ttest: 0.8870906\tbest: 0.8870933 (881)\ttotal: 13m 38s\tremaining: 1m 48s\n",
            "883:\ttest: 0.8870825\tbest: 0.8870933 (881)\ttotal: 13m 39s\tremaining: 1m 47s\n",
            "884:\ttest: 0.8870880\tbest: 0.8870933 (881)\ttotal: 13m 40s\tremaining: 1m 46s\n",
            "885:\ttest: 0.8870999\tbest: 0.8870999 (885)\ttotal: 13m 41s\tremaining: 1m 45s\n",
            "886:\ttest: 0.8870911\tbest: 0.8870999 (885)\ttotal: 13m 41s\tremaining: 1m 44s\n",
            "887:\ttest: 0.8871062\tbest: 0.8871062 (887)\ttotal: 13m 42s\tremaining: 1m 43s\n",
            "888:\ttest: 0.8871194\tbest: 0.8871194 (888)\ttotal: 13m 43s\tremaining: 1m 42s\n",
            "889:\ttest: 0.8871673\tbest: 0.8871673 (889)\ttotal: 13m 44s\tremaining: 1m 41s\n",
            "890:\ttest: 0.8871824\tbest: 0.8871824 (890)\ttotal: 13m 45s\tremaining: 1m 41s\n",
            "891:\ttest: 0.8872041\tbest: 0.8872041 (891)\ttotal: 13m 46s\tremaining: 1m 40s\n",
            "892:\ttest: 0.8872255\tbest: 0.8872255 (892)\ttotal: 13m 47s\tremaining: 1m 39s\n",
            "893:\ttest: 0.8872387\tbest: 0.8872387 (893)\ttotal: 13m 48s\tremaining: 1m 38s\n",
            "894:\ttest: 0.8872419\tbest: 0.8872419 (894)\ttotal: 13m 49s\tremaining: 1m 37s\n",
            "895:\ttest: 0.8872513\tbest: 0.8872513 (895)\ttotal: 13m 50s\tremaining: 1m 36s\n",
            "896:\ttest: 0.8872619\tbest: 0.8872619 (896)\ttotal: 13m 50s\tremaining: 1m 35s\n",
            "897:\ttest: 0.8872709\tbest: 0.8872709 (897)\ttotal: 13m 51s\tremaining: 1m 34s\n",
            "898:\ttest: 0.8872594\tbest: 0.8872709 (897)\ttotal: 13m 52s\tremaining: 1m 33s\n",
            "899:\ttest: 0.8872790\tbest: 0.8872790 (899)\ttotal: 13m 53s\tremaining: 1m 32s\n",
            "900:\ttest: 0.8872865\tbest: 0.8872865 (900)\ttotal: 13m 54s\tremaining: 1m 31s\n",
            "901:\ttest: 0.8873035\tbest: 0.8873035 (901)\ttotal: 13m 55s\tremaining: 1m 30s\n",
            "902:\ttest: 0.8873121\tbest: 0.8873121 (902)\ttotal: 13m 56s\tremaining: 1m 29s\n",
            "903:\ttest: 0.8873145\tbest: 0.8873145 (903)\ttotal: 13m 57s\tremaining: 1m 28s\n",
            "904:\ttest: 0.8873158\tbest: 0.8873158 (904)\ttotal: 13m 58s\tremaining: 1m 27s\n",
            "905:\ttest: 0.8873175\tbest: 0.8873175 (905)\ttotal: 13m 58s\tremaining: 1m 27s\n",
            "906:\ttest: 0.8873361\tbest: 0.8873361 (906)\ttotal: 13m 59s\tremaining: 1m 26s\n",
            "907:\ttest: 0.8873510\tbest: 0.8873510 (907)\ttotal: 14m 1s\tremaining: 1m 25s\n",
            "908:\ttest: 0.8873747\tbest: 0.8873747 (908)\ttotal: 14m 1s\tremaining: 1m 24s\n",
            "909:\ttest: 0.8873865\tbest: 0.8873865 (909)\ttotal: 14m 2s\tremaining: 1m 23s\n",
            "910:\ttest: 0.8873972\tbest: 0.8873972 (910)\ttotal: 14m 3s\tremaining: 1m 22s\n",
            "911:\ttest: 0.8873855\tbest: 0.8873972 (910)\ttotal: 14m 4s\tremaining: 1m 21s\n",
            "912:\ttest: 0.8874097\tbest: 0.8874097 (912)\ttotal: 14m 5s\tremaining: 1m 20s\n",
            "913:\ttest: 0.8874203\tbest: 0.8874203 (913)\ttotal: 14m 6s\tremaining: 1m 19s\n",
            "914:\ttest: 0.8874071\tbest: 0.8874203 (913)\ttotal: 14m 7s\tremaining: 1m 18s\n",
            "915:\ttest: 0.8874120\tbest: 0.8874203 (913)\ttotal: 14m 8s\tremaining: 1m 17s\n",
            "916:\ttest: 0.8874184\tbest: 0.8874203 (913)\ttotal: 14m 8s\tremaining: 1m 16s\n",
            "917:\ttest: 0.8874267\tbest: 0.8874267 (917)\ttotal: 14m 9s\tremaining: 1m 15s\n",
            "918:\ttest: 0.8874300\tbest: 0.8874300 (918)\ttotal: 14m 10s\tremaining: 1m 14s\n",
            "919:\ttest: 0.8874293\tbest: 0.8874300 (918)\ttotal: 14m 11s\tremaining: 1m 14s\n",
            "920:\ttest: 0.8874657\tbest: 0.8874657 (920)\ttotal: 14m 12s\tremaining: 1m 13s\n",
            "921:\ttest: 0.8874660\tbest: 0.8874660 (921)\ttotal: 14m 13s\tremaining: 1m 12s\n",
            "922:\ttest: 0.8874725\tbest: 0.8874725 (922)\ttotal: 14m 14s\tremaining: 1m 11s\n",
            "923:\ttest: 0.8875049\tbest: 0.8875049 (923)\ttotal: 14m 15s\tremaining: 1m 10s\n",
            "924:\ttest: 0.8875308\tbest: 0.8875308 (924)\ttotal: 14m 16s\tremaining: 1m 9s\n",
            "925:\ttest: 0.8875676\tbest: 0.8875676 (925)\ttotal: 14m 17s\tremaining: 1m 8s\n",
            "926:\ttest: 0.8875592\tbest: 0.8875676 (925)\ttotal: 14m 18s\tremaining: 1m 7s\n",
            "927:\ttest: 0.8875458\tbest: 0.8875676 (925)\ttotal: 14m 18s\tremaining: 1m 6s\n",
            "928:\ttest: 0.8875454\tbest: 0.8875676 (925)\ttotal: 14m 19s\tremaining: 1m 5s\n",
            "929:\ttest: 0.8875670\tbest: 0.8875676 (925)\ttotal: 14m 20s\tremaining: 1m 4s\n",
            "930:\ttest: 0.8875740\tbest: 0.8875740 (930)\ttotal: 14m 21s\tremaining: 1m 3s\n",
            "931:\ttest: 0.8875929\tbest: 0.8875929 (931)\ttotal: 14m 22s\tremaining: 1m 2s\n",
            "932:\ttest: 0.8875945\tbest: 0.8875945 (932)\ttotal: 14m 23s\tremaining: 1m 1s\n",
            "933:\ttest: 0.8875991\tbest: 0.8875991 (933)\ttotal: 14m 24s\tremaining: 1m 1s\n",
            "934:\ttest: 0.8876017\tbest: 0.8876017 (934)\ttotal: 14m 25s\tremaining: 1m\n",
            "935:\ttest: 0.8876119\tbest: 0.8876119 (935)\ttotal: 14m 26s\tremaining: 59.2s\n",
            "936:\ttest: 0.8876449\tbest: 0.8876449 (936)\ttotal: 14m 26s\tremaining: 58.3s\n",
            "937:\ttest: 0.8876580\tbest: 0.8876580 (937)\ttotal: 14m 27s\tremaining: 57.4s\n",
            "938:\ttest: 0.8876556\tbest: 0.8876580 (937)\ttotal: 14m 28s\tremaining: 56.4s\n",
            "939:\ttest: 0.8876728\tbest: 0.8876728 (939)\ttotal: 14m 29s\tremaining: 55.5s\n",
            "940:\ttest: 0.8876591\tbest: 0.8876728 (939)\ttotal: 14m 30s\tremaining: 54.6s\n",
            "941:\ttest: 0.8876894\tbest: 0.8876894 (941)\ttotal: 14m 31s\tremaining: 53.6s\n",
            "942:\ttest: 0.8876813\tbest: 0.8876894 (941)\ttotal: 14m 32s\tremaining: 52.7s\n",
            "943:\ttest: 0.8876716\tbest: 0.8876894 (941)\ttotal: 14m 33s\tremaining: 51.8s\n",
            "944:\ttest: 0.8876868\tbest: 0.8876894 (941)\ttotal: 14m 33s\tremaining: 50.9s\n",
            "945:\ttest: 0.8876788\tbest: 0.8876894 (941)\ttotal: 14m 34s\tremaining: 49.9s\n",
            "946:\ttest: 0.8877100\tbest: 0.8877100 (946)\ttotal: 14m 35s\tremaining: 49s\n",
            "947:\ttest: 0.8876975\tbest: 0.8877100 (946)\ttotal: 14m 36s\tremaining: 48.1s\n",
            "948:\ttest: 0.8877748\tbest: 0.8877748 (948)\ttotal: 14m 37s\tremaining: 47.2s\n",
            "949:\ttest: 0.8877486\tbest: 0.8877748 (948)\ttotal: 14m 38s\tremaining: 46.2s\n",
            "950:\ttest: 0.8877586\tbest: 0.8877748 (948)\ttotal: 14m 39s\tremaining: 45.3s\n",
            "951:\ttest: 0.8877524\tbest: 0.8877748 (948)\ttotal: 14m 40s\tremaining: 44.4s\n",
            "952:\ttest: 0.8877476\tbest: 0.8877748 (948)\ttotal: 14m 41s\tremaining: 43.5s\n",
            "953:\ttest: 0.8877668\tbest: 0.8877748 (948)\ttotal: 14m 42s\tremaining: 42.5s\n",
            "954:\ttest: 0.8877654\tbest: 0.8877748 (948)\ttotal: 14m 43s\tremaining: 41.6s\n",
            "955:\ttest: 0.8877732\tbest: 0.8877748 (948)\ttotal: 14m 44s\tremaining: 40.7s\n",
            "956:\ttest: 0.8877643\tbest: 0.8877748 (948)\ttotal: 14m 44s\tremaining: 39.8s\n",
            "957:\ttest: 0.8877732\tbest: 0.8877748 (948)\ttotal: 14m 45s\tremaining: 38.8s\n",
            "958:\ttest: 0.8877694\tbest: 0.8877748 (948)\ttotal: 14m 46s\tremaining: 37.9s\n",
            "959:\ttest: 0.8877940\tbest: 0.8877940 (959)\ttotal: 14m 47s\tremaining: 37s\n",
            "960:\ttest: 0.8878117\tbest: 0.8878117 (960)\ttotal: 14m 48s\tremaining: 36.1s\n",
            "961:\ttest: 0.8878354\tbest: 0.8878354 (961)\ttotal: 14m 49s\tremaining: 35.1s\n",
            "962:\ttest: 0.8878444\tbest: 0.8878444 (962)\ttotal: 14m 50s\tremaining: 34.2s\n",
            "963:\ttest: 0.8878596\tbest: 0.8878596 (963)\ttotal: 14m 51s\tremaining: 33.3s\n",
            "964:\ttest: 0.8878929\tbest: 0.8878929 (964)\ttotal: 14m 52s\tremaining: 32.4s\n",
            "965:\ttest: 0.8879252\tbest: 0.8879252 (965)\ttotal: 14m 53s\tremaining: 31.4s\n",
            "966:\ttest: 0.8879228\tbest: 0.8879252 (965)\ttotal: 14m 53s\tremaining: 30.5s\n",
            "967:\ttest: 0.8879308\tbest: 0.8879308 (967)\ttotal: 14m 54s\tremaining: 29.6s\n",
            "968:\ttest: 0.8879584\tbest: 0.8879584 (968)\ttotal: 14m 55s\tremaining: 28.7s\n",
            "969:\ttest: 0.8879657\tbest: 0.8879657 (969)\ttotal: 14m 56s\tremaining: 27.7s\n",
            "970:\ttest: 0.8879843\tbest: 0.8879843 (970)\ttotal: 14m 57s\tremaining: 26.8s\n",
            "971:\ttest: 0.8879912\tbest: 0.8879912 (971)\ttotal: 14m 58s\tremaining: 25.9s\n",
            "972:\ttest: 0.8879959\tbest: 0.8879959 (972)\ttotal: 14m 59s\tremaining: 25s\n",
            "973:\ttest: 0.8879965\tbest: 0.8879965 (973)\ttotal: 15m\tremaining: 24s\n",
            "974:\ttest: 0.8880124\tbest: 0.8880124 (974)\ttotal: 15m 1s\tremaining: 23.1s\n",
            "975:\ttest: 0.8880015\tbest: 0.8880124 (974)\ttotal: 15m 1s\tremaining: 22.2s\n",
            "976:\ttest: 0.8880129\tbest: 0.8880129 (976)\ttotal: 15m 2s\tremaining: 21.3s\n",
            "977:\ttest: 0.8879996\tbest: 0.8880129 (976)\ttotal: 15m 3s\tremaining: 20.3s\n",
            "978:\ttest: 0.8880101\tbest: 0.8880129 (976)\ttotal: 15m 4s\tremaining: 19.4s\n",
            "979:\ttest: 0.8880524\tbest: 0.8880524 (979)\ttotal: 15m 5s\tremaining: 18.5s\n",
            "980:\ttest: 0.8880754\tbest: 0.8880754 (980)\ttotal: 15m 6s\tremaining: 17.6s\n",
            "981:\ttest: 0.8881011\tbest: 0.8881011 (981)\ttotal: 15m 7s\tremaining: 16.6s\n",
            "982:\ttest: 0.8881016\tbest: 0.8881016 (982)\ttotal: 15m 8s\tremaining: 15.7s\n",
            "983:\ttest: 0.8880975\tbest: 0.8881016 (982)\ttotal: 15m 8s\tremaining: 14.8s\n",
            "984:\ttest: 0.8880966\tbest: 0.8881016 (982)\ttotal: 15m 9s\tremaining: 13.9s\n",
            "985:\ttest: 0.8881021\tbest: 0.8881021 (985)\ttotal: 15m 10s\tremaining: 12.9s\n",
            "986:\ttest: 0.8881124\tbest: 0.8881124 (986)\ttotal: 15m 11s\tremaining: 12s\n",
            "987:\ttest: 0.8881108\tbest: 0.8881124 (986)\ttotal: 15m 12s\tremaining: 11.1s\n",
            "988:\ttest: 0.8881214\tbest: 0.8881214 (988)\ttotal: 15m 13s\tremaining: 10.2s\n",
            "989:\ttest: 0.8881181\tbest: 0.8881214 (988)\ttotal: 15m 14s\tremaining: 9.23s\n",
            "990:\ttest: 0.8881381\tbest: 0.8881381 (990)\ttotal: 15m 15s\tremaining: 8.31s\n",
            "991:\ttest: 0.8881324\tbest: 0.8881381 (990)\ttotal: 15m 15s\tremaining: 7.39s\n",
            "992:\ttest: 0.8881406\tbest: 0.8881406 (992)\ttotal: 15m 16s\tremaining: 6.46s\n",
            "993:\ttest: 0.8881425\tbest: 0.8881425 (993)\ttotal: 15m 17s\tremaining: 5.54s\n",
            "994:\ttest: 0.8881491\tbest: 0.8881491 (994)\ttotal: 15m 18s\tremaining: 4.62s\n",
            "995:\ttest: 0.8881528\tbest: 0.8881528 (995)\ttotal: 15m 19s\tremaining: 3.69s\n",
            "996:\ttest: 0.8881562\tbest: 0.8881562 (996)\ttotal: 15m 20s\tremaining: 2.77s\n",
            "997:\ttest: 0.8881558\tbest: 0.8881562 (996)\ttotal: 15m 21s\tremaining: 1.85s\n",
            "998:\ttest: 0.8881661\tbest: 0.8881661 (998)\ttotal: 15m 22s\tremaining: 923ms\n",
            "999:\ttest: 0.8881936\tbest: 0.8881936 (999)\ttotal: 15m 23s\tremaining: 0us\n",
            "\n",
            "bestTest = 0.8881935939\n",
            "bestIteration = 999\n",
            "\n"
          ],
          "name": "stdout"
        },
        {
          "output_type": "execute_result",
          "data": {
            "text/plain": [
              "<catboost.core.CatBoostClassifier at 0x7fa49ad83650>"
            ]
          },
          "metadata": {
            "tags": []
          },
          "execution_count": 100
        }
      ]
    },
    {
      "cell_type": "markdown",
      "metadata": {
        "id": "A9rW9WqrJLWG"
      },
      "source": [
        "Попробуем tfidf вместо обработки текста CatBoost"
      ]
    },
    {
      "cell_type": "code",
      "metadata": {
        "id": "9LLzXdykspUx"
      },
      "source": [
        "tfidf = TfidfVectorizer()"
      ],
      "execution_count": 101,
      "outputs": []
    },
    {
      "cell_type": "code",
      "metadata": {
        "colab": {
          "base_uri": "https://localhost:8080/"
        },
        "id": "FilG-bs678Vq",
        "outputId": "d345c060-063f-4730-9e4f-129b212116ec"
      },
      "source": [
        "tfidf.fit(X_train['review_text'])"
      ],
      "execution_count": 104,
      "outputs": [
        {
          "output_type": "execute_result",
          "data": {
            "text/plain": [
              "TfidfVectorizer(analyzer='word', binary=False, decode_error='strict',\n",
              "                dtype=<class 'numpy.float64'>, encoding='utf-8',\n",
              "                input='content', lowercase=True, max_df=1.0, max_features=None,\n",
              "                min_df=1, ngram_range=(1, 1), norm='l2', preprocessor=None,\n",
              "                smooth_idf=True, stop_words=None, strip_accents=None,\n",
              "                sublinear_tf=False, token_pattern='(?u)\\\\b\\\\w\\\\w+\\\\b',\n",
              "                tokenizer=None, use_idf=True, vocabulary=None)"
            ]
          },
          "metadata": {
            "tags": []
          },
          "execution_count": 104
        }
      ]
    },
    {
      "cell_type": "code",
      "metadata": {
        "id": "TngXx5Vu8EB9"
      },
      "source": [
        "X_train_text = tfidf.transform(X_train['review_text'])\n",
        "X_test_text = tfidf.transform(X_test['review_text'])"
      ],
      "execution_count": 106,
      "outputs": []
    },
    {
      "cell_type": "markdown",
      "metadata": {
        "id": "9rkVqPKGLzd7"
      },
      "source": [
        "Только отзывы"
      ]
    },
    {
      "cell_type": "code",
      "metadata": {
        "colab": {
          "base_uri": "https://localhost:8080/"
        },
        "id": "T4mqbt_KM80D",
        "outputId": "557a5377-8fb6-4fd3-db65-2c00031be424"
      },
      "source": [
        "model = CatBoostClassifier(eval_metric='AUC', learning_rate=0.15)\n",
        "\n",
        "model.fit(X_train_text, y_train, eval_set=(X_test_text, y_test))\n"
      ],
      "execution_count": 108,
      "outputs": [
        {
          "output_type": "stream",
          "text": [
            "0:\ttest: 0.7110669\tbest: 0.7110669 (0)\ttotal: 1.97s\tremaining: 32m 47s\n",
            "1:\ttest: 0.7468481\tbest: 0.7468481 (1)\ttotal: 3.49s\tremaining: 29m\n",
            "2:\ttest: 0.7502085\tbest: 0.7502085 (2)\ttotal: 4.92s\tremaining: 27m 16s\n",
            "3:\ttest: 0.7525620\tbest: 0.7525620 (3)\ttotal: 6.37s\tremaining: 26m 27s\n",
            "4:\ttest: 0.7597838\tbest: 0.7597838 (4)\ttotal: 7.87s\tremaining: 26m 5s\n",
            "5:\ttest: 0.7618183\tbest: 0.7618183 (5)\ttotal: 9.28s\tremaining: 25m 37s\n",
            "6:\ttest: 0.7728675\tbest: 0.7728675 (6)\ttotal: 10.7s\tremaining: 25m 20s\n",
            "7:\ttest: 0.7778403\tbest: 0.7778403 (7)\ttotal: 12.2s\tremaining: 25m 9s\n",
            "8:\ttest: 0.7778327\tbest: 0.7778403 (7)\ttotal: 13.7s\tremaining: 25m 7s\n",
            "9:\ttest: 0.7810894\tbest: 0.7810894 (9)\ttotal: 15.2s\tremaining: 25m 2s\n",
            "10:\ttest: 0.7848125\tbest: 0.7848125 (10)\ttotal: 16.8s\tremaining: 25m 9s\n",
            "11:\ttest: 0.7896085\tbest: 0.7896085 (11)\ttotal: 18.3s\tremaining: 25m 5s\n",
            "12:\ttest: 0.7923996\tbest: 0.7923996 (12)\ttotal: 19.7s\tremaining: 24m 55s\n",
            "13:\ttest: 0.7959945\tbest: 0.7959945 (13)\ttotal: 21.2s\tremaining: 24m 52s\n",
            "14:\ttest: 0.7988657\tbest: 0.7988657 (14)\ttotal: 22.7s\tremaining: 24m 51s\n",
            "15:\ttest: 0.7999210\tbest: 0.7999210 (15)\ttotal: 24.2s\tremaining: 24m 46s\n",
            "16:\ttest: 0.8009575\tbest: 0.8009575 (16)\ttotal: 25.7s\tremaining: 24m 43s\n",
            "17:\ttest: 0.8054528\tbest: 0.8054528 (17)\ttotal: 27.1s\tremaining: 24m 40s\n",
            "18:\ttest: 0.8057954\tbest: 0.8057954 (18)\ttotal: 28.7s\tremaining: 24m 41s\n",
            "19:\ttest: 0.8074214\tbest: 0.8074214 (19)\ttotal: 30.1s\tremaining: 24m 36s\n",
            "20:\ttest: 0.8084861\tbest: 0.8084861 (20)\ttotal: 31.6s\tremaining: 24m 33s\n",
            "21:\ttest: 0.8092664\tbest: 0.8092664 (21)\ttotal: 33.1s\tremaining: 24m 29s\n",
            "22:\ttest: 0.8107435\tbest: 0.8107435 (22)\ttotal: 34.6s\tremaining: 24m 28s\n",
            "23:\ttest: 0.8133743\tbest: 0.8133743 (23)\ttotal: 36s\tremaining: 24m 23s\n",
            "24:\ttest: 0.8141422\tbest: 0.8141422 (24)\ttotal: 37.4s\tremaining: 24m 19s\n",
            "25:\ttest: 0.8146501\tbest: 0.8146501 (25)\ttotal: 38.8s\tremaining: 24m 14s\n",
            "26:\ttest: 0.8154241\tbest: 0.8154241 (26)\ttotal: 40.3s\tremaining: 24m 11s\n",
            "27:\ttest: 0.8160184\tbest: 0.8160184 (27)\ttotal: 41.8s\tremaining: 24m 9s\n",
            "28:\ttest: 0.8172925\tbest: 0.8172925 (28)\ttotal: 43.2s\tremaining: 24m 5s\n",
            "29:\ttest: 0.8180702\tbest: 0.8180702 (29)\ttotal: 44.6s\tremaining: 24m 2s\n",
            "30:\ttest: 0.8187917\tbest: 0.8187917 (30)\ttotal: 46s\tremaining: 23m 59s\n",
            "31:\ttest: 0.8202287\tbest: 0.8202287 (31)\ttotal: 47.5s\tremaining: 23m 55s\n",
            "32:\ttest: 0.8213097\tbest: 0.8213097 (32)\ttotal: 49s\tremaining: 23m 55s\n",
            "33:\ttest: 0.8228477\tbest: 0.8228477 (33)\ttotal: 50.5s\tremaining: 23m 53s\n",
            "34:\ttest: 0.8234387\tbest: 0.8234387 (34)\ttotal: 51.9s\tremaining: 23m 50s\n",
            "35:\ttest: 0.8237848\tbest: 0.8237848 (35)\ttotal: 53.3s\tremaining: 23m 47s\n",
            "36:\ttest: 0.8247474\tbest: 0.8247474 (36)\ttotal: 54.7s\tremaining: 23m 44s\n",
            "37:\ttest: 0.8257823\tbest: 0.8257823 (37)\ttotal: 56.2s\tremaining: 23m 42s\n",
            "38:\ttest: 0.8260961\tbest: 0.8260961 (38)\ttotal: 57.7s\tremaining: 23m 41s\n",
            "39:\ttest: 0.8268024\tbest: 0.8268024 (39)\ttotal: 59.1s\tremaining: 23m 38s\n",
            "40:\ttest: 0.8273376\tbest: 0.8273376 (40)\ttotal: 1m\tremaining: 23m 36s\n",
            "41:\ttest: 0.8284031\tbest: 0.8284031 (41)\ttotal: 1m 2s\tremaining: 23m 34s\n",
            "42:\ttest: 0.8288544\tbest: 0.8288544 (42)\ttotal: 1m 3s\tremaining: 23m 32s\n",
            "43:\ttest: 0.8294168\tbest: 0.8294168 (43)\ttotal: 1m 4s\tremaining: 23m 29s\n",
            "44:\ttest: 0.8298151\tbest: 0.8298151 (44)\ttotal: 1m 6s\tremaining: 23m 26s\n",
            "45:\ttest: 0.8301178\tbest: 0.8301178 (45)\ttotal: 1m 7s\tremaining: 23m 23s\n",
            "46:\ttest: 0.8304186\tbest: 0.8304186 (46)\ttotal: 1m 9s\tremaining: 23m 21s\n",
            "47:\ttest: 0.8306882\tbest: 0.8306882 (47)\ttotal: 1m 10s\tremaining: 23m 18s\n",
            "48:\ttest: 0.8317503\tbest: 0.8317503 (48)\ttotal: 1m 11s\tremaining: 23m 16s\n",
            "49:\ttest: 0.8322448\tbest: 0.8322448 (49)\ttotal: 1m 13s\tremaining: 23m 14s\n",
            "50:\ttest: 0.8325700\tbest: 0.8325700 (50)\ttotal: 1m 14s\tremaining: 23m 13s\n",
            "51:\ttest: 0.8333696\tbest: 0.8333696 (51)\ttotal: 1m 16s\tremaining: 23m 11s\n",
            "52:\ttest: 0.8339258\tbest: 0.8339258 (52)\ttotal: 1m 17s\tremaining: 23m 8s\n",
            "53:\ttest: 0.8341774\tbest: 0.8341774 (53)\ttotal: 1m 19s\tremaining: 23m 7s\n",
            "54:\ttest: 0.8349409\tbest: 0.8349409 (54)\ttotal: 1m 20s\tremaining: 23m 5s\n",
            "55:\ttest: 0.8351978\tbest: 0.8351978 (55)\ttotal: 1m 22s\tremaining: 23m 2s\n",
            "56:\ttest: 0.8358873\tbest: 0.8358873 (56)\ttotal: 1m 23s\tremaining: 23m 1s\n",
            "57:\ttest: 0.8360671\tbest: 0.8360671 (57)\ttotal: 1m 24s\tremaining: 22m 59s\n",
            "58:\ttest: 0.8363350\tbest: 0.8363350 (58)\ttotal: 1m 26s\tremaining: 22m 57s\n",
            "59:\ttest: 0.8364403\tbest: 0.8364403 (59)\ttotal: 1m 27s\tremaining: 22m 55s\n",
            "60:\ttest: 0.8366391\tbest: 0.8366391 (60)\ttotal: 1m 29s\tremaining: 22m 53s\n",
            "61:\ttest: 0.8368858\tbest: 0.8368858 (61)\ttotal: 1m 30s\tremaining: 22m 51s\n",
            "62:\ttest: 0.8372802\tbest: 0.8372802 (62)\ttotal: 1m 32s\tremaining: 22m 49s\n",
            "63:\ttest: 0.8377803\tbest: 0.8377803 (63)\ttotal: 1m 33s\tremaining: 22m 47s\n",
            "64:\ttest: 0.8378342\tbest: 0.8378342 (64)\ttotal: 1m 34s\tremaining: 22m 45s\n",
            "65:\ttest: 0.8380365\tbest: 0.8380365 (65)\ttotal: 1m 36s\tremaining: 22m 43s\n",
            "66:\ttest: 0.8383379\tbest: 0.8383379 (66)\ttotal: 1m 37s\tremaining: 22m 41s\n",
            "67:\ttest: 0.8387089\tbest: 0.8387089 (67)\ttotal: 1m 39s\tremaining: 22m 39s\n",
            "68:\ttest: 0.8391900\tbest: 0.8391900 (68)\ttotal: 1m 40s\tremaining: 22m 38s\n",
            "69:\ttest: 0.8394341\tbest: 0.8394341 (69)\ttotal: 1m 42s\tremaining: 22m 36s\n",
            "70:\ttest: 0.8395299\tbest: 0.8395299 (70)\ttotal: 1m 43s\tremaining: 22m 35s\n",
            "71:\ttest: 0.8397707\tbest: 0.8397707 (71)\ttotal: 1m 44s\tremaining: 22m 33s\n",
            "72:\ttest: 0.8400970\tbest: 0.8400970 (72)\ttotal: 1m 46s\tremaining: 22m 31s\n",
            "73:\ttest: 0.8402843\tbest: 0.8402843 (73)\ttotal: 1m 47s\tremaining: 22m 29s\n",
            "74:\ttest: 0.8407213\tbest: 0.8407213 (74)\ttotal: 1m 49s\tremaining: 22m 27s\n",
            "75:\ttest: 0.8409653\tbest: 0.8409653 (75)\ttotal: 1m 50s\tremaining: 22m 25s\n",
            "76:\ttest: 0.8409956\tbest: 0.8409956 (76)\ttotal: 1m 52s\tremaining: 22m 23s\n",
            "77:\ttest: 0.8412220\tbest: 0.8412220 (77)\ttotal: 1m 53s\tremaining: 22m 22s\n",
            "78:\ttest: 0.8414371\tbest: 0.8414371 (78)\ttotal: 1m 54s\tremaining: 22m 19s\n",
            "79:\ttest: 0.8421538\tbest: 0.8421538 (79)\ttotal: 1m 56s\tremaining: 22m 18s\n",
            "80:\ttest: 0.8422593\tbest: 0.8422593 (80)\ttotal: 1m 57s\tremaining: 22m 17s\n",
            "81:\ttest: 0.8425753\tbest: 0.8425753 (81)\ttotal: 1m 59s\tremaining: 22m 15s\n",
            "82:\ttest: 0.8432437\tbest: 0.8432437 (82)\ttotal: 2m\tremaining: 22m 13s\n",
            "83:\ttest: 0.8434886\tbest: 0.8434886 (83)\ttotal: 2m 2s\tremaining: 22m 11s\n",
            "84:\ttest: 0.8437741\tbest: 0.8437741 (84)\ttotal: 2m 3s\tremaining: 22m 9s\n",
            "85:\ttest: 0.8439534\tbest: 0.8439534 (85)\ttotal: 2m 5s\tremaining: 22m 8s\n",
            "86:\ttest: 0.8442128\tbest: 0.8442128 (86)\ttotal: 2m 6s\tremaining: 22m 7s\n",
            "87:\ttest: 0.8443356\tbest: 0.8443356 (87)\ttotal: 2m 7s\tremaining: 22m 5s\n",
            "88:\ttest: 0.8445246\tbest: 0.8445246 (88)\ttotal: 2m 9s\tremaining: 22m 3s\n",
            "89:\ttest: 0.8447551\tbest: 0.8447551 (89)\ttotal: 2m 10s\tremaining: 22m 3s\n",
            "90:\ttest: 0.8449992\tbest: 0.8449992 (90)\ttotal: 2m 12s\tremaining: 22m 1s\n",
            "91:\ttest: 0.8451862\tbest: 0.8451862 (91)\ttotal: 2m 13s\tremaining: 21m 59s\n",
            "92:\ttest: 0.8455533\tbest: 0.8455533 (92)\ttotal: 2m 15s\tremaining: 21m 58s\n",
            "93:\ttest: 0.8462006\tbest: 0.8462006 (93)\ttotal: 2m 16s\tremaining: 21m 56s\n",
            "94:\ttest: 0.8467753\tbest: 0.8467753 (94)\ttotal: 2m 18s\tremaining: 21m 54s\n",
            "95:\ttest: 0.8470752\tbest: 0.8470752 (95)\ttotal: 2m 19s\tremaining: 21m 52s\n",
            "96:\ttest: 0.8471154\tbest: 0.8471154 (96)\ttotal: 2m 20s\tremaining: 21m 51s\n",
            "97:\ttest: 0.8473292\tbest: 0.8473292 (97)\ttotal: 2m 22s\tremaining: 21m 49s\n",
            "98:\ttest: 0.8474856\tbest: 0.8474856 (98)\ttotal: 2m 23s\tremaining: 21m 47s\n",
            "99:\ttest: 0.8477320\tbest: 0.8477320 (99)\ttotal: 2m 25s\tremaining: 21m 45s\n",
            "100:\ttest: 0.8479823\tbest: 0.8479823 (100)\ttotal: 2m 26s\tremaining: 21m 43s\n",
            "101:\ttest: 0.8481569\tbest: 0.8481569 (101)\ttotal: 2m 27s\tremaining: 21m 41s\n",
            "102:\ttest: 0.8484518\tbest: 0.8484518 (102)\ttotal: 2m 29s\tremaining: 21m 40s\n",
            "103:\ttest: 0.8485601\tbest: 0.8485601 (103)\ttotal: 2m 30s\tremaining: 21m 38s\n",
            "104:\ttest: 0.8487040\tbest: 0.8487040 (104)\ttotal: 2m 32s\tremaining: 21m 36s\n",
            "105:\ttest: 0.8488985\tbest: 0.8488985 (105)\ttotal: 2m 33s\tremaining: 21m 35s\n",
            "106:\ttest: 0.8491135\tbest: 0.8491135 (106)\ttotal: 2m 35s\tremaining: 21m 33s\n",
            "107:\ttest: 0.8491161\tbest: 0.8491161 (107)\ttotal: 2m 36s\tremaining: 21m 32s\n",
            "108:\ttest: 0.8493862\tbest: 0.8493862 (108)\ttotal: 2m 37s\tremaining: 21m 30s\n",
            "109:\ttest: 0.8493104\tbest: 0.8493862 (108)\ttotal: 2m 39s\tremaining: 21m 29s\n",
            "110:\ttest: 0.8494109\tbest: 0.8494109 (110)\ttotal: 2m 40s\tremaining: 21m 28s\n",
            "111:\ttest: 0.8494944\tbest: 0.8494944 (111)\ttotal: 2m 42s\tremaining: 21m 26s\n",
            "112:\ttest: 0.8494967\tbest: 0.8494967 (112)\ttotal: 2m 43s\tremaining: 21m 25s\n",
            "113:\ttest: 0.8497579\tbest: 0.8497579 (113)\ttotal: 2m 45s\tremaining: 21m 23s\n",
            "114:\ttest: 0.8497477\tbest: 0.8497579 (113)\ttotal: 2m 46s\tremaining: 21m 21s\n",
            "115:\ttest: 0.8498512\tbest: 0.8498512 (115)\ttotal: 2m 47s\tremaining: 21m 20s\n",
            "116:\ttest: 0.8499581\tbest: 0.8499581 (116)\ttotal: 2m 49s\tremaining: 21m 18s\n",
            "117:\ttest: 0.8501403\tbest: 0.8501403 (117)\ttotal: 2m 50s\tremaining: 21m 16s\n",
            "118:\ttest: 0.8502682\tbest: 0.8502682 (118)\ttotal: 2m 52s\tremaining: 21m 15s\n",
            "119:\ttest: 0.8504750\tbest: 0.8504750 (119)\ttotal: 2m 53s\tremaining: 21m 13s\n",
            "120:\ttest: 0.8506566\tbest: 0.8506566 (120)\ttotal: 2m 55s\tremaining: 21m 12s\n",
            "121:\ttest: 0.8507380\tbest: 0.8507380 (121)\ttotal: 2m 56s\tremaining: 21m 10s\n",
            "122:\ttest: 0.8507935\tbest: 0.8507935 (122)\ttotal: 2m 57s\tremaining: 21m 9s\n",
            "123:\ttest: 0.8508839\tbest: 0.8508839 (123)\ttotal: 2m 59s\tremaining: 21m 7s\n",
            "124:\ttest: 0.8509545\tbest: 0.8509545 (124)\ttotal: 3m\tremaining: 21m 5s\n",
            "125:\ttest: 0.8510589\tbest: 0.8510589 (125)\ttotal: 3m 2s\tremaining: 21m 4s\n",
            "126:\ttest: 0.8512021\tbest: 0.8512021 (126)\ttotal: 3m 3s\tremaining: 21m 2s\n",
            "127:\ttest: 0.8513500\tbest: 0.8513500 (127)\ttotal: 3m 5s\tremaining: 21m\n",
            "128:\ttest: 0.8515517\tbest: 0.8515517 (128)\ttotal: 3m 6s\tremaining: 20m 58s\n",
            "129:\ttest: 0.8516157\tbest: 0.8516157 (129)\ttotal: 3m 7s\tremaining: 20m 57s\n",
            "130:\ttest: 0.8516501\tbest: 0.8516501 (130)\ttotal: 3m 9s\tremaining: 20m 56s\n",
            "131:\ttest: 0.8516934\tbest: 0.8516934 (131)\ttotal: 3m 10s\tremaining: 20m 54s\n",
            "132:\ttest: 0.8517330\tbest: 0.8517330 (132)\ttotal: 3m 12s\tremaining: 20m 52s\n",
            "133:\ttest: 0.8518896\tbest: 0.8518896 (133)\ttotal: 3m 13s\tremaining: 20m 51s\n",
            "134:\ttest: 0.8520733\tbest: 0.8520733 (134)\ttotal: 3m 14s\tremaining: 20m 49s\n",
            "135:\ttest: 0.8521622\tbest: 0.8521622 (135)\ttotal: 3m 16s\tremaining: 20m 47s\n",
            "136:\ttest: 0.8522301\tbest: 0.8522301 (136)\ttotal: 3m 17s\tremaining: 20m 45s\n",
            "137:\ttest: 0.8522650\tbest: 0.8522650 (137)\ttotal: 3m 19s\tremaining: 20m 43s\n",
            "138:\ttest: 0.8523730\tbest: 0.8523730 (138)\ttotal: 3m 20s\tremaining: 20m 42s\n",
            "139:\ttest: 0.8525882\tbest: 0.8525882 (139)\ttotal: 3m 22s\tremaining: 20m 41s\n",
            "140:\ttest: 0.8526625\tbest: 0.8526625 (140)\ttotal: 3m 23s\tremaining: 20m 39s\n",
            "141:\ttest: 0.8529590\tbest: 0.8529590 (141)\ttotal: 3m 24s\tremaining: 20m 37s\n",
            "142:\ttest: 0.8531039\tbest: 0.8531039 (142)\ttotal: 3m 26s\tremaining: 20m 35s\n",
            "143:\ttest: 0.8531623\tbest: 0.8531623 (143)\ttotal: 3m 27s\tremaining: 20m 34s\n",
            "144:\ttest: 0.8531052\tbest: 0.8531623 (143)\ttotal: 3m 29s\tremaining: 20m 32s\n",
            "145:\ttest: 0.8532121\tbest: 0.8532121 (145)\ttotal: 3m 30s\tremaining: 20m 31s\n",
            "146:\ttest: 0.8532666\tbest: 0.8532666 (146)\ttotal: 3m 31s\tremaining: 20m 29s\n",
            "147:\ttest: 0.8532835\tbest: 0.8532835 (147)\ttotal: 3m 33s\tremaining: 20m 27s\n",
            "148:\ttest: 0.8534195\tbest: 0.8534195 (148)\ttotal: 3m 34s\tremaining: 20m 26s\n",
            "149:\ttest: 0.8534136\tbest: 0.8534195 (148)\ttotal: 3m 36s\tremaining: 20m 24s\n",
            "150:\ttest: 0.8535267\tbest: 0.8535267 (150)\ttotal: 3m 37s\tremaining: 20m 23s\n",
            "151:\ttest: 0.8535205\tbest: 0.8535267 (150)\ttotal: 3m 39s\tremaining: 20m 22s\n",
            "152:\ttest: 0.8536220\tbest: 0.8536220 (152)\ttotal: 3m 40s\tremaining: 20m 20s\n",
            "153:\ttest: 0.8538502\tbest: 0.8538502 (153)\ttotal: 3m 41s\tremaining: 20m 18s\n",
            "154:\ttest: 0.8539606\tbest: 0.8539606 (154)\ttotal: 3m 43s\tremaining: 20m 17s\n",
            "155:\ttest: 0.8539888\tbest: 0.8539888 (155)\ttotal: 3m 44s\tremaining: 20m 16s\n",
            "156:\ttest: 0.8541717\tbest: 0.8541717 (156)\ttotal: 3m 46s\tremaining: 20m 14s\n",
            "157:\ttest: 0.8541922\tbest: 0.8541922 (157)\ttotal: 3m 47s\tremaining: 20m 12s\n",
            "158:\ttest: 0.8542373\tbest: 0.8542373 (158)\ttotal: 3m 48s\tremaining: 20m 11s\n",
            "159:\ttest: 0.8542982\tbest: 0.8542982 (159)\ttotal: 3m 50s\tremaining: 20m 9s\n",
            "160:\ttest: 0.8544151\tbest: 0.8544151 (160)\ttotal: 3m 51s\tremaining: 20m 8s\n",
            "161:\ttest: 0.8544915\tbest: 0.8544915 (161)\ttotal: 3m 53s\tremaining: 20m 6s\n",
            "162:\ttest: 0.8545357\tbest: 0.8545357 (162)\ttotal: 3m 54s\tremaining: 20m 5s\n",
            "163:\ttest: 0.8545446\tbest: 0.8545446 (163)\ttotal: 3m 56s\tremaining: 20m 3s\n",
            "164:\ttest: 0.8546908\tbest: 0.8546908 (164)\ttotal: 3m 57s\tremaining: 20m 1s\n",
            "165:\ttest: 0.8547305\tbest: 0.8547305 (165)\ttotal: 3m 58s\tremaining: 19m 59s\n",
            "166:\ttest: 0.8547829\tbest: 0.8547829 (166)\ttotal: 4m\tremaining: 19m 58s\n",
            "167:\ttest: 0.8548943\tbest: 0.8548943 (167)\ttotal: 4m 1s\tremaining: 19m 56s\n",
            "168:\ttest: 0.8550875\tbest: 0.8550875 (168)\ttotal: 4m 3s\tremaining: 19m 55s\n",
            "169:\ttest: 0.8551494\tbest: 0.8551494 (169)\ttotal: 4m 4s\tremaining: 19m 53s\n",
            "170:\ttest: 0.8553625\tbest: 0.8553625 (170)\ttotal: 4m 5s\tremaining: 19m 52s\n",
            "171:\ttest: 0.8555704\tbest: 0.8555704 (171)\ttotal: 4m 7s\tremaining: 19m 50s\n",
            "172:\ttest: 0.8556187\tbest: 0.8556187 (172)\ttotal: 4m 8s\tremaining: 19m 49s\n",
            "173:\ttest: 0.8556425\tbest: 0.8556425 (173)\ttotal: 4m 10s\tremaining: 19m 47s\n",
            "174:\ttest: 0.8557547\tbest: 0.8557547 (174)\ttotal: 4m 11s\tremaining: 19m 45s\n",
            "175:\ttest: 0.8557694\tbest: 0.8557694 (175)\ttotal: 4m 12s\tremaining: 19m 44s\n",
            "176:\ttest: 0.8557413\tbest: 0.8557694 (175)\ttotal: 4m 14s\tremaining: 19m 42s\n",
            "177:\ttest: 0.8557380\tbest: 0.8557694 (175)\ttotal: 4m 15s\tremaining: 19m 41s\n",
            "178:\ttest: 0.8557698\tbest: 0.8557698 (178)\ttotal: 4m 17s\tremaining: 19m 39s\n",
            "179:\ttest: 0.8558381\tbest: 0.8558381 (179)\ttotal: 4m 18s\tremaining: 19m 37s\n",
            "180:\ttest: 0.8559573\tbest: 0.8559573 (180)\ttotal: 4m 19s\tremaining: 19m 36s\n",
            "181:\ttest: 0.8560508\tbest: 0.8560508 (181)\ttotal: 4m 21s\tremaining: 19m 34s\n",
            "182:\ttest: 0.8560763\tbest: 0.8560763 (182)\ttotal: 4m 22s\tremaining: 19m 32s\n",
            "183:\ttest: 0.8562560\tbest: 0.8562560 (183)\ttotal: 4m 24s\tremaining: 19m 31s\n",
            "184:\ttest: 0.8562491\tbest: 0.8562560 (183)\ttotal: 4m 25s\tremaining: 19m 29s\n",
            "185:\ttest: 0.8562989\tbest: 0.8562989 (185)\ttotal: 4m 26s\tremaining: 19m 27s\n",
            "186:\ttest: 0.8562632\tbest: 0.8562989 (185)\ttotal: 4m 28s\tremaining: 19m 25s\n",
            "187:\ttest: 0.8562593\tbest: 0.8562989 (185)\ttotal: 4m 29s\tremaining: 19m 24s\n",
            "188:\ttest: 0.8565038\tbest: 0.8565038 (188)\ttotal: 4m 31s\tremaining: 19m 22s\n",
            "189:\ttest: 0.8566256\tbest: 0.8566256 (189)\ttotal: 4m 32s\tremaining: 19m 21s\n",
            "190:\ttest: 0.8567315\tbest: 0.8567315 (190)\ttotal: 4m 33s\tremaining: 19m 19s\n",
            "191:\ttest: 0.8567853\tbest: 0.8567853 (191)\ttotal: 4m 35s\tremaining: 19m 18s\n",
            "192:\ttest: 0.8567418\tbest: 0.8567853 (191)\ttotal: 4m 36s\tremaining: 19m 16s\n",
            "193:\ttest: 0.8567489\tbest: 0.8567853 (191)\ttotal: 4m 38s\tremaining: 19m 15s\n",
            "194:\ttest: 0.8569032\tbest: 0.8569032 (194)\ttotal: 4m 39s\tremaining: 19m 13s\n",
            "195:\ttest: 0.8569538\tbest: 0.8569538 (195)\ttotal: 4m 40s\tremaining: 19m 11s\n",
            "196:\ttest: 0.8570571\tbest: 0.8570571 (196)\ttotal: 4m 42s\tremaining: 19m 10s\n",
            "197:\ttest: 0.8570318\tbest: 0.8570571 (196)\ttotal: 4m 43s\tremaining: 19m 8s\n",
            "198:\ttest: 0.8570732\tbest: 0.8570732 (198)\ttotal: 4m 44s\tremaining: 19m 6s\n",
            "199:\ttest: 0.8571119\tbest: 0.8571119 (199)\ttotal: 4m 46s\tremaining: 19m 5s\n",
            "200:\ttest: 0.8572167\tbest: 0.8572167 (200)\ttotal: 4m 47s\tremaining: 19m 3s\n",
            "201:\ttest: 0.8573113\tbest: 0.8573113 (201)\ttotal: 4m 49s\tremaining: 19m 2s\n",
            "202:\ttest: 0.8573660\tbest: 0.8573660 (202)\ttotal: 4m 50s\tremaining: 19m\n",
            "203:\ttest: 0.8573717\tbest: 0.8573717 (203)\ttotal: 4m 52s\tremaining: 18m 59s\n",
            "204:\ttest: 0.8573727\tbest: 0.8573727 (204)\ttotal: 4m 53s\tremaining: 18m 57s\n",
            "205:\ttest: 0.8573289\tbest: 0.8573727 (204)\ttotal: 4m 54s\tremaining: 18m 56s\n",
            "206:\ttest: 0.8573049\tbest: 0.8573727 (204)\ttotal: 4m 56s\tremaining: 18m 54s\n",
            "207:\ttest: 0.8573255\tbest: 0.8573727 (204)\ttotal: 4m 57s\tremaining: 18m 52s\n",
            "208:\ttest: 0.8573457\tbest: 0.8573727 (204)\ttotal: 4m 58s\tremaining: 18m 51s\n",
            "209:\ttest: 0.8574070\tbest: 0.8574070 (209)\ttotal: 5m\tremaining: 18m 49s\n",
            "210:\ttest: 0.8574748\tbest: 0.8574748 (210)\ttotal: 5m 1s\tremaining: 18m 48s\n",
            "211:\ttest: 0.8575091\tbest: 0.8575091 (211)\ttotal: 5m 3s\tremaining: 18m 46s\n",
            "212:\ttest: 0.8575379\tbest: 0.8575379 (212)\ttotal: 5m 4s\tremaining: 18m 44s\n",
            "213:\ttest: 0.8576355\tbest: 0.8576355 (213)\ttotal: 5m 5s\tremaining: 18m 43s\n",
            "214:\ttest: 0.8576549\tbest: 0.8576549 (214)\ttotal: 5m 7s\tremaining: 18m 41s\n",
            "215:\ttest: 0.8577214\tbest: 0.8577214 (215)\ttotal: 5m 8s\tremaining: 18m 40s\n",
            "216:\ttest: 0.8577175\tbest: 0.8577214 (215)\ttotal: 5m 10s\tremaining: 18m 38s\n",
            "217:\ttest: 0.8577144\tbest: 0.8577214 (215)\ttotal: 5m 11s\tremaining: 18m 36s\n",
            "218:\ttest: 0.8577162\tbest: 0.8577214 (215)\ttotal: 5m 12s\tremaining: 18m 35s\n",
            "219:\ttest: 0.8577152\tbest: 0.8577214 (215)\ttotal: 5m 14s\tremaining: 18m 33s\n",
            "220:\ttest: 0.8577156\tbest: 0.8577214 (215)\ttotal: 5m 15s\tremaining: 18m 32s\n",
            "221:\ttest: 0.8577234\tbest: 0.8577234 (221)\ttotal: 5m 16s\tremaining: 18m 30s\n",
            "222:\ttest: 0.8579584\tbest: 0.8579584 (222)\ttotal: 5m 18s\tremaining: 18m 29s\n",
            "223:\ttest: 0.8579960\tbest: 0.8579960 (223)\ttotal: 5m 19s\tremaining: 18m 27s\n",
            "224:\ttest: 0.8579747\tbest: 0.8579960 (223)\ttotal: 5m 21s\tremaining: 18m 25s\n",
            "225:\ttest: 0.8579925\tbest: 0.8579960 (223)\ttotal: 5m 22s\tremaining: 18m 24s\n",
            "226:\ttest: 0.8580840\tbest: 0.8580840 (226)\ttotal: 5m 23s\tremaining: 18m 22s\n",
            "227:\ttest: 0.8581249\tbest: 0.8581249 (227)\ttotal: 5m 25s\tremaining: 18m 21s\n",
            "228:\ttest: 0.8581428\tbest: 0.8581428 (228)\ttotal: 5m 26s\tremaining: 18m 19s\n",
            "229:\ttest: 0.8581520\tbest: 0.8581520 (229)\ttotal: 5m 28s\tremaining: 18m 18s\n",
            "230:\ttest: 0.8582299\tbest: 0.8582299 (230)\ttotal: 5m 29s\tremaining: 18m 16s\n",
            "231:\ttest: 0.8581939\tbest: 0.8582299 (230)\ttotal: 5m 30s\tremaining: 18m 15s\n",
            "232:\ttest: 0.8581647\tbest: 0.8582299 (230)\ttotal: 5m 32s\tremaining: 18m 13s\n",
            "233:\ttest: 0.8582282\tbest: 0.8582299 (230)\ttotal: 5m 33s\tremaining: 18m 11s\n",
            "234:\ttest: 0.8584282\tbest: 0.8584282 (234)\ttotal: 5m 34s\tremaining: 18m 10s\n",
            "235:\ttest: 0.8584224\tbest: 0.8584282 (234)\ttotal: 5m 36s\tremaining: 18m 8s\n",
            "236:\ttest: 0.8584071\tbest: 0.8584282 (234)\ttotal: 5m 37s\tremaining: 18m 7s\n",
            "237:\ttest: 0.8584281\tbest: 0.8584282 (234)\ttotal: 5m 39s\tremaining: 18m 5s\n",
            "238:\ttest: 0.8584106\tbest: 0.8584282 (234)\ttotal: 5m 40s\tremaining: 18m 4s\n",
            "239:\ttest: 0.8584183\tbest: 0.8584282 (234)\ttotal: 5m 41s\tremaining: 18m 2s\n",
            "240:\ttest: 0.8584380\tbest: 0.8584380 (240)\ttotal: 5m 43s\tremaining: 18m\n",
            "241:\ttest: 0.8584400\tbest: 0.8584400 (241)\ttotal: 5m 44s\tremaining: 17m 59s\n",
            "242:\ttest: 0.8584765\tbest: 0.8584765 (242)\ttotal: 5m 45s\tremaining: 17m 57s\n",
            "243:\ttest: 0.8584773\tbest: 0.8584773 (243)\ttotal: 5m 47s\tremaining: 17m 56s\n",
            "244:\ttest: 0.8586234\tbest: 0.8586234 (244)\ttotal: 5m 48s\tremaining: 17m 54s\n",
            "245:\ttest: 0.8587063\tbest: 0.8587063 (245)\ttotal: 5m 50s\tremaining: 17m 53s\n",
            "246:\ttest: 0.8587681\tbest: 0.8587681 (246)\ttotal: 5m 51s\tremaining: 17m 51s\n",
            "247:\ttest: 0.8587674\tbest: 0.8587681 (246)\ttotal: 5m 52s\tremaining: 17m 49s\n",
            "248:\ttest: 0.8587584\tbest: 0.8587681 (246)\ttotal: 5m 54s\tremaining: 17m 48s\n",
            "249:\ttest: 0.8587507\tbest: 0.8587681 (246)\ttotal: 5m 55s\tremaining: 17m 46s\n",
            "250:\ttest: 0.8587412\tbest: 0.8587681 (246)\ttotal: 5m 57s\tremaining: 17m 45s\n",
            "251:\ttest: 0.8587819\tbest: 0.8587819 (251)\ttotal: 5m 58s\tremaining: 17m 43s\n",
            "252:\ttest: 0.8587979\tbest: 0.8587979 (252)\ttotal: 5m 59s\tremaining: 17m 42s\n",
            "253:\ttest: 0.8588148\tbest: 0.8588148 (253)\ttotal: 6m 1s\tremaining: 17m 40s\n",
            "254:\ttest: 0.8588812\tbest: 0.8588812 (254)\ttotal: 6m 2s\tremaining: 17m 39s\n",
            "255:\ttest: 0.8589462\tbest: 0.8589462 (255)\ttotal: 6m 4s\tremaining: 17m 38s\n",
            "256:\ttest: 0.8589486\tbest: 0.8589486 (256)\ttotal: 6m 5s\tremaining: 17m 36s\n",
            "257:\ttest: 0.8589348\tbest: 0.8589486 (256)\ttotal: 6m 6s\tremaining: 17m 34s\n",
            "258:\ttest: 0.8590655\tbest: 0.8590655 (258)\ttotal: 6m 8s\tremaining: 17m 33s\n",
            "259:\ttest: 0.8592046\tbest: 0.8592046 (259)\ttotal: 6m 9s\tremaining: 17m 32s\n",
            "260:\ttest: 0.8592009\tbest: 0.8592046 (259)\ttotal: 6m 10s\tremaining: 17m 30s\n",
            "261:\ttest: 0.8592096\tbest: 0.8592096 (261)\ttotal: 6m 12s\tremaining: 17m 28s\n",
            "262:\ttest: 0.8592502\tbest: 0.8592502 (262)\ttotal: 6m 13s\tremaining: 17m 27s\n",
            "263:\ttest: 0.8592413\tbest: 0.8592502 (262)\ttotal: 6m 15s\tremaining: 17m 25s\n",
            "264:\ttest: 0.8592136\tbest: 0.8592502 (262)\ttotal: 6m 16s\tremaining: 17m 24s\n",
            "265:\ttest: 0.8592047\tbest: 0.8592502 (262)\ttotal: 6m 17s\tremaining: 17m 22s\n",
            "266:\ttest: 0.8592533\tbest: 0.8592533 (266)\ttotal: 6m 19s\tremaining: 17m 21s\n",
            "267:\ttest: 0.8592608\tbest: 0.8592608 (267)\ttotal: 6m 20s\tremaining: 17m 20s\n",
            "268:\ttest: 0.8592430\tbest: 0.8592608 (267)\ttotal: 6m 22s\tremaining: 17m 18s\n",
            "269:\ttest: 0.8592584\tbest: 0.8592608 (267)\ttotal: 6m 23s\tremaining: 17m 17s\n",
            "270:\ttest: 0.8592979\tbest: 0.8592979 (270)\ttotal: 6m 24s\tremaining: 17m 15s\n",
            "271:\ttest: 0.8592996\tbest: 0.8592996 (271)\ttotal: 6m 26s\tremaining: 17m 14s\n",
            "272:\ttest: 0.8593036\tbest: 0.8593036 (272)\ttotal: 6m 27s\tremaining: 17m 12s\n",
            "273:\ttest: 0.8593764\tbest: 0.8593764 (273)\ttotal: 6m 29s\tremaining: 17m 11s\n",
            "274:\ttest: 0.8594030\tbest: 0.8594030 (274)\ttotal: 6m 30s\tremaining: 17m 9s\n",
            "275:\ttest: 0.8593981\tbest: 0.8594030 (274)\ttotal: 6m 31s\tremaining: 17m 8s\n",
            "276:\ttest: 0.8593809\tbest: 0.8594030 (274)\ttotal: 6m 33s\tremaining: 17m 6s\n",
            "277:\ttest: 0.8594404\tbest: 0.8594404 (277)\ttotal: 6m 34s\tremaining: 17m 4s\n",
            "278:\ttest: 0.8594699\tbest: 0.8594699 (278)\ttotal: 6m 36s\tremaining: 17m 3s\n",
            "279:\ttest: 0.8595636\tbest: 0.8595636 (279)\ttotal: 6m 37s\tremaining: 17m 2s\n",
            "280:\ttest: 0.8595545\tbest: 0.8595636 (279)\ttotal: 6m 38s\tremaining: 17m\n",
            "281:\ttest: 0.8595726\tbest: 0.8595726 (281)\ttotal: 6m 40s\tremaining: 16m 58s\n",
            "282:\ttest: 0.8595810\tbest: 0.8595810 (282)\ttotal: 6m 41s\tremaining: 16m 57s\n",
            "283:\ttest: 0.8596022\tbest: 0.8596022 (283)\ttotal: 6m 42s\tremaining: 16m 55s\n",
            "284:\ttest: 0.8595710\tbest: 0.8596022 (283)\ttotal: 6m 44s\tremaining: 16m 54s\n",
            "285:\ttest: 0.8595699\tbest: 0.8596022 (283)\ttotal: 6m 45s\tremaining: 16m 52s\n",
            "286:\ttest: 0.8595642\tbest: 0.8596022 (283)\ttotal: 6m 47s\tremaining: 16m 51s\n",
            "287:\ttest: 0.8595661\tbest: 0.8596022 (283)\ttotal: 6m 48s\tremaining: 16m 49s\n",
            "288:\ttest: 0.8595593\tbest: 0.8596022 (283)\ttotal: 6m 49s\tremaining: 16m 48s\n",
            "289:\ttest: 0.8596222\tbest: 0.8596222 (289)\ttotal: 6m 51s\tremaining: 16m 46s\n",
            "290:\ttest: 0.8596596\tbest: 0.8596596 (290)\ttotal: 6m 52s\tremaining: 16m 45s\n",
            "291:\ttest: 0.8596240\tbest: 0.8596596 (290)\ttotal: 6m 53s\tremaining: 16m 43s\n",
            "292:\ttest: 0.8596240\tbest: 0.8596596 (290)\ttotal: 6m 55s\tremaining: 16m 42s\n",
            "293:\ttest: 0.8597289\tbest: 0.8597289 (293)\ttotal: 6m 56s\tremaining: 16m 40s\n",
            "294:\ttest: 0.8597275\tbest: 0.8597289 (293)\ttotal: 6m 58s\tremaining: 16m 39s\n",
            "295:\ttest: 0.8597455\tbest: 0.8597455 (295)\ttotal: 6m 59s\tremaining: 16m 37s\n",
            "296:\ttest: 0.8597364\tbest: 0.8597455 (295)\ttotal: 7m\tremaining: 16m 36s\n",
            "297:\ttest: 0.8597506\tbest: 0.8597506 (297)\ttotal: 7m 2s\tremaining: 16m 34s\n",
            "298:\ttest: 0.8597227\tbest: 0.8597506 (297)\ttotal: 7m 3s\tremaining: 16m 32s\n",
            "299:\ttest: 0.8597299\tbest: 0.8597506 (297)\ttotal: 7m 4s\tremaining: 16m 31s\n",
            "300:\ttest: 0.8597458\tbest: 0.8597506 (297)\ttotal: 7m 6s\tremaining: 16m 29s\n",
            "301:\ttest: 0.8598340\tbest: 0.8598340 (301)\ttotal: 7m 7s\tremaining: 16m 28s\n",
            "302:\ttest: 0.8598120\tbest: 0.8598340 (301)\ttotal: 7m 9s\tremaining: 16m 26s\n",
            "303:\ttest: 0.8598268\tbest: 0.8598340 (301)\ttotal: 7m 10s\tremaining: 16m 25s\n",
            "304:\ttest: 0.8598583\tbest: 0.8598583 (304)\ttotal: 7m 11s\tremaining: 16m 23s\n",
            "305:\ttest: 0.8598366\tbest: 0.8598583 (304)\ttotal: 7m 13s\tremaining: 16m 22s\n",
            "306:\ttest: 0.8598254\tbest: 0.8598583 (304)\ttotal: 7m 14s\tremaining: 16m 20s\n",
            "307:\ttest: 0.8598642\tbest: 0.8598642 (307)\ttotal: 7m 15s\tremaining: 16m 19s\n",
            "308:\ttest: 0.8598572\tbest: 0.8598642 (307)\ttotal: 7m 17s\tremaining: 16m 17s\n",
            "309:\ttest: 0.8598892\tbest: 0.8598892 (309)\ttotal: 7m 18s\tremaining: 16m 16s\n",
            "310:\ttest: 0.8598868\tbest: 0.8598892 (309)\ttotal: 7m 19s\tremaining: 16m 14s\n",
            "311:\ttest: 0.8598893\tbest: 0.8598893 (311)\ttotal: 7m 21s\tremaining: 16m 13s\n",
            "312:\ttest: 0.8598812\tbest: 0.8598893 (311)\ttotal: 7m 22s\tremaining: 16m 11s\n",
            "313:\ttest: 0.8598832\tbest: 0.8598893 (311)\ttotal: 7m 24s\tremaining: 16m 10s\n",
            "314:\ttest: 0.8599182\tbest: 0.8599182 (314)\ttotal: 7m 25s\tremaining: 16m 8s\n",
            "315:\ttest: 0.8599786\tbest: 0.8599786 (315)\ttotal: 7m 26s\tremaining: 16m 7s\n",
            "316:\ttest: 0.8599585\tbest: 0.8599786 (315)\ttotal: 7m 28s\tremaining: 16m 5s\n",
            "317:\ttest: 0.8599729\tbest: 0.8599786 (315)\ttotal: 7m 29s\tremaining: 16m 4s\n",
            "318:\ttest: 0.8599439\tbest: 0.8599786 (315)\ttotal: 7m 30s\tremaining: 16m 2s\n",
            "319:\ttest: 0.8599688\tbest: 0.8599786 (315)\ttotal: 7m 32s\tremaining: 16m 1s\n",
            "320:\ttest: 0.8599751\tbest: 0.8599786 (315)\ttotal: 7m 33s\tremaining: 15m 59s\n",
            "321:\ttest: 0.8599723\tbest: 0.8599786 (315)\ttotal: 7m 35s\tremaining: 15m 58s\n",
            "322:\ttest: 0.8600003\tbest: 0.8600003 (322)\ttotal: 7m 36s\tremaining: 15m 56s\n",
            "323:\ttest: 0.8600196\tbest: 0.8600196 (323)\ttotal: 7m 37s\tremaining: 15m 55s\n",
            "324:\ttest: 0.8600223\tbest: 0.8600223 (324)\ttotal: 7m 39s\tremaining: 15m 53s\n",
            "325:\ttest: 0.8600057\tbest: 0.8600223 (324)\ttotal: 7m 40s\tremaining: 15m 52s\n",
            "326:\ttest: 0.8600032\tbest: 0.8600223 (324)\ttotal: 7m 41s\tremaining: 15m 50s\n",
            "327:\ttest: 0.8600706\tbest: 0.8600706 (327)\ttotal: 7m 43s\tremaining: 15m 49s\n",
            "328:\ttest: 0.8600621\tbest: 0.8600706 (327)\ttotal: 7m 44s\tremaining: 15m 47s\n",
            "329:\ttest: 0.8600357\tbest: 0.8600706 (327)\ttotal: 7m 46s\tremaining: 15m 46s\n",
            "330:\ttest: 0.8600353\tbest: 0.8600706 (327)\ttotal: 7m 47s\tremaining: 15m 44s\n",
            "331:\ttest: 0.8600343\tbest: 0.8600706 (327)\ttotal: 7m 48s\tremaining: 15m 43s\n",
            "332:\ttest: 0.8600888\tbest: 0.8600888 (332)\ttotal: 7m 50s\tremaining: 15m 41s\n",
            "333:\ttest: 0.8600909\tbest: 0.8600909 (333)\ttotal: 7m 51s\tremaining: 15m 40s\n",
            "334:\ttest: 0.8601188\tbest: 0.8601188 (334)\ttotal: 7m 52s\tremaining: 15m 38s\n",
            "335:\ttest: 0.8601211\tbest: 0.8601211 (335)\ttotal: 7m 54s\tremaining: 15m 37s\n",
            "336:\ttest: 0.8600887\tbest: 0.8601211 (335)\ttotal: 7m 55s\tremaining: 15m 35s\n",
            "337:\ttest: 0.8600882\tbest: 0.8601211 (335)\ttotal: 7m 56s\tremaining: 15m 34s\n",
            "338:\ttest: 0.8600849\tbest: 0.8601211 (335)\ttotal: 7m 58s\tremaining: 15m 32s\n",
            "339:\ttest: 0.8601685\tbest: 0.8601685 (339)\ttotal: 7m 59s\tremaining: 15m 31s\n",
            "340:\ttest: 0.8602325\tbest: 0.8602325 (340)\ttotal: 8m 1s\tremaining: 15m 29s\n",
            "341:\ttest: 0.8602292\tbest: 0.8602325 (340)\ttotal: 8m 2s\tremaining: 15m 28s\n",
            "342:\ttest: 0.8602694\tbest: 0.8602694 (342)\ttotal: 8m 3s\tremaining: 15m 26s\n",
            "343:\ttest: 0.8603171\tbest: 0.8603171 (343)\ttotal: 8m 5s\tremaining: 15m 25s\n",
            "344:\ttest: 0.8602999\tbest: 0.8603171 (343)\ttotal: 8m 6s\tremaining: 15m 23s\n",
            "345:\ttest: 0.8603728\tbest: 0.8603728 (345)\ttotal: 8m 7s\tremaining: 15m 22s\n",
            "346:\ttest: 0.8603701\tbest: 0.8603728 (345)\ttotal: 8m 9s\tremaining: 15m 20s\n",
            "347:\ttest: 0.8603657\tbest: 0.8603728 (345)\ttotal: 8m 10s\tremaining: 15m 19s\n",
            "348:\ttest: 0.8604062\tbest: 0.8604062 (348)\ttotal: 8m 12s\tremaining: 15m 17s\n",
            "349:\ttest: 0.8604124\tbest: 0.8604124 (349)\ttotal: 8m 13s\tremaining: 15m 16s\n",
            "350:\ttest: 0.8603972\tbest: 0.8604124 (349)\ttotal: 8m 14s\tremaining: 15m 14s\n",
            "351:\ttest: 0.8604293\tbest: 0.8604293 (351)\ttotal: 8m 16s\tremaining: 15m 13s\n",
            "352:\ttest: 0.8604199\tbest: 0.8604293 (351)\ttotal: 8m 17s\tremaining: 15m 11s\n",
            "353:\ttest: 0.8604623\tbest: 0.8604623 (353)\ttotal: 8m 18s\tremaining: 15m 10s\n",
            "354:\ttest: 0.8604864\tbest: 0.8604864 (354)\ttotal: 8m 20s\tremaining: 15m 9s\n",
            "355:\ttest: 0.8604863\tbest: 0.8604864 (354)\ttotal: 8m 21s\tremaining: 15m 7s\n",
            "356:\ttest: 0.8605442\tbest: 0.8605442 (356)\ttotal: 8m 23s\tremaining: 15m 6s\n",
            "357:\ttest: 0.8606830\tbest: 0.8606830 (357)\ttotal: 8m 24s\tremaining: 15m 4s\n",
            "358:\ttest: 0.8607398\tbest: 0.8607398 (358)\ttotal: 8m 25s\tremaining: 15m 3s\n",
            "359:\ttest: 0.8607659\tbest: 0.8607659 (359)\ttotal: 8m 27s\tremaining: 15m 1s\n",
            "360:\ttest: 0.8607778\tbest: 0.8607778 (360)\ttotal: 8m 28s\tremaining: 15m\n",
            "361:\ttest: 0.8607926\tbest: 0.8607926 (361)\ttotal: 8m 30s\tremaining: 14m 58s\n",
            "362:\ttest: 0.8608094\tbest: 0.8608094 (362)\ttotal: 8m 31s\tremaining: 14m 57s\n",
            "363:\ttest: 0.8608393\tbest: 0.8608393 (363)\ttotal: 8m 32s\tremaining: 14m 55s\n",
            "364:\ttest: 0.8608521\tbest: 0.8608521 (364)\ttotal: 8m 34s\tremaining: 14m 54s\n",
            "365:\ttest: 0.8608734\tbest: 0.8608734 (365)\ttotal: 8m 35s\tremaining: 14m 52s\n",
            "366:\ttest: 0.8608784\tbest: 0.8608784 (366)\ttotal: 8m 36s\tremaining: 14m 51s\n",
            "367:\ttest: 0.8608844\tbest: 0.8608844 (367)\ttotal: 8m 38s\tremaining: 14m 50s\n",
            "368:\ttest: 0.8608841\tbest: 0.8608844 (367)\ttotal: 8m 39s\tremaining: 14m 48s\n",
            "369:\ttest: 0.8609218\tbest: 0.8609218 (369)\ttotal: 8m 40s\tremaining: 14m 47s\n",
            "370:\ttest: 0.8608683\tbest: 0.8609218 (369)\ttotal: 8m 42s\tremaining: 14m 45s\n",
            "371:\ttest: 0.8608468\tbest: 0.8609218 (369)\ttotal: 8m 43s\tremaining: 14m 44s\n",
            "372:\ttest: 0.8609166\tbest: 0.8609218 (369)\ttotal: 8m 45s\tremaining: 14m 42s\n",
            "373:\ttest: 0.8609132\tbest: 0.8609218 (369)\ttotal: 8m 46s\tremaining: 14m 41s\n",
            "374:\ttest: 0.8609580\tbest: 0.8609580 (374)\ttotal: 8m 47s\tremaining: 14m 39s\n",
            "375:\ttest: 0.8609550\tbest: 0.8609580 (374)\ttotal: 8m 49s\tremaining: 14m 38s\n",
            "376:\ttest: 0.8609354\tbest: 0.8609580 (374)\ttotal: 8m 50s\tremaining: 14m 37s\n",
            "377:\ttest: 0.8610135\tbest: 0.8610135 (377)\ttotal: 8m 52s\tremaining: 14m 35s\n",
            "378:\ttest: 0.8610389\tbest: 0.8610389 (378)\ttotal: 8m 53s\tremaining: 14m 34s\n",
            "379:\ttest: 0.8610383\tbest: 0.8610389 (378)\ttotal: 8m 54s\tremaining: 14m 32s\n",
            "380:\ttest: 0.8610333\tbest: 0.8610389 (378)\ttotal: 8m 56s\tremaining: 14m 31s\n",
            "381:\ttest: 0.8610578\tbest: 0.8610578 (381)\ttotal: 8m 57s\tremaining: 14m 29s\n",
            "382:\ttest: 0.8611757\tbest: 0.8611757 (382)\ttotal: 8m 59s\tremaining: 14m 28s\n",
            "383:\ttest: 0.8612103\tbest: 0.8612103 (383)\ttotal: 9m\tremaining: 14m 27s\n",
            "384:\ttest: 0.8612366\tbest: 0.8612366 (384)\ttotal: 9m 2s\tremaining: 14m 25s\n",
            "385:\ttest: 0.8612292\tbest: 0.8612366 (384)\ttotal: 9m 3s\tremaining: 14m 24s\n",
            "386:\ttest: 0.8612355\tbest: 0.8612366 (384)\ttotal: 9m 4s\tremaining: 14m 22s\n",
            "387:\ttest: 0.8612001\tbest: 0.8612366 (384)\ttotal: 9m 6s\tremaining: 14m 21s\n",
            "388:\ttest: 0.8612535\tbest: 0.8612535 (388)\ttotal: 9m 7s\tremaining: 14m 20s\n",
            "389:\ttest: 0.8612263\tbest: 0.8612535 (388)\ttotal: 9m 8s\tremaining: 14m 18s\n",
            "390:\ttest: 0.8612513\tbest: 0.8612535 (388)\ttotal: 9m 10s\tremaining: 14m 17s\n",
            "391:\ttest: 0.8612768\tbest: 0.8612768 (391)\ttotal: 9m 11s\tremaining: 14m 15s\n",
            "392:\ttest: 0.8613275\tbest: 0.8613275 (392)\ttotal: 9m 13s\tremaining: 14m 14s\n",
            "393:\ttest: 0.8613528\tbest: 0.8613528 (393)\ttotal: 9m 14s\tremaining: 14m 12s\n",
            "394:\ttest: 0.8614026\tbest: 0.8614026 (394)\ttotal: 9m 16s\tremaining: 14m 11s\n",
            "395:\ttest: 0.8614156\tbest: 0.8614156 (395)\ttotal: 9m 17s\tremaining: 14m 10s\n",
            "396:\ttest: 0.8614315\tbest: 0.8614315 (396)\ttotal: 9m 18s\tremaining: 14m 8s\n",
            "397:\ttest: 0.8614138\tbest: 0.8614315 (396)\ttotal: 9m 20s\tremaining: 14m 7s\n",
            "398:\ttest: 0.8614212\tbest: 0.8614315 (396)\ttotal: 9m 21s\tremaining: 14m 5s\n",
            "399:\ttest: 0.8614416\tbest: 0.8614416 (399)\ttotal: 9m 22s\tremaining: 14m 4s\n",
            "400:\ttest: 0.8614459\tbest: 0.8614459 (400)\ttotal: 9m 24s\tremaining: 14m 2s\n",
            "401:\ttest: 0.8614322\tbest: 0.8614459 (400)\ttotal: 9m 25s\tremaining: 14m 1s\n",
            "402:\ttest: 0.8613854\tbest: 0.8614459 (400)\ttotal: 9m 26s\tremaining: 13m 59s\n",
            "403:\ttest: 0.8614015\tbest: 0.8614459 (400)\ttotal: 9m 28s\tremaining: 13m 58s\n",
            "404:\ttest: 0.8613664\tbest: 0.8614459 (400)\ttotal: 9m 29s\tremaining: 13m 56s\n",
            "405:\ttest: 0.8613652\tbest: 0.8614459 (400)\ttotal: 9m 31s\tremaining: 13m 55s\n",
            "406:\ttest: 0.8613621\tbest: 0.8614459 (400)\ttotal: 9m 32s\tremaining: 13m 54s\n",
            "407:\ttest: 0.8615230\tbest: 0.8615230 (407)\ttotal: 9m 33s\tremaining: 13m 52s\n",
            "408:\ttest: 0.8615208\tbest: 0.8615230 (407)\ttotal: 9m 35s\tremaining: 13m 51s\n",
            "409:\ttest: 0.8615410\tbest: 0.8615410 (409)\ttotal: 9m 36s\tremaining: 13m 49s\n",
            "410:\ttest: 0.8615637\tbest: 0.8615637 (410)\ttotal: 9m 37s\tremaining: 13m 48s\n",
            "411:\ttest: 0.8615442\tbest: 0.8615637 (410)\ttotal: 9m 39s\tremaining: 13m 46s\n",
            "412:\ttest: 0.8615368\tbest: 0.8615637 (410)\ttotal: 9m 40s\tremaining: 13m 45s\n",
            "413:\ttest: 0.8615411\tbest: 0.8615637 (410)\ttotal: 9m 42s\tremaining: 13m 43s\n",
            "414:\ttest: 0.8615555\tbest: 0.8615637 (410)\ttotal: 9m 43s\tremaining: 13m 42s\n",
            "415:\ttest: 0.8615870\tbest: 0.8615870 (415)\ttotal: 9m 44s\tremaining: 13m 41s\n",
            "416:\ttest: 0.8615780\tbest: 0.8615870 (415)\ttotal: 9m 46s\tremaining: 13m 39s\n",
            "417:\ttest: 0.8615755\tbest: 0.8615870 (415)\ttotal: 9m 47s\tremaining: 13m 38s\n",
            "418:\ttest: 0.8615972\tbest: 0.8615972 (418)\ttotal: 9m 48s\tremaining: 13m 36s\n",
            "419:\ttest: 0.8615966\tbest: 0.8615972 (418)\ttotal: 9m 50s\tremaining: 13m 35s\n",
            "420:\ttest: 0.8615844\tbest: 0.8615972 (418)\ttotal: 9m 51s\tremaining: 13m 33s\n",
            "421:\ttest: 0.8615853\tbest: 0.8615972 (418)\ttotal: 9m 53s\tremaining: 13m 32s\n",
            "422:\ttest: 0.8615820\tbest: 0.8615972 (418)\ttotal: 9m 54s\tremaining: 13m 30s\n",
            "423:\ttest: 0.8615846\tbest: 0.8615972 (418)\ttotal: 9m 55s\tremaining: 13m 29s\n",
            "424:\ttest: 0.8615964\tbest: 0.8615972 (418)\ttotal: 9m 57s\tremaining: 13m 27s\n",
            "425:\ttest: 0.8615922\tbest: 0.8615972 (418)\ttotal: 9m 58s\tremaining: 13m 26s\n",
            "426:\ttest: 0.8616275\tbest: 0.8616275 (426)\ttotal: 9m 59s\tremaining: 13m 24s\n",
            "427:\ttest: 0.8616271\tbest: 0.8616275 (426)\ttotal: 10m 1s\tremaining: 13m 23s\n",
            "428:\ttest: 0.8616209\tbest: 0.8616275 (426)\ttotal: 10m 2s\tremaining: 13m 21s\n",
            "429:\ttest: 0.8616358\tbest: 0.8616358 (429)\ttotal: 10m 3s\tremaining: 13m 20s\n",
            "430:\ttest: 0.8616755\tbest: 0.8616755 (430)\ttotal: 10m 5s\tremaining: 13m 19s\n",
            "431:\ttest: 0.8616534\tbest: 0.8616755 (430)\ttotal: 10m 6s\tremaining: 13m 17s\n",
            "432:\ttest: 0.8616479\tbest: 0.8616755 (430)\ttotal: 10m 8s\tremaining: 13m 16s\n",
            "433:\ttest: 0.8616430\tbest: 0.8616755 (430)\ttotal: 10m 9s\tremaining: 13m 14s\n",
            "434:\ttest: 0.8616421\tbest: 0.8616755 (430)\ttotal: 10m 10s\tremaining: 13m 13s\n",
            "435:\ttest: 0.8616660\tbest: 0.8616755 (430)\ttotal: 10m 12s\tremaining: 13m 11s\n",
            "436:\ttest: 0.8616656\tbest: 0.8616755 (430)\ttotal: 10m 13s\tremaining: 13m 10s\n",
            "437:\ttest: 0.8616806\tbest: 0.8616806 (437)\ttotal: 10m 14s\tremaining: 13m 8s\n",
            "438:\ttest: 0.8616792\tbest: 0.8616806 (437)\ttotal: 10m 16s\tremaining: 13m 7s\n",
            "439:\ttest: 0.8616907\tbest: 0.8616907 (439)\ttotal: 10m 17s\tremaining: 13m 6s\n",
            "440:\ttest: 0.8616939\tbest: 0.8616939 (440)\ttotal: 10m 18s\tremaining: 13m 4s\n",
            "441:\ttest: 0.8616937\tbest: 0.8616939 (440)\ttotal: 10m 20s\tremaining: 13m 3s\n",
            "442:\ttest: 0.8616924\tbest: 0.8616939 (440)\ttotal: 10m 21s\tremaining: 13m 1s\n",
            "443:\ttest: 0.8616792\tbest: 0.8616939 (440)\ttotal: 10m 23s\tremaining: 13m\n",
            "444:\ttest: 0.8616862\tbest: 0.8616939 (440)\ttotal: 10m 24s\tremaining: 12m 58s\n",
            "445:\ttest: 0.8617245\tbest: 0.8617245 (445)\ttotal: 10m 25s\tremaining: 12m 57s\n",
            "446:\ttest: 0.8617161\tbest: 0.8617245 (445)\ttotal: 10m 27s\tremaining: 12m 55s\n",
            "447:\ttest: 0.8618025\tbest: 0.8618025 (447)\ttotal: 10m 28s\tremaining: 12m 54s\n",
            "448:\ttest: 0.8618074\tbest: 0.8618074 (448)\ttotal: 10m 29s\tremaining: 12m 52s\n",
            "449:\ttest: 0.8618050\tbest: 0.8618074 (448)\ttotal: 10m 31s\tremaining: 12m 51s\n",
            "450:\ttest: 0.8618009\tbest: 0.8618074 (448)\ttotal: 10m 32s\tremaining: 12m 50s\n",
            "451:\ttest: 0.8618081\tbest: 0.8618081 (451)\ttotal: 10m 33s\tremaining: 12m 48s\n",
            "452:\ttest: 0.8618118\tbest: 0.8618118 (452)\ttotal: 10m 35s\tremaining: 12m 47s\n",
            "453:\ttest: 0.8618147\tbest: 0.8618147 (453)\ttotal: 10m 36s\tremaining: 12m 45s\n",
            "454:\ttest: 0.8618134\tbest: 0.8618147 (453)\ttotal: 10m 38s\tremaining: 12m 44s\n",
            "455:\ttest: 0.8618834\tbest: 0.8618834 (455)\ttotal: 10m 39s\tremaining: 12m 42s\n",
            "456:\ttest: 0.8619769\tbest: 0.8619769 (456)\ttotal: 10m 40s\tremaining: 12m 41s\n",
            "457:\ttest: 0.8620032\tbest: 0.8620032 (457)\ttotal: 10m 42s\tremaining: 12m 39s\n",
            "458:\ttest: 0.8619837\tbest: 0.8620032 (457)\ttotal: 10m 43s\tremaining: 12m 38s\n",
            "459:\ttest: 0.8619886\tbest: 0.8620032 (457)\ttotal: 10m 44s\tremaining: 12m 37s\n",
            "460:\ttest: 0.8619512\tbest: 0.8620032 (457)\ttotal: 10m 46s\tremaining: 12m 35s\n",
            "461:\ttest: 0.8619999\tbest: 0.8620032 (457)\ttotal: 10m 47s\tremaining: 12m 34s\n",
            "462:\ttest: 0.8620015\tbest: 0.8620032 (457)\ttotal: 10m 49s\tremaining: 12m 32s\n",
            "463:\ttest: 0.8619854\tbest: 0.8620032 (457)\ttotal: 10m 50s\tremaining: 12m 31s\n",
            "464:\ttest: 0.8619672\tbest: 0.8620032 (457)\ttotal: 10m 51s\tremaining: 12m 29s\n",
            "465:\ttest: 0.8620007\tbest: 0.8620032 (457)\ttotal: 10m 53s\tremaining: 12m 28s\n",
            "466:\ttest: 0.8619978\tbest: 0.8620032 (457)\ttotal: 10m 54s\tremaining: 12m 27s\n",
            "467:\ttest: 0.8619944\tbest: 0.8620032 (457)\ttotal: 10m 55s\tremaining: 12m 25s\n",
            "468:\ttest: 0.8620030\tbest: 0.8620032 (457)\ttotal: 10m 57s\tremaining: 12m 24s\n",
            "469:\ttest: 0.8620784\tbest: 0.8620784 (469)\ttotal: 10m 58s\tremaining: 12m 22s\n",
            "470:\ttest: 0.8620763\tbest: 0.8620784 (469)\ttotal: 11m\tremaining: 12m 21s\n",
            "471:\ttest: 0.8620862\tbest: 0.8620862 (471)\ttotal: 11m 1s\tremaining: 12m 19s\n",
            "472:\ttest: 0.8621047\tbest: 0.8621047 (472)\ttotal: 11m 2s\tremaining: 12m 18s\n",
            "473:\ttest: 0.8621040\tbest: 0.8621047 (472)\ttotal: 11m 4s\tremaining: 12m 17s\n",
            "474:\ttest: 0.8621069\tbest: 0.8621069 (474)\ttotal: 11m 5s\tremaining: 12m 15s\n",
            "475:\ttest: 0.8620965\tbest: 0.8621069 (474)\ttotal: 11m 7s\tremaining: 12m 14s\n",
            "476:\ttest: 0.8620950\tbest: 0.8621069 (474)\ttotal: 11m 8s\tremaining: 12m 12s\n",
            "477:\ttest: 0.8621162\tbest: 0.8621162 (477)\ttotal: 11m 9s\tremaining: 12m 11s\n",
            "478:\ttest: 0.8621367\tbest: 0.8621367 (478)\ttotal: 11m 11s\tremaining: 12m 10s\n",
            "479:\ttest: 0.8621600\tbest: 0.8621600 (479)\ttotal: 11m 12s\tremaining: 12m 8s\n",
            "480:\ttest: 0.8621639\tbest: 0.8621639 (480)\ttotal: 11m 13s\tremaining: 12m 7s\n",
            "481:\ttest: 0.8621435\tbest: 0.8621639 (480)\ttotal: 11m 15s\tremaining: 12m 5s\n",
            "482:\ttest: 0.8621178\tbest: 0.8621639 (480)\ttotal: 11m 16s\tremaining: 12m 4s\n",
            "483:\ttest: 0.8621316\tbest: 0.8621639 (480)\ttotal: 11m 18s\tremaining: 12m 2s\n",
            "484:\ttest: 0.8621672\tbest: 0.8621672 (484)\ttotal: 11m 19s\tremaining: 12m 1s\n",
            "485:\ttest: 0.8622429\tbest: 0.8622429 (485)\ttotal: 11m 20s\tremaining: 12m\n",
            "486:\ttest: 0.8622728\tbest: 0.8622728 (486)\ttotal: 11m 22s\tremaining: 11m 58s\n",
            "487:\ttest: 0.8623343\tbest: 0.8623343 (487)\ttotal: 11m 23s\tremaining: 11m 57s\n",
            "488:\ttest: 0.8623828\tbest: 0.8623828 (488)\ttotal: 11m 24s\tremaining: 11m 55s\n",
            "489:\ttest: 0.8624033\tbest: 0.8624033 (489)\ttotal: 11m 26s\tremaining: 11m 54s\n",
            "490:\ttest: 0.8624117\tbest: 0.8624117 (490)\ttotal: 11m 27s\tremaining: 11m 52s\n",
            "491:\ttest: 0.8623966\tbest: 0.8624117 (490)\ttotal: 11m 29s\tremaining: 11m 51s\n",
            "492:\ttest: 0.8623678\tbest: 0.8624117 (490)\ttotal: 11m 30s\tremaining: 11m 50s\n",
            "493:\ttest: 0.8623717\tbest: 0.8624117 (490)\ttotal: 11m 31s\tremaining: 11m 48s\n",
            "494:\ttest: 0.8624274\tbest: 0.8624274 (494)\ttotal: 11m 33s\tremaining: 11m 47s\n",
            "495:\ttest: 0.8625259\tbest: 0.8625259 (495)\ttotal: 11m 34s\tremaining: 11m 45s\n",
            "496:\ttest: 0.8624993\tbest: 0.8625259 (495)\ttotal: 11m 36s\tremaining: 11m 44s\n",
            "497:\ttest: 0.8625292\tbest: 0.8625292 (497)\ttotal: 11m 37s\tremaining: 11m 43s\n",
            "498:\ttest: 0.8625438\tbest: 0.8625438 (498)\ttotal: 11m 38s\tremaining: 11m 41s\n",
            "499:\ttest: 0.8625437\tbest: 0.8625438 (498)\ttotal: 11m 40s\tremaining: 11m 40s\n",
            "500:\ttest: 0.8625428\tbest: 0.8625438 (498)\ttotal: 11m 41s\tremaining: 11m 38s\n",
            "501:\ttest: 0.8625513\tbest: 0.8625513 (501)\ttotal: 11m 43s\tremaining: 11m 37s\n",
            "502:\ttest: 0.8625473\tbest: 0.8625513 (501)\ttotal: 11m 44s\tremaining: 11m 35s\n",
            "503:\ttest: 0.8625440\tbest: 0.8625513 (501)\ttotal: 11m 45s\tremaining: 11m 34s\n",
            "504:\ttest: 0.8625011\tbest: 0.8625513 (501)\ttotal: 11m 47s\tremaining: 11m 33s\n",
            "505:\ttest: 0.8624751\tbest: 0.8625513 (501)\ttotal: 11m 48s\tremaining: 11m 31s\n",
            "506:\ttest: 0.8624888\tbest: 0.8625513 (501)\ttotal: 11m 49s\tremaining: 11m 30s\n",
            "507:\ttest: 0.8624829\tbest: 0.8625513 (501)\ttotal: 11m 51s\tremaining: 11m 28s\n",
            "508:\ttest: 0.8624971\tbest: 0.8625513 (501)\ttotal: 11m 52s\tremaining: 11m 27s\n",
            "509:\ttest: 0.8625131\tbest: 0.8625513 (501)\ttotal: 11m 54s\tremaining: 11m 26s\n",
            "510:\ttest: 0.8625192\tbest: 0.8625513 (501)\ttotal: 11m 55s\tremaining: 11m 24s\n",
            "511:\ttest: 0.8625256\tbest: 0.8625513 (501)\ttotal: 11m 56s\tremaining: 11m 23s\n",
            "512:\ttest: 0.8625510\tbest: 0.8625513 (501)\ttotal: 11m 58s\tremaining: 11m 21s\n",
            "513:\ttest: 0.8625779\tbest: 0.8625779 (513)\ttotal: 11m 59s\tremaining: 11m 20s\n",
            "514:\ttest: 0.8625765\tbest: 0.8625779 (513)\ttotal: 12m 1s\tremaining: 11m 19s\n",
            "515:\ttest: 0.8625698\tbest: 0.8625779 (513)\ttotal: 12m 2s\tremaining: 11m 17s\n",
            "516:\ttest: 0.8625849\tbest: 0.8625849 (516)\ttotal: 12m 3s\tremaining: 11m 16s\n",
            "517:\ttest: 0.8625774\tbest: 0.8625849 (516)\ttotal: 12m 5s\tremaining: 11m 14s\n",
            "518:\ttest: 0.8625731\tbest: 0.8625849 (516)\ttotal: 12m 6s\tremaining: 11m 13s\n",
            "519:\ttest: 0.8625611\tbest: 0.8625849 (516)\ttotal: 12m 7s\tremaining: 11m 11s\n",
            "520:\ttest: 0.8625657\tbest: 0.8625849 (516)\ttotal: 12m 9s\tremaining: 11m 10s\n",
            "521:\ttest: 0.8626428\tbest: 0.8626428 (521)\ttotal: 12m 10s\tremaining: 11m 9s\n",
            "522:\ttest: 0.8626402\tbest: 0.8626428 (521)\ttotal: 12m 11s\tremaining: 11m 7s\n",
            "523:\ttest: 0.8626502\tbest: 0.8626502 (523)\ttotal: 12m 13s\tremaining: 11m 6s\n",
            "524:\ttest: 0.8626540\tbest: 0.8626540 (524)\ttotal: 12m 14s\tremaining: 11m 4s\n",
            "525:\ttest: 0.8626540\tbest: 0.8626540 (524)\ttotal: 12m 16s\tremaining: 11m 3s\n",
            "526:\ttest: 0.8626631\tbest: 0.8626631 (526)\ttotal: 12m 17s\tremaining: 11m 2s\n",
            "527:\ttest: 0.8626633\tbest: 0.8626633 (527)\ttotal: 12m 18s\tremaining: 11m\n",
            "528:\ttest: 0.8626804\tbest: 0.8626804 (528)\ttotal: 12m 20s\tremaining: 10m 59s\n",
            "529:\ttest: 0.8626594\tbest: 0.8626804 (528)\ttotal: 12m 21s\tremaining: 10m 57s\n",
            "530:\ttest: 0.8626600\tbest: 0.8626804 (528)\ttotal: 12m 23s\tremaining: 10m 56s\n",
            "531:\ttest: 0.8626699\tbest: 0.8626804 (528)\ttotal: 12m 24s\tremaining: 10m 54s\n",
            "532:\ttest: 0.8626573\tbest: 0.8626804 (528)\ttotal: 12m 25s\tremaining: 10m 53s\n",
            "533:\ttest: 0.8626712\tbest: 0.8626804 (528)\ttotal: 12m 27s\tremaining: 10m 52s\n",
            "534:\ttest: 0.8627383\tbest: 0.8627383 (534)\ttotal: 12m 28s\tremaining: 10m 50s\n",
            "535:\ttest: 0.8628114\tbest: 0.8628114 (535)\ttotal: 12m 30s\tremaining: 10m 49s\n",
            "536:\ttest: 0.8628245\tbest: 0.8628245 (536)\ttotal: 12m 31s\tremaining: 10m 47s\n",
            "537:\ttest: 0.8628286\tbest: 0.8628286 (537)\ttotal: 12m 32s\tremaining: 10m 46s\n",
            "538:\ttest: 0.8628301\tbest: 0.8628301 (538)\ttotal: 12m 34s\tremaining: 10m 45s\n",
            "539:\ttest: 0.8628472\tbest: 0.8628472 (539)\ttotal: 12m 35s\tremaining: 10m 43s\n",
            "540:\ttest: 0.8628460\tbest: 0.8628472 (539)\ttotal: 12m 36s\tremaining: 10m 42s\n",
            "541:\ttest: 0.8629133\tbest: 0.8629133 (541)\ttotal: 12m 38s\tremaining: 10m 40s\n",
            "542:\ttest: 0.8629267\tbest: 0.8629267 (542)\ttotal: 12m 39s\tremaining: 10m 39s\n",
            "543:\ttest: 0.8629299\tbest: 0.8629299 (543)\ttotal: 12m 41s\tremaining: 10m 37s\n",
            "544:\ttest: 0.8629282\tbest: 0.8629299 (543)\ttotal: 12m 42s\tremaining: 10m 36s\n",
            "545:\ttest: 0.8629147\tbest: 0.8629299 (543)\ttotal: 12m 43s\tremaining: 10m 35s\n",
            "546:\ttest: 0.8629133\tbest: 0.8629299 (543)\ttotal: 12m 45s\tremaining: 10m 33s\n",
            "547:\ttest: 0.8629333\tbest: 0.8629333 (547)\ttotal: 12m 46s\tremaining: 10m 32s\n",
            "548:\ttest: 0.8629541\tbest: 0.8629541 (548)\ttotal: 12m 47s\tremaining: 10m 30s\n",
            "549:\ttest: 0.8629543\tbest: 0.8629543 (549)\ttotal: 12m 49s\tremaining: 10m 29s\n",
            "550:\ttest: 0.8629984\tbest: 0.8629984 (550)\ttotal: 12m 50s\tremaining: 10m 27s\n",
            "551:\ttest: 0.8629922\tbest: 0.8629984 (550)\ttotal: 12m 52s\tremaining: 10m 26s\n",
            "552:\ttest: 0.8629843\tbest: 0.8629984 (550)\ttotal: 12m 53s\tremaining: 10m 25s\n",
            "553:\ttest: 0.8629866\tbest: 0.8629984 (550)\ttotal: 12m 54s\tremaining: 10m 23s\n",
            "554:\ttest: 0.8629995\tbest: 0.8629995 (554)\ttotal: 12m 56s\tremaining: 10m 22s\n",
            "555:\ttest: 0.8630135\tbest: 0.8630135 (555)\ttotal: 12m 57s\tremaining: 10m 20s\n",
            "556:\ttest: 0.8630156\tbest: 0.8630156 (556)\ttotal: 12m 58s\tremaining: 10m 19s\n",
            "557:\ttest: 0.8629594\tbest: 0.8630156 (556)\ttotal: 13m\tremaining: 10m 18s\n",
            "558:\ttest: 0.8629660\tbest: 0.8630156 (556)\ttotal: 13m 1s\tremaining: 10m 16s\n",
            "559:\ttest: 0.8629713\tbest: 0.8630156 (556)\ttotal: 13m 3s\tremaining: 10m 15s\n",
            "560:\ttest: 0.8629436\tbest: 0.8630156 (556)\ttotal: 13m 4s\tremaining: 10m 13s\n",
            "561:\ttest: 0.8629530\tbest: 0.8630156 (556)\ttotal: 13m 5s\tremaining: 10m 12s\n",
            "562:\ttest: 0.8630115\tbest: 0.8630156 (556)\ttotal: 13m 7s\tremaining: 10m 11s\n",
            "563:\ttest: 0.8630107\tbest: 0.8630156 (556)\ttotal: 13m 8s\tremaining: 10m 9s\n",
            "564:\ttest: 0.8630243\tbest: 0.8630243 (564)\ttotal: 13m 9s\tremaining: 10m 8s\n",
            "565:\ttest: 0.8630245\tbest: 0.8630245 (565)\ttotal: 13m 11s\tremaining: 10m 6s\n",
            "566:\ttest: 0.8630838\tbest: 0.8630838 (566)\ttotal: 13m 12s\tremaining: 10m 5s\n",
            "567:\ttest: 0.8630848\tbest: 0.8630848 (567)\ttotal: 13m 14s\tremaining: 10m 3s\n",
            "568:\ttest: 0.8630980\tbest: 0.8630980 (568)\ttotal: 13m 15s\tremaining: 10m 2s\n",
            "569:\ttest: 0.8630918\tbest: 0.8630980 (568)\ttotal: 13m 16s\tremaining: 10m 1s\n",
            "570:\ttest: 0.8630319\tbest: 0.8630980 (568)\ttotal: 13m 18s\tremaining: 9m 59s\n",
            "571:\ttest: 0.8630294\tbest: 0.8630980 (568)\ttotal: 13m 19s\tremaining: 9m 58s\n",
            "572:\ttest: 0.8630316\tbest: 0.8630980 (568)\ttotal: 13m 21s\tremaining: 9m 56s\n",
            "573:\ttest: 0.8630264\tbest: 0.8630980 (568)\ttotal: 13m 22s\tremaining: 9m 55s\n",
            "574:\ttest: 0.8630178\tbest: 0.8630980 (568)\ttotal: 13m 23s\tremaining: 9m 54s\n",
            "575:\ttest: 0.8630109\tbest: 0.8630980 (568)\ttotal: 13m 25s\tremaining: 9m 52s\n",
            "576:\ttest: 0.8630607\tbest: 0.8630980 (568)\ttotal: 13m 26s\tremaining: 9m 51s\n",
            "577:\ttest: 0.8630519\tbest: 0.8630980 (568)\ttotal: 13m 28s\tremaining: 9m 49s\n",
            "578:\ttest: 0.8630324\tbest: 0.8630980 (568)\ttotal: 13m 29s\tremaining: 9m 48s\n",
            "579:\ttest: 0.8630610\tbest: 0.8630980 (568)\ttotal: 13m 30s\tremaining: 9m 47s\n",
            "580:\ttest: 0.8630350\tbest: 0.8630980 (568)\ttotal: 13m 32s\tremaining: 9m 45s\n",
            "581:\ttest: 0.8630598\tbest: 0.8630980 (568)\ttotal: 13m 33s\tremaining: 9m 44s\n",
            "582:\ttest: 0.8630751\tbest: 0.8630980 (568)\ttotal: 13m 35s\tremaining: 9m 43s\n",
            "583:\ttest: 0.8630701\tbest: 0.8630980 (568)\ttotal: 13m 36s\tremaining: 9m 41s\n",
            "584:\ttest: 0.8630750\tbest: 0.8630980 (568)\ttotal: 13m 37s\tremaining: 9m 40s\n",
            "585:\ttest: 0.8630586\tbest: 0.8630980 (568)\ttotal: 13m 39s\tremaining: 9m 38s\n",
            "586:\ttest: 0.8630637\tbest: 0.8630980 (568)\ttotal: 13m 40s\tremaining: 9m 37s\n",
            "587:\ttest: 0.8630803\tbest: 0.8630980 (568)\ttotal: 13m 42s\tremaining: 9m 35s\n",
            "588:\ttest: 0.8630816\tbest: 0.8630980 (568)\ttotal: 13m 43s\tremaining: 9m 34s\n",
            "589:\ttest: 0.8630759\tbest: 0.8630980 (568)\ttotal: 13m 44s\tremaining: 9m 33s\n",
            "590:\ttest: 0.8630918\tbest: 0.8630980 (568)\ttotal: 13m 46s\tremaining: 9m 31s\n",
            "591:\ttest: 0.8631031\tbest: 0.8631031 (591)\ttotal: 13m 47s\tremaining: 9m 30s\n",
            "592:\ttest: 0.8630922\tbest: 0.8631031 (591)\ttotal: 13m 48s\tremaining: 9m 28s\n",
            "593:\ttest: 0.8631850\tbest: 0.8631850 (593)\ttotal: 13m 50s\tremaining: 9m 27s\n",
            "594:\ttest: 0.8631858\tbest: 0.8631858 (594)\ttotal: 13m 51s\tremaining: 9m 26s\n",
            "595:\ttest: 0.8631916\tbest: 0.8631916 (595)\ttotal: 13m 53s\tremaining: 9m 24s\n",
            "596:\ttest: 0.8632780\tbest: 0.8632780 (596)\ttotal: 13m 54s\tremaining: 9m 23s\n",
            "597:\ttest: 0.8632768\tbest: 0.8632780 (596)\ttotal: 13m 55s\tremaining: 9m 21s\n",
            "598:\ttest: 0.8632716\tbest: 0.8632780 (596)\ttotal: 13m 57s\tremaining: 9m 20s\n",
            "599:\ttest: 0.8632608\tbest: 0.8632780 (596)\ttotal: 13m 58s\tremaining: 9m 19s\n",
            "600:\ttest: 0.8632590\tbest: 0.8632780 (596)\ttotal: 13m 59s\tremaining: 9m 17s\n",
            "601:\ttest: 0.8632531\tbest: 0.8632780 (596)\ttotal: 14m 1s\tremaining: 9m 16s\n",
            "602:\ttest: 0.8632429\tbest: 0.8632780 (596)\ttotal: 14m 2s\tremaining: 9m 14s\n",
            "603:\ttest: 0.8632545\tbest: 0.8632780 (596)\ttotal: 14m 3s\tremaining: 9m 13s\n",
            "604:\ttest: 0.8632446\tbest: 0.8632780 (596)\ttotal: 14m 5s\tremaining: 9m 11s\n",
            "605:\ttest: 0.8632471\tbest: 0.8632780 (596)\ttotal: 14m 6s\tremaining: 9m 10s\n",
            "606:\ttest: 0.8632601\tbest: 0.8632780 (596)\ttotal: 14m 8s\tremaining: 9m 9s\n",
            "607:\ttest: 0.8632615\tbest: 0.8632780 (596)\ttotal: 14m 9s\tremaining: 9m 7s\n",
            "608:\ttest: 0.8632603\tbest: 0.8632780 (596)\ttotal: 14m 10s\tremaining: 9m 6s\n",
            "609:\ttest: 0.8632618\tbest: 0.8632780 (596)\ttotal: 14m 12s\tremaining: 9m 4s\n",
            "610:\ttest: 0.8632539\tbest: 0.8632780 (596)\ttotal: 14m 13s\tremaining: 9m 3s\n",
            "611:\ttest: 0.8632239\tbest: 0.8632780 (596)\ttotal: 14m 15s\tremaining: 9m 2s\n",
            "612:\ttest: 0.8632274\tbest: 0.8632780 (596)\ttotal: 14m 16s\tremaining: 9m\n",
            "613:\ttest: 0.8632076\tbest: 0.8632780 (596)\ttotal: 14m 17s\tremaining: 8m 59s\n",
            "614:\ttest: 0.8632033\tbest: 0.8632780 (596)\ttotal: 14m 19s\tremaining: 8m 57s\n",
            "615:\ttest: 0.8631980\tbest: 0.8632780 (596)\ttotal: 14m 20s\tremaining: 8m 56s\n",
            "616:\ttest: 0.8631935\tbest: 0.8632780 (596)\ttotal: 14m 21s\tremaining: 8m 55s\n",
            "617:\ttest: 0.8632072\tbest: 0.8632780 (596)\ttotal: 14m 23s\tremaining: 8m 53s\n",
            "618:\ttest: 0.8632046\tbest: 0.8632780 (596)\ttotal: 14m 24s\tremaining: 8m 52s\n",
            "619:\ttest: 0.8632029\tbest: 0.8632780 (596)\ttotal: 14m 26s\tremaining: 8m 50s\n",
            "620:\ttest: 0.8632003\tbest: 0.8632780 (596)\ttotal: 14m 27s\tremaining: 8m 49s\n",
            "621:\ttest: 0.8632183\tbest: 0.8632780 (596)\ttotal: 14m 28s\tremaining: 8m 47s\n",
            "622:\ttest: 0.8632204\tbest: 0.8632780 (596)\ttotal: 14m 30s\tremaining: 8m 46s\n",
            "623:\ttest: 0.8632364\tbest: 0.8632780 (596)\ttotal: 14m 31s\tremaining: 8m 45s\n",
            "624:\ttest: 0.8632484\tbest: 0.8632780 (596)\ttotal: 14m 32s\tremaining: 8m 43s\n",
            "625:\ttest: 0.8632485\tbest: 0.8632780 (596)\ttotal: 14m 34s\tremaining: 8m 42s\n",
            "626:\ttest: 0.8632459\tbest: 0.8632780 (596)\ttotal: 14m 35s\tremaining: 8m 40s\n",
            "627:\ttest: 0.8632462\tbest: 0.8632780 (596)\ttotal: 14m 36s\tremaining: 8m 39s\n",
            "628:\ttest: 0.8632933\tbest: 0.8632933 (628)\ttotal: 14m 38s\tremaining: 8m 38s\n",
            "629:\ttest: 0.8632980\tbest: 0.8632980 (629)\ttotal: 14m 39s\tremaining: 8m 36s\n",
            "630:\ttest: 0.8633219\tbest: 0.8633219 (630)\ttotal: 14m 41s\tremaining: 8m 35s\n",
            "631:\ttest: 0.8633541\tbest: 0.8633541 (631)\ttotal: 14m 42s\tremaining: 8m 34s\n",
            "632:\ttest: 0.8633860\tbest: 0.8633860 (632)\ttotal: 14m 44s\tremaining: 8m 32s\n",
            "633:\ttest: 0.8633938\tbest: 0.8633938 (633)\ttotal: 14m 45s\tremaining: 8m 31s\n",
            "634:\ttest: 0.8634092\tbest: 0.8634092 (634)\ttotal: 14m 46s\tremaining: 8m 29s\n",
            "635:\ttest: 0.8634084\tbest: 0.8634092 (634)\ttotal: 14m 48s\tremaining: 8m 28s\n",
            "636:\ttest: 0.8633785\tbest: 0.8634092 (634)\ttotal: 14m 49s\tremaining: 8m 27s\n",
            "637:\ttest: 0.8633864\tbest: 0.8634092 (634)\ttotal: 14m 51s\tremaining: 8m 25s\n",
            "638:\ttest: 0.8633983\tbest: 0.8634092 (634)\ttotal: 14m 52s\tremaining: 8m 24s\n",
            "639:\ttest: 0.8633822\tbest: 0.8634092 (634)\ttotal: 14m 53s\tremaining: 8m 22s\n",
            "640:\ttest: 0.8633859\tbest: 0.8634092 (634)\ttotal: 14m 55s\tremaining: 8m 21s\n",
            "641:\ttest: 0.8633951\tbest: 0.8634092 (634)\ttotal: 14m 56s\tremaining: 8m 19s\n",
            "642:\ttest: 0.8633894\tbest: 0.8634092 (634)\ttotal: 14m 58s\tremaining: 8m 18s\n",
            "643:\ttest: 0.8634179\tbest: 0.8634179 (643)\ttotal: 14m 59s\tremaining: 8m 17s\n",
            "644:\ttest: 0.8634098\tbest: 0.8634179 (643)\ttotal: 15m\tremaining: 8m 15s\n",
            "645:\ttest: 0.8634315\tbest: 0.8634315 (645)\ttotal: 15m 2s\tremaining: 8m 14s\n",
            "646:\ttest: 0.8634314\tbest: 0.8634315 (645)\ttotal: 15m 3s\tremaining: 8m 12s\n",
            "647:\ttest: 0.8634352\tbest: 0.8634352 (647)\ttotal: 15m 4s\tremaining: 8m 11s\n",
            "648:\ttest: 0.8634509\tbest: 0.8634509 (648)\ttotal: 15m 6s\tremaining: 8m 10s\n",
            "649:\ttest: 0.8634476\tbest: 0.8634509 (648)\ttotal: 15m 7s\tremaining: 8m 8s\n",
            "650:\ttest: 0.8634475\tbest: 0.8634509 (648)\ttotal: 15m 8s\tremaining: 8m 7s\n",
            "651:\ttest: 0.8634605\tbest: 0.8634605 (651)\ttotal: 15m 10s\tremaining: 8m 5s\n",
            "652:\ttest: 0.8634510\tbest: 0.8634605 (651)\ttotal: 15m 11s\tremaining: 8m 4s\n",
            "653:\ttest: 0.8634633\tbest: 0.8634633 (653)\ttotal: 15m 13s\tremaining: 8m 3s\n",
            "654:\ttest: 0.8634641\tbest: 0.8634641 (654)\ttotal: 15m 14s\tremaining: 8m 1s\n",
            "655:\ttest: 0.8634562\tbest: 0.8634641 (654)\ttotal: 15m 15s\tremaining: 8m\n",
            "656:\ttest: 0.8634549\tbest: 0.8634641 (654)\ttotal: 15m 17s\tremaining: 7m 58s\n",
            "657:\ttest: 0.8634620\tbest: 0.8634641 (654)\ttotal: 15m 18s\tremaining: 7m 57s\n",
            "658:\ttest: 0.8634552\tbest: 0.8634641 (654)\ttotal: 15m 19s\tremaining: 7m 55s\n",
            "659:\ttest: 0.8634548\tbest: 0.8634641 (654)\ttotal: 15m 21s\tremaining: 7m 54s\n",
            "660:\ttest: 0.8634650\tbest: 0.8634650 (660)\ttotal: 15m 22s\tremaining: 7m 53s\n",
            "661:\ttest: 0.8634641\tbest: 0.8634650 (660)\ttotal: 15m 24s\tremaining: 7m 51s\n",
            "662:\ttest: 0.8634859\tbest: 0.8634859 (662)\ttotal: 15m 25s\tremaining: 7m 50s\n",
            "663:\ttest: 0.8634841\tbest: 0.8634859 (662)\ttotal: 15m 26s\tremaining: 7m 49s\n",
            "664:\ttest: 0.8634934\tbest: 0.8634934 (664)\ttotal: 15m 28s\tremaining: 7m 47s\n",
            "665:\ttest: 0.8634767\tbest: 0.8634934 (664)\ttotal: 15m 29s\tremaining: 7m 46s\n",
            "666:\ttest: 0.8634803\tbest: 0.8634934 (664)\ttotal: 15m 30s\tremaining: 7m 44s\n",
            "667:\ttest: 0.8634782\tbest: 0.8634934 (664)\ttotal: 15m 32s\tremaining: 7m 43s\n",
            "668:\ttest: 0.8635460\tbest: 0.8635460 (668)\ttotal: 15m 33s\tremaining: 7m 41s\n",
            "669:\ttest: 0.8635316\tbest: 0.8635460 (668)\ttotal: 15m 35s\tremaining: 7m 40s\n",
            "670:\ttest: 0.8635049\tbest: 0.8635460 (668)\ttotal: 15m 36s\tremaining: 7m 39s\n",
            "671:\ttest: 0.8635151\tbest: 0.8635460 (668)\ttotal: 15m 37s\tremaining: 7m 37s\n",
            "672:\ttest: 0.8635172\tbest: 0.8635460 (668)\ttotal: 15m 39s\tremaining: 7m 36s\n",
            "673:\ttest: 0.8635202\tbest: 0.8635460 (668)\ttotal: 15m 40s\tremaining: 7m 34s\n",
            "674:\ttest: 0.8635205\tbest: 0.8635460 (668)\ttotal: 15m 41s\tremaining: 7m 33s\n",
            "675:\ttest: 0.8635112\tbest: 0.8635460 (668)\ttotal: 15m 43s\tremaining: 7m 32s\n",
            "676:\ttest: 0.8634889\tbest: 0.8635460 (668)\ttotal: 15m 44s\tremaining: 7m 30s\n",
            "677:\ttest: 0.8634884\tbest: 0.8635460 (668)\ttotal: 15m 46s\tremaining: 7m 29s\n",
            "678:\ttest: 0.8634938\tbest: 0.8635460 (668)\ttotal: 15m 47s\tremaining: 7m 27s\n",
            "679:\ttest: 0.8635060\tbest: 0.8635460 (668)\ttotal: 15m 48s\tremaining: 7m 26s\n",
            "680:\ttest: 0.8635057\tbest: 0.8635460 (668)\ttotal: 15m 50s\tremaining: 7m 25s\n",
            "681:\ttest: 0.8635081\tbest: 0.8635460 (668)\ttotal: 15m 51s\tremaining: 7m 23s\n",
            "682:\ttest: 0.8635444\tbest: 0.8635460 (668)\ttotal: 15m 52s\tremaining: 7m 22s\n",
            "683:\ttest: 0.8635494\tbest: 0.8635494 (683)\ttotal: 15m 54s\tremaining: 7m 20s\n",
            "684:\ttest: 0.8635528\tbest: 0.8635528 (684)\ttotal: 15m 55s\tremaining: 7m 19s\n",
            "685:\ttest: 0.8635486\tbest: 0.8635528 (684)\ttotal: 15m 57s\tremaining: 7m 18s\n",
            "686:\ttest: 0.8635498\tbest: 0.8635528 (684)\ttotal: 15m 58s\tremaining: 7m 16s\n",
            "687:\ttest: 0.8635495\tbest: 0.8635528 (684)\ttotal: 15m 59s\tremaining: 7m 15s\n",
            "688:\ttest: 0.8635463\tbest: 0.8635528 (684)\ttotal: 16m 1s\tremaining: 7m 13s\n",
            "689:\ttest: 0.8635460\tbest: 0.8635528 (684)\ttotal: 16m 2s\tremaining: 7m 12s\n",
            "690:\ttest: 0.8635630\tbest: 0.8635630 (690)\ttotal: 16m 3s\tremaining: 7m 11s\n",
            "691:\ttest: 0.8635603\tbest: 0.8635630 (690)\ttotal: 16m 5s\tremaining: 7m 9s\n",
            "692:\ttest: 0.8635799\tbest: 0.8635799 (692)\ttotal: 16m 6s\tremaining: 7m 8s\n",
            "693:\ttest: 0.8636059\tbest: 0.8636059 (693)\ttotal: 16m 8s\tremaining: 7m 6s\n",
            "694:\ttest: 0.8636273\tbest: 0.8636273 (694)\ttotal: 16m 9s\tremaining: 7m 5s\n",
            "695:\ttest: 0.8636459\tbest: 0.8636459 (695)\ttotal: 16m 10s\tremaining: 7m 4s\n",
            "696:\ttest: 0.8636114\tbest: 0.8636459 (695)\ttotal: 16m 12s\tremaining: 7m 2s\n",
            "697:\ttest: 0.8636190\tbest: 0.8636459 (695)\ttotal: 16m 13s\tremaining: 7m 1s\n",
            "698:\ttest: 0.8636320\tbest: 0.8636459 (695)\ttotal: 16m 14s\tremaining: 6m 59s\n",
            "699:\ttest: 0.8636389\tbest: 0.8636459 (695)\ttotal: 16m 16s\tremaining: 6m 58s\n",
            "700:\ttest: 0.8636604\tbest: 0.8636604 (700)\ttotal: 16m 17s\tremaining: 6m 56s\n",
            "701:\ttest: 0.8636670\tbest: 0.8636670 (701)\ttotal: 16m 18s\tremaining: 6m 55s\n",
            "702:\ttest: 0.8636866\tbest: 0.8636866 (702)\ttotal: 16m 20s\tremaining: 6m 54s\n",
            "703:\ttest: 0.8636803\tbest: 0.8636866 (702)\ttotal: 16m 21s\tremaining: 6m 52s\n",
            "704:\ttest: 0.8636742\tbest: 0.8636866 (702)\ttotal: 16m 23s\tremaining: 6m 51s\n",
            "705:\ttest: 0.8636735\tbest: 0.8636866 (702)\ttotal: 16m 24s\tremaining: 6m 49s\n",
            "706:\ttest: 0.8636296\tbest: 0.8636866 (702)\ttotal: 16m 25s\tremaining: 6m 48s\n",
            "707:\ttest: 0.8636274\tbest: 0.8636866 (702)\ttotal: 16m 27s\tremaining: 6m 47s\n",
            "708:\ttest: 0.8636227\tbest: 0.8636866 (702)\ttotal: 16m 28s\tremaining: 6m 45s\n",
            "709:\ttest: 0.8636067\tbest: 0.8636866 (702)\ttotal: 16m 29s\tremaining: 6m 44s\n",
            "710:\ttest: 0.8636164\tbest: 0.8636866 (702)\ttotal: 16m 31s\tremaining: 6m 42s\n",
            "711:\ttest: 0.8636120\tbest: 0.8636866 (702)\ttotal: 16m 32s\tremaining: 6m 41s\n",
            "712:\ttest: 0.8636131\tbest: 0.8636866 (702)\ttotal: 16m 34s\tremaining: 6m 40s\n",
            "713:\ttest: 0.8636124\tbest: 0.8636866 (702)\ttotal: 16m 35s\tremaining: 6m 38s\n",
            "714:\ttest: 0.8636169\tbest: 0.8636866 (702)\ttotal: 16m 36s\tremaining: 6m 37s\n",
            "715:\ttest: 0.8636118\tbest: 0.8636866 (702)\ttotal: 16m 38s\tremaining: 6m 35s\n",
            "716:\ttest: 0.8636132\tbest: 0.8636866 (702)\ttotal: 16m 39s\tremaining: 6m 34s\n",
            "717:\ttest: 0.8636130\tbest: 0.8636866 (702)\ttotal: 16m 40s\tremaining: 6m 33s\n",
            "718:\ttest: 0.8636310\tbest: 0.8636866 (702)\ttotal: 16m 42s\tremaining: 6m 31s\n",
            "719:\ttest: 0.8637348\tbest: 0.8637348 (719)\ttotal: 16m 43s\tremaining: 6m 30s\n",
            "720:\ttest: 0.8637183\tbest: 0.8637348 (719)\ttotal: 16m 45s\tremaining: 6m 28s\n",
            "721:\ttest: 0.8637363\tbest: 0.8637363 (721)\ttotal: 16m 46s\tremaining: 6m 27s\n",
            "722:\ttest: 0.8637356\tbest: 0.8637363 (721)\ttotal: 16m 47s\tremaining: 6m 26s\n",
            "723:\ttest: 0.8637172\tbest: 0.8637363 (721)\ttotal: 16m 49s\tremaining: 6m 24s\n",
            "724:\ttest: 0.8637151\tbest: 0.8637363 (721)\ttotal: 16m 50s\tremaining: 6m 23s\n",
            "725:\ttest: 0.8637198\tbest: 0.8637363 (721)\ttotal: 16m 51s\tremaining: 6m 21s\n",
            "726:\ttest: 0.8637294\tbest: 0.8637363 (721)\ttotal: 16m 53s\tremaining: 6m 20s\n",
            "727:\ttest: 0.8637214\tbest: 0.8637363 (721)\ttotal: 16m 54s\tremaining: 6m 19s\n",
            "728:\ttest: 0.8637194\tbest: 0.8637363 (721)\ttotal: 16m 55s\tremaining: 6m 17s\n",
            "729:\ttest: 0.8637280\tbest: 0.8637363 (721)\ttotal: 16m 57s\tremaining: 6m 16s\n",
            "730:\ttest: 0.8637301\tbest: 0.8637363 (721)\ttotal: 16m 58s\tremaining: 6m 14s\n",
            "731:\ttest: 0.8637344\tbest: 0.8637363 (721)\ttotal: 17m\tremaining: 6m 13s\n",
            "732:\ttest: 0.8637331\tbest: 0.8637363 (721)\ttotal: 17m 1s\tremaining: 6m 12s\n",
            "733:\ttest: 0.8637321\tbest: 0.8637363 (721)\ttotal: 17m 2s\tremaining: 6m 10s\n",
            "734:\ttest: 0.8637311\tbest: 0.8637363 (721)\ttotal: 17m 4s\tremaining: 6m 9s\n",
            "735:\ttest: 0.8637303\tbest: 0.8637363 (721)\ttotal: 17m 5s\tremaining: 6m 7s\n",
            "736:\ttest: 0.8637554\tbest: 0.8637554 (736)\ttotal: 17m 6s\tremaining: 6m 6s\n",
            "737:\ttest: 0.8637421\tbest: 0.8637554 (736)\ttotal: 17m 8s\tremaining: 6m 5s\n",
            "738:\ttest: 0.8637504\tbest: 0.8637554 (736)\ttotal: 17m 9s\tremaining: 6m 3s\n",
            "739:\ttest: 0.8637382\tbest: 0.8637554 (736)\ttotal: 17m 11s\tremaining: 6m 2s\n",
            "740:\ttest: 0.8637378\tbest: 0.8637554 (736)\ttotal: 17m 12s\tremaining: 6m\n",
            "741:\ttest: 0.8637505\tbest: 0.8637554 (736)\ttotal: 17m 13s\tremaining: 5m 59s\n",
            "742:\ttest: 0.8637315\tbest: 0.8637554 (736)\ttotal: 17m 15s\tremaining: 5m 58s\n",
            "743:\ttest: 0.8637316\tbest: 0.8637554 (736)\ttotal: 17m 16s\tremaining: 5m 56s\n",
            "744:\ttest: 0.8636833\tbest: 0.8637554 (736)\ttotal: 17m 17s\tremaining: 5m 55s\n",
            "745:\ttest: 0.8637000\tbest: 0.8637554 (736)\ttotal: 17m 19s\tremaining: 5m 53s\n",
            "746:\ttest: 0.8636921\tbest: 0.8637554 (736)\ttotal: 17m 20s\tremaining: 5m 52s\n",
            "747:\ttest: 0.8636955\tbest: 0.8637554 (736)\ttotal: 17m 21s\tremaining: 5m 51s\n",
            "748:\ttest: 0.8636958\tbest: 0.8637554 (736)\ttotal: 17m 23s\tremaining: 5m 49s\n",
            "749:\ttest: 0.8636958\tbest: 0.8637554 (736)\ttotal: 17m 24s\tremaining: 5m 48s\n",
            "750:\ttest: 0.8636874\tbest: 0.8637554 (736)\ttotal: 17m 26s\tremaining: 5m 46s\n",
            "751:\ttest: 0.8636512\tbest: 0.8637554 (736)\ttotal: 17m 27s\tremaining: 5m 45s\n",
            "752:\ttest: 0.8636493\tbest: 0.8637554 (736)\ttotal: 17m 28s\tremaining: 5m 44s\n",
            "753:\ttest: 0.8636581\tbest: 0.8637554 (736)\ttotal: 17m 30s\tremaining: 5m 42s\n",
            "754:\ttest: 0.8636548\tbest: 0.8637554 (736)\ttotal: 17m 31s\tremaining: 5m 41s\n",
            "755:\ttest: 0.8636662\tbest: 0.8637554 (736)\ttotal: 17m 32s\tremaining: 5m 39s\n",
            "756:\ttest: 0.8636743\tbest: 0.8637554 (736)\ttotal: 17m 34s\tremaining: 5m 38s\n",
            "757:\ttest: 0.8636926\tbest: 0.8637554 (736)\ttotal: 17m 35s\tremaining: 5m 37s\n",
            "758:\ttest: 0.8636912\tbest: 0.8637554 (736)\ttotal: 17m 36s\tremaining: 5m 35s\n",
            "759:\ttest: 0.8637032\tbest: 0.8637554 (736)\ttotal: 17m 38s\tremaining: 5m 34s\n",
            "760:\ttest: 0.8637077\tbest: 0.8637554 (736)\ttotal: 17m 39s\tremaining: 5m 32s\n",
            "761:\ttest: 0.8637082\tbest: 0.8637554 (736)\ttotal: 17m 41s\tremaining: 5m 31s\n",
            "762:\ttest: 0.8637064\tbest: 0.8637554 (736)\ttotal: 17m 42s\tremaining: 5m 30s\n",
            "763:\ttest: 0.8637354\tbest: 0.8637554 (736)\ttotal: 17m 43s\tremaining: 5m 28s\n",
            "764:\ttest: 0.8637379\tbest: 0.8637554 (736)\ttotal: 17m 45s\tremaining: 5m 27s\n",
            "765:\ttest: 0.8637389\tbest: 0.8637554 (736)\ttotal: 17m 46s\tremaining: 5m 25s\n",
            "766:\ttest: 0.8637465\tbest: 0.8637554 (736)\ttotal: 17m 47s\tremaining: 5m 24s\n",
            "767:\ttest: 0.8637371\tbest: 0.8637554 (736)\ttotal: 17m 49s\tremaining: 5m 23s\n",
            "768:\ttest: 0.8637348\tbest: 0.8637554 (736)\ttotal: 17m 50s\tremaining: 5m 21s\n",
            "769:\ttest: 0.8637460\tbest: 0.8637554 (736)\ttotal: 17m 52s\tremaining: 5m 20s\n",
            "770:\ttest: 0.8637429\tbest: 0.8637554 (736)\ttotal: 17m 53s\tremaining: 5m 18s\n",
            "771:\ttest: 0.8637337\tbest: 0.8637554 (736)\ttotal: 17m 54s\tremaining: 5m 17s\n",
            "772:\ttest: 0.8637265\tbest: 0.8637554 (736)\ttotal: 17m 56s\tremaining: 5m 16s\n",
            "773:\ttest: 0.8636983\tbest: 0.8637554 (736)\ttotal: 17m 57s\tremaining: 5m 14s\n",
            "774:\ttest: 0.8636956\tbest: 0.8637554 (736)\ttotal: 17m 58s\tremaining: 5m 13s\n",
            "775:\ttest: 0.8637125\tbest: 0.8637554 (736)\ttotal: 18m\tremaining: 5m 11s\n",
            "776:\ttest: 0.8636974\tbest: 0.8637554 (736)\ttotal: 18m 1s\tremaining: 5m 10s\n",
            "777:\ttest: 0.8636948\tbest: 0.8637554 (736)\ttotal: 18m 2s\tremaining: 5m 9s\n",
            "778:\ttest: 0.8636877\tbest: 0.8637554 (736)\ttotal: 18m 4s\tremaining: 5m 7s\n",
            "779:\ttest: 0.8637073\tbest: 0.8637554 (736)\ttotal: 18m 5s\tremaining: 5m 6s\n",
            "780:\ttest: 0.8637081\tbest: 0.8637554 (736)\ttotal: 18m 7s\tremaining: 5m 4s\n",
            "781:\ttest: 0.8636905\tbest: 0.8637554 (736)\ttotal: 18m 8s\tremaining: 5m 3s\n",
            "782:\ttest: 0.8636841\tbest: 0.8637554 (736)\ttotal: 18m 9s\tremaining: 5m 2s\n",
            "783:\ttest: 0.8636871\tbest: 0.8637554 (736)\ttotal: 18m 11s\tremaining: 5m\n",
            "784:\ttest: 0.8636702\tbest: 0.8637554 (736)\ttotal: 18m 12s\tremaining: 4m 59s\n",
            "785:\ttest: 0.8636653\tbest: 0.8637554 (736)\ttotal: 18m 13s\tremaining: 4m 57s\n",
            "786:\ttest: 0.8637033\tbest: 0.8637554 (736)\ttotal: 18m 15s\tremaining: 4m 56s\n",
            "787:\ttest: 0.8636981\tbest: 0.8637554 (736)\ttotal: 18m 16s\tremaining: 4m 55s\n",
            "788:\ttest: 0.8637026\tbest: 0.8637554 (736)\ttotal: 18m 18s\tremaining: 4m 53s\n",
            "789:\ttest: 0.8637053\tbest: 0.8637554 (736)\ttotal: 18m 19s\tremaining: 4m 52s\n",
            "790:\ttest: 0.8637092\tbest: 0.8637554 (736)\ttotal: 18m 21s\tremaining: 4m 50s\n",
            "791:\ttest: 0.8638173\tbest: 0.8638173 (791)\ttotal: 18m 22s\tremaining: 4m 49s\n",
            "792:\ttest: 0.8638302\tbest: 0.8638302 (792)\ttotal: 18m 23s\tremaining: 4m 48s\n",
            "793:\ttest: 0.8638320\tbest: 0.8638320 (793)\ttotal: 18m 25s\tremaining: 4m 46s\n",
            "794:\ttest: 0.8638372\tbest: 0.8638372 (794)\ttotal: 18m 26s\tremaining: 4m 45s\n",
            "795:\ttest: 0.8638150\tbest: 0.8638372 (794)\ttotal: 18m 27s\tremaining: 4m 43s\n",
            "796:\ttest: 0.8638490\tbest: 0.8638490 (796)\ttotal: 18m 29s\tremaining: 4m 42s\n",
            "797:\ttest: 0.8638855\tbest: 0.8638855 (797)\ttotal: 18m 30s\tremaining: 4m 41s\n",
            "798:\ttest: 0.8638825\tbest: 0.8638855 (797)\ttotal: 18m 32s\tremaining: 4m 39s\n",
            "799:\ttest: 0.8638727\tbest: 0.8638855 (797)\ttotal: 18m 33s\tremaining: 4m 38s\n",
            "800:\ttest: 0.8638765\tbest: 0.8638855 (797)\ttotal: 18m 34s\tremaining: 4m 36s\n",
            "801:\ttest: 0.8638824\tbest: 0.8638855 (797)\ttotal: 18m 36s\tremaining: 4m 35s\n",
            "802:\ttest: 0.8638780\tbest: 0.8638855 (797)\ttotal: 18m 37s\tremaining: 4m 34s\n",
            "803:\ttest: 0.8639132\tbest: 0.8639132 (803)\ttotal: 18m 38s\tremaining: 4m 32s\n",
            "804:\ttest: 0.8639117\tbest: 0.8639132 (803)\ttotal: 18m 40s\tremaining: 4m 31s\n",
            "805:\ttest: 0.8639484\tbest: 0.8639484 (805)\ttotal: 18m 41s\tremaining: 4m 29s\n",
            "806:\ttest: 0.8639450\tbest: 0.8639484 (805)\ttotal: 18m 42s\tremaining: 4m 28s\n",
            "807:\ttest: 0.8639442\tbest: 0.8639484 (805)\ttotal: 18m 44s\tremaining: 4m 27s\n",
            "808:\ttest: 0.8639400\tbest: 0.8639484 (805)\ttotal: 18m 45s\tremaining: 4m 25s\n",
            "809:\ttest: 0.8639148\tbest: 0.8639484 (805)\ttotal: 18m 47s\tremaining: 4m 24s\n",
            "810:\ttest: 0.8639366\tbest: 0.8639484 (805)\ttotal: 18m 48s\tremaining: 4m 22s\n",
            "811:\ttest: 0.8639355\tbest: 0.8639484 (805)\ttotal: 18m 49s\tremaining: 4m 21s\n",
            "812:\ttest: 0.8639180\tbest: 0.8639484 (805)\ttotal: 18m 51s\tremaining: 4m 20s\n",
            "813:\ttest: 0.8639139\tbest: 0.8639484 (805)\ttotal: 18m 52s\tremaining: 4m 18s\n",
            "814:\ttest: 0.8639113\tbest: 0.8639484 (805)\ttotal: 18m 53s\tremaining: 4m 17s\n",
            "815:\ttest: 0.8639130\tbest: 0.8639484 (805)\ttotal: 18m 55s\tremaining: 4m 15s\n",
            "816:\ttest: 0.8639232\tbest: 0.8639484 (805)\ttotal: 18m 56s\tremaining: 4m 14s\n",
            "817:\ttest: 0.8639279\tbest: 0.8639484 (805)\ttotal: 18m 58s\tremaining: 4m 13s\n",
            "818:\ttest: 0.8639262\tbest: 0.8639484 (805)\ttotal: 18m 59s\tremaining: 4m 11s\n",
            "819:\ttest: 0.8639260\tbest: 0.8639484 (805)\ttotal: 19m\tremaining: 4m 10s\n",
            "820:\ttest: 0.8639704\tbest: 0.8639704 (820)\ttotal: 19m 2s\tremaining: 4m 9s\n",
            "821:\ttest: 0.8640069\tbest: 0.8640069 (821)\ttotal: 19m 3s\tremaining: 4m 7s\n",
            "822:\ttest: 0.8640061\tbest: 0.8640069 (821)\ttotal: 19m 4s\tremaining: 4m 6s\n",
            "823:\ttest: 0.8640225\tbest: 0.8640225 (823)\ttotal: 19m 6s\tremaining: 4m 4s\n",
            "824:\ttest: 0.8640215\tbest: 0.8640225 (823)\ttotal: 19m 7s\tremaining: 4m 3s\n",
            "825:\ttest: 0.8640116\tbest: 0.8640225 (823)\ttotal: 19m 8s\tremaining: 4m 2s\n",
            "826:\ttest: 0.8640109\tbest: 0.8640225 (823)\ttotal: 19m 10s\tremaining: 4m\n",
            "827:\ttest: 0.8640341\tbest: 0.8640341 (827)\ttotal: 19m 11s\tremaining: 3m 59s\n",
            "828:\ttest: 0.8640282\tbest: 0.8640341 (827)\ttotal: 19m 13s\tremaining: 3m 57s\n",
            "829:\ttest: 0.8640221\tbest: 0.8640341 (827)\ttotal: 19m 14s\tremaining: 3m 56s\n",
            "830:\ttest: 0.8640197\tbest: 0.8640341 (827)\ttotal: 19m 15s\tremaining: 3m 55s\n",
            "831:\ttest: 0.8640274\tbest: 0.8640341 (827)\ttotal: 19m 17s\tremaining: 3m 53s\n",
            "832:\ttest: 0.8640464\tbest: 0.8640464 (832)\ttotal: 19m 18s\tremaining: 3m 52s\n",
            "833:\ttest: 0.8640404\tbest: 0.8640464 (832)\ttotal: 19m 19s\tremaining: 3m 50s\n",
            "834:\ttest: 0.8640417\tbest: 0.8640464 (832)\ttotal: 19m 21s\tremaining: 3m 49s\n",
            "835:\ttest: 0.8640410\tbest: 0.8640464 (832)\ttotal: 19m 22s\tremaining: 3m 48s\n",
            "836:\ttest: 0.8640153\tbest: 0.8640464 (832)\ttotal: 19m 23s\tremaining: 3m 46s\n",
            "837:\ttest: 0.8640089\tbest: 0.8640464 (832)\ttotal: 19m 25s\tremaining: 3m 45s\n",
            "838:\ttest: 0.8640072\tbest: 0.8640464 (832)\ttotal: 19m 26s\tremaining: 3m 43s\n",
            "839:\ttest: 0.8640031\tbest: 0.8640464 (832)\ttotal: 19m 28s\tremaining: 3m 42s\n",
            "840:\ttest: 0.8639976\tbest: 0.8640464 (832)\ttotal: 19m 29s\tremaining: 3m 41s\n",
            "841:\ttest: 0.8639586\tbest: 0.8640464 (832)\ttotal: 19m 30s\tremaining: 3m 39s\n",
            "842:\ttest: 0.8639723\tbest: 0.8640464 (832)\ttotal: 19m 32s\tremaining: 3m 38s\n",
            "843:\ttest: 0.8639421\tbest: 0.8640464 (832)\ttotal: 19m 33s\tremaining: 3m 36s\n",
            "844:\ttest: 0.8639376\tbest: 0.8640464 (832)\ttotal: 19m 35s\tremaining: 3m 35s\n",
            "845:\ttest: 0.8639327\tbest: 0.8640464 (832)\ttotal: 19m 36s\tremaining: 3m 34s\n",
            "846:\ttest: 0.8639322\tbest: 0.8640464 (832)\ttotal: 19m 37s\tremaining: 3m 32s\n",
            "847:\ttest: 0.8639350\tbest: 0.8640464 (832)\ttotal: 19m 39s\tremaining: 3m 31s\n",
            "848:\ttest: 0.8639347\tbest: 0.8640464 (832)\ttotal: 19m 40s\tremaining: 3m 29s\n",
            "849:\ttest: 0.8639297\tbest: 0.8640464 (832)\ttotal: 19m 41s\tremaining: 3m 28s\n",
            "850:\ttest: 0.8639274\tbest: 0.8640464 (832)\ttotal: 19m 43s\tremaining: 3m 27s\n",
            "851:\ttest: 0.8639388\tbest: 0.8640464 (832)\ttotal: 19m 44s\tremaining: 3m 25s\n",
            "852:\ttest: 0.8639446\tbest: 0.8640464 (832)\ttotal: 19m 45s\tremaining: 3m 24s\n",
            "853:\ttest: 0.8639363\tbest: 0.8640464 (832)\ttotal: 19m 47s\tremaining: 3m 22s\n",
            "854:\ttest: 0.8639307\tbest: 0.8640464 (832)\ttotal: 19m 48s\tremaining: 3m 21s\n",
            "855:\ttest: 0.8639341\tbest: 0.8640464 (832)\ttotal: 19m 50s\tremaining: 3m 20s\n",
            "856:\ttest: 0.8639324\tbest: 0.8640464 (832)\ttotal: 19m 51s\tremaining: 3m 18s\n",
            "857:\ttest: 0.8639295\tbest: 0.8640464 (832)\ttotal: 19m 52s\tremaining: 3m 17s\n",
            "858:\ttest: 0.8639219\tbest: 0.8640464 (832)\ttotal: 19m 54s\tremaining: 3m 16s\n",
            "859:\ttest: 0.8639253\tbest: 0.8640464 (832)\ttotal: 19m 55s\tremaining: 3m 14s\n",
            "860:\ttest: 0.8639253\tbest: 0.8640464 (832)\ttotal: 19m 56s\tremaining: 3m 13s\n",
            "861:\ttest: 0.8639240\tbest: 0.8640464 (832)\ttotal: 19m 58s\tremaining: 3m 11s\n",
            "862:\ttest: 0.8639240\tbest: 0.8640464 (832)\ttotal: 19m 59s\tremaining: 3m 10s\n",
            "863:\ttest: 0.8639239\tbest: 0.8640464 (832)\ttotal: 20m\tremaining: 3m 9s\n",
            "864:\ttest: 0.8639219\tbest: 0.8640464 (832)\ttotal: 20m 2s\tremaining: 3m 7s\n",
            "865:\ttest: 0.8639310\tbest: 0.8640464 (832)\ttotal: 20m 3s\tremaining: 3m 6s\n",
            "866:\ttest: 0.8639315\tbest: 0.8640464 (832)\ttotal: 20m 4s\tremaining: 3m 4s\n",
            "867:\ttest: 0.8639309\tbest: 0.8640464 (832)\ttotal: 20m 6s\tremaining: 3m 3s\n",
            "868:\ttest: 0.8639427\tbest: 0.8640464 (832)\ttotal: 20m 7s\tremaining: 3m 2s\n",
            "869:\ttest: 0.8639351\tbest: 0.8640464 (832)\ttotal: 20m 9s\tremaining: 3m\n",
            "870:\ttest: 0.8639351\tbest: 0.8640464 (832)\ttotal: 20m 10s\tremaining: 2m 59s\n",
            "871:\ttest: 0.8639253\tbest: 0.8640464 (832)\ttotal: 20m 11s\tremaining: 2m 57s\n",
            "872:\ttest: 0.8639232\tbest: 0.8640464 (832)\ttotal: 20m 13s\tremaining: 2m 56s\n",
            "873:\ttest: 0.8639221\tbest: 0.8640464 (832)\ttotal: 20m 14s\tremaining: 2m 55s\n",
            "874:\ttest: 0.8639147\tbest: 0.8640464 (832)\ttotal: 20m 15s\tremaining: 2m 53s\n",
            "875:\ttest: 0.8639415\tbest: 0.8640464 (832)\ttotal: 20m 17s\tremaining: 2m 52s\n",
            "876:\ttest: 0.8639501\tbest: 0.8640464 (832)\ttotal: 20m 18s\tremaining: 2m 50s\n",
            "877:\ttest: 0.8639706\tbest: 0.8640464 (832)\ttotal: 20m 20s\tremaining: 2m 49s\n",
            "878:\ttest: 0.8639469\tbest: 0.8640464 (832)\ttotal: 20m 21s\tremaining: 2m 48s\n",
            "879:\ttest: 0.8639432\tbest: 0.8640464 (832)\ttotal: 20m 22s\tremaining: 2m 46s\n",
            "880:\ttest: 0.8639450\tbest: 0.8640464 (832)\ttotal: 20m 24s\tremaining: 2m 45s\n",
            "881:\ttest: 0.8639428\tbest: 0.8640464 (832)\ttotal: 20m 25s\tremaining: 2m 43s\n",
            "882:\ttest: 0.8639412\tbest: 0.8640464 (832)\ttotal: 20m 26s\tremaining: 2m 42s\n",
            "883:\ttest: 0.8639503\tbest: 0.8640464 (832)\ttotal: 20m 28s\tremaining: 2m 41s\n",
            "884:\ttest: 0.8639455\tbest: 0.8640464 (832)\ttotal: 20m 29s\tremaining: 2m 39s\n",
            "885:\ttest: 0.8639398\tbest: 0.8640464 (832)\ttotal: 20m 30s\tremaining: 2m 38s\n",
            "886:\ttest: 0.8639367\tbest: 0.8640464 (832)\ttotal: 20m 32s\tremaining: 2m 36s\n",
            "887:\ttest: 0.8639569\tbest: 0.8640464 (832)\ttotal: 20m 33s\tremaining: 2m 35s\n",
            "888:\ttest: 0.8639413\tbest: 0.8640464 (832)\ttotal: 20m 35s\tremaining: 2m 34s\n",
            "889:\ttest: 0.8639549\tbest: 0.8640464 (832)\ttotal: 20m 36s\tremaining: 2m 32s\n",
            "890:\ttest: 0.8639554\tbest: 0.8640464 (832)\ttotal: 20m 37s\tremaining: 2m 31s\n",
            "891:\ttest: 0.8639449\tbest: 0.8640464 (832)\ttotal: 20m 39s\tremaining: 2m 30s\n",
            "892:\ttest: 0.8639477\tbest: 0.8640464 (832)\ttotal: 20m 40s\tremaining: 2m 28s\n",
            "893:\ttest: 0.8639399\tbest: 0.8640464 (832)\ttotal: 20m 41s\tremaining: 2m 27s\n",
            "894:\ttest: 0.8639979\tbest: 0.8640464 (832)\ttotal: 20m 43s\tremaining: 2m 25s\n",
            "895:\ttest: 0.8639883\tbest: 0.8640464 (832)\ttotal: 20m 44s\tremaining: 2m 24s\n",
            "896:\ttest: 0.8639881\tbest: 0.8640464 (832)\ttotal: 20m 45s\tremaining: 2m 23s\n",
            "897:\ttest: 0.8639965\tbest: 0.8640464 (832)\ttotal: 20m 47s\tremaining: 2m 21s\n",
            "898:\ttest: 0.8640017\tbest: 0.8640464 (832)\ttotal: 20m 48s\tremaining: 2m 20s\n",
            "899:\ttest: 0.8640151\tbest: 0.8640464 (832)\ttotal: 20m 50s\tremaining: 2m 18s\n",
            "900:\ttest: 0.8640234\tbest: 0.8640464 (832)\ttotal: 20m 51s\tremaining: 2m 17s\n",
            "901:\ttest: 0.8640938\tbest: 0.8640938 (901)\ttotal: 20m 52s\tremaining: 2m 16s\n",
            "902:\ttest: 0.8640664\tbest: 0.8640938 (901)\ttotal: 20m 54s\tremaining: 2m 14s\n",
            "903:\ttest: 0.8640640\tbest: 0.8640938 (901)\ttotal: 20m 55s\tremaining: 2m 13s\n",
            "904:\ttest: 0.8640645\tbest: 0.8640938 (901)\ttotal: 20m 56s\tremaining: 2m 11s\n",
            "905:\ttest: 0.8640813\tbest: 0.8640938 (901)\ttotal: 20m 58s\tremaining: 2m 10s\n",
            "906:\ttest: 0.8640760\tbest: 0.8640938 (901)\ttotal: 20m 59s\tremaining: 2m 9s\n",
            "907:\ttest: 0.8640687\tbest: 0.8640938 (901)\ttotal: 21m 1s\tremaining: 2m 7s\n",
            "908:\ttest: 0.8640669\tbest: 0.8640938 (901)\ttotal: 21m 2s\tremaining: 2m 6s\n",
            "909:\ttest: 0.8640593\tbest: 0.8640938 (901)\ttotal: 21m 3s\tremaining: 2m 4s\n",
            "910:\ttest: 0.8640577\tbest: 0.8640938 (901)\ttotal: 21m 5s\tremaining: 2m 3s\n",
            "911:\ttest: 0.8640600\tbest: 0.8640938 (901)\ttotal: 21m 6s\tremaining: 2m 2s\n",
            "912:\ttest: 0.8640619\tbest: 0.8640938 (901)\ttotal: 21m 7s\tremaining: 2m\n",
            "913:\ttest: 0.8640609\tbest: 0.8640938 (901)\ttotal: 21m 9s\tremaining: 1m 59s\n",
            "914:\ttest: 0.8640696\tbest: 0.8640938 (901)\ttotal: 21m 10s\tremaining: 1m 58s\n",
            "915:\ttest: 0.8640474\tbest: 0.8640938 (901)\ttotal: 21m 12s\tremaining: 1m 56s\n",
            "916:\ttest: 0.8640471\tbest: 0.8640938 (901)\ttotal: 21m 13s\tremaining: 1m 55s\n",
            "917:\ttest: 0.8640410\tbest: 0.8640938 (901)\ttotal: 21m 14s\tremaining: 1m 53s\n",
            "918:\ttest: 0.8640475\tbest: 0.8640938 (901)\ttotal: 21m 16s\tremaining: 1m 52s\n",
            "919:\ttest: 0.8640368\tbest: 0.8640938 (901)\ttotal: 21m 17s\tremaining: 1m 51s\n",
            "920:\ttest: 0.8640388\tbest: 0.8640938 (901)\ttotal: 21m 18s\tremaining: 1m 49s\n",
            "921:\ttest: 0.8640057\tbest: 0.8640938 (901)\ttotal: 21m 20s\tremaining: 1m 48s\n",
            "922:\ttest: 0.8640041\tbest: 0.8640938 (901)\ttotal: 21m 21s\tremaining: 1m 46s\n",
            "923:\ttest: 0.8640584\tbest: 0.8640938 (901)\ttotal: 21m 23s\tremaining: 1m 45s\n",
            "924:\ttest: 0.8640584\tbest: 0.8640938 (901)\ttotal: 21m 24s\tremaining: 1m 44s\n",
            "925:\ttest: 0.8640667\tbest: 0.8640938 (901)\ttotal: 21m 25s\tremaining: 1m 42s\n",
            "926:\ttest: 0.8640759\tbest: 0.8640938 (901)\ttotal: 21m 27s\tremaining: 1m 41s\n",
            "927:\ttest: 0.8640715\tbest: 0.8640938 (901)\ttotal: 21m 28s\tremaining: 1m 39s\n",
            "928:\ttest: 0.8641102\tbest: 0.8641102 (928)\ttotal: 21m 29s\tremaining: 1m 38s\n",
            "929:\ttest: 0.8641069\tbest: 0.8641102 (928)\ttotal: 21m 31s\tremaining: 1m 37s\n",
            "930:\ttest: 0.8641071\tbest: 0.8641102 (928)\ttotal: 21m 32s\tremaining: 1m 35s\n",
            "931:\ttest: 0.8641025\tbest: 0.8641102 (928)\ttotal: 21m 33s\tremaining: 1m 34s\n",
            "932:\ttest: 0.8641044\tbest: 0.8641102 (928)\ttotal: 21m 35s\tremaining: 1m 33s\n",
            "933:\ttest: 0.8641887\tbest: 0.8641887 (933)\ttotal: 21m 36s\tremaining: 1m 31s\n",
            "934:\ttest: 0.8641821\tbest: 0.8641887 (933)\ttotal: 21m 37s\tremaining: 1m 30s\n",
            "935:\ttest: 0.8641854\tbest: 0.8641887 (933)\ttotal: 21m 39s\tremaining: 1m 28s\n",
            "936:\ttest: 0.8641613\tbest: 0.8641887 (933)\ttotal: 21m 40s\tremaining: 1m 27s\n",
            "937:\ttest: 0.8641991\tbest: 0.8641991 (937)\ttotal: 21m 42s\tremaining: 1m 26s\n",
            "938:\ttest: 0.8642030\tbest: 0.8642030 (938)\ttotal: 21m 43s\tremaining: 1m 24s\n",
            "939:\ttest: 0.8642043\tbest: 0.8642043 (939)\ttotal: 21m 44s\tremaining: 1m 23s\n",
            "940:\ttest: 0.8641996\tbest: 0.8642043 (939)\ttotal: 21m 46s\tremaining: 1m 21s\n",
            "941:\ttest: 0.8642029\tbest: 0.8642043 (939)\ttotal: 21m 47s\tremaining: 1m 20s\n",
            "942:\ttest: 0.8642004\tbest: 0.8642043 (939)\ttotal: 21m 48s\tremaining: 1m 19s\n",
            "943:\ttest: 0.8642041\tbest: 0.8642043 (939)\ttotal: 21m 50s\tremaining: 1m 17s\n",
            "944:\ttest: 0.8642881\tbest: 0.8642881 (944)\ttotal: 21m 51s\tremaining: 1m 16s\n",
            "945:\ttest: 0.8642911\tbest: 0.8642911 (945)\ttotal: 21m 53s\tremaining: 1m 14s\n",
            "946:\ttest: 0.8642912\tbest: 0.8642912 (946)\ttotal: 21m 54s\tremaining: 1m 13s\n",
            "947:\ttest: 0.8642878\tbest: 0.8642912 (946)\ttotal: 21m 55s\tremaining: 1m 12s\n",
            "948:\ttest: 0.8642796\tbest: 0.8642912 (946)\ttotal: 21m 57s\tremaining: 1m 10s\n",
            "949:\ttest: 0.8642838\tbest: 0.8642912 (946)\ttotal: 21m 58s\tremaining: 1m 9s\n",
            "950:\ttest: 0.8642720\tbest: 0.8642912 (946)\ttotal: 21m 59s\tremaining: 1m 8s\n",
            "951:\ttest: 0.8642671\tbest: 0.8642912 (946)\ttotal: 22m 1s\tremaining: 1m 6s\n",
            "952:\ttest: 0.8642748\tbest: 0.8642912 (946)\ttotal: 22m 2s\tremaining: 1m 5s\n",
            "953:\ttest: 0.8642728\tbest: 0.8642912 (946)\ttotal: 22m 4s\tremaining: 1m 3s\n",
            "954:\ttest: 0.8642700\tbest: 0.8642912 (946)\ttotal: 22m 5s\tremaining: 1m 2s\n",
            "955:\ttest: 0.8642672\tbest: 0.8642912 (946)\ttotal: 22m 6s\tremaining: 1m 1s\n",
            "956:\ttest: 0.8642647\tbest: 0.8642912 (946)\ttotal: 22m 8s\tremaining: 59.7s\n",
            "957:\ttest: 0.8643171\tbest: 0.8643171 (957)\ttotal: 22m 9s\tremaining: 58.3s\n",
            "958:\ttest: 0.8643256\tbest: 0.8643256 (958)\ttotal: 22m 10s\tremaining: 56.9s\n",
            "959:\ttest: 0.8643200\tbest: 0.8643256 (958)\ttotal: 22m 12s\tremaining: 55.5s\n",
            "960:\ttest: 0.8643118\tbest: 0.8643256 (958)\ttotal: 22m 13s\tremaining: 54.1s\n",
            "961:\ttest: 0.8643110\tbest: 0.8643256 (958)\ttotal: 22m 15s\tremaining: 52.7s\n",
            "962:\ttest: 0.8643076\tbest: 0.8643256 (958)\ttotal: 22m 16s\tremaining: 51.3s\n",
            "963:\ttest: 0.8643133\tbest: 0.8643256 (958)\ttotal: 22m 17s\tremaining: 50s\n",
            "964:\ttest: 0.8643341\tbest: 0.8643341 (964)\ttotal: 22m 19s\tremaining: 48.6s\n",
            "965:\ttest: 0.8643382\tbest: 0.8643382 (965)\ttotal: 22m 20s\tremaining: 47.2s\n",
            "966:\ttest: 0.8643365\tbest: 0.8643382 (965)\ttotal: 22m 22s\tremaining: 45.8s\n",
            "967:\ttest: 0.8643318\tbest: 0.8643382 (965)\ttotal: 22m 23s\tremaining: 44.4s\n",
            "968:\ttest: 0.8643316\tbest: 0.8643382 (965)\ttotal: 22m 24s\tremaining: 43s\n",
            "969:\ttest: 0.8643375\tbest: 0.8643382 (965)\ttotal: 22m 26s\tremaining: 41.6s\n",
            "970:\ttest: 0.8643621\tbest: 0.8643621 (970)\ttotal: 22m 27s\tremaining: 40.2s\n",
            "971:\ttest: 0.8643428\tbest: 0.8643621 (970)\ttotal: 22m 28s\tremaining: 38.9s\n",
            "972:\ttest: 0.8643534\tbest: 0.8643621 (970)\ttotal: 22m 30s\tremaining: 37.5s\n",
            "973:\ttest: 0.8643521\tbest: 0.8643621 (970)\ttotal: 22m 31s\tremaining: 36.1s\n",
            "974:\ttest: 0.8643551\tbest: 0.8643621 (970)\ttotal: 22m 32s\tremaining: 34.7s\n",
            "975:\ttest: 0.8643662\tbest: 0.8643662 (975)\ttotal: 22m 34s\tremaining: 33.3s\n",
            "976:\ttest: 0.8643673\tbest: 0.8643673 (976)\ttotal: 22m 35s\tremaining: 31.9s\n",
            "977:\ttest: 0.8643488\tbest: 0.8643673 (976)\ttotal: 22m 37s\tremaining: 30.5s\n",
            "978:\ttest: 0.8643486\tbest: 0.8643673 (976)\ttotal: 22m 38s\tremaining: 29.1s\n",
            "979:\ttest: 0.8643690\tbest: 0.8643690 (979)\ttotal: 22m 39s\tremaining: 27.8s\n",
            "980:\ttest: 0.8643601\tbest: 0.8643690 (979)\ttotal: 22m 41s\tremaining: 26.4s\n",
            "981:\ttest: 0.8643677\tbest: 0.8643690 (979)\ttotal: 22m 42s\tremaining: 25s\n",
            "982:\ttest: 0.8643656\tbest: 0.8643690 (979)\ttotal: 22m 43s\tremaining: 23.6s\n",
            "983:\ttest: 0.8643912\tbest: 0.8643912 (983)\ttotal: 22m 45s\tremaining: 22.2s\n",
            "984:\ttest: 0.8643912\tbest: 0.8643912 (983)\ttotal: 22m 46s\tremaining: 20.8s\n",
            "985:\ttest: 0.8643819\tbest: 0.8643912 (983)\ttotal: 22m 48s\tremaining: 19.4s\n",
            "986:\ttest: 0.8643723\tbest: 0.8643912 (983)\ttotal: 22m 49s\tremaining: 18s\n",
            "987:\ttest: 0.8643731\tbest: 0.8643912 (983)\ttotal: 22m 50s\tremaining: 16.6s\n",
            "988:\ttest: 0.8643712\tbest: 0.8643912 (983)\ttotal: 22m 52s\tremaining: 15.3s\n",
            "989:\ttest: 0.8643790\tbest: 0.8643912 (983)\ttotal: 22m 53s\tremaining: 13.9s\n",
            "990:\ttest: 0.8643778\tbest: 0.8643912 (983)\ttotal: 22m 54s\tremaining: 12.5s\n",
            "991:\ttest: 0.8643782\tbest: 0.8643912 (983)\ttotal: 22m 56s\tremaining: 11.1s\n",
            "992:\ttest: 0.8643944\tbest: 0.8643944 (992)\ttotal: 22m 57s\tremaining: 9.71s\n",
            "993:\ttest: 0.8643955\tbest: 0.8643955 (993)\ttotal: 22m 59s\tremaining: 8.32s\n",
            "994:\ttest: 0.8643921\tbest: 0.8643955 (993)\ttotal: 23m\tremaining: 6.94s\n",
            "995:\ttest: 0.8643884\tbest: 0.8643955 (993)\ttotal: 23m 1s\tremaining: 5.55s\n",
            "996:\ttest: 0.8644243\tbest: 0.8644243 (996)\ttotal: 23m 3s\tremaining: 4.16s\n",
            "997:\ttest: 0.8644159\tbest: 0.8644243 (996)\ttotal: 23m 4s\tremaining: 2.77s\n",
            "998:\ttest: 0.8644213\tbest: 0.8644243 (996)\ttotal: 23m 5s\tremaining: 1.39s\n",
            "999:\ttest: 0.8644202\tbest: 0.8644243 (996)\ttotal: 23m 7s\tremaining: 0us\n",
            "\n",
            "bestTest = 0.8644242758\n",
            "bestIteration = 996\n",
            "\n",
            "Shrink model to first 997 iterations.\n"
          ],
          "name": "stdout"
        },
        {
          "output_type": "execute_result",
          "data": {
            "text/plain": [
              "<catboost.core.CatBoostClassifier at 0x7fa49ab56890>"
            ]
          },
          "metadata": {
            "tags": []
          },
          "execution_count": 108
        }
      ]
    },
    {
      "cell_type": "code",
      "metadata": {
        "id": "zIT3bVBNCKV2"
      },
      "source": [
        "X_ohe_train = pd.concat([pd.get_dummies(X_train[cat_feats]).reset_index(drop=True), X_train[num_feats].reset_index(drop=True)], axis=1)\n",
        "X_ohe_test = pd.concat([pd.get_dummies(X_test[cat_feats]).reset_index(drop=True), X_test[num_feats].reset_index(drop=True)], axis=1)"
      ],
      "execution_count": 136,
      "outputs": []
    },
    {
      "cell_type": "code",
      "metadata": {
        "id": "yGxKW6XwuqsA"
      },
      "source": [
        "from scipy.sparse import hstack \n",
        "X_train_tfidf = hstack([X_train_text, X_ohe_train])\n",
        "X_test_tfidf = hstack([X_test_text, X_ohe_test])"
      ],
      "execution_count": 137,
      "outputs": []
    },
    {
      "cell_type": "markdown",
      "metadata": {
        "id": "IUqp6E6xL3im"
      },
      "source": [
        "Все данные + обработка текста tfidf"
      ]
    },
    {
      "cell_type": "code",
      "metadata": {
        "colab": {
          "base_uri": "https://localhost:8080/"
        },
        "id": "5M_UneMEv6S_",
        "outputId": "9532a9f6-5544-4eb0-d89b-e372afede3da"
      },
      "source": [
        "model = CatBoostClassifier(eval_metric='AUC')\n",
        "\n",
        "model.fit(X_train_tfidf, y_train, eval_set=(X_test_tfidf, y_test))\n"
      ],
      "execution_count": 138,
      "outputs": [
        {
          "output_type": "stream",
          "text": [
            "Learning rate set to 0.11721\n",
            "0:\ttest: 0.7169677\tbest: 0.7169677 (0)\ttotal: 1.84s\tremaining: 30m 40s\n",
            "1:\ttest: 0.7547906\tbest: 0.7547906 (1)\ttotal: 3.41s\tremaining: 28m 23s\n",
            "2:\ttest: 0.7759286\tbest: 0.7759286 (2)\ttotal: 4.94s\tremaining: 27m 22s\n",
            "3:\ttest: 0.7845500\tbest: 0.7845500 (3)\ttotal: 6.41s\tremaining: 26m 35s\n",
            "4:\ttest: 0.7877828\tbest: 0.7877828 (4)\ttotal: 7.99s\tremaining: 26m 29s\n",
            "5:\ttest: 0.7919542\tbest: 0.7919542 (5)\ttotal: 9.51s\tremaining: 26m 16s\n",
            "6:\ttest: 0.7940734\tbest: 0.7940734 (6)\ttotal: 11s\tremaining: 25m 59s\n",
            "7:\ttest: 0.7957140\tbest: 0.7957140 (7)\ttotal: 12.5s\tremaining: 25m 56s\n",
            "8:\ttest: 0.7987597\tbest: 0.7987597 (8)\ttotal: 14.2s\tremaining: 25m 59s\n",
            "9:\ttest: 0.8061024\tbest: 0.8061024 (9)\ttotal: 15.7s\tremaining: 25m 56s\n",
            "10:\ttest: 0.8136066\tbest: 0.8136066 (10)\ttotal: 17.3s\tremaining: 25m 52s\n",
            "11:\ttest: 0.8138625\tbest: 0.8138625 (11)\ttotal: 18.7s\tremaining: 25m 41s\n",
            "12:\ttest: 0.8170652\tbest: 0.8170652 (12)\ttotal: 20.2s\tremaining: 25m 35s\n",
            "13:\ttest: 0.8182298\tbest: 0.8182298 (13)\ttotal: 21.8s\tremaining: 25m 32s\n",
            "14:\ttest: 0.8227163\tbest: 0.8227163 (14)\ttotal: 23.3s\tremaining: 25m 30s\n",
            "15:\ttest: 0.8247108\tbest: 0.8247108 (15)\ttotal: 24.8s\tremaining: 25m 26s\n",
            "16:\ttest: 0.8264798\tbest: 0.8264798 (16)\ttotal: 26.3s\tremaining: 25m 20s\n",
            "17:\ttest: 0.8290747\tbest: 0.8290747 (17)\ttotal: 27.8s\tremaining: 25m 16s\n",
            "18:\ttest: 0.8308357\tbest: 0.8308357 (18)\ttotal: 29.4s\tremaining: 25m 15s\n",
            "19:\ttest: 0.8321532\tbest: 0.8321532 (19)\ttotal: 30.9s\tremaining: 25m 14s\n",
            "20:\ttest: 0.8331043\tbest: 0.8331043 (20)\ttotal: 32.5s\tremaining: 25m 14s\n",
            "21:\ttest: 0.8348758\tbest: 0.8348758 (21)\ttotal: 33.9s\tremaining: 25m 9s\n",
            "22:\ttest: 0.8360058\tbest: 0.8360058 (22)\ttotal: 35.5s\tremaining: 25m 8s\n",
            "23:\ttest: 0.8388539\tbest: 0.8388539 (23)\ttotal: 37s\tremaining: 25m 5s\n",
            "24:\ttest: 0.8401301\tbest: 0.8401301 (24)\ttotal: 38.5s\tremaining: 25m 3s\n",
            "25:\ttest: 0.8421586\tbest: 0.8421586 (25)\ttotal: 40s\tremaining: 24m 59s\n",
            "26:\ttest: 0.8428547\tbest: 0.8428547 (26)\ttotal: 41.6s\tremaining: 24m 58s\n",
            "27:\ttest: 0.8448297\tbest: 0.8448297 (27)\ttotal: 43.1s\tremaining: 24m 54s\n",
            "28:\ttest: 0.8456915\tbest: 0.8456915 (28)\ttotal: 44.5s\tremaining: 24m 50s\n",
            "29:\ttest: 0.8457582\tbest: 0.8457582 (29)\ttotal: 46s\tremaining: 24m 48s\n",
            "30:\ttest: 0.8469786\tbest: 0.8469786 (30)\ttotal: 47.5s\tremaining: 24m 45s\n",
            "31:\ttest: 0.8476530\tbest: 0.8476530 (31)\ttotal: 49.1s\tremaining: 24m 44s\n",
            "32:\ttest: 0.8482907\tbest: 0.8482907 (32)\ttotal: 50.5s\tremaining: 24m 40s\n",
            "33:\ttest: 0.8488725\tbest: 0.8488725 (33)\ttotal: 52s\tremaining: 24m 38s\n",
            "34:\ttest: 0.8498646\tbest: 0.8498646 (34)\ttotal: 53.5s\tremaining: 24m 35s\n",
            "35:\ttest: 0.8501521\tbest: 0.8501521 (35)\ttotal: 55s\tremaining: 24m 32s\n",
            "36:\ttest: 0.8504504\tbest: 0.8504504 (36)\ttotal: 56.5s\tremaining: 24m 30s\n",
            "37:\ttest: 0.8506905\tbest: 0.8506905 (37)\ttotal: 58s\tremaining: 24m 27s\n",
            "38:\ttest: 0.8511674\tbest: 0.8511674 (38)\ttotal: 59.5s\tremaining: 24m 27s\n",
            "39:\ttest: 0.8514109\tbest: 0.8514109 (39)\ttotal: 1m\tremaining: 24m 23s\n",
            "40:\ttest: 0.8520007\tbest: 0.8520007 (40)\ttotal: 1m 2s\tremaining: 24m 21s\n",
            "41:\ttest: 0.8529834\tbest: 0.8529834 (41)\ttotal: 1m 4s\tremaining: 24m 20s\n",
            "42:\ttest: 0.8541205\tbest: 0.8541205 (42)\ttotal: 1m 5s\tremaining: 24m 17s\n",
            "43:\ttest: 0.8543186\tbest: 0.8543186 (43)\ttotal: 1m 6s\tremaining: 24m 14s\n",
            "44:\ttest: 0.8548646\tbest: 0.8548646 (44)\ttotal: 1m 8s\tremaining: 24m 11s\n",
            "45:\ttest: 0.8554288\tbest: 0.8554288 (45)\ttotal: 1m 9s\tremaining: 24m 11s\n",
            "46:\ttest: 0.8563942\tbest: 0.8563942 (46)\ttotal: 1m 11s\tremaining: 24m 7s\n",
            "47:\ttest: 0.8569233\tbest: 0.8569233 (47)\ttotal: 1m 12s\tremaining: 24m 4s\n",
            "48:\ttest: 0.8573061\tbest: 0.8573061 (48)\ttotal: 1m 14s\tremaining: 24m 1s\n",
            "49:\ttest: 0.8576410\tbest: 0.8576410 (49)\ttotal: 1m 15s\tremaining: 23m 59s\n",
            "50:\ttest: 0.8579069\tbest: 0.8579069 (50)\ttotal: 1m 17s\tremaining: 23m 58s\n",
            "51:\ttest: 0.8581428\tbest: 0.8581428 (51)\ttotal: 1m 18s\tremaining: 23m 56s\n",
            "52:\ttest: 0.8582117\tbest: 0.8582117 (52)\ttotal: 1m 20s\tremaining: 23m 54s\n",
            "53:\ttest: 0.8584595\tbest: 0.8584595 (53)\ttotal: 1m 21s\tremaining: 23m 51s\n",
            "54:\ttest: 0.8590007\tbest: 0.8590007 (54)\ttotal: 1m 23s\tremaining: 23m 48s\n",
            "55:\ttest: 0.8595934\tbest: 0.8595934 (55)\ttotal: 1m 24s\tremaining: 23m 46s\n",
            "56:\ttest: 0.8601070\tbest: 0.8601070 (56)\ttotal: 1m 26s\tremaining: 23m 43s\n",
            "57:\ttest: 0.8604775\tbest: 0.8604775 (57)\ttotal: 1m 27s\tremaining: 23m 41s\n",
            "58:\ttest: 0.8608314\tbest: 0.8608314 (58)\ttotal: 1m 29s\tremaining: 23m 41s\n",
            "59:\ttest: 0.8614402\tbest: 0.8614402 (59)\ttotal: 1m 30s\tremaining: 23m 39s\n",
            "60:\ttest: 0.8616364\tbest: 0.8616364 (60)\ttotal: 1m 32s\tremaining: 23m 39s\n",
            "61:\ttest: 0.8616973\tbest: 0.8616973 (61)\ttotal: 1m 33s\tremaining: 23m 36s\n",
            "62:\ttest: 0.8624889\tbest: 0.8624889 (62)\ttotal: 1m 35s\tremaining: 23m 33s\n",
            "63:\ttest: 0.8626475\tbest: 0.8626475 (63)\ttotal: 1m 36s\tremaining: 23m 31s\n",
            "64:\ttest: 0.8628328\tbest: 0.8628328 (64)\ttotal: 1m 37s\tremaining: 23m 28s\n",
            "65:\ttest: 0.8630481\tbest: 0.8630481 (65)\ttotal: 1m 39s\tremaining: 23m 27s\n",
            "66:\ttest: 0.8633483\tbest: 0.8633483 (66)\ttotal: 1m 40s\tremaining: 23m 24s\n",
            "67:\ttest: 0.8635214\tbest: 0.8635214 (67)\ttotal: 1m 42s\tremaining: 23m 22s\n",
            "68:\ttest: 0.8636304\tbest: 0.8636304 (68)\ttotal: 1m 43s\tremaining: 23m 19s\n",
            "69:\ttest: 0.8639090\tbest: 0.8639090 (69)\ttotal: 1m 45s\tremaining: 23m 17s\n",
            "70:\ttest: 0.8642236\tbest: 0.8642236 (70)\ttotal: 1m 46s\tremaining: 23m 14s\n",
            "71:\ttest: 0.8643825\tbest: 0.8643825 (71)\ttotal: 1m 48s\tremaining: 23m 12s\n",
            "72:\ttest: 0.8647047\tbest: 0.8647047 (72)\ttotal: 1m 49s\tremaining: 23m 11s\n",
            "73:\ttest: 0.8650272\tbest: 0.8650272 (73)\ttotal: 1m 51s\tremaining: 23m 9s\n",
            "74:\ttest: 0.8650294\tbest: 0.8650294 (74)\ttotal: 1m 52s\tremaining: 23m 6s\n",
            "75:\ttest: 0.8653076\tbest: 0.8653076 (75)\ttotal: 1m 53s\tremaining: 23m 5s\n",
            "76:\ttest: 0.8652308\tbest: 0.8653076 (75)\ttotal: 1m 55s\tremaining: 23m 3s\n",
            "77:\ttest: 0.8653891\tbest: 0.8653891 (77)\ttotal: 1m 57s\tremaining: 23m 3s\n",
            "78:\ttest: 0.8655707\tbest: 0.8655707 (78)\ttotal: 1m 58s\tremaining: 23m\n",
            "79:\ttest: 0.8656582\tbest: 0.8656582 (79)\ttotal: 1m 59s\tremaining: 22m 58s\n",
            "80:\ttest: 0.8660391\tbest: 0.8660391 (80)\ttotal: 2m 1s\tremaining: 22m 55s\n",
            "81:\ttest: 0.8663184\tbest: 0.8663184 (81)\ttotal: 2m 2s\tremaining: 22m 54s\n",
            "82:\ttest: 0.8665608\tbest: 0.8665608 (82)\ttotal: 2m 4s\tremaining: 22m 53s\n",
            "83:\ttest: 0.8668448\tbest: 0.8668448 (83)\ttotal: 2m 5s\tremaining: 22m 51s\n",
            "84:\ttest: 0.8669928\tbest: 0.8669928 (84)\ttotal: 2m 7s\tremaining: 22m 48s\n",
            "85:\ttest: 0.8672718\tbest: 0.8672718 (85)\ttotal: 2m 8s\tremaining: 22m 46s\n",
            "86:\ttest: 0.8676441\tbest: 0.8676441 (86)\ttotal: 2m 10s\tremaining: 22m 44s\n",
            "87:\ttest: 0.8677356\tbest: 0.8677356 (87)\ttotal: 2m 11s\tremaining: 22m 42s\n",
            "88:\ttest: 0.8680689\tbest: 0.8680689 (88)\ttotal: 2m 12s\tremaining: 22m 40s\n",
            "89:\ttest: 0.8682105\tbest: 0.8682105 (89)\ttotal: 2m 14s\tremaining: 22m 38s\n",
            "90:\ttest: 0.8684366\tbest: 0.8684366 (90)\ttotal: 2m 15s\tremaining: 22m 36s\n",
            "91:\ttest: 0.8686565\tbest: 0.8686565 (91)\ttotal: 2m 17s\tremaining: 22m 34s\n",
            "92:\ttest: 0.8688111\tbest: 0.8688111 (92)\ttotal: 2m 18s\tremaining: 22m 32s\n",
            "93:\ttest: 0.8691447\tbest: 0.8691447 (93)\ttotal: 2m 20s\tremaining: 22m 30s\n",
            "94:\ttest: 0.8693718\tbest: 0.8693718 (94)\ttotal: 2m 21s\tremaining: 22m 29s\n",
            "95:\ttest: 0.8695872\tbest: 0.8695872 (95)\ttotal: 2m 23s\tremaining: 22m 27s\n",
            "96:\ttest: 0.8698444\tbest: 0.8698444 (96)\ttotal: 2m 24s\tremaining: 22m 25s\n",
            "97:\ttest: 0.8699752\tbest: 0.8699752 (97)\ttotal: 2m 25s\tremaining: 22m 23s\n",
            "98:\ttest: 0.8700740\tbest: 0.8700740 (98)\ttotal: 2m 27s\tremaining: 22m 22s\n",
            "99:\ttest: 0.8703661\tbest: 0.8703661 (99)\ttotal: 2m 28s\tremaining: 22m 20s\n",
            "100:\ttest: 0.8704424\tbest: 0.8704424 (100)\ttotal: 2m 30s\tremaining: 22m 18s\n",
            "101:\ttest: 0.8706254\tbest: 0.8706254 (101)\ttotal: 2m 31s\tremaining: 22m 16s\n",
            "102:\ttest: 0.8707117\tbest: 0.8707117 (102)\ttotal: 2m 33s\tremaining: 22m 14s\n",
            "103:\ttest: 0.8707447\tbest: 0.8707447 (103)\ttotal: 2m 34s\tremaining: 22m 12s\n",
            "104:\ttest: 0.8709255\tbest: 0.8709255 (104)\ttotal: 2m 36s\tremaining: 22m 10s\n",
            "105:\ttest: 0.8710289\tbest: 0.8710289 (105)\ttotal: 2m 37s\tremaining: 22m 8s\n",
            "106:\ttest: 0.8711770\tbest: 0.8711770 (106)\ttotal: 2m 38s\tremaining: 22m 6s\n",
            "107:\ttest: 0.8713197\tbest: 0.8713197 (107)\ttotal: 2m 40s\tremaining: 22m 4s\n",
            "108:\ttest: 0.8714032\tbest: 0.8714032 (108)\ttotal: 2m 41s\tremaining: 22m 2s\n",
            "109:\ttest: 0.8715788\tbest: 0.8715788 (109)\ttotal: 2m 43s\tremaining: 22m 1s\n",
            "110:\ttest: 0.8718289\tbest: 0.8718289 (110)\ttotal: 2m 44s\tremaining: 22m\n",
            "111:\ttest: 0.8720160\tbest: 0.8720160 (111)\ttotal: 2m 46s\tremaining: 21m 58s\n",
            "112:\ttest: 0.8720827\tbest: 0.8720827 (112)\ttotal: 2m 47s\tremaining: 21m 56s\n",
            "113:\ttest: 0.8722537\tbest: 0.8722537 (113)\ttotal: 2m 49s\tremaining: 21m 54s\n",
            "114:\ttest: 0.8724155\tbest: 0.8724155 (114)\ttotal: 2m 50s\tremaining: 21m 53s\n",
            "115:\ttest: 0.8725959\tbest: 0.8725959 (115)\ttotal: 2m 52s\tremaining: 21m 51s\n",
            "116:\ttest: 0.8728388\tbest: 0.8728388 (116)\ttotal: 2m 53s\tremaining: 21m 49s\n",
            "117:\ttest: 0.8729459\tbest: 0.8729459 (117)\ttotal: 2m 54s\tremaining: 21m 47s\n",
            "118:\ttest: 0.8730282\tbest: 0.8730282 (118)\ttotal: 2m 56s\tremaining: 21m 45s\n",
            "119:\ttest: 0.8730601\tbest: 0.8730601 (119)\ttotal: 2m 57s\tremaining: 21m 44s\n",
            "120:\ttest: 0.8732475\tbest: 0.8732475 (120)\ttotal: 2m 59s\tremaining: 21m 42s\n",
            "121:\ttest: 0.8734186\tbest: 0.8734186 (121)\ttotal: 3m\tremaining: 21m 41s\n",
            "122:\ttest: 0.8734166\tbest: 0.8734186 (121)\ttotal: 3m 2s\tremaining: 21m 40s\n",
            "123:\ttest: 0.8739130\tbest: 0.8739130 (123)\ttotal: 3m 3s\tremaining: 21m 39s\n",
            "124:\ttest: 0.8738859\tbest: 0.8739130 (123)\ttotal: 3m 5s\tremaining: 21m 37s\n",
            "125:\ttest: 0.8740050\tbest: 0.8740050 (125)\ttotal: 3m 6s\tremaining: 21m 35s\n",
            "126:\ttest: 0.8742500\tbest: 0.8742500 (126)\ttotal: 3m 8s\tremaining: 21m 34s\n",
            "127:\ttest: 0.8745000\tbest: 0.8745000 (127)\ttotal: 3m 9s\tremaining: 21m 32s\n",
            "128:\ttest: 0.8745264\tbest: 0.8745264 (128)\ttotal: 3m 11s\tremaining: 21m 30s\n",
            "129:\ttest: 0.8748012\tbest: 0.8748012 (129)\ttotal: 3m 12s\tremaining: 21m 28s\n",
            "130:\ttest: 0.8749654\tbest: 0.8749654 (130)\ttotal: 3m 14s\tremaining: 21m 27s\n",
            "131:\ttest: 0.8751474\tbest: 0.8751474 (131)\ttotal: 3m 15s\tremaining: 21m 25s\n",
            "132:\ttest: 0.8752198\tbest: 0.8752198 (132)\ttotal: 3m 17s\tremaining: 21m 24s\n",
            "133:\ttest: 0.8754084\tbest: 0.8754084 (133)\ttotal: 3m 18s\tremaining: 21m 22s\n",
            "134:\ttest: 0.8755807\tbest: 0.8755807 (134)\ttotal: 3m 19s\tremaining: 21m 20s\n",
            "135:\ttest: 0.8757316\tbest: 0.8757316 (135)\ttotal: 3m 21s\tremaining: 21m 19s\n",
            "136:\ttest: 0.8757881\tbest: 0.8757881 (136)\ttotal: 3m 22s\tremaining: 21m 17s\n",
            "137:\ttest: 0.8758529\tbest: 0.8758529 (137)\ttotal: 3m 24s\tremaining: 21m 15s\n",
            "138:\ttest: 0.8759793\tbest: 0.8759793 (138)\ttotal: 3m 25s\tremaining: 21m 14s\n",
            "139:\ttest: 0.8760529\tbest: 0.8760529 (139)\ttotal: 3m 27s\tremaining: 21m 12s\n",
            "140:\ttest: 0.8761324\tbest: 0.8761324 (140)\ttotal: 3m 28s\tremaining: 21m 10s\n",
            "141:\ttest: 0.8762578\tbest: 0.8762578 (141)\ttotal: 3m 30s\tremaining: 21m 8s\n",
            "142:\ttest: 0.8762952\tbest: 0.8762952 (142)\ttotal: 3m 31s\tremaining: 21m 7s\n",
            "143:\ttest: 0.8763776\tbest: 0.8763776 (143)\ttotal: 3m 32s\tremaining: 21m 6s\n",
            "144:\ttest: 0.8764929\tbest: 0.8764929 (144)\ttotal: 3m 34s\tremaining: 21m 4s\n",
            "145:\ttest: 0.8765329\tbest: 0.8765329 (145)\ttotal: 3m 35s\tremaining: 21m 2s\n",
            "146:\ttest: 0.8766293\tbest: 0.8766293 (146)\ttotal: 3m 37s\tremaining: 21m\n",
            "147:\ttest: 0.8766940\tbest: 0.8766940 (147)\ttotal: 3m 38s\tremaining: 20m 59s\n",
            "148:\ttest: 0.8768674\tbest: 0.8768674 (148)\ttotal: 3m 40s\tremaining: 20m 58s\n",
            "149:\ttest: 0.8769796\tbest: 0.8769796 (149)\ttotal: 3m 41s\tremaining: 20m 56s\n",
            "150:\ttest: 0.8770101\tbest: 0.8770101 (150)\ttotal: 3m 43s\tremaining: 20m 54s\n",
            "151:\ttest: 0.8770991\tbest: 0.8770991 (151)\ttotal: 3m 44s\tremaining: 20m 53s\n",
            "152:\ttest: 0.8772081\tbest: 0.8772081 (152)\ttotal: 3m 46s\tremaining: 20m 51s\n",
            "153:\ttest: 0.8773031\tbest: 0.8773031 (153)\ttotal: 3m 47s\tremaining: 20m 49s\n",
            "154:\ttest: 0.8774140\tbest: 0.8774140 (154)\ttotal: 3m 48s\tremaining: 20m 48s\n",
            "155:\ttest: 0.8774363\tbest: 0.8774363 (155)\ttotal: 3m 50s\tremaining: 20m 46s\n",
            "156:\ttest: 0.8775126\tbest: 0.8775126 (156)\ttotal: 3m 51s\tremaining: 20m 44s\n",
            "157:\ttest: 0.8775323\tbest: 0.8775323 (157)\ttotal: 3m 53s\tremaining: 20m 43s\n",
            "158:\ttest: 0.8777853\tbest: 0.8777853 (158)\ttotal: 3m 54s\tremaining: 20m 41s\n",
            "159:\ttest: 0.8778674\tbest: 0.8778674 (159)\ttotal: 3m 56s\tremaining: 20m 39s\n",
            "160:\ttest: 0.8778914\tbest: 0.8778914 (160)\ttotal: 3m 57s\tremaining: 20m 38s\n",
            "161:\ttest: 0.8779173\tbest: 0.8779173 (161)\ttotal: 3m 58s\tremaining: 20m 36s\n",
            "162:\ttest: 0.8780168\tbest: 0.8780168 (162)\ttotal: 4m\tremaining: 20m 34s\n",
            "163:\ttest: 0.8781221\tbest: 0.8781221 (163)\ttotal: 4m 1s\tremaining: 20m 32s\n",
            "164:\ttest: 0.8782727\tbest: 0.8782727 (164)\ttotal: 4m 3s\tremaining: 20m 31s\n",
            "165:\ttest: 0.8783458\tbest: 0.8783458 (165)\ttotal: 4m 4s\tremaining: 20m 29s\n",
            "166:\ttest: 0.8783784\tbest: 0.8783784 (166)\ttotal: 4m 6s\tremaining: 20m 27s\n",
            "167:\ttest: 0.8785227\tbest: 0.8785227 (167)\ttotal: 4m 7s\tremaining: 20m 25s\n",
            "168:\ttest: 0.8785883\tbest: 0.8785883 (168)\ttotal: 4m 8s\tremaining: 20m 24s\n",
            "169:\ttest: 0.8786501\tbest: 0.8786501 (169)\ttotal: 4m 10s\tremaining: 20m 23s\n",
            "170:\ttest: 0.8786825\tbest: 0.8786825 (170)\ttotal: 4m 11s\tremaining: 20m 21s\n",
            "171:\ttest: 0.8787310\tbest: 0.8787310 (171)\ttotal: 4m 13s\tremaining: 20m 19s\n",
            "172:\ttest: 0.8788637\tbest: 0.8788637 (172)\ttotal: 4m 14s\tremaining: 20m 18s\n",
            "173:\ttest: 0.8789411\tbest: 0.8789411 (173)\ttotal: 4m 16s\tremaining: 20m 16s\n",
            "174:\ttest: 0.8790307\tbest: 0.8790307 (174)\ttotal: 4m 17s\tremaining: 20m 15s\n",
            "175:\ttest: 0.8791141\tbest: 0.8791141 (175)\ttotal: 4m 19s\tremaining: 20m 13s\n",
            "176:\ttest: 0.8791808\tbest: 0.8791808 (176)\ttotal: 4m 20s\tremaining: 20m 11s\n",
            "177:\ttest: 0.8792868\tbest: 0.8792868 (177)\ttotal: 4m 22s\tremaining: 20m 10s\n",
            "178:\ttest: 0.8793502\tbest: 0.8793502 (178)\ttotal: 4m 23s\tremaining: 20m 8s\n",
            "179:\ttest: 0.8794117\tbest: 0.8794117 (179)\ttotal: 4m 24s\tremaining: 20m 6s\n",
            "180:\ttest: 0.8794437\tbest: 0.8794437 (180)\ttotal: 4m 26s\tremaining: 20m 4s\n",
            "181:\ttest: 0.8794728\tbest: 0.8794728 (181)\ttotal: 4m 27s\tremaining: 20m 3s\n",
            "182:\ttest: 0.8794577\tbest: 0.8794728 (181)\ttotal: 4m 29s\tremaining: 20m 1s\n",
            "183:\ttest: 0.8795300\tbest: 0.8795300 (183)\ttotal: 4m 30s\tremaining: 19m 59s\n",
            "184:\ttest: 0.8796360\tbest: 0.8796360 (184)\ttotal: 4m 31s\tremaining: 19m 57s\n",
            "185:\ttest: 0.8797260\tbest: 0.8797260 (185)\ttotal: 4m 33s\tremaining: 19m 55s\n",
            "186:\ttest: 0.8797755\tbest: 0.8797755 (186)\ttotal: 4m 34s\tremaining: 19m 54s\n",
            "187:\ttest: 0.8798415\tbest: 0.8798415 (187)\ttotal: 4m 36s\tremaining: 19m 52s\n",
            "188:\ttest: 0.8798650\tbest: 0.8798650 (188)\ttotal: 4m 37s\tremaining: 19m 51s\n",
            "189:\ttest: 0.8798552\tbest: 0.8798650 (188)\ttotal: 4m 38s\tremaining: 19m 49s\n",
            "190:\ttest: 0.8798459\tbest: 0.8798650 (188)\ttotal: 4m 40s\tremaining: 19m 47s\n",
            "191:\ttest: 0.8798741\tbest: 0.8798741 (191)\ttotal: 4m 41s\tremaining: 19m 45s\n",
            "192:\ttest: 0.8799403\tbest: 0.8799403 (192)\ttotal: 4m 43s\tremaining: 19m 44s\n",
            "193:\ttest: 0.8799556\tbest: 0.8799556 (193)\ttotal: 4m 44s\tremaining: 19m 42s\n",
            "194:\ttest: 0.8800006\tbest: 0.8800006 (194)\ttotal: 4m 45s\tremaining: 19m 40s\n",
            "195:\ttest: 0.8801048\tbest: 0.8801048 (195)\ttotal: 4m 47s\tremaining: 19m 38s\n",
            "196:\ttest: 0.8801112\tbest: 0.8801112 (196)\ttotal: 4m 48s\tremaining: 19m 36s\n",
            "197:\ttest: 0.8801485\tbest: 0.8801485 (197)\ttotal: 4m 50s\tremaining: 19m 35s\n",
            "198:\ttest: 0.8802174\tbest: 0.8802174 (198)\ttotal: 4m 51s\tremaining: 19m 33s\n",
            "199:\ttest: 0.8802378\tbest: 0.8802378 (199)\ttotal: 4m 52s\tremaining: 19m 31s\n",
            "200:\ttest: 0.8802860\tbest: 0.8802860 (200)\ttotal: 4m 54s\tremaining: 19m 30s\n",
            "201:\ttest: 0.8803041\tbest: 0.8803041 (201)\ttotal: 4m 55s\tremaining: 19m 28s\n",
            "202:\ttest: 0.8803083\tbest: 0.8803083 (202)\ttotal: 4m 57s\tremaining: 19m 27s\n",
            "203:\ttest: 0.8804442\tbest: 0.8804442 (203)\ttotal: 4m 58s\tremaining: 19m 25s\n",
            "204:\ttest: 0.8804419\tbest: 0.8804442 (203)\ttotal: 5m\tremaining: 19m 23s\n",
            "205:\ttest: 0.8804891\tbest: 0.8804891 (205)\ttotal: 5m 1s\tremaining: 19m 22s\n",
            "206:\ttest: 0.8805608\tbest: 0.8805608 (206)\ttotal: 5m 2s\tremaining: 19m 20s\n",
            "207:\ttest: 0.8805699\tbest: 0.8805699 (207)\ttotal: 5m 4s\tremaining: 19m 18s\n",
            "208:\ttest: 0.8806537\tbest: 0.8806537 (208)\ttotal: 5m 5s\tremaining: 19m 17s\n",
            "209:\ttest: 0.8806950\tbest: 0.8806950 (209)\ttotal: 5m 7s\tremaining: 19m 15s\n",
            "210:\ttest: 0.8807059\tbest: 0.8807059 (210)\ttotal: 5m 8s\tremaining: 19m 14s\n",
            "211:\ttest: 0.8807987\tbest: 0.8807987 (211)\ttotal: 5m 10s\tremaining: 19m 12s\n",
            "212:\ttest: 0.8808605\tbest: 0.8808605 (212)\ttotal: 5m 11s\tremaining: 19m 10s\n",
            "213:\ttest: 0.8808439\tbest: 0.8808605 (212)\ttotal: 5m 12s\tremaining: 19m 9s\n",
            "214:\ttest: 0.8808533\tbest: 0.8808605 (212)\ttotal: 5m 14s\tremaining: 19m 7s\n",
            "215:\ttest: 0.8809202\tbest: 0.8809202 (215)\ttotal: 5m 15s\tremaining: 19m 5s\n",
            "216:\ttest: 0.8809606\tbest: 0.8809606 (216)\ttotal: 5m 17s\tremaining: 19m 4s\n",
            "217:\ttest: 0.8810023\tbest: 0.8810023 (217)\ttotal: 5m 18s\tremaining: 19m 2s\n",
            "218:\ttest: 0.8810787\tbest: 0.8810787 (218)\ttotal: 5m 19s\tremaining: 19m 1s\n",
            "219:\ttest: 0.8811220\tbest: 0.8811220 (219)\ttotal: 5m 21s\tremaining: 18m 59s\n",
            "220:\ttest: 0.8811352\tbest: 0.8811352 (220)\ttotal: 5m 22s\tremaining: 18m 57s\n",
            "221:\ttest: 0.8811398\tbest: 0.8811398 (221)\ttotal: 5m 24s\tremaining: 18m 55s\n",
            "222:\ttest: 0.8811337\tbest: 0.8811398 (221)\ttotal: 5m 25s\tremaining: 18m 54s\n",
            "223:\ttest: 0.8811633\tbest: 0.8811633 (223)\ttotal: 5m 26s\tremaining: 18m 52s\n",
            "224:\ttest: 0.8811596\tbest: 0.8811633 (223)\ttotal: 5m 28s\tremaining: 18m 50s\n",
            "225:\ttest: 0.8811832\tbest: 0.8811832 (225)\ttotal: 5m 29s\tremaining: 18m 48s\n",
            "226:\ttest: 0.8812534\tbest: 0.8812534 (226)\ttotal: 5m 31s\tremaining: 18m 47s\n",
            "227:\ttest: 0.8812546\tbest: 0.8812546 (227)\ttotal: 5m 32s\tremaining: 18m 45s\n",
            "228:\ttest: 0.8812885\tbest: 0.8812885 (228)\ttotal: 5m 33s\tremaining: 18m 44s\n",
            "229:\ttest: 0.8813104\tbest: 0.8813104 (229)\ttotal: 5m 35s\tremaining: 18m 42s\n",
            "230:\ttest: 0.8813658\tbest: 0.8813658 (230)\ttotal: 5m 36s\tremaining: 18m 41s\n",
            "231:\ttest: 0.8814457\tbest: 0.8814457 (231)\ttotal: 5m 38s\tremaining: 18m 39s\n",
            "232:\ttest: 0.8814632\tbest: 0.8814632 (232)\ttotal: 5m 39s\tremaining: 18m 38s\n",
            "233:\ttest: 0.8814741\tbest: 0.8814741 (233)\ttotal: 5m 41s\tremaining: 18m 36s\n",
            "234:\ttest: 0.8814708\tbest: 0.8814741 (233)\ttotal: 5m 42s\tremaining: 18m 34s\n",
            "235:\ttest: 0.8814872\tbest: 0.8814872 (235)\ttotal: 5m 43s\tremaining: 18m 33s\n",
            "236:\ttest: 0.8815353\tbest: 0.8815353 (236)\ttotal: 5m 45s\tremaining: 18m 31s\n",
            "237:\ttest: 0.8815550\tbest: 0.8815550 (237)\ttotal: 5m 46s\tremaining: 18m 29s\n",
            "238:\ttest: 0.8815732\tbest: 0.8815732 (238)\ttotal: 5m 48s\tremaining: 18m 28s\n",
            "239:\ttest: 0.8816189\tbest: 0.8816189 (239)\ttotal: 5m 49s\tremaining: 18m 26s\n",
            "240:\ttest: 0.8816153\tbest: 0.8816189 (239)\ttotal: 5m 50s\tremaining: 18m 24s\n",
            "241:\ttest: 0.8816542\tbest: 0.8816542 (241)\ttotal: 5m 52s\tremaining: 18m 23s\n",
            "242:\ttest: 0.8817040\tbest: 0.8817040 (242)\ttotal: 5m 53s\tremaining: 18m 21s\n",
            "243:\ttest: 0.8817416\tbest: 0.8817416 (243)\ttotal: 5m 55s\tremaining: 18m 20s\n",
            "244:\ttest: 0.8817519\tbest: 0.8817519 (244)\ttotal: 5m 56s\tremaining: 18m 18s\n",
            "245:\ttest: 0.8817850\tbest: 0.8817850 (245)\ttotal: 5m 57s\tremaining: 18m 16s\n",
            "246:\ttest: 0.8818220\tbest: 0.8818220 (246)\ttotal: 5m 59s\tremaining: 18m 15s\n",
            "247:\ttest: 0.8818282\tbest: 0.8818282 (247)\ttotal: 6m\tremaining: 18m 13s\n",
            "248:\ttest: 0.8818272\tbest: 0.8818282 (247)\ttotal: 6m 1s\tremaining: 18m 11s\n",
            "249:\ttest: 0.8818313\tbest: 0.8818313 (249)\ttotal: 6m 3s\tremaining: 18m 10s\n",
            "250:\ttest: 0.8818360\tbest: 0.8818360 (250)\ttotal: 6m 4s\tremaining: 18m 8s\n",
            "251:\ttest: 0.8819310\tbest: 0.8819310 (251)\ttotal: 6m 6s\tremaining: 18m 6s\n",
            "252:\ttest: 0.8819462\tbest: 0.8819462 (252)\ttotal: 6m 7s\tremaining: 18m 5s\n",
            "253:\ttest: 0.8819690\tbest: 0.8819690 (253)\ttotal: 6m 8s\tremaining: 18m 3s\n",
            "254:\ttest: 0.8819740\tbest: 0.8819740 (254)\ttotal: 6m 10s\tremaining: 18m 1s\n",
            "255:\ttest: 0.8820096\tbest: 0.8820096 (255)\ttotal: 6m 11s\tremaining: 18m\n",
            "256:\ttest: 0.8820086\tbest: 0.8820096 (255)\ttotal: 6m 13s\tremaining: 17m 58s\n",
            "257:\ttest: 0.8820084\tbest: 0.8820096 (255)\ttotal: 6m 14s\tremaining: 17m 56s\n",
            "258:\ttest: 0.8820433\tbest: 0.8820433 (258)\ttotal: 6m 15s\tremaining: 17m 55s\n",
            "259:\ttest: 0.8820951\tbest: 0.8820951 (259)\ttotal: 6m 17s\tremaining: 17m 53s\n",
            "260:\ttest: 0.8821044\tbest: 0.8821044 (260)\ttotal: 6m 18s\tremaining: 17m 52s\n",
            "261:\ttest: 0.8820948\tbest: 0.8821044 (260)\ttotal: 6m 19s\tremaining: 17m 50s\n",
            "262:\ttest: 0.8820883\tbest: 0.8821044 (260)\ttotal: 6m 21s\tremaining: 17m 48s\n",
            "263:\ttest: 0.8822104\tbest: 0.8822104 (263)\ttotal: 6m 22s\tremaining: 17m 47s\n",
            "264:\ttest: 0.8822730\tbest: 0.8822730 (264)\ttotal: 6m 24s\tremaining: 17m 45s\n",
            "265:\ttest: 0.8822980\tbest: 0.8822980 (265)\ttotal: 6m 25s\tremaining: 17m 43s\n",
            "266:\ttest: 0.8822950\tbest: 0.8822980 (265)\ttotal: 6m 26s\tremaining: 17m 42s\n",
            "267:\ttest: 0.8824398\tbest: 0.8824398 (267)\ttotal: 6m 28s\tremaining: 17m 40s\n",
            "268:\ttest: 0.8824788\tbest: 0.8824788 (268)\ttotal: 6m 29s\tremaining: 17m 39s\n",
            "269:\ttest: 0.8825855\tbest: 0.8825855 (269)\ttotal: 6m 31s\tremaining: 17m 37s\n",
            "270:\ttest: 0.8825854\tbest: 0.8825855 (269)\ttotal: 6m 32s\tremaining: 17m 35s\n",
            "271:\ttest: 0.8826833\tbest: 0.8826833 (271)\ttotal: 6m 34s\tremaining: 17m 34s\n",
            "272:\ttest: 0.8826978\tbest: 0.8826978 (272)\ttotal: 6m 35s\tremaining: 17m 33s\n",
            "273:\ttest: 0.8826906\tbest: 0.8826978 (272)\ttotal: 6m 36s\tremaining: 17m 31s\n",
            "274:\ttest: 0.8826924\tbest: 0.8826978 (272)\ttotal: 6m 38s\tremaining: 17m 29s\n",
            "275:\ttest: 0.8827363\tbest: 0.8827363 (275)\ttotal: 6m 39s\tremaining: 17m 28s\n",
            "276:\ttest: 0.8827477\tbest: 0.8827477 (276)\ttotal: 6m 40s\tremaining: 17m 26s\n",
            "277:\ttest: 0.8827825\tbest: 0.8827825 (277)\ttotal: 6m 42s\tremaining: 17m 24s\n",
            "278:\ttest: 0.8828018\tbest: 0.8828018 (278)\ttotal: 6m 43s\tremaining: 17m 23s\n",
            "279:\ttest: 0.8828432\tbest: 0.8828432 (279)\ttotal: 6m 45s\tremaining: 17m 21s\n",
            "280:\ttest: 0.8828620\tbest: 0.8828620 (280)\ttotal: 6m 46s\tremaining: 17m 20s\n",
            "281:\ttest: 0.8828444\tbest: 0.8828620 (280)\ttotal: 6m 48s\tremaining: 17m 18s\n",
            "282:\ttest: 0.8828635\tbest: 0.8828635 (282)\ttotal: 6m 49s\tremaining: 17m 17s\n",
            "283:\ttest: 0.8828764\tbest: 0.8828764 (283)\ttotal: 6m 50s\tremaining: 17m 15s\n",
            "284:\ttest: 0.8829372\tbest: 0.8829372 (284)\ttotal: 6m 52s\tremaining: 17m 13s\n",
            "285:\ttest: 0.8829394\tbest: 0.8829394 (285)\ttotal: 6m 53s\tremaining: 17m 12s\n",
            "286:\ttest: 0.8829366\tbest: 0.8829394 (285)\ttotal: 6m 54s\tremaining: 17m 10s\n",
            "287:\ttest: 0.8829584\tbest: 0.8829584 (287)\ttotal: 6m 56s\tremaining: 17m 9s\n",
            "288:\ttest: 0.8829056\tbest: 0.8829584 (287)\ttotal: 6m 57s\tremaining: 17m 7s\n",
            "289:\ttest: 0.8829367\tbest: 0.8829584 (287)\ttotal: 6m 59s\tremaining: 17m 6s\n",
            "290:\ttest: 0.8829518\tbest: 0.8829584 (287)\ttotal: 7m\tremaining: 17m 4s\n",
            "291:\ttest: 0.8829918\tbest: 0.8829918 (291)\ttotal: 7m 1s\tremaining: 17m 2s\n",
            "292:\ttest: 0.8830239\tbest: 0.8830239 (292)\ttotal: 7m 3s\tremaining: 17m 1s\n",
            "293:\ttest: 0.8830590\tbest: 0.8830590 (293)\ttotal: 7m 4s\tremaining: 16m 59s\n",
            "294:\ttest: 0.8831209\tbest: 0.8831209 (294)\ttotal: 7m 6s\tremaining: 16m 58s\n",
            "295:\ttest: 0.8831672\tbest: 0.8831672 (295)\ttotal: 7m 7s\tremaining: 16m 56s\n",
            "296:\ttest: 0.8831500\tbest: 0.8831672 (295)\ttotal: 7m 8s\tremaining: 16m 54s\n",
            "297:\ttest: 0.8831983\tbest: 0.8831983 (297)\ttotal: 7m 10s\tremaining: 16m 53s\n",
            "298:\ttest: 0.8831962\tbest: 0.8831983 (297)\ttotal: 7m 11s\tremaining: 16m 51s\n",
            "299:\ttest: 0.8832253\tbest: 0.8832253 (299)\ttotal: 7m 12s\tremaining: 16m 50s\n",
            "300:\ttest: 0.8832862\tbest: 0.8832862 (300)\ttotal: 7m 14s\tremaining: 16m 48s\n",
            "301:\ttest: 0.8833111\tbest: 0.8833111 (301)\ttotal: 7m 15s\tremaining: 16m 47s\n",
            "302:\ttest: 0.8833209\tbest: 0.8833209 (302)\ttotal: 7m 17s\tremaining: 16m 45s\n",
            "303:\ttest: 0.8833029\tbest: 0.8833209 (302)\ttotal: 7m 18s\tremaining: 16m 44s\n",
            "304:\ttest: 0.8832986\tbest: 0.8833209 (302)\ttotal: 7m 19s\tremaining: 16m 42s\n",
            "305:\ttest: 0.8833528\tbest: 0.8833528 (305)\ttotal: 7m 21s\tremaining: 16m 40s\n",
            "306:\ttest: 0.8833417\tbest: 0.8833528 (305)\ttotal: 7m 22s\tremaining: 16m 39s\n",
            "307:\ttest: 0.8833434\tbest: 0.8833528 (305)\ttotal: 7m 24s\tremaining: 16m 37s\n",
            "308:\ttest: 0.8834297\tbest: 0.8834297 (308)\ttotal: 7m 25s\tremaining: 16m 36s\n",
            "309:\ttest: 0.8834746\tbest: 0.8834746 (309)\ttotal: 7m 27s\tremaining: 16m 35s\n",
            "310:\ttest: 0.8834782\tbest: 0.8834782 (310)\ttotal: 7m 28s\tremaining: 16m 33s\n",
            "311:\ttest: 0.8834733\tbest: 0.8834782 (310)\ttotal: 7m 29s\tremaining: 16m 31s\n",
            "312:\ttest: 0.8838455\tbest: 0.8838455 (312)\ttotal: 7m 31s\tremaining: 16m 30s\n",
            "313:\ttest: 0.8838445\tbest: 0.8838455 (312)\ttotal: 7m 32s\tremaining: 16m 28s\n",
            "314:\ttest: 0.8838362\tbest: 0.8838455 (312)\ttotal: 7m 34s\tremaining: 16m 27s\n",
            "315:\ttest: 0.8838515\tbest: 0.8838515 (315)\ttotal: 7m 35s\tremaining: 16m 25s\n",
            "316:\ttest: 0.8838588\tbest: 0.8838588 (316)\ttotal: 7m 36s\tremaining: 16m 24s\n",
            "317:\ttest: 0.8838934\tbest: 0.8838934 (317)\ttotal: 7m 38s\tremaining: 16m 22s\n",
            "318:\ttest: 0.8838978\tbest: 0.8838978 (318)\ttotal: 7m 39s\tremaining: 16m 21s\n",
            "319:\ttest: 0.8839057\tbest: 0.8839057 (319)\ttotal: 7m 41s\tremaining: 16m 19s\n",
            "320:\ttest: 0.8839049\tbest: 0.8839057 (319)\ttotal: 7m 42s\tremaining: 16m 18s\n",
            "321:\ttest: 0.8839426\tbest: 0.8839426 (321)\ttotal: 7m 43s\tremaining: 16m 16s\n",
            "322:\ttest: 0.8839478\tbest: 0.8839478 (322)\ttotal: 7m 45s\tremaining: 16m 14s\n",
            "323:\ttest: 0.8839486\tbest: 0.8839486 (323)\ttotal: 7m 46s\tremaining: 16m 13s\n",
            "324:\ttest: 0.8839703\tbest: 0.8839703 (324)\ttotal: 7m 47s\tremaining: 16m 11s\n",
            "325:\ttest: 0.8839691\tbest: 0.8839703 (324)\ttotal: 7m 49s\tremaining: 16m 10s\n",
            "326:\ttest: 0.8839679\tbest: 0.8839703 (324)\ttotal: 7m 50s\tremaining: 16m 8s\n",
            "327:\ttest: 0.8839718\tbest: 0.8839718 (327)\ttotal: 7m 52s\tremaining: 16m 7s\n",
            "328:\ttest: 0.8839652\tbest: 0.8839718 (327)\ttotal: 7m 53s\tremaining: 16m 5s\n",
            "329:\ttest: 0.8839765\tbest: 0.8839765 (329)\ttotal: 7m 54s\tremaining: 16m 3s\n",
            "330:\ttest: 0.8839971\tbest: 0.8839971 (330)\ttotal: 7m 56s\tremaining: 16m 2s\n",
            "331:\ttest: 0.8839928\tbest: 0.8839971 (330)\ttotal: 7m 57s\tremaining: 16m\n",
            "332:\ttest: 0.8839764\tbest: 0.8839971 (330)\ttotal: 7m 58s\tremaining: 15m 59s\n",
            "333:\ttest: 0.8839746\tbest: 0.8839971 (330)\ttotal: 8m\tremaining: 15m 57s\n",
            "334:\ttest: 0.8839734\tbest: 0.8839971 (330)\ttotal: 8m 1s\tremaining: 15m 56s\n",
            "335:\ttest: 0.8839672\tbest: 0.8839971 (330)\ttotal: 8m 3s\tremaining: 15m 54s\n",
            "336:\ttest: 0.8839569\tbest: 0.8839971 (330)\ttotal: 8m 4s\tremaining: 15m 53s\n",
            "337:\ttest: 0.8839719\tbest: 0.8839971 (330)\ttotal: 8m 5s\tremaining: 15m 51s\n",
            "338:\ttest: 0.8839765\tbest: 0.8839971 (330)\ttotal: 8m 7s\tremaining: 15m 50s\n",
            "339:\ttest: 0.8839858\tbest: 0.8839971 (330)\ttotal: 8m 8s\tremaining: 15m 48s\n",
            "340:\ttest: 0.8840294\tbest: 0.8840294 (340)\ttotal: 8m 10s\tremaining: 15m 47s\n",
            "341:\ttest: 0.8840559\tbest: 0.8840559 (341)\ttotal: 8m 11s\tremaining: 15m 45s\n",
            "342:\ttest: 0.8840620\tbest: 0.8840620 (342)\ttotal: 8m 12s\tremaining: 15m 44s\n",
            "343:\ttest: 0.8840713\tbest: 0.8840713 (343)\ttotal: 8m 14s\tremaining: 15m 42s\n",
            "344:\ttest: 0.8840741\tbest: 0.8840741 (344)\ttotal: 8m 15s\tremaining: 15m 40s\n",
            "345:\ttest: 0.8840798\tbest: 0.8840798 (345)\ttotal: 8m 16s\tremaining: 15m 39s\n",
            "346:\ttest: 0.8840935\tbest: 0.8840935 (346)\ttotal: 8m 18s\tremaining: 15m 38s\n",
            "347:\ttest: 0.8840975\tbest: 0.8840975 (347)\ttotal: 8m 19s\tremaining: 15m 36s\n",
            "348:\ttest: 0.8840958\tbest: 0.8840975 (347)\ttotal: 8m 21s\tremaining: 15m 34s\n",
            "349:\ttest: 0.8840875\tbest: 0.8840975 (347)\ttotal: 8m 22s\tremaining: 15m 33s\n",
            "350:\ttest: 0.8840716\tbest: 0.8840975 (347)\ttotal: 8m 24s\tremaining: 15m 32s\n",
            "351:\ttest: 0.8841023\tbest: 0.8841023 (351)\ttotal: 8m 25s\tremaining: 15m 30s\n",
            "352:\ttest: 0.8841165\tbest: 0.8841165 (352)\ttotal: 8m 26s\tremaining: 15m 29s\n",
            "353:\ttest: 0.8841099\tbest: 0.8841165 (352)\ttotal: 8m 28s\tremaining: 15m 27s\n",
            "354:\ttest: 0.8841041\tbest: 0.8841165 (352)\ttotal: 8m 29s\tremaining: 15m 26s\n",
            "355:\ttest: 0.8841544\tbest: 0.8841544 (355)\ttotal: 8m 31s\tremaining: 15m 24s\n",
            "356:\ttest: 0.8841467\tbest: 0.8841544 (355)\ttotal: 8m 32s\tremaining: 15m 23s\n",
            "357:\ttest: 0.8841698\tbest: 0.8841698 (357)\ttotal: 8m 34s\tremaining: 15m 21s\n",
            "358:\ttest: 0.8841862\tbest: 0.8841862 (358)\ttotal: 8m 35s\tremaining: 15m 20s\n",
            "359:\ttest: 0.8841734\tbest: 0.8841862 (358)\ttotal: 8m 36s\tremaining: 15m 18s\n",
            "360:\ttest: 0.8841944\tbest: 0.8841944 (360)\ttotal: 8m 38s\tremaining: 15m 17s\n",
            "361:\ttest: 0.8841990\tbest: 0.8841990 (361)\ttotal: 8m 39s\tremaining: 15m 15s\n",
            "362:\ttest: 0.8844255\tbest: 0.8844255 (362)\ttotal: 8m 41s\tremaining: 15m 14s\n",
            "363:\ttest: 0.8844151\tbest: 0.8844255 (362)\ttotal: 8m 42s\tremaining: 15m 13s\n",
            "364:\ttest: 0.8844653\tbest: 0.8844653 (364)\ttotal: 8m 44s\tremaining: 15m 11s\n",
            "365:\ttest: 0.8844869\tbest: 0.8844869 (365)\ttotal: 8m 45s\tremaining: 15m 10s\n",
            "366:\ttest: 0.8845069\tbest: 0.8845069 (366)\ttotal: 8m 46s\tremaining: 15m 8s\n",
            "367:\ttest: 0.8845139\tbest: 0.8845139 (367)\ttotal: 8m 48s\tremaining: 15m 7s\n",
            "368:\ttest: 0.8845464\tbest: 0.8845464 (368)\ttotal: 8m 49s\tremaining: 15m 5s\n",
            "369:\ttest: 0.8845528\tbest: 0.8845528 (369)\ttotal: 8m 51s\tremaining: 15m 4s\n",
            "370:\ttest: 0.8845476\tbest: 0.8845528 (369)\ttotal: 8m 52s\tremaining: 15m 2s\n",
            "371:\ttest: 0.8845733\tbest: 0.8845733 (371)\ttotal: 8m 53s\tremaining: 15m 1s\n",
            "372:\ttest: 0.8845844\tbest: 0.8845844 (372)\ttotal: 8m 55s\tremaining: 14m 59s\n",
            "373:\ttest: 0.8846086\tbest: 0.8846086 (373)\ttotal: 8m 56s\tremaining: 14m 58s\n",
            "374:\ttest: 0.8846349\tbest: 0.8846349 (374)\ttotal: 8m 58s\tremaining: 14m 57s\n",
            "375:\ttest: 0.8846330\tbest: 0.8846349 (374)\ttotal: 8m 59s\tremaining: 14m 55s\n",
            "376:\ttest: 0.8846637\tbest: 0.8846637 (376)\ttotal: 9m\tremaining: 14m 53s\n",
            "377:\ttest: 0.8846608\tbest: 0.8846637 (376)\ttotal: 9m 2s\tremaining: 14m 52s\n",
            "378:\ttest: 0.8846629\tbest: 0.8846637 (376)\ttotal: 9m 3s\tremaining: 14m 50s\n",
            "379:\ttest: 0.8846630\tbest: 0.8846637 (376)\ttotal: 9m 5s\tremaining: 14m 49s\n",
            "380:\ttest: 0.8846632\tbest: 0.8846637 (376)\ttotal: 9m 6s\tremaining: 14m 47s\n",
            "381:\ttest: 0.8846614\tbest: 0.8846637 (376)\ttotal: 9m 7s\tremaining: 14m 46s\n",
            "382:\ttest: 0.8846660\tbest: 0.8846660 (382)\ttotal: 9m 9s\tremaining: 14m 44s\n",
            "383:\ttest: 0.8846739\tbest: 0.8846739 (383)\ttotal: 9m 10s\tremaining: 14m 43s\n",
            "384:\ttest: 0.8846692\tbest: 0.8846739 (383)\ttotal: 9m 11s\tremaining: 14m 41s\n",
            "385:\ttest: 0.8847259\tbest: 0.8847259 (385)\ttotal: 9m 13s\tremaining: 14m 40s\n",
            "386:\ttest: 0.8847155\tbest: 0.8847259 (385)\ttotal: 9m 14s\tremaining: 14m 38s\n",
            "387:\ttest: 0.8847160\tbest: 0.8847259 (385)\ttotal: 9m 16s\tremaining: 14m 37s\n",
            "388:\ttest: 0.8847186\tbest: 0.8847259 (385)\ttotal: 9m 17s\tremaining: 14m 35s\n",
            "389:\ttest: 0.8847160\tbest: 0.8847259 (385)\ttotal: 9m 19s\tremaining: 14m 34s\n",
            "390:\ttest: 0.8847140\tbest: 0.8847259 (385)\ttotal: 9m 20s\tremaining: 14m 32s\n",
            "391:\ttest: 0.8847138\tbest: 0.8847259 (385)\ttotal: 9m 21s\tremaining: 14m 31s\n",
            "392:\ttest: 0.8847306\tbest: 0.8847306 (392)\ttotal: 9m 23s\tremaining: 14m 29s\n",
            "393:\ttest: 0.8847309\tbest: 0.8847309 (393)\ttotal: 9m 24s\tremaining: 14m 28s\n",
            "394:\ttest: 0.8847979\tbest: 0.8847979 (394)\ttotal: 9m 25s\tremaining: 14m 26s\n",
            "395:\ttest: 0.8848515\tbest: 0.8848515 (395)\ttotal: 9m 27s\tremaining: 14m 25s\n",
            "396:\ttest: 0.8848516\tbest: 0.8848516 (396)\ttotal: 9m 28s\tremaining: 14m 23s\n",
            "397:\ttest: 0.8849061\tbest: 0.8849061 (397)\ttotal: 9m 30s\tremaining: 14m 22s\n",
            "398:\ttest: 0.8849027\tbest: 0.8849061 (397)\ttotal: 9m 31s\tremaining: 14m 20s\n",
            "399:\ttest: 0.8849990\tbest: 0.8849990 (399)\ttotal: 9m 32s\tremaining: 14m 19s\n",
            "400:\ttest: 0.8850009\tbest: 0.8850009 (400)\ttotal: 9m 34s\tremaining: 14m 17s\n",
            "401:\ttest: 0.8850003\tbest: 0.8850009 (400)\ttotal: 9m 35s\tremaining: 14m 16s\n",
            "402:\ttest: 0.8850013\tbest: 0.8850013 (402)\ttotal: 9m 37s\tremaining: 14m 14s\n",
            "403:\ttest: 0.8850005\tbest: 0.8850013 (402)\ttotal: 9m 38s\tremaining: 14m 13s\n",
            "404:\ttest: 0.8849987\tbest: 0.8850013 (402)\ttotal: 9m 39s\tremaining: 14m 11s\n",
            "405:\ttest: 0.8850220\tbest: 0.8850220 (405)\ttotal: 9m 41s\tremaining: 14m 10s\n",
            "406:\ttest: 0.8850164\tbest: 0.8850220 (405)\ttotal: 9m 42s\tremaining: 14m 8s\n",
            "407:\ttest: 0.8850117\tbest: 0.8850220 (405)\ttotal: 9m 43s\tremaining: 14m 7s\n",
            "408:\ttest: 0.8850100\tbest: 0.8850220 (405)\ttotal: 9m 45s\tremaining: 14m 5s\n",
            "409:\ttest: 0.8850787\tbest: 0.8850787 (409)\ttotal: 9m 46s\tremaining: 14m 4s\n",
            "410:\ttest: 0.8851045\tbest: 0.8851045 (410)\ttotal: 9m 48s\tremaining: 14m 2s\n",
            "411:\ttest: 0.8851157\tbest: 0.8851157 (411)\ttotal: 9m 49s\tremaining: 14m 1s\n",
            "412:\ttest: 0.8851515\tbest: 0.8851515 (412)\ttotal: 9m 50s\tremaining: 13m 59s\n",
            "413:\ttest: 0.8851752\tbest: 0.8851752 (413)\ttotal: 9m 52s\tremaining: 13m 58s\n",
            "414:\ttest: 0.8852280\tbest: 0.8852280 (414)\ttotal: 9m 53s\tremaining: 13m 56s\n",
            "415:\ttest: 0.8852668\tbest: 0.8852668 (415)\ttotal: 9m 55s\tremaining: 13m 55s\n",
            "416:\ttest: 0.8852501\tbest: 0.8852668 (415)\ttotal: 9m 56s\tremaining: 13m 53s\n",
            "417:\ttest: 0.8852460\tbest: 0.8852668 (415)\ttotal: 9m 57s\tremaining: 13m 52s\n",
            "418:\ttest: 0.8852465\tbest: 0.8852668 (415)\ttotal: 9m 59s\tremaining: 13m 50s\n",
            "419:\ttest: 0.8852489\tbest: 0.8852668 (415)\ttotal: 10m\tremaining: 13m 49s\n",
            "420:\ttest: 0.8852767\tbest: 0.8852767 (420)\ttotal: 10m 1s\tremaining: 13m 47s\n",
            "421:\ttest: 0.8852879\tbest: 0.8852879 (421)\ttotal: 10m 3s\tremaining: 13m 46s\n",
            "422:\ttest: 0.8852873\tbest: 0.8852879 (421)\ttotal: 10m 4s\tremaining: 13m 44s\n",
            "423:\ttest: 0.8852933\tbest: 0.8852933 (423)\ttotal: 10m 6s\tremaining: 13m 43s\n",
            "424:\ttest: 0.8853109\tbest: 0.8853109 (424)\ttotal: 10m 7s\tremaining: 13m 41s\n",
            "425:\ttest: 0.8853354\tbest: 0.8853354 (425)\ttotal: 10m 8s\tremaining: 13m 40s\n",
            "426:\ttest: 0.8853372\tbest: 0.8853372 (426)\ttotal: 10m 10s\tremaining: 13m 38s\n",
            "427:\ttest: 0.8853446\tbest: 0.8853446 (427)\ttotal: 10m 11s\tremaining: 13m 37s\n",
            "428:\ttest: 0.8853761\tbest: 0.8853761 (428)\ttotal: 10m 12s\tremaining: 13m 35s\n",
            "429:\ttest: 0.8853807\tbest: 0.8853807 (429)\ttotal: 10m 14s\tremaining: 13m 34s\n",
            "430:\ttest: 0.8853762\tbest: 0.8853807 (429)\ttotal: 10m 15s\tremaining: 13m 32s\n",
            "431:\ttest: 0.8853756\tbest: 0.8853807 (429)\ttotal: 10m 17s\tremaining: 13m 31s\n",
            "432:\ttest: 0.8853639\tbest: 0.8853807 (429)\ttotal: 10m 18s\tremaining: 13m 29s\n",
            "433:\ttest: 0.8854128\tbest: 0.8854128 (433)\ttotal: 10m 19s\tremaining: 13m 28s\n",
            "434:\ttest: 0.8854142\tbest: 0.8854142 (434)\ttotal: 10m 21s\tremaining: 13m 27s\n",
            "435:\ttest: 0.8854139\tbest: 0.8854142 (434)\ttotal: 10m 22s\tremaining: 13m 25s\n",
            "436:\ttest: 0.8854218\tbest: 0.8854218 (436)\ttotal: 10m 24s\tremaining: 13m 24s\n",
            "437:\ttest: 0.8854232\tbest: 0.8854232 (437)\ttotal: 10m 25s\tremaining: 13m 22s\n",
            "438:\ttest: 0.8854208\tbest: 0.8854232 (437)\ttotal: 10m 26s\tremaining: 13m 21s\n",
            "439:\ttest: 0.8854061\tbest: 0.8854232 (437)\ttotal: 10m 28s\tremaining: 13m 19s\n",
            "440:\ttest: 0.8854026\tbest: 0.8854232 (437)\ttotal: 10m 29s\tremaining: 13m 18s\n",
            "441:\ttest: 0.8854159\tbest: 0.8854232 (437)\ttotal: 10m 30s\tremaining: 13m 16s\n",
            "442:\ttest: 0.8854297\tbest: 0.8854297 (442)\ttotal: 10m 32s\tremaining: 13m 15s\n",
            "443:\ttest: 0.8855060\tbest: 0.8855060 (443)\ttotal: 10m 33s\tremaining: 13m 13s\n",
            "444:\ttest: 0.8855060\tbest: 0.8855060 (443)\ttotal: 10m 35s\tremaining: 13m 12s\n",
            "445:\ttest: 0.8856101\tbest: 0.8856101 (445)\ttotal: 10m 36s\tremaining: 13m 10s\n",
            "446:\ttest: 0.8856171\tbest: 0.8856171 (446)\ttotal: 10m 38s\tremaining: 13m 9s\n",
            "447:\ttest: 0.8856233\tbest: 0.8856233 (447)\ttotal: 10m 39s\tremaining: 13m 7s\n",
            "448:\ttest: 0.8856525\tbest: 0.8856525 (448)\ttotal: 10m 40s\tremaining: 13m 6s\n",
            "449:\ttest: 0.8856434\tbest: 0.8856525 (448)\ttotal: 10m 42s\tremaining: 13m 4s\n",
            "450:\ttest: 0.8856557\tbest: 0.8856557 (450)\ttotal: 10m 43s\tremaining: 13m 3s\n",
            "451:\ttest: 0.8856676\tbest: 0.8856676 (451)\ttotal: 10m 44s\tremaining: 13m 1s\n",
            "452:\ttest: 0.8856681\tbest: 0.8856681 (452)\ttotal: 10m 46s\tremaining: 13m\n",
            "453:\ttest: 0.8856940\tbest: 0.8856940 (453)\ttotal: 10m 47s\tremaining: 12m 58s\n",
            "454:\ttest: 0.8857869\tbest: 0.8857869 (454)\ttotal: 10m 49s\tremaining: 12m 57s\n",
            "455:\ttest: 0.8857985\tbest: 0.8857985 (455)\ttotal: 10m 50s\tremaining: 12m 56s\n",
            "456:\ttest: 0.8857921\tbest: 0.8857985 (455)\ttotal: 10m 51s\tremaining: 12m 54s\n",
            "457:\ttest: 0.8857918\tbest: 0.8857985 (455)\ttotal: 10m 53s\tremaining: 12m 53s\n",
            "458:\ttest: 0.8858196\tbest: 0.8858196 (458)\ttotal: 10m 54s\tremaining: 12m 51s\n",
            "459:\ttest: 0.8858179\tbest: 0.8858196 (458)\ttotal: 10m 56s\tremaining: 12m 50s\n",
            "460:\ttest: 0.8858183\tbest: 0.8858196 (458)\ttotal: 10m 57s\tremaining: 12m 48s\n",
            "461:\ttest: 0.8858256\tbest: 0.8858256 (461)\ttotal: 10m 58s\tremaining: 12m 47s\n",
            "462:\ttest: 0.8858543\tbest: 0.8858543 (462)\ttotal: 11m\tremaining: 12m 45s\n",
            "463:\ttest: 0.8858634\tbest: 0.8858634 (463)\ttotal: 11m 1s\tremaining: 12m 44s\n",
            "464:\ttest: 0.8859694\tbest: 0.8859694 (464)\ttotal: 11m 3s\tremaining: 12m 43s\n",
            "465:\ttest: 0.8860457\tbest: 0.8860457 (465)\ttotal: 11m 4s\tremaining: 12m 41s\n",
            "466:\ttest: 0.8860791\tbest: 0.8860791 (466)\ttotal: 11m 5s\tremaining: 12m 40s\n",
            "467:\ttest: 0.8860749\tbest: 0.8860791 (466)\ttotal: 11m 7s\tremaining: 12m 38s\n",
            "468:\ttest: 0.8860756\tbest: 0.8860791 (466)\ttotal: 11m 8s\tremaining: 12m 37s\n",
            "469:\ttest: 0.8860862\tbest: 0.8860862 (469)\ttotal: 11m 10s\tremaining: 12m 35s\n",
            "470:\ttest: 0.8860822\tbest: 0.8860862 (469)\ttotal: 11m 11s\tremaining: 12m 34s\n",
            "471:\ttest: 0.8860814\tbest: 0.8860862 (469)\ttotal: 11m 12s\tremaining: 12m 32s\n",
            "472:\ttest: 0.8860739\tbest: 0.8860862 (469)\ttotal: 11m 14s\tremaining: 12m 31s\n",
            "473:\ttest: 0.8860867\tbest: 0.8860867 (473)\ttotal: 11m 15s\tremaining: 12m 29s\n",
            "474:\ttest: 0.8861234\tbest: 0.8861234 (474)\ttotal: 11m 17s\tremaining: 12m 28s\n",
            "475:\ttest: 0.8861555\tbest: 0.8861555 (475)\ttotal: 11m 18s\tremaining: 12m 27s\n",
            "476:\ttest: 0.8861588\tbest: 0.8861588 (476)\ttotal: 11m 19s\tremaining: 12m 25s\n",
            "477:\ttest: 0.8862456\tbest: 0.8862456 (477)\ttotal: 11m 21s\tremaining: 12m 24s\n",
            "478:\ttest: 0.8862472\tbest: 0.8862472 (478)\ttotal: 11m 22s\tremaining: 12m 22s\n",
            "479:\ttest: 0.8862419\tbest: 0.8862472 (478)\ttotal: 11m 24s\tremaining: 12m 21s\n",
            "480:\ttest: 0.8862600\tbest: 0.8862600 (480)\ttotal: 11m 25s\tremaining: 12m 19s\n",
            "481:\ttest: 0.8862618\tbest: 0.8862618 (481)\ttotal: 11m 26s\tremaining: 12m 18s\n",
            "482:\ttest: 0.8862775\tbest: 0.8862775 (482)\ttotal: 11m 28s\tremaining: 12m 16s\n",
            "483:\ttest: 0.8862773\tbest: 0.8862775 (482)\ttotal: 11m 29s\tremaining: 12m 15s\n",
            "484:\ttest: 0.8864063\tbest: 0.8864063 (484)\ttotal: 11m 31s\tremaining: 12m 14s\n",
            "485:\ttest: 0.8864052\tbest: 0.8864063 (484)\ttotal: 11m 32s\tremaining: 12m 12s\n",
            "486:\ttest: 0.8864441\tbest: 0.8864441 (486)\ttotal: 11m 34s\tremaining: 12m 11s\n",
            "487:\ttest: 0.8864604\tbest: 0.8864604 (487)\ttotal: 11m 35s\tremaining: 12m 9s\n",
            "488:\ttest: 0.8864596\tbest: 0.8864604 (487)\ttotal: 11m 36s\tremaining: 12m 8s\n",
            "489:\ttest: 0.8864886\tbest: 0.8864886 (489)\ttotal: 11m 38s\tremaining: 12m 6s\n",
            "490:\ttest: 0.8864942\tbest: 0.8864942 (490)\ttotal: 11m 39s\tremaining: 12m 5s\n",
            "491:\ttest: 0.8864945\tbest: 0.8864945 (491)\ttotal: 11m 41s\tremaining: 12m 3s\n",
            "492:\ttest: 0.8865045\tbest: 0.8865045 (492)\ttotal: 11m 42s\tremaining: 12m 2s\n",
            "493:\ttest: 0.8865112\tbest: 0.8865112 (493)\ttotal: 11m 43s\tremaining: 12m\n",
            "494:\ttest: 0.8865017\tbest: 0.8865112 (493)\ttotal: 11m 45s\tremaining: 11m 59s\n",
            "495:\ttest: 0.8864976\tbest: 0.8865112 (493)\ttotal: 11m 46s\tremaining: 11m 58s\n",
            "496:\ttest: 0.8865071\tbest: 0.8865112 (493)\ttotal: 11m 48s\tremaining: 11m 56s\n",
            "497:\ttest: 0.8865159\tbest: 0.8865159 (497)\ttotal: 11m 49s\tremaining: 11m 55s\n",
            "498:\ttest: 0.8865164\tbest: 0.8865164 (498)\ttotal: 11m 51s\tremaining: 11m 53s\n",
            "499:\ttest: 0.8865397\tbest: 0.8865397 (499)\ttotal: 11m 52s\tremaining: 11m 52s\n",
            "500:\ttest: 0.8865383\tbest: 0.8865397 (499)\ttotal: 11m 53s\tremaining: 11m 50s\n",
            "501:\ttest: 0.8865763\tbest: 0.8865763 (501)\ttotal: 11m 55s\tremaining: 11m 49s\n",
            "502:\ttest: 0.8865895\tbest: 0.8865895 (502)\ttotal: 11m 56s\tremaining: 11m 48s\n",
            "503:\ttest: 0.8865945\tbest: 0.8865945 (503)\ttotal: 11m 58s\tremaining: 11m 46s\n",
            "504:\ttest: 0.8866031\tbest: 0.8866031 (504)\ttotal: 11m 59s\tremaining: 11m 45s\n",
            "505:\ttest: 0.8865945\tbest: 0.8866031 (504)\ttotal: 12m\tremaining: 11m 43s\n",
            "506:\ttest: 0.8865933\tbest: 0.8866031 (504)\ttotal: 12m 2s\tremaining: 11m 42s\n",
            "507:\ttest: 0.8865922\tbest: 0.8866031 (504)\ttotal: 12m 3s\tremaining: 11m 40s\n",
            "508:\ttest: 0.8866284\tbest: 0.8866284 (508)\ttotal: 12m 4s\tremaining: 11m 39s\n",
            "509:\ttest: 0.8866265\tbest: 0.8866284 (508)\ttotal: 12m 6s\tremaining: 11m 37s\n",
            "510:\ttest: 0.8866762\tbest: 0.8866762 (510)\ttotal: 12m 7s\tremaining: 11m 36s\n",
            "511:\ttest: 0.8866766\tbest: 0.8866766 (511)\ttotal: 12m 9s\tremaining: 11m 34s\n",
            "512:\ttest: 0.8866759\tbest: 0.8866766 (511)\ttotal: 12m 10s\tremaining: 11m 33s\n",
            "513:\ttest: 0.8866757\tbest: 0.8866766 (511)\ttotal: 12m 11s\tremaining: 11m 31s\n",
            "514:\ttest: 0.8866889\tbest: 0.8866889 (514)\ttotal: 12m 13s\tremaining: 11m 30s\n",
            "515:\ttest: 0.8866946\tbest: 0.8866946 (515)\ttotal: 12m 14s\tremaining: 11m 29s\n",
            "516:\ttest: 0.8867021\tbest: 0.8867021 (516)\ttotal: 12m 16s\tremaining: 11m 27s\n",
            "517:\ttest: 0.8866951\tbest: 0.8867021 (516)\ttotal: 12m 17s\tremaining: 11m 26s\n",
            "518:\ttest: 0.8867025\tbest: 0.8867025 (518)\ttotal: 12m 18s\tremaining: 11m 24s\n",
            "519:\ttest: 0.8866889\tbest: 0.8867025 (518)\ttotal: 12m 20s\tremaining: 11m 23s\n",
            "520:\ttest: 0.8867176\tbest: 0.8867176 (520)\ttotal: 12m 21s\tremaining: 11m 21s\n",
            "521:\ttest: 0.8867151\tbest: 0.8867176 (520)\ttotal: 12m 23s\tremaining: 11m 20s\n",
            "522:\ttest: 0.8867153\tbest: 0.8867176 (520)\ttotal: 12m 24s\tremaining: 11m 18s\n",
            "523:\ttest: 0.8867245\tbest: 0.8867245 (523)\ttotal: 12m 25s\tremaining: 11m 17s\n",
            "524:\ttest: 0.8867514\tbest: 0.8867514 (524)\ttotal: 12m 27s\tremaining: 11m 16s\n",
            "525:\ttest: 0.8867638\tbest: 0.8867638 (525)\ttotal: 12m 28s\tremaining: 11m 14s\n",
            "526:\ttest: 0.8867630\tbest: 0.8867638 (525)\ttotal: 12m 29s\tremaining: 11m 13s\n",
            "527:\ttest: 0.8867624\tbest: 0.8867638 (525)\ttotal: 12m 31s\tremaining: 11m 11s\n",
            "528:\ttest: 0.8867618\tbest: 0.8867638 (525)\ttotal: 12m 32s\tremaining: 11m 10s\n",
            "529:\ttest: 0.8867851\tbest: 0.8867851 (529)\ttotal: 12m 34s\tremaining: 11m 8s\n",
            "530:\ttest: 0.8867955\tbest: 0.8867955 (530)\ttotal: 12m 35s\tremaining: 11m 7s\n",
            "531:\ttest: 0.8867945\tbest: 0.8867955 (530)\ttotal: 12m 36s\tremaining: 11m 5s\n",
            "532:\ttest: 0.8867934\tbest: 0.8867955 (530)\ttotal: 12m 38s\tremaining: 11m 4s\n",
            "533:\ttest: 0.8867905\tbest: 0.8867955 (530)\ttotal: 12m 39s\tremaining: 11m 2s\n",
            "534:\ttest: 0.8867922\tbest: 0.8867955 (530)\ttotal: 12m 40s\tremaining: 11m 1s\n",
            "535:\ttest: 0.8868015\tbest: 0.8868015 (535)\ttotal: 12m 42s\tremaining: 10m 59s\n",
            "536:\ttest: 0.8868375\tbest: 0.8868375 (536)\ttotal: 12m 43s\tremaining: 10m 58s\n",
            "537:\ttest: 0.8868418\tbest: 0.8868418 (537)\ttotal: 12m 45s\tremaining: 10m 57s\n",
            "538:\ttest: 0.8868428\tbest: 0.8868428 (538)\ttotal: 12m 46s\tremaining: 10m 55s\n",
            "539:\ttest: 0.8868254\tbest: 0.8868428 (538)\ttotal: 12m 47s\tremaining: 10m 54s\n",
            "540:\ttest: 0.8868328\tbest: 0.8868428 (538)\ttotal: 12m 49s\tremaining: 10m 52s\n",
            "541:\ttest: 0.8868371\tbest: 0.8868428 (538)\ttotal: 12m 50s\tremaining: 10m 51s\n",
            "542:\ttest: 0.8868345\tbest: 0.8868428 (538)\ttotal: 12m 52s\tremaining: 10m 49s\n",
            "543:\ttest: 0.8868323\tbest: 0.8868428 (538)\ttotal: 12m 53s\tremaining: 10m 48s\n",
            "544:\ttest: 0.8868320\tbest: 0.8868428 (538)\ttotal: 12m 54s\tremaining: 10m 46s\n",
            "545:\ttest: 0.8868679\tbest: 0.8868679 (545)\ttotal: 12m 56s\tremaining: 10m 45s\n",
            "546:\ttest: 0.8868693\tbest: 0.8868693 (546)\ttotal: 12m 57s\tremaining: 10m 44s\n",
            "547:\ttest: 0.8868707\tbest: 0.8868707 (547)\ttotal: 12m 59s\tremaining: 10m 42s\n",
            "548:\ttest: 0.8868690\tbest: 0.8868707 (547)\ttotal: 13m\tremaining: 10m 41s\n",
            "549:\ttest: 0.8868648\tbest: 0.8868707 (547)\ttotal: 13m 1s\tremaining: 10m 39s\n",
            "550:\ttest: 0.8868647\tbest: 0.8868707 (547)\ttotal: 13m 3s\tremaining: 10m 38s\n",
            "551:\ttest: 0.8868719\tbest: 0.8868719 (551)\ttotal: 13m 4s\tremaining: 10m 36s\n",
            "552:\ttest: 0.8868728\tbest: 0.8868728 (552)\ttotal: 13m 5s\tremaining: 10m 35s\n",
            "553:\ttest: 0.8868861\tbest: 0.8868861 (553)\ttotal: 13m 7s\tremaining: 10m 33s\n",
            "554:\ttest: 0.8868842\tbest: 0.8868861 (553)\ttotal: 13m 8s\tremaining: 10m 32s\n",
            "555:\ttest: 0.8869491\tbest: 0.8869491 (555)\ttotal: 13m 10s\tremaining: 10m 30s\n",
            "556:\ttest: 0.8869446\tbest: 0.8869491 (555)\ttotal: 13m 11s\tremaining: 10m 29s\n",
            "557:\ttest: 0.8869556\tbest: 0.8869556 (557)\ttotal: 13m 12s\tremaining: 10m 28s\n",
            "558:\ttest: 0.8869619\tbest: 0.8869619 (558)\ttotal: 13m 14s\tremaining: 10m 26s\n",
            "559:\ttest: 0.8869623\tbest: 0.8869623 (559)\ttotal: 13m 15s\tremaining: 10m 25s\n",
            "560:\ttest: 0.8869721\tbest: 0.8869721 (560)\ttotal: 13m 17s\tremaining: 10m 23s\n",
            "561:\ttest: 0.8869715\tbest: 0.8869721 (560)\ttotal: 13m 18s\tremaining: 10m 22s\n",
            "562:\ttest: 0.8869726\tbest: 0.8869726 (562)\ttotal: 13m 19s\tremaining: 10m 20s\n",
            "563:\ttest: 0.8869726\tbest: 0.8869726 (562)\ttotal: 13m 21s\tremaining: 10m 19s\n",
            "564:\ttest: 0.8869707\tbest: 0.8869726 (562)\ttotal: 13m 22s\tremaining: 10m 17s\n",
            "565:\ttest: 0.8869732\tbest: 0.8869732 (565)\ttotal: 13m 24s\tremaining: 10m 16s\n",
            "566:\ttest: 0.8869628\tbest: 0.8869732 (565)\ttotal: 13m 25s\tremaining: 10m 15s\n",
            "567:\ttest: 0.8869628\tbest: 0.8869732 (565)\ttotal: 13m 26s\tremaining: 10m 13s\n",
            "568:\ttest: 0.8869535\tbest: 0.8869732 (565)\ttotal: 13m 28s\tremaining: 10m 12s\n",
            "569:\ttest: 0.8869836\tbest: 0.8869836 (569)\ttotal: 13m 29s\tremaining: 10m 10s\n",
            "570:\ttest: 0.8869852\tbest: 0.8869852 (570)\ttotal: 13m 31s\tremaining: 10m 9s\n",
            "571:\ttest: 0.8869997\tbest: 0.8869997 (571)\ttotal: 13m 32s\tremaining: 10m 8s\n",
            "572:\ttest: 0.8869846\tbest: 0.8869997 (571)\ttotal: 13m 34s\tremaining: 10m 6s\n",
            "573:\ttest: 0.8870019\tbest: 0.8870019 (573)\ttotal: 13m 35s\tremaining: 10m 5s\n",
            "574:\ttest: 0.8870029\tbest: 0.8870029 (574)\ttotal: 13m 36s\tremaining: 10m 3s\n",
            "575:\ttest: 0.8870005\tbest: 0.8870029 (574)\ttotal: 13m 38s\tremaining: 10m 2s\n",
            "576:\ttest: 0.8869995\tbest: 0.8870029 (574)\ttotal: 13m 39s\tremaining: 10m\n",
            "577:\ttest: 0.8870424\tbest: 0.8870424 (577)\ttotal: 13m 41s\tremaining: 9m 59s\n",
            "578:\ttest: 0.8870377\tbest: 0.8870424 (577)\ttotal: 13m 42s\tremaining: 9m 58s\n",
            "579:\ttest: 0.8870331\tbest: 0.8870424 (577)\ttotal: 13m 43s\tremaining: 9m 56s\n",
            "580:\ttest: 0.8870560\tbest: 0.8870560 (580)\ttotal: 13m 45s\tremaining: 9m 55s\n",
            "581:\ttest: 0.8870554\tbest: 0.8870560 (580)\ttotal: 13m 46s\tremaining: 9m 53s\n",
            "582:\ttest: 0.8870568\tbest: 0.8870568 (582)\ttotal: 13m 48s\tremaining: 9m 52s\n",
            "583:\ttest: 0.8871047\tbest: 0.8871047 (583)\ttotal: 13m 49s\tremaining: 9m 50s\n",
            "584:\ttest: 0.8870994\tbest: 0.8871047 (583)\ttotal: 13m 50s\tremaining: 9m 49s\n",
            "585:\ttest: 0.8870979\tbest: 0.8871047 (583)\ttotal: 13m 52s\tremaining: 9m 48s\n",
            "586:\ttest: 0.8871092\tbest: 0.8871092 (586)\ttotal: 13m 53s\tremaining: 9m 46s\n",
            "587:\ttest: 0.8871089\tbest: 0.8871092 (586)\ttotal: 13m 55s\tremaining: 9m 45s\n",
            "588:\ttest: 0.8871614\tbest: 0.8871614 (588)\ttotal: 13m 56s\tremaining: 9m 43s\n",
            "589:\ttest: 0.8871924\tbest: 0.8871924 (589)\ttotal: 13m 58s\tremaining: 9m 42s\n",
            "590:\ttest: 0.8871924\tbest: 0.8871924 (589)\ttotal: 13m 59s\tremaining: 9m 40s\n",
            "591:\ttest: 0.8871893\tbest: 0.8871924 (589)\ttotal: 14m\tremaining: 9m 39s\n",
            "592:\ttest: 0.8871830\tbest: 0.8871924 (589)\ttotal: 14m 2s\tremaining: 9m 38s\n",
            "593:\ttest: 0.8871814\tbest: 0.8871924 (589)\ttotal: 14m 3s\tremaining: 9m 36s\n",
            "594:\ttest: 0.8871889\tbest: 0.8871924 (589)\ttotal: 14m 5s\tremaining: 9m 35s\n",
            "595:\ttest: 0.8872005\tbest: 0.8872005 (595)\ttotal: 14m 6s\tremaining: 9m 33s\n",
            "596:\ttest: 0.8871994\tbest: 0.8872005 (595)\ttotal: 14m 7s\tremaining: 9m 32s\n",
            "597:\ttest: 0.8871992\tbest: 0.8872005 (595)\ttotal: 14m 9s\tremaining: 9m 30s\n",
            "598:\ttest: 0.8872278\tbest: 0.8872278 (598)\ttotal: 14m 10s\tremaining: 9m 29s\n",
            "599:\ttest: 0.8872215\tbest: 0.8872278 (598)\ttotal: 14m 11s\tremaining: 9m 27s\n",
            "600:\ttest: 0.8872225\tbest: 0.8872278 (598)\ttotal: 14m 13s\tremaining: 9m 26s\n",
            "601:\ttest: 0.8872271\tbest: 0.8872278 (598)\ttotal: 14m 14s\tremaining: 9m 25s\n",
            "602:\ttest: 0.8872496\tbest: 0.8872496 (602)\ttotal: 14m 16s\tremaining: 9m 23s\n",
            "603:\ttest: 0.8872728\tbest: 0.8872728 (603)\ttotal: 14m 17s\tremaining: 9m 22s\n",
            "604:\ttest: 0.8872453\tbest: 0.8872728 (603)\ttotal: 14m 19s\tremaining: 9m 20s\n",
            "605:\ttest: 0.8872463\tbest: 0.8872728 (603)\ttotal: 14m 20s\tremaining: 9m 19s\n",
            "606:\ttest: 0.8872452\tbest: 0.8872728 (603)\ttotal: 14m 21s\tremaining: 9m 17s\n",
            "607:\ttest: 0.8872440\tbest: 0.8872728 (603)\ttotal: 14m 23s\tremaining: 9m 16s\n",
            "608:\ttest: 0.8872441\tbest: 0.8872728 (603)\ttotal: 14m 24s\tremaining: 9m 15s\n",
            "609:\ttest: 0.8872408\tbest: 0.8872728 (603)\ttotal: 14m 25s\tremaining: 9m 13s\n",
            "610:\ttest: 0.8872433\tbest: 0.8872728 (603)\ttotal: 14m 27s\tremaining: 9m 12s\n",
            "611:\ttest: 0.8872418\tbest: 0.8872728 (603)\ttotal: 14m 28s\tremaining: 9m 10s\n",
            "612:\ttest: 0.8872399\tbest: 0.8872728 (603)\ttotal: 14m 30s\tremaining: 9m 9s\n",
            "613:\ttest: 0.8872639\tbest: 0.8872728 (603)\ttotal: 14m 31s\tremaining: 9m 7s\n",
            "614:\ttest: 0.8872616\tbest: 0.8872728 (603)\ttotal: 14m 32s\tremaining: 9m 6s\n",
            "615:\ttest: 0.8872613\tbest: 0.8872728 (603)\ttotal: 14m 34s\tremaining: 9m 5s\n",
            "616:\ttest: 0.8872732\tbest: 0.8872732 (616)\ttotal: 14m 35s\tremaining: 9m 3s\n",
            "617:\ttest: 0.8872716\tbest: 0.8872732 (616)\ttotal: 14m 37s\tremaining: 9m 2s\n",
            "618:\ttest: 0.8872746\tbest: 0.8872746 (618)\ttotal: 14m 38s\tremaining: 9m\n",
            "619:\ttest: 0.8872718\tbest: 0.8872746 (618)\ttotal: 14m 39s\tremaining: 8m 59s\n",
            "620:\ttest: 0.8872690\tbest: 0.8872746 (618)\ttotal: 14m 41s\tremaining: 8m 57s\n",
            "621:\ttest: 0.8872743\tbest: 0.8872746 (618)\ttotal: 14m 42s\tremaining: 8m 56s\n",
            "622:\ttest: 0.8872764\tbest: 0.8872764 (622)\ttotal: 14m 44s\tremaining: 8m 54s\n",
            "623:\ttest: 0.8872817\tbest: 0.8872817 (623)\ttotal: 14m 45s\tremaining: 8m 53s\n",
            "624:\ttest: 0.8872783\tbest: 0.8872817 (623)\ttotal: 14m 46s\tremaining: 8m 52s\n",
            "625:\ttest: 0.8872859\tbest: 0.8872859 (625)\ttotal: 14m 48s\tremaining: 8m 50s\n",
            "626:\ttest: 0.8872942\tbest: 0.8872942 (626)\ttotal: 14m 49s\tremaining: 8m 49s\n",
            "627:\ttest: 0.8872921\tbest: 0.8872942 (626)\ttotal: 14m 51s\tremaining: 8m 47s\n",
            "628:\ttest: 0.8873207\tbest: 0.8873207 (628)\ttotal: 14m 52s\tremaining: 8m 46s\n",
            "629:\ttest: 0.8873203\tbest: 0.8873207 (628)\ttotal: 14m 53s\tremaining: 8m 44s\n",
            "630:\ttest: 0.8873178\tbest: 0.8873207 (628)\ttotal: 14m 55s\tremaining: 8m 43s\n",
            "631:\ttest: 0.8873310\tbest: 0.8873310 (631)\ttotal: 14m 56s\tremaining: 8m 42s\n",
            "632:\ttest: 0.8873470\tbest: 0.8873470 (632)\ttotal: 14m 58s\tremaining: 8m 40s\n",
            "633:\ttest: 0.8873470\tbest: 0.8873470 (632)\ttotal: 14m 59s\tremaining: 8m 39s\n",
            "634:\ttest: 0.8873595\tbest: 0.8873595 (634)\ttotal: 15m\tremaining: 8m 37s\n",
            "635:\ttest: 0.8873660\tbest: 0.8873660 (635)\ttotal: 15m 2s\tremaining: 8m 36s\n",
            "636:\ttest: 0.8873815\tbest: 0.8873815 (636)\ttotal: 15m 3s\tremaining: 8m 35s\n",
            "637:\ttest: 0.8873777\tbest: 0.8873815 (636)\ttotal: 15m 5s\tremaining: 8m 33s\n",
            "638:\ttest: 0.8873838\tbest: 0.8873838 (638)\ttotal: 15m 6s\tremaining: 8m 32s\n",
            "639:\ttest: 0.8873825\tbest: 0.8873838 (638)\ttotal: 15m 7s\tremaining: 8m 30s\n",
            "640:\ttest: 0.8873890\tbest: 0.8873890 (640)\ttotal: 15m 9s\tremaining: 8m 29s\n",
            "641:\ttest: 0.8873884\tbest: 0.8873890 (640)\ttotal: 15m 10s\tremaining: 8m 27s\n",
            "642:\ttest: 0.8873836\tbest: 0.8873890 (640)\ttotal: 15m 12s\tremaining: 8m 26s\n",
            "643:\ttest: 0.8873807\tbest: 0.8873890 (640)\ttotal: 15m 13s\tremaining: 8m 24s\n",
            "644:\ttest: 0.8873856\tbest: 0.8873890 (640)\ttotal: 15m 14s\tremaining: 8m 23s\n",
            "645:\ttest: 0.8874250\tbest: 0.8874250 (645)\ttotal: 15m 16s\tremaining: 8m 22s\n",
            "646:\ttest: 0.8874243\tbest: 0.8874250 (645)\ttotal: 15m 17s\tremaining: 8m 20s\n",
            "647:\ttest: 0.8874265\tbest: 0.8874265 (647)\ttotal: 15m 19s\tremaining: 8m 19s\n",
            "648:\ttest: 0.8874203\tbest: 0.8874265 (647)\ttotal: 15m 20s\tremaining: 8m 17s\n",
            "649:\ttest: 0.8874220\tbest: 0.8874265 (647)\ttotal: 15m 21s\tremaining: 8m 16s\n",
            "650:\ttest: 0.8874215\tbest: 0.8874265 (647)\ttotal: 15m 23s\tremaining: 8m 14s\n",
            "651:\ttest: 0.8874208\tbest: 0.8874265 (647)\ttotal: 15m 24s\tremaining: 8m 13s\n",
            "652:\ttest: 0.8874212\tbest: 0.8874265 (647)\ttotal: 15m 25s\tremaining: 8m 12s\n",
            "653:\ttest: 0.8874239\tbest: 0.8874265 (647)\ttotal: 15m 27s\tremaining: 8m 10s\n",
            "654:\ttest: 0.8875168\tbest: 0.8875168 (654)\ttotal: 15m 28s\tremaining: 8m 9s\n",
            "655:\ttest: 0.8875168\tbest: 0.8875168 (655)\ttotal: 15m 30s\tremaining: 8m 7s\n",
            "656:\ttest: 0.8875323\tbest: 0.8875323 (656)\ttotal: 15m 31s\tremaining: 8m 6s\n",
            "657:\ttest: 0.8875546\tbest: 0.8875546 (657)\ttotal: 15m 32s\tremaining: 8m 4s\n",
            "658:\ttest: 0.8875531\tbest: 0.8875546 (657)\ttotal: 15m 34s\tremaining: 8m 3s\n",
            "659:\ttest: 0.8875532\tbest: 0.8875546 (657)\ttotal: 15m 35s\tremaining: 8m 2s\n",
            "660:\ttest: 0.8875527\tbest: 0.8875546 (657)\ttotal: 15m 37s\tremaining: 8m\n",
            "661:\ttest: 0.8875540\tbest: 0.8875546 (657)\ttotal: 15m 38s\tremaining: 7m 59s\n",
            "662:\ttest: 0.8875478\tbest: 0.8875546 (657)\ttotal: 15m 39s\tremaining: 7m 57s\n",
            "663:\ttest: 0.8875604\tbest: 0.8875604 (663)\ttotal: 15m 41s\tremaining: 7m 56s\n",
            "664:\ttest: 0.8875565\tbest: 0.8875604 (663)\ttotal: 15m 42s\tremaining: 7m 54s\n",
            "665:\ttest: 0.8875555\tbest: 0.8875604 (663)\ttotal: 15m 43s\tremaining: 7m 53s\n",
            "666:\ttest: 0.8875583\tbest: 0.8875604 (663)\ttotal: 15m 45s\tremaining: 7m 51s\n",
            "667:\ttest: 0.8875930\tbest: 0.8875930 (667)\ttotal: 15m 46s\tremaining: 7m 50s\n",
            "668:\ttest: 0.8875928\tbest: 0.8875930 (667)\ttotal: 15m 48s\tremaining: 7m 49s\n",
            "669:\ttest: 0.8875978\tbest: 0.8875978 (669)\ttotal: 15m 49s\tremaining: 7m 47s\n",
            "670:\ttest: 0.8875983\tbest: 0.8875983 (670)\ttotal: 15m 50s\tremaining: 7m 46s\n",
            "671:\ttest: 0.8875976\tbest: 0.8875983 (670)\ttotal: 15m 52s\tremaining: 7m 44s\n",
            "672:\ttest: 0.8876107\tbest: 0.8876107 (672)\ttotal: 15m 53s\tremaining: 7m 43s\n",
            "673:\ttest: 0.8876122\tbest: 0.8876122 (673)\ttotal: 15m 54s\tremaining: 7m 41s\n",
            "674:\ttest: 0.8876085\tbest: 0.8876122 (673)\ttotal: 15m 56s\tremaining: 7m 40s\n",
            "675:\ttest: 0.8876086\tbest: 0.8876122 (673)\ttotal: 15m 57s\tremaining: 7m 38s\n",
            "676:\ttest: 0.8876059\tbest: 0.8876122 (673)\ttotal: 15m 59s\tremaining: 7m 37s\n",
            "677:\ttest: 0.8876020\tbest: 0.8876122 (673)\ttotal: 16m\tremaining: 7m 36s\n",
            "678:\ttest: 0.8875988\tbest: 0.8876122 (673)\ttotal: 16m 1s\tremaining: 7m 34s\n",
            "679:\ttest: 0.8876008\tbest: 0.8876122 (673)\ttotal: 16m 3s\tremaining: 7m 33s\n",
            "680:\ttest: 0.8875948\tbest: 0.8876122 (673)\ttotal: 16m 4s\tremaining: 7m 31s\n",
            "681:\ttest: 0.8875948\tbest: 0.8876122 (673)\ttotal: 16m 6s\tremaining: 7m 30s\n",
            "682:\ttest: 0.8875966\tbest: 0.8876122 (673)\ttotal: 16m 7s\tremaining: 7m 29s\n",
            "683:\ttest: 0.8876022\tbest: 0.8876122 (673)\ttotal: 16m 8s\tremaining: 7m 27s\n",
            "684:\ttest: 0.8876160\tbest: 0.8876160 (684)\ttotal: 16m 10s\tremaining: 7m 26s\n",
            "685:\ttest: 0.8876224\tbest: 0.8876224 (685)\ttotal: 16m 11s\tremaining: 7m 24s\n",
            "686:\ttest: 0.8876196\tbest: 0.8876224 (685)\ttotal: 16m 12s\tremaining: 7m 23s\n",
            "687:\ttest: 0.8876340\tbest: 0.8876340 (687)\ttotal: 16m 14s\tremaining: 7m 21s\n",
            "688:\ttest: 0.8876363\tbest: 0.8876363 (688)\ttotal: 16m 15s\tremaining: 7m 20s\n",
            "689:\ttest: 0.8876349\tbest: 0.8876363 (688)\ttotal: 16m 17s\tremaining: 7m 18s\n",
            "690:\ttest: 0.8876373\tbest: 0.8876373 (690)\ttotal: 16m 18s\tremaining: 7m 17s\n",
            "691:\ttest: 0.8876479\tbest: 0.8876479 (691)\ttotal: 16m 19s\tremaining: 7m 16s\n",
            "692:\ttest: 0.8876440\tbest: 0.8876479 (691)\ttotal: 16m 21s\tremaining: 7m 14s\n",
            "693:\ttest: 0.8876453\tbest: 0.8876479 (691)\ttotal: 16m 22s\tremaining: 7m 13s\n",
            "694:\ttest: 0.8876416\tbest: 0.8876479 (691)\ttotal: 16m 23s\tremaining: 7m 11s\n",
            "695:\ttest: 0.8876383\tbest: 0.8876479 (691)\ttotal: 16m 25s\tremaining: 7m 10s\n",
            "696:\ttest: 0.8876476\tbest: 0.8876479 (691)\ttotal: 16m 26s\tremaining: 7m 8s\n",
            "697:\ttest: 0.8876459\tbest: 0.8876479 (691)\ttotal: 16m 28s\tremaining: 7m 7s\n",
            "698:\ttest: 0.8876481\tbest: 0.8876481 (698)\ttotal: 16m 29s\tremaining: 7m 6s\n",
            "699:\ttest: 0.8877171\tbest: 0.8877171 (699)\ttotal: 16m 30s\tremaining: 7m 4s\n",
            "700:\ttest: 0.8877232\tbest: 0.8877232 (700)\ttotal: 16m 32s\tremaining: 7m 3s\n",
            "701:\ttest: 0.8877231\tbest: 0.8877232 (700)\ttotal: 16m 33s\tremaining: 7m 1s\n",
            "702:\ttest: 0.8877181\tbest: 0.8877232 (700)\ttotal: 16m 35s\tremaining: 7m\n",
            "703:\ttest: 0.8877164\tbest: 0.8877232 (700)\ttotal: 16m 36s\tremaining: 6m 58s\n",
            "704:\ttest: 0.8877114\tbest: 0.8877232 (700)\ttotal: 16m 37s\tremaining: 6m 57s\n",
            "705:\ttest: 0.8877145\tbest: 0.8877232 (700)\ttotal: 16m 39s\tremaining: 6m 56s\n",
            "706:\ttest: 0.8877198\tbest: 0.8877232 (700)\ttotal: 16m 40s\tremaining: 6m 54s\n",
            "707:\ttest: 0.8877233\tbest: 0.8877233 (707)\ttotal: 16m 42s\tremaining: 6m 53s\n",
            "708:\ttest: 0.8877191\tbest: 0.8877233 (707)\ttotal: 16m 43s\tremaining: 6m 51s\n",
            "709:\ttest: 0.8877702\tbest: 0.8877702 (709)\ttotal: 16m 44s\tremaining: 6m 50s\n",
            "710:\ttest: 0.8877631\tbest: 0.8877702 (709)\ttotal: 16m 46s\tremaining: 6m 48s\n",
            "711:\ttest: 0.8877626\tbest: 0.8877702 (709)\ttotal: 16m 47s\tremaining: 6m 47s\n",
            "712:\ttest: 0.8877617\tbest: 0.8877702 (709)\ttotal: 16m 48s\tremaining: 6m 46s\n",
            "713:\ttest: 0.8877616\tbest: 0.8877702 (709)\ttotal: 16m 50s\tremaining: 6m 44s\n",
            "714:\ttest: 0.8877616\tbest: 0.8877702 (709)\ttotal: 16m 51s\tremaining: 6m 43s\n",
            "715:\ttest: 0.8877602\tbest: 0.8877702 (709)\ttotal: 16m 53s\tremaining: 6m 41s\n",
            "716:\ttest: 0.8877598\tbest: 0.8877702 (709)\ttotal: 16m 54s\tremaining: 6m 40s\n",
            "717:\ttest: 0.8877630\tbest: 0.8877702 (709)\ttotal: 16m 55s\tremaining: 6m 38s\n",
            "718:\ttest: 0.8877630\tbest: 0.8877702 (709)\ttotal: 16m 57s\tremaining: 6m 37s\n",
            "719:\ttest: 0.8877609\tbest: 0.8877702 (709)\ttotal: 16m 58s\tremaining: 6m 36s\n",
            "720:\ttest: 0.8877636\tbest: 0.8877702 (709)\ttotal: 17m\tremaining: 6m 34s\n",
            "721:\ttest: 0.8877663\tbest: 0.8877702 (709)\ttotal: 17m 1s\tremaining: 6m 33s\n",
            "722:\ttest: 0.8877797\tbest: 0.8877797 (722)\ttotal: 17m 2s\tremaining: 6m 31s\n",
            "723:\ttest: 0.8877823\tbest: 0.8877823 (723)\ttotal: 17m 4s\tremaining: 6m 30s\n",
            "724:\ttest: 0.8878122\tbest: 0.8878122 (724)\ttotal: 17m 5s\tremaining: 6m 29s\n",
            "725:\ttest: 0.8878095\tbest: 0.8878122 (724)\ttotal: 17m 7s\tremaining: 6m 27s\n",
            "726:\ttest: 0.8878095\tbest: 0.8878122 (724)\ttotal: 17m 8s\tremaining: 6m 26s\n",
            "727:\ttest: 0.8878104\tbest: 0.8878122 (724)\ttotal: 17m 9s\tremaining: 6m 24s\n",
            "728:\ttest: 0.8878099\tbest: 0.8878122 (724)\ttotal: 17m 11s\tremaining: 6m 23s\n",
            "729:\ttest: 0.8878215\tbest: 0.8878215 (729)\ttotal: 17m 12s\tremaining: 6m 21s\n",
            "730:\ttest: 0.8878273\tbest: 0.8878273 (730)\ttotal: 17m 13s\tremaining: 6m 20s\n",
            "731:\ttest: 0.8878292\tbest: 0.8878292 (731)\ttotal: 17m 15s\tremaining: 6m 19s\n",
            "732:\ttest: 0.8878248\tbest: 0.8878292 (731)\ttotal: 17m 16s\tremaining: 6m 17s\n",
            "733:\ttest: 0.8878196\tbest: 0.8878292 (731)\ttotal: 17m 18s\tremaining: 6m 16s\n",
            "734:\ttest: 0.8878190\tbest: 0.8878292 (731)\ttotal: 17m 19s\tremaining: 6m 14s\n",
            "735:\ttest: 0.8878191\tbest: 0.8878292 (731)\ttotal: 17m 20s\tremaining: 6m 13s\n",
            "736:\ttest: 0.8878282\tbest: 0.8878292 (731)\ttotal: 17m 22s\tremaining: 6m 11s\n",
            "737:\ttest: 0.8878261\tbest: 0.8878292 (731)\ttotal: 17m 23s\tremaining: 6m 10s\n",
            "738:\ttest: 0.8878262\tbest: 0.8878292 (731)\ttotal: 17m 24s\tremaining: 6m 9s\n",
            "739:\ttest: 0.8878159\tbest: 0.8878292 (731)\ttotal: 17m 26s\tremaining: 6m 7s\n",
            "740:\ttest: 0.8878213\tbest: 0.8878292 (731)\ttotal: 17m 27s\tremaining: 6m 6s\n",
            "741:\ttest: 0.8878226\tbest: 0.8878292 (731)\ttotal: 17m 29s\tremaining: 6m 4s\n",
            "742:\ttest: 0.8878150\tbest: 0.8878292 (731)\ttotal: 17m 30s\tremaining: 6m 3s\n",
            "743:\ttest: 0.8879249\tbest: 0.8879249 (743)\ttotal: 17m 32s\tremaining: 6m 2s\n",
            "744:\ttest: 0.8879255\tbest: 0.8879255 (744)\ttotal: 17m 33s\tremaining: 6m\n",
            "745:\ttest: 0.8879244\tbest: 0.8879255 (744)\ttotal: 17m 34s\tremaining: 5m 59s\n",
            "746:\ttest: 0.8879275\tbest: 0.8879275 (746)\ttotal: 17m 36s\tremaining: 5m 57s\n",
            "747:\ttest: 0.8879477\tbest: 0.8879477 (747)\ttotal: 17m 37s\tremaining: 5m 56s\n",
            "748:\ttest: 0.8879483\tbest: 0.8879483 (748)\ttotal: 17m 39s\tremaining: 5m 54s\n",
            "749:\ttest: 0.8879478\tbest: 0.8879483 (748)\ttotal: 17m 40s\tremaining: 5m 53s\n",
            "750:\ttest: 0.8879392\tbest: 0.8879483 (748)\ttotal: 17m 42s\tremaining: 5m 52s\n",
            "751:\ttest: 0.8879446\tbest: 0.8879483 (748)\ttotal: 17m 43s\tremaining: 5m 50s\n",
            "752:\ttest: 0.8879405\tbest: 0.8879483 (748)\ttotal: 17m 44s\tremaining: 5m 49s\n",
            "753:\ttest: 0.8879387\tbest: 0.8879483 (748)\ttotal: 17m 46s\tremaining: 5m 47s\n",
            "754:\ttest: 0.8879426\tbest: 0.8879483 (748)\ttotal: 17m 47s\tremaining: 5m 46s\n",
            "755:\ttest: 0.8879424\tbest: 0.8879483 (748)\ttotal: 17m 48s\tremaining: 5m 44s\n",
            "756:\ttest: 0.8879549\tbest: 0.8879549 (756)\ttotal: 17m 50s\tremaining: 5m 43s\n",
            "757:\ttest: 0.8879548\tbest: 0.8879549 (756)\ttotal: 17m 51s\tremaining: 5m 42s\n",
            "758:\ttest: 0.8879564\tbest: 0.8879564 (758)\ttotal: 17m 52s\tremaining: 5m 40s\n",
            "759:\ttest: 0.8879790\tbest: 0.8879790 (759)\ttotal: 17m 54s\tremaining: 5m 39s\n",
            "760:\ttest: 0.8879786\tbest: 0.8879790 (759)\ttotal: 17m 55s\tremaining: 5m 37s\n",
            "761:\ttest: 0.8879851\tbest: 0.8879851 (761)\ttotal: 17m 57s\tremaining: 5m 36s\n",
            "762:\ttest: 0.8879802\tbest: 0.8879851 (761)\ttotal: 17m 58s\tremaining: 5m 34s\n",
            "763:\ttest: 0.8879807\tbest: 0.8879851 (761)\ttotal: 17m 59s\tremaining: 5m 33s\n",
            "764:\ttest: 0.8879887\tbest: 0.8879887 (764)\ttotal: 18m 1s\tremaining: 5m 32s\n",
            "765:\ttest: 0.8879908\tbest: 0.8879908 (765)\ttotal: 18m 2s\tremaining: 5m 30s\n",
            "766:\ttest: 0.8879893\tbest: 0.8879908 (765)\ttotal: 18m 3s\tremaining: 5m 29s\n",
            "767:\ttest: 0.8880021\tbest: 0.8880021 (767)\ttotal: 18m 5s\tremaining: 5m 27s\n",
            "768:\ttest: 0.8880026\tbest: 0.8880026 (768)\ttotal: 18m 6s\tremaining: 5m 26s\n",
            "769:\ttest: 0.8880099\tbest: 0.8880099 (769)\ttotal: 18m 8s\tremaining: 5m 25s\n",
            "770:\ttest: 0.8880036\tbest: 0.8880099 (769)\ttotal: 18m 9s\tremaining: 5m 23s\n",
            "771:\ttest: 0.8880037\tbest: 0.8880099 (769)\ttotal: 18m 11s\tremaining: 5m 22s\n",
            "772:\ttest: 0.8880028\tbest: 0.8880099 (769)\ttotal: 18m 12s\tremaining: 5m 20s\n",
            "773:\ttest: 0.8880007\tbest: 0.8880099 (769)\ttotal: 18m 13s\tremaining: 5m 19s\n",
            "774:\ttest: 0.8880005\tbest: 0.8880099 (769)\ttotal: 18m 15s\tremaining: 5m 17s\n",
            "775:\ttest: 0.8879998\tbest: 0.8880099 (769)\ttotal: 18m 16s\tremaining: 5m 16s\n",
            "776:\ttest: 0.8880024\tbest: 0.8880099 (769)\ttotal: 18m 17s\tremaining: 5m 15s\n",
            "777:\ttest: 0.8880026\tbest: 0.8880099 (769)\ttotal: 18m 19s\tremaining: 5m 13s\n",
            "778:\ttest: 0.8880023\tbest: 0.8880099 (769)\ttotal: 18m 20s\tremaining: 5m 12s\n",
            "779:\ttest: 0.8879993\tbest: 0.8880099 (769)\ttotal: 18m 21s\tremaining: 5m 10s\n",
            "780:\ttest: 0.8879973\tbest: 0.8880099 (769)\ttotal: 18m 23s\tremaining: 5m 9s\n",
            "781:\ttest: 0.8879944\tbest: 0.8880099 (769)\ttotal: 18m 24s\tremaining: 5m 7s\n",
            "782:\ttest: 0.8880071\tbest: 0.8880099 (769)\ttotal: 18m 26s\tremaining: 5m 6s\n",
            "783:\ttest: 0.8880329\tbest: 0.8880329 (783)\ttotal: 18m 27s\tremaining: 5m 5s\n",
            "784:\ttest: 0.8880305\tbest: 0.8880329 (783)\ttotal: 18m 28s\tremaining: 5m 3s\n",
            "785:\ttest: 0.8880214\tbest: 0.8880329 (783)\ttotal: 18m 30s\tremaining: 5m 2s\n",
            "786:\ttest: 0.8880276\tbest: 0.8880329 (783)\ttotal: 18m 31s\tremaining: 5m\n",
            "787:\ttest: 0.8880236\tbest: 0.8880329 (783)\ttotal: 18m 33s\tremaining: 4m 59s\n",
            "788:\ttest: 0.8880287\tbest: 0.8880329 (783)\ttotal: 18m 34s\tremaining: 4m 58s\n",
            "789:\ttest: 0.8880306\tbest: 0.8880329 (783)\ttotal: 18m 35s\tremaining: 4m 56s\n",
            "790:\ttest: 0.8880313\tbest: 0.8880329 (783)\ttotal: 18m 37s\tremaining: 4m 55s\n",
            "791:\ttest: 0.8880346\tbest: 0.8880346 (791)\ttotal: 18m 38s\tremaining: 4m 53s\n",
            "792:\ttest: 0.8880346\tbest: 0.8880346 (791)\ttotal: 18m 39s\tremaining: 4m 52s\n",
            "793:\ttest: 0.8880341\tbest: 0.8880346 (791)\ttotal: 18m 41s\tremaining: 4m 50s\n",
            "794:\ttest: 0.8880338\tbest: 0.8880346 (791)\ttotal: 18m 42s\tremaining: 4m 49s\n",
            "795:\ttest: 0.8880336\tbest: 0.8880346 (791)\ttotal: 18m 44s\tremaining: 4m 48s\n",
            "796:\ttest: 0.8880333\tbest: 0.8880346 (791)\ttotal: 18m 45s\tremaining: 4m 46s\n",
            "797:\ttest: 0.8880323\tbest: 0.8880346 (791)\ttotal: 18m 46s\tremaining: 4m 45s\n",
            "798:\ttest: 0.8880304\tbest: 0.8880346 (791)\ttotal: 18m 48s\tremaining: 4m 43s\n",
            "799:\ttest: 0.8880311\tbest: 0.8880346 (791)\ttotal: 18m 49s\tremaining: 4m 42s\n",
            "800:\ttest: 0.8880305\tbest: 0.8880346 (791)\ttotal: 18m 51s\tremaining: 4m 41s\n",
            "801:\ttest: 0.8880368\tbest: 0.8880368 (801)\ttotal: 18m 52s\tremaining: 4m 39s\n",
            "802:\ttest: 0.8880448\tbest: 0.8880448 (802)\ttotal: 18m 53s\tremaining: 4m 38s\n",
            "803:\ttest: 0.8880453\tbest: 0.8880453 (803)\ttotal: 18m 55s\tremaining: 4m 36s\n",
            "804:\ttest: 0.8880440\tbest: 0.8880453 (803)\ttotal: 18m 56s\tremaining: 4m 35s\n",
            "805:\ttest: 0.8880429\tbest: 0.8880453 (803)\ttotal: 18m 57s\tremaining: 4m 33s\n",
            "806:\ttest: 0.8880415\tbest: 0.8880453 (803)\ttotal: 18m 59s\tremaining: 4m 32s\n",
            "807:\ttest: 0.8880410\tbest: 0.8880453 (803)\ttotal: 19m\tremaining: 4m 31s\n",
            "808:\ttest: 0.8880401\tbest: 0.8880453 (803)\ttotal: 19m 2s\tremaining: 4m 29s\n",
            "809:\ttest: 0.8880493\tbest: 0.8880493 (809)\ttotal: 19m 3s\tremaining: 4m 28s\n",
            "810:\ttest: 0.8880354\tbest: 0.8880493 (809)\ttotal: 19m 4s\tremaining: 4m 26s\n",
            "811:\ttest: 0.8880356\tbest: 0.8880493 (809)\ttotal: 19m 6s\tremaining: 4m 25s\n",
            "812:\ttest: 0.8880361\tbest: 0.8880493 (809)\ttotal: 19m 7s\tremaining: 4m 23s\n",
            "813:\ttest: 0.8880330\tbest: 0.8880493 (809)\ttotal: 19m 9s\tremaining: 4m 22s\n",
            "814:\ttest: 0.8880732\tbest: 0.8880732 (814)\ttotal: 19m 10s\tremaining: 4m 21s\n",
            "815:\ttest: 0.8880933\tbest: 0.8880933 (815)\ttotal: 19m 11s\tremaining: 4m 19s\n",
            "816:\ttest: 0.8880892\tbest: 0.8880933 (815)\ttotal: 19m 13s\tremaining: 4m 18s\n",
            "817:\ttest: 0.8880991\tbest: 0.8880991 (817)\ttotal: 19m 14s\tremaining: 4m 16s\n",
            "818:\ttest: 0.8881016\tbest: 0.8881016 (818)\ttotal: 19m 16s\tremaining: 4m 15s\n",
            "819:\ttest: 0.8881051\tbest: 0.8881051 (819)\ttotal: 19m 17s\tremaining: 4m 14s\n",
            "820:\ttest: 0.8881045\tbest: 0.8881051 (819)\ttotal: 19m 18s\tremaining: 4m 12s\n",
            "821:\ttest: 0.8880983\tbest: 0.8881051 (819)\ttotal: 19m 20s\tremaining: 4m 11s\n",
            "822:\ttest: 0.8880986\tbest: 0.8881051 (819)\ttotal: 19m 21s\tremaining: 4m 9s\n",
            "823:\ttest: 0.8881074\tbest: 0.8881074 (823)\ttotal: 19m 23s\tremaining: 4m 8s\n",
            "824:\ttest: 0.8881049\tbest: 0.8881074 (823)\ttotal: 19m 24s\tremaining: 4m 6s\n",
            "825:\ttest: 0.8881041\tbest: 0.8881074 (823)\ttotal: 19m 25s\tremaining: 4m 5s\n",
            "826:\ttest: 0.8881066\tbest: 0.8881074 (823)\ttotal: 19m 27s\tremaining: 4m 4s\n",
            "827:\ttest: 0.8881510\tbest: 0.8881510 (827)\ttotal: 19m 28s\tremaining: 4m 2s\n",
            "828:\ttest: 0.8881474\tbest: 0.8881510 (827)\ttotal: 19m 30s\tremaining: 4m 1s\n",
            "829:\ttest: 0.8881568\tbest: 0.8881568 (829)\ttotal: 19m 31s\tremaining: 3m 59s\n",
            "830:\ttest: 0.8881739\tbest: 0.8881739 (830)\ttotal: 19m 32s\tremaining: 3m 58s\n",
            "831:\ttest: 0.8881708\tbest: 0.8881739 (830)\ttotal: 19m 34s\tremaining: 3m 57s\n",
            "832:\ttest: 0.8881869\tbest: 0.8881869 (832)\ttotal: 19m 35s\tremaining: 3m 55s\n",
            "833:\ttest: 0.8881837\tbest: 0.8881869 (832)\ttotal: 19m 37s\tremaining: 3m 54s\n",
            "834:\ttest: 0.8881887\tbest: 0.8881887 (834)\ttotal: 19m 38s\tremaining: 3m 52s\n",
            "835:\ttest: 0.8881878\tbest: 0.8881887 (834)\ttotal: 19m 39s\tremaining: 3m 51s\n",
            "836:\ttest: 0.8881899\tbest: 0.8881899 (836)\ttotal: 19m 41s\tremaining: 3m 50s\n",
            "837:\ttest: 0.8881945\tbest: 0.8881945 (837)\ttotal: 19m 42s\tremaining: 3m 48s\n",
            "838:\ttest: 0.8881905\tbest: 0.8881945 (837)\ttotal: 19m 44s\tremaining: 3m 47s\n",
            "839:\ttest: 0.8881871\tbest: 0.8881945 (837)\ttotal: 19m 45s\tremaining: 3m 45s\n",
            "840:\ttest: 0.8881887\tbest: 0.8881945 (837)\ttotal: 19m 46s\tremaining: 3m 44s\n",
            "841:\ttest: 0.8881825\tbest: 0.8881945 (837)\ttotal: 19m 48s\tremaining: 3m 43s\n",
            "842:\ttest: 0.8881825\tbest: 0.8881945 (837)\ttotal: 19m 49s\tremaining: 3m 41s\n",
            "843:\ttest: 0.8883724\tbest: 0.8883724 (843)\ttotal: 19m 51s\tremaining: 3m 40s\n",
            "844:\ttest: 0.8884335\tbest: 0.8884335 (844)\ttotal: 19m 52s\tremaining: 3m 38s\n",
            "845:\ttest: 0.8884327\tbest: 0.8884335 (844)\ttotal: 19m 54s\tremaining: 3m 37s\n",
            "846:\ttest: 0.8884453\tbest: 0.8884453 (846)\ttotal: 19m 55s\tremaining: 3m 35s\n",
            "847:\ttest: 0.8884420\tbest: 0.8884453 (846)\ttotal: 19m 57s\tremaining: 3m 34s\n",
            "848:\ttest: 0.8884404\tbest: 0.8884453 (846)\ttotal: 19m 58s\tremaining: 3m 33s\n",
            "849:\ttest: 0.8884682\tbest: 0.8884682 (849)\ttotal: 19m 59s\tremaining: 3m 31s\n",
            "850:\ttest: 0.8884551\tbest: 0.8884682 (849)\ttotal: 20m 1s\tremaining: 3m 30s\n",
            "851:\ttest: 0.8884467\tbest: 0.8884682 (849)\ttotal: 20m 2s\tremaining: 3m 28s\n",
            "852:\ttest: 0.8884470\tbest: 0.8884682 (849)\ttotal: 20m 4s\tremaining: 3m 27s\n",
            "853:\ttest: 0.8884543\tbest: 0.8884682 (849)\ttotal: 20m 5s\tremaining: 3m 26s\n",
            "854:\ttest: 0.8884516\tbest: 0.8884682 (849)\ttotal: 20m 6s\tremaining: 3m 24s\n",
            "855:\ttest: 0.8884692\tbest: 0.8884692 (855)\ttotal: 20m 8s\tremaining: 3m 23s\n",
            "856:\ttest: 0.8885164\tbest: 0.8885164 (856)\ttotal: 20m 9s\tremaining: 3m 21s\n",
            "857:\ttest: 0.8885981\tbest: 0.8885981 (857)\ttotal: 20m 11s\tremaining: 3m 20s\n",
            "858:\ttest: 0.8886018\tbest: 0.8886018 (858)\ttotal: 20m 12s\tremaining: 3m 19s\n",
            "859:\ttest: 0.8886056\tbest: 0.8886056 (859)\ttotal: 20m 14s\tremaining: 3m 17s\n",
            "860:\ttest: 0.8886112\tbest: 0.8886112 (860)\ttotal: 20m 15s\tremaining: 3m 16s\n",
            "861:\ttest: 0.8886134\tbest: 0.8886134 (861)\ttotal: 20m 16s\tremaining: 3m 14s\n",
            "862:\ttest: 0.8886107\tbest: 0.8886134 (861)\ttotal: 20m 18s\tremaining: 3m 13s\n",
            "863:\ttest: 0.8886119\tbest: 0.8886134 (861)\ttotal: 20m 19s\tremaining: 3m 11s\n",
            "864:\ttest: 0.8886154\tbest: 0.8886154 (864)\ttotal: 20m 21s\tremaining: 3m 10s\n",
            "865:\ttest: 0.8886134\tbest: 0.8886154 (864)\ttotal: 20m 22s\tremaining: 3m 9s\n",
            "866:\ttest: 0.8886346\tbest: 0.8886346 (866)\ttotal: 20m 23s\tremaining: 3m 7s\n",
            "867:\ttest: 0.8886346\tbest: 0.8886346 (866)\ttotal: 20m 25s\tremaining: 3m 6s\n",
            "868:\ttest: 0.8886307\tbest: 0.8886346 (866)\ttotal: 20m 26s\tremaining: 3m 4s\n",
            "869:\ttest: 0.8886349\tbest: 0.8886349 (869)\ttotal: 20m 27s\tremaining: 3m 3s\n",
            "870:\ttest: 0.8886325\tbest: 0.8886349 (869)\ttotal: 20m 29s\tremaining: 3m 2s\n",
            "871:\ttest: 0.8886697\tbest: 0.8886697 (871)\ttotal: 20m 30s\tremaining: 3m\n",
            "872:\ttest: 0.8887102\tbest: 0.8887102 (872)\ttotal: 20m 32s\tremaining: 2m 59s\n",
            "873:\ttest: 0.8887214\tbest: 0.8887214 (873)\ttotal: 20m 33s\tremaining: 2m 57s\n",
            "874:\ttest: 0.8887066\tbest: 0.8887214 (873)\ttotal: 20m 34s\tremaining: 2m 56s\n",
            "875:\ttest: 0.8886985\tbest: 0.8887214 (873)\ttotal: 20m 36s\tremaining: 2m 55s\n",
            "876:\ttest: 0.8886954\tbest: 0.8887214 (873)\ttotal: 20m 37s\tremaining: 2m 53s\n",
            "877:\ttest: 0.8887024\tbest: 0.8887214 (873)\ttotal: 20m 39s\tremaining: 2m 52s\n",
            "878:\ttest: 0.8887032\tbest: 0.8887214 (873)\ttotal: 20m 40s\tremaining: 2m 50s\n",
            "879:\ttest: 0.8887047\tbest: 0.8887214 (873)\ttotal: 20m 41s\tremaining: 2m 49s\n",
            "880:\ttest: 0.8887268\tbest: 0.8887268 (880)\ttotal: 20m 43s\tremaining: 2m 47s\n",
            "881:\ttest: 0.8887239\tbest: 0.8887268 (880)\ttotal: 20m 44s\tremaining: 2m 46s\n",
            "882:\ttest: 0.8887094\tbest: 0.8887268 (880)\ttotal: 20m 45s\tremaining: 2m 45s\n",
            "883:\ttest: 0.8887094\tbest: 0.8887268 (880)\ttotal: 20m 47s\tremaining: 2m 43s\n",
            "884:\ttest: 0.8887101\tbest: 0.8887268 (880)\ttotal: 20m 48s\tremaining: 2m 42s\n",
            "885:\ttest: 0.8887215\tbest: 0.8887268 (880)\ttotal: 20m 50s\tremaining: 2m 40s\n",
            "886:\ttest: 0.8887563\tbest: 0.8887563 (886)\ttotal: 20m 51s\tremaining: 2m 39s\n",
            "887:\ttest: 0.8887674\tbest: 0.8887674 (887)\ttotal: 20m 52s\tremaining: 2m 38s\n",
            "888:\ttest: 0.8887671\tbest: 0.8887674 (887)\ttotal: 20m 54s\tremaining: 2m 36s\n",
            "889:\ttest: 0.8887630\tbest: 0.8887674 (887)\ttotal: 20m 55s\tremaining: 2m 35s\n",
            "890:\ttest: 0.8887598\tbest: 0.8887674 (887)\ttotal: 20m 57s\tremaining: 2m 33s\n",
            "891:\ttest: 0.8887594\tbest: 0.8887674 (887)\ttotal: 20m 58s\tremaining: 2m 32s\n",
            "892:\ttest: 0.8887818\tbest: 0.8887818 (892)\ttotal: 20m 59s\tremaining: 2m 30s\n",
            "893:\ttest: 0.8887872\tbest: 0.8887872 (893)\ttotal: 21m 1s\tremaining: 2m 29s\n",
            "894:\ttest: 0.8887881\tbest: 0.8887881 (894)\ttotal: 21m 2s\tremaining: 2m 28s\n",
            "895:\ttest: 0.8888400\tbest: 0.8888400 (895)\ttotal: 21m 4s\tremaining: 2m 26s\n",
            "896:\ttest: 0.8888367\tbest: 0.8888400 (895)\ttotal: 21m 5s\tremaining: 2m 25s\n",
            "897:\ttest: 0.8888360\tbest: 0.8888400 (895)\ttotal: 21m 6s\tremaining: 2m 23s\n",
            "898:\ttest: 0.8888290\tbest: 0.8888400 (895)\ttotal: 21m 8s\tremaining: 2m 22s\n",
            "899:\ttest: 0.8888298\tbest: 0.8888400 (895)\ttotal: 21m 9s\tremaining: 2m 21s\n",
            "900:\ttest: 0.8888298\tbest: 0.8888400 (895)\ttotal: 21m 10s\tremaining: 2m 19s\n",
            "901:\ttest: 0.8888631\tbest: 0.8888631 (901)\ttotal: 21m 12s\tremaining: 2m 18s\n",
            "902:\ttest: 0.8888589\tbest: 0.8888631 (901)\ttotal: 21m 13s\tremaining: 2m 16s\n",
            "903:\ttest: 0.8888825\tbest: 0.8888825 (903)\ttotal: 21m 15s\tremaining: 2m 15s\n",
            "904:\ttest: 0.8888714\tbest: 0.8888825 (903)\ttotal: 21m 16s\tremaining: 2m 14s\n",
            "905:\ttest: 0.8888692\tbest: 0.8888825 (903)\ttotal: 21m 17s\tremaining: 2m 12s\n",
            "906:\ttest: 0.8888898\tbest: 0.8888898 (906)\ttotal: 21m 19s\tremaining: 2m 11s\n",
            "907:\ttest: 0.8888894\tbest: 0.8888898 (906)\ttotal: 21m 20s\tremaining: 2m 9s\n",
            "908:\ttest: 0.8888847\tbest: 0.8888898 (906)\ttotal: 21m 22s\tremaining: 2m 8s\n",
            "909:\ttest: 0.8888846\tbest: 0.8888898 (906)\ttotal: 21m 23s\tremaining: 2m 6s\n",
            "910:\ttest: 0.8888792\tbest: 0.8888898 (906)\ttotal: 21m 25s\tremaining: 2m 5s\n",
            "911:\ttest: 0.8888794\tbest: 0.8888898 (906)\ttotal: 21m 26s\tremaining: 2m 4s\n",
            "912:\ttest: 0.8888813\tbest: 0.8888898 (906)\ttotal: 21m 27s\tremaining: 2m 2s\n",
            "913:\ttest: 0.8888924\tbest: 0.8888924 (913)\ttotal: 21m 29s\tremaining: 2m 1s\n",
            "914:\ttest: 0.8888865\tbest: 0.8888924 (913)\ttotal: 21m 30s\tremaining: 1m 59s\n",
            "915:\ttest: 0.8888977\tbest: 0.8888977 (915)\ttotal: 21m 32s\tremaining: 1m 58s\n",
            "916:\ttest: 0.8889001\tbest: 0.8889001 (916)\ttotal: 21m 33s\tremaining: 1m 57s\n",
            "917:\ttest: 0.8888982\tbest: 0.8889001 (916)\ttotal: 21m 34s\tremaining: 1m 55s\n",
            "918:\ttest: 0.8888756\tbest: 0.8889001 (916)\ttotal: 21m 36s\tremaining: 1m 54s\n",
            "919:\ttest: 0.8888755\tbest: 0.8889001 (916)\ttotal: 21m 37s\tremaining: 1m 52s\n",
            "920:\ttest: 0.8888742\tbest: 0.8889001 (916)\ttotal: 21m 39s\tremaining: 1m 51s\n",
            "921:\ttest: 0.8888770\tbest: 0.8889001 (916)\ttotal: 21m 40s\tremaining: 1m 50s\n",
            "922:\ttest: 0.8888843\tbest: 0.8889001 (916)\ttotal: 21m 41s\tremaining: 1m 48s\n",
            "923:\ttest: 0.8888828\tbest: 0.8889001 (916)\ttotal: 21m 43s\tremaining: 1m 47s\n",
            "924:\ttest: 0.8888982\tbest: 0.8889001 (916)\ttotal: 21m 44s\tremaining: 1m 45s\n",
            "925:\ttest: 0.8889025\tbest: 0.8889025 (925)\ttotal: 21m 46s\tremaining: 1m 44s\n",
            "926:\ttest: 0.8889031\tbest: 0.8889031 (926)\ttotal: 21m 47s\tremaining: 1m 42s\n",
            "927:\ttest: 0.8889074\tbest: 0.8889074 (927)\ttotal: 21m 48s\tremaining: 1m 41s\n",
            "928:\ttest: 0.8889064\tbest: 0.8889074 (927)\ttotal: 21m 50s\tremaining: 1m 40s\n",
            "929:\ttest: 0.8889110\tbest: 0.8889110 (929)\ttotal: 21m 51s\tremaining: 1m 38s\n",
            "930:\ttest: 0.8889096\tbest: 0.8889110 (929)\ttotal: 21m 52s\tremaining: 1m 37s\n",
            "931:\ttest: 0.8889081\tbest: 0.8889110 (929)\ttotal: 21m 54s\tremaining: 1m 35s\n",
            "932:\ttest: 0.8889061\tbest: 0.8889110 (929)\ttotal: 21m 55s\tremaining: 1m 34s\n",
            "933:\ttest: 0.8889061\tbest: 0.8889110 (929)\ttotal: 21m 57s\tremaining: 1m 33s\n",
            "934:\ttest: 0.8889057\tbest: 0.8889110 (929)\ttotal: 21m 58s\tremaining: 1m 31s\n",
            "935:\ttest: 0.8889057\tbest: 0.8889110 (929)\ttotal: 21m 59s\tremaining: 1m 30s\n",
            "936:\ttest: 0.8889019\tbest: 0.8889110 (929)\ttotal: 22m 1s\tremaining: 1m 28s\n",
            "937:\ttest: 0.8889059\tbest: 0.8889110 (929)\ttotal: 22m 2s\tremaining: 1m 27s\n",
            "938:\ttest: 0.8889059\tbest: 0.8889110 (929)\ttotal: 22m 3s\tremaining: 1m 26s\n",
            "939:\ttest: 0.8889057\tbest: 0.8889110 (929)\ttotal: 22m 5s\tremaining: 1m 24s\n",
            "940:\ttest: 0.8889061\tbest: 0.8889110 (929)\ttotal: 22m 6s\tremaining: 1m 23s\n",
            "941:\ttest: 0.8889033\tbest: 0.8889110 (929)\ttotal: 22m 8s\tremaining: 1m 21s\n",
            "942:\ttest: 0.8889167\tbest: 0.8889167 (942)\ttotal: 22m 9s\tremaining: 1m 20s\n",
            "943:\ttest: 0.8889233\tbest: 0.8889233 (943)\ttotal: 22m 10s\tremaining: 1m 18s\n",
            "944:\ttest: 0.8889220\tbest: 0.8889233 (943)\ttotal: 22m 12s\tremaining: 1m 17s\n",
            "945:\ttest: 0.8889203\tbest: 0.8889233 (943)\ttotal: 22m 13s\tremaining: 1m 16s\n",
            "946:\ttest: 0.8889243\tbest: 0.8889243 (946)\ttotal: 22m 15s\tremaining: 1m 14s\n",
            "947:\ttest: 0.8889323\tbest: 0.8889323 (947)\ttotal: 22m 16s\tremaining: 1m 13s\n",
            "948:\ttest: 0.8889370\tbest: 0.8889370 (948)\ttotal: 22m 17s\tremaining: 1m 11s\n",
            "949:\ttest: 0.8889363\tbest: 0.8889370 (948)\ttotal: 22m 19s\tremaining: 1m 10s\n",
            "950:\ttest: 0.8889271\tbest: 0.8889370 (948)\ttotal: 22m 20s\tremaining: 1m 9s\n",
            "951:\ttest: 0.8889260\tbest: 0.8889370 (948)\ttotal: 22m 22s\tremaining: 1m 7s\n",
            "952:\ttest: 0.8889300\tbest: 0.8889370 (948)\ttotal: 22m 23s\tremaining: 1m 6s\n",
            "953:\ttest: 0.8889342\tbest: 0.8889370 (948)\ttotal: 22m 25s\tremaining: 1m 4s\n",
            "954:\ttest: 0.8889338\tbest: 0.8889370 (948)\ttotal: 22m 26s\tremaining: 1m 3s\n",
            "955:\ttest: 0.8889406\tbest: 0.8889406 (955)\ttotal: 22m 27s\tremaining: 1m 2s\n",
            "956:\ttest: 0.8889440\tbest: 0.8889440 (956)\ttotal: 22m 29s\tremaining: 1m\n",
            "957:\ttest: 0.8889893\tbest: 0.8889893 (957)\ttotal: 22m 30s\tremaining: 59.2s\n",
            "958:\ttest: 0.8889874\tbest: 0.8889893 (957)\ttotal: 22m 31s\tremaining: 57.8s\n",
            "959:\ttest: 0.8889905\tbest: 0.8889905 (959)\ttotal: 22m 33s\tremaining: 56.4s\n",
            "960:\ttest: 0.8889805\tbest: 0.8889905 (959)\ttotal: 22m 34s\tremaining: 55s\n",
            "961:\ttest: 0.8889720\tbest: 0.8889905 (959)\ttotal: 22m 36s\tremaining: 53.6s\n",
            "962:\ttest: 0.8889720\tbest: 0.8889905 (959)\ttotal: 22m 37s\tremaining: 52.2s\n",
            "963:\ttest: 0.8889824\tbest: 0.8889905 (959)\ttotal: 22m 38s\tremaining: 50.7s\n",
            "964:\ttest: 0.8889819\tbest: 0.8889905 (959)\ttotal: 22m 40s\tremaining: 49.3s\n",
            "965:\ttest: 0.8889794\tbest: 0.8889905 (959)\ttotal: 22m 41s\tremaining: 47.9s\n",
            "966:\ttest: 0.8889853\tbest: 0.8889905 (959)\ttotal: 22m 43s\tremaining: 46.5s\n",
            "967:\ttest: 0.8889926\tbest: 0.8889926 (967)\ttotal: 22m 44s\tremaining: 45.1s\n",
            "968:\ttest: 0.8889978\tbest: 0.8889978 (968)\ttotal: 22m 45s\tremaining: 43.7s\n",
            "969:\ttest: 0.8890076\tbest: 0.8890076 (969)\ttotal: 22m 47s\tremaining: 42.3s\n",
            "970:\ttest: 0.8890183\tbest: 0.8890183 (970)\ttotal: 22m 48s\tremaining: 40.9s\n",
            "971:\ttest: 0.8890256\tbest: 0.8890256 (971)\ttotal: 22m 50s\tremaining: 39.5s\n",
            "972:\ttest: 0.8890239\tbest: 0.8890256 (971)\ttotal: 22m 51s\tremaining: 38.1s\n",
            "973:\ttest: 0.8890338\tbest: 0.8890338 (973)\ttotal: 22m 52s\tremaining: 36.6s\n",
            "974:\ttest: 0.8890355\tbest: 0.8890355 (974)\ttotal: 22m 54s\tremaining: 35.2s\n",
            "975:\ttest: 0.8890415\tbest: 0.8890415 (975)\ttotal: 22m 55s\tremaining: 33.8s\n",
            "976:\ttest: 0.8890415\tbest: 0.8890415 (975)\ttotal: 22m 57s\tremaining: 32.4s\n",
            "977:\ttest: 0.8890572\tbest: 0.8890572 (977)\ttotal: 22m 58s\tremaining: 31s\n",
            "978:\ttest: 0.8890570\tbest: 0.8890572 (977)\ttotal: 22m 59s\tremaining: 29.6s\n",
            "979:\ttest: 0.8890555\tbest: 0.8890572 (977)\ttotal: 23m 1s\tremaining: 28.2s\n",
            "980:\ttest: 0.8890681\tbest: 0.8890681 (980)\ttotal: 23m 2s\tremaining: 26.8s\n",
            "981:\ttest: 0.8890676\tbest: 0.8890681 (980)\ttotal: 23m 4s\tremaining: 25.4s\n",
            "982:\ttest: 0.8890728\tbest: 0.8890728 (982)\ttotal: 23m 5s\tremaining: 24s\n",
            "983:\ttest: 0.8890730\tbest: 0.8890730 (983)\ttotal: 23m 6s\tremaining: 22.6s\n",
            "984:\ttest: 0.8890831\tbest: 0.8890831 (984)\ttotal: 23m 8s\tremaining: 21.1s\n",
            "985:\ttest: 0.8890857\tbest: 0.8890857 (985)\ttotal: 23m 9s\tremaining: 19.7s\n",
            "986:\ttest: 0.8890868\tbest: 0.8890868 (986)\ttotal: 23m 11s\tremaining: 18.3s\n",
            "987:\ttest: 0.8890856\tbest: 0.8890868 (986)\ttotal: 23m 12s\tremaining: 16.9s\n",
            "988:\ttest: 0.8890927\tbest: 0.8890927 (988)\ttotal: 23m 13s\tremaining: 15.5s\n",
            "989:\ttest: 0.8890813\tbest: 0.8890927 (988)\ttotal: 23m 15s\tremaining: 14.1s\n",
            "990:\ttest: 0.8890869\tbest: 0.8890927 (988)\ttotal: 23m 16s\tremaining: 12.7s\n",
            "991:\ttest: 0.8890862\tbest: 0.8890927 (988)\ttotal: 23m 18s\tremaining: 11.3s\n",
            "992:\ttest: 0.8890924\tbest: 0.8890927 (988)\ttotal: 23m 19s\tremaining: 9.86s\n",
            "993:\ttest: 0.8890887\tbest: 0.8890927 (988)\ttotal: 23m 20s\tremaining: 8.46s\n",
            "994:\ttest: 0.8890887\tbest: 0.8890927 (988)\ttotal: 23m 22s\tremaining: 7.05s\n",
            "995:\ttest: 0.8890871\tbest: 0.8890927 (988)\ttotal: 23m 23s\tremaining: 5.64s\n",
            "996:\ttest: 0.8890882\tbest: 0.8890927 (988)\ttotal: 23m 25s\tremaining: 4.23s\n",
            "997:\ttest: 0.8890794\tbest: 0.8890927 (988)\ttotal: 23m 26s\tremaining: 2.82s\n",
            "998:\ttest: 0.8890897\tbest: 0.8890927 (988)\ttotal: 23m 27s\tremaining: 1.41s\n",
            "999:\ttest: 0.8890837\tbest: 0.8890927 (988)\ttotal: 23m 29s\tremaining: 0us\n",
            "\n",
            "bestTest = 0.8890926805\n",
            "bestIteration = 988\n",
            "\n",
            "Shrink model to first 989 iterations.\n"
          ],
          "name": "stdout"
        },
        {
          "output_type": "execute_result",
          "data": {
            "text/plain": [
              "<catboost.core.CatBoostClassifier at 0x7fa49ab82210>"
            ]
          },
          "metadata": {
            "tags": []
          },
          "execution_count": 138
        }
      ]
    },
    {
      "cell_type": "code",
      "metadata": {
        "id": "J0CBGDiNKxw4"
      },
      "source": [
        "# Итого\n",
        "# Много проблем с пропущенными значениями\n",
        "# Очевидно, что большинство людей покупает либо одежду, либо обувь, а не вместе\n",
        "# поэтому можно разные модели сделать для обуви и остальной одежды\n",
        "# С отзывами все еще непонятно, если мы их используем при обучении (они есть в Х),\n",
        "# значит и при инференсе они должны быть в Х (но можно КННом находить похожие и использовать на инференсе, но мб есть путь умнее)"
      ],
      "execution_count": 140,
      "outputs": []
    },
    {
      "cell_type": "code",
      "metadata": {
        "id": "MgFF2QCSMXch"
      },
      "source": [
        ""
      ],
      "execution_count": null,
      "outputs": []
    }
  ]
}